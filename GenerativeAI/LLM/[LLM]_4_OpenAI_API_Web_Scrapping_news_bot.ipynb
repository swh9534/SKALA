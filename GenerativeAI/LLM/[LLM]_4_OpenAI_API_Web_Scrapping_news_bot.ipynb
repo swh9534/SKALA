{
  "cells": [
    {
      "cell_type": "markdown",
      "id": "e993b222",
      "metadata": {
        "id": "e993b222"
      },
      "source": [
        "# [실습] OpenAI API를 이용하여 뉴스 기사 정리 봇 만들기"
      ]
    },
    {
      "cell_type": "markdown",
      "id": "f4b410df",
      "metadata": {
        "id": "f4b410df"
      },
      "source": [
        "OpenAI Chat API를 이용해 뉴스 검색 결과를 정리하는 프로그램을 만들어 보겠습니다.\n"
      ]
    },
    {
      "cell_type": "markdown",
      "id": "35b32f4c",
      "metadata": {
        "id": "35b32f4c"
      },
      "source": [
        "네이버의 뉴스 검색 API를 사용하겠습니다.   \n",
        "(https://developers.naver.com/apps/#/register?defaultScope=search)"
      ]
    },
    {
      "cell_type": "code",
      "execution_count": 1,
      "id": "f6eb4187",
      "metadata": {
        "id": "f6eb4187"
      },
      "outputs": [
        {
          "name": "stdout",
          "output_type": "stream",
          "text": [
            "Defaulting to user installation because normal site-packages is not writeable\n",
            "Requirement already satisfied: openai in /config/.local/lib/python3.10/site-packages (1.61.0)\n",
            "Requirement already satisfied: tiktoken in /config/.local/lib/python3.10/site-packages (0.7.0)\n",
            "Collecting tiktoken\n",
            "  Using cached tiktoken-0.8.0-cp310-cp310-manylinux_2_17_x86_64.manylinux2014_x86_64.whl (1.2 MB)\n",
            "Requirement already satisfied: distro<2,>=1.7.0 in /usr/local/lib/python3.10/dist-packages (from openai) (1.9.0)\n",
            "Requirement already satisfied: sniffio in /usr/local/lib/python3.10/dist-packages (from openai) (1.3.1)\n",
            "Requirement already satisfied: typing-extensions<5,>=4.11 in /usr/local/lib/python3.10/dist-packages (from openai) (4.12.2)\n",
            "Requirement already satisfied: tqdm>4 in /usr/local/lib/python3.10/dist-packages (from openai) (4.67.1)\n",
            "Requirement already satisfied: jiter<1,>=0.4.0 in /usr/local/lib/python3.10/dist-packages (from openai) (0.8.2)\n",
            "Requirement already satisfied: httpx<1,>=0.23.0 in /config/.local/lib/python3.10/site-packages (from openai) (0.27.2)\n",
            "Requirement already satisfied: pydantic<3,>=1.9.0 in /usr/local/lib/python3.10/dist-packages (from openai) (2.10.6)\n",
            "Requirement already satisfied: anyio<5,>=3.5.0 in /usr/local/lib/python3.10/dist-packages (from openai) (4.8.0)\n",
            "Requirement already satisfied: requests>=2.26.0 in /usr/local/lib/python3.10/dist-packages (from tiktoken) (2.32.3)\n",
            "Requirement already satisfied: regex>=2022.1.18 in /config/.local/lib/python3.10/site-packages (from tiktoken) (2023.12.25)\n",
            "Requirement already satisfied: exceptiongroup>=1.0.2 in /usr/local/lib/python3.10/dist-packages (from anyio<5,>=3.5.0->openai) (1.2.2)\n",
            "Requirement already satisfied: idna>=2.8 in /usr/local/lib/python3.10/dist-packages (from anyio<5,>=3.5.0->openai) (3.10)\n",
            "Requirement already satisfied: httpcore==1.* in /usr/local/lib/python3.10/dist-packages (from httpx<1,>=0.23.0->openai) (1.0.7)\n",
            "Requirement already satisfied: certifi in /usr/local/lib/python3.10/dist-packages (from httpx<1,>=0.23.0->openai) (2025.1.31)\n",
            "Requirement already satisfied: h11<0.15,>=0.13 in /usr/local/lib/python3.10/dist-packages (from httpcore==1.*->httpx<1,>=0.23.0->openai) (0.14.0)\n",
            "Requirement already satisfied: pydantic-core==2.27.2 in /usr/local/lib/python3.10/dist-packages (from pydantic<3,>=1.9.0->openai) (2.27.2)\n",
            "Requirement already satisfied: annotated-types>=0.6.0 in /usr/local/lib/python3.10/dist-packages (from pydantic<3,>=1.9.0->openai) (0.7.0)\n",
            "Requirement already satisfied: charset-normalizer<4,>=2 in /usr/local/lib/python3.10/dist-packages (from requests>=2.26.0->tiktoken) (3.4.1)\n",
            "Requirement already satisfied: urllib3<3,>=1.21.1 in /usr/local/lib/python3.10/dist-packages (from requests>=2.26.0->tiktoken) (2.3.0)\n",
            "Installing collected packages: tiktoken\n",
            "  Attempting uninstall: tiktoken\n",
            "    Found existing installation: tiktoken 0.7.0\n",
            "    Uninstalling tiktoken-0.7.0:\n",
            "      Successfully uninstalled tiktoken-0.7.0\n",
            "\u001b[31mERROR: pip's dependency resolver does not currently take into account all the packages that are installed. This behaviour is the source of the following dependency conflicts.\n",
            "embedchain 0.1.113 requires tiktoken<0.8.0,>=0.7.0, but you have tiktoken 0.8.0 which is incompatible.\u001b[0m\u001b[31m\n",
            "\u001b[0mSuccessfully installed tiktoken-0.8.0\n"
          ]
        }
      ],
      "source": [
        "!pip install openai tiktoken --upgrade"
      ]
    },
    {
      "cell_type": "code",
      "execution_count": 1,
      "id": "f8d0ba8d",
      "metadata": {},
      "outputs": [],
      "source": [
        "from dotenv import load_dotenv\n",
        "import os\n",
        "\n",
        "# .env 파일 로드\n",
        "load_dotenv()\n",
        "\n",
        "# 환경 변수 가져오기\n",
        "openai_api_key = os.getenv('OPENAI_API_KEY')"
      ]
    },
    {
      "cell_type": "code",
      "execution_count": 3,
      "id": "ccd94373",
      "metadata": {
        "id": "ccd94373"
      },
      "outputs": [
        {
          "name": "stdout",
          "output_type": "stream",
          "text": [
            "OPENAI_API_KEY가 정상적으로 설정되어 있습니다.\n"
          ]
        }
      ],
      "source": [
        "# os의 환경 변수에 API 키 복사 붙여넣기\n",
        "import openai\n",
        "import os\n",
        "\n",
        "# OPENAI API KEY 설정\n",
        "os.environ['OPENAI_API_KEY']=openai_api_key\n",
        "\n",
        "client = openai.OpenAI()\n",
        "\n",
        "\n",
        "assert len(os.environ['OPENAI_API_KEY']) > 0, \"OPENAI_API_KEY가 환경 변수에 설정되어 있지 않습니다. API 키를 설정해주세요.\"\n",
        "\n",
        "# API 키가 설정되어 있다면, 이 지점 이후의 코드가 실행됩니다.\n",
        "print(\"OPENAI_API_KEY가 정상적으로 설정되어 있습니다.\")"
      ]
    },
    {
      "cell_type": "markdown",
      "id": "6184c71a",
      "metadata": {
        "id": "6184c71a"
      },
      "source": [
        "## 1. LLM으로 웹 크롤링 코드 구현 프롬프트 만들기"
      ]
    },
    {
      "cell_type": "markdown",
      "id": "e56eb3c0",
      "metadata": {
        "id": "e56eb3c0"
      },
      "source": [
        "네이버 뉴스 API를 이용해 크롤링을 수행하는 파이썬 코드를 작성하겠습니다.   \n",
        "검색어가 `query` 인수로 주어지면, 관련도순으로 검색된 뉴스 기사 30개의 정보를 전달하는 함수를 요청합니다.\n",
        "\n",
        "**네이버 뉴스 API를 사용한다는 내용을 명시하면 정확도가 올라갑니다.**"
      ]
    },
    {
      "cell_type": "code",
      "execution_count": 4,
      "id": "c7df62cb",
      "metadata": {
        "id": "c7df62cb"
      },
      "outputs": [],
      "source": [
        "prompt = '''\n",
        "네이버 뉴스 API를 이용해 크롤링을 수행하는 파이썬 코드를 작성해 주세요.\n",
        "검색어가 `query` 인수로 주어지면, 관련도순으로 검색된 뉴스 기사 30개의 정보를 아래 포맷의 문자열로 변환하는 함수 get_news(query) 를 만들어 주세요.\n",
        "---\n",
        "제목: (뉴스 제목)\n",
        "URL: (뉴스 링크- 있으면)\n",
        "내용: (뉴스 내용)\n",
        "---\n",
        "\n",
        "결과는 result에 저장하고, 출력하세요.\n",
        "---\n",
        "\n",
        "\n",
        "\n",
        "\n",
        "# 검색어\n",
        "query = '생성형 AI'\n",
        "\n",
        "\n",
        "# 검색 결과를 return하는 함수\n",
        "def get_news(query):\n",
        "\n",
        "\n",
        "'''\n",
        "\n"
      ]
    },
    {
      "cell_type": "code",
      "execution_count": 5,
      "id": "518da06c",
      "metadata": {
        "id": "518da06c",
        "scrolled": true
      },
      "outputs": [
        {
          "name": "stdout",
          "output_type": "stream",
          "text": [
            "```python\n",
            "import requests\n",
            "\n",
            "def get_news(query):\n",
            "    url = f\"https://openapi.naver.com/v1/search/news.json?query={query}&display=30&sort=sim\"\n",
            "    headers = {\n",
            "        'X-Naver-Client-Id': 'YOUR_CLIENT_ID',\n",
            "        'X-Naver-Client-Secret': 'YOUR_CLIENT_SECRET'\n",
            "    }\n",
            "    \n",
            "    response = requests.get(url, headers=headers)\n",
            "    news_data = response.json()\n",
            "    \n",
            "    result = \"\"\n",
            "    for item in news_data['items']:\n",
            "        result += f\"제목: {item['title']}\\n\"\n",
            "        result += f\"URL: {item['link']}\\n\"\n",
            "        result += f\"내용: {item['description']}\\n\"\n",
            "        result += \"---\\n\"\n",
            "    \n",
            "    return result\n",
            "\n",
            "# 검색어\n",
            "query = '생성형 AI'\n",
            "result = get_news(query)\n",
            "print(result)\n",
            "```\n"
          ]
        }
      ],
      "source": [
        "response = client.chat.completions.create(\n",
        "    model = \"gpt-4o-mini\",\n",
        "    messages = [{'role':'system', 'content':'당신은 파이썬 코딩의 전문가입니다. 설명 없이 코드만 출력하세요.'},\n",
        "          {'role':'user', 'content': prompt}],\n",
        "\n",
        "    temperature =  0,\n",
        "    max_tokens = 2000\n",
        "\n",
        ")\n",
        "print(response.choices[0].message.content)"
      ]
    },
    {
      "cell_type": "code",
      "execution_count": null,
      "id": "ff32acf9",
      "metadata": {
        "id": "ff32acf9"
      },
      "outputs": [],
      "source": [
        "# VS CODE에서 위 결과가 truncated 되는 경우 scrollable element를 클릭하여 풀 코드 확인"
      ]
    },
    {
      "cell_type": "markdown",
      "id": "026ed5ff",
      "metadata": {
        "id": "026ed5ff"
      },
      "source": [
        "아래에 전체 코드를 넣고 실행합니다."
      ]
    },
    {
      "cell_type": "code",
      "execution_count": 9,
      "id": "09b139b1",
      "metadata": {
        "id": "09b139b1"
      },
      "outputs": [
        {
          "name": "stdout",
          "output_type": "stream",
          "text": [
            "제목: 이재용-올트먼-손정의 ‘한미일 <b>AI</b> 동맹’ 손잡았다\n",
            "URL: https://n.news.naver.com/mnews/article/020/0003613234?sid=101\n",
            "내용: 업계에서는 오픈AI와 엔비디아 등 미국 빅테크 주도의 <b>생성형 AI</b>와 AI 반도체, 일본 소프트뱅크·ARM의 자금 조달과 칩 설계 기술에 한국 기업이 갖춘 고대역폭메모리(HBM)와 파운드리(반도체 위탁생산), 데이터센터... \n",
            "---\n",
            "제목: 이재용-올트먼-손정의 '<b>AI</b> 회동'…한미일 '<b>AI</b> 동맹' 속도내나\n",
            "URL: https://n.news.naver.com/mnews/article/001/0015191319?sid=101\n",
            "내용: 바로 전날 일본 도쿄에서 올트먼 CEO와 손 회장은 일본에서 합작사를 만들어 기업용 <b>생성형 AI</b>를 개발 및 판매하겠다는 계획을 밝히기도 했다. 따라서 이번 회동도 스타게이트 관련 협력 논의의 연장선에서 삼성전자가... \n",
            "---\n",
            "제목: [단독]“<b>AI</b> 뒤처질 수 없다”...이해진, 네이버 이사회 의장으로 복귀\n",
            "URL: https://n.news.naver.com/mnews/article/023/0003886031?sid=105\n",
            "내용: 네이버는 2021년 자체 기술로 개발한 거대언어모델(LLM) 하이퍼클로바를 출시했고, 2년 뒤 기존 모델을 고도화한 <b>생성형 AI</b> 모델 하이퍼클로바X를 공개했다. 하이퍼클로바X를 한국어와 문화에 강점을 가진 토종 ‘소버린... \n",
            "---\n",
            "제목: 美 스타게이트 '합종연횡'…글로벌 <b>AI</b> 선점 경쟁 뜨겁다\n",
            "URL: https://n.news.naver.com/mnews/article/003/0013047908?sid=101\n",
            "내용: 또 기업용 <b>생성형 AI</b> 개발, <b>생성형 AI</b> 단말기 사업도 벌인다. 전반적으로 오픈AI는 AI 본업 뿐 아니라 이를 활용한 자율주행이나 로봇, 스마트폰, TV, 가전 등에까지 영향력을 뻗치려 하고 있다. AI 소프트웨어 하나로... \n",
            "---\n",
            "제목: 네이버 D2SF, 커머스 <b>AI</b> 스타트업 '스튜디오랩' 투자\n",
            "URL: https://n.news.naver.com/mnews/article/092/0002361943?sid=105\n",
            "내용: 양상환 네이버 D2SF 센터장은 &quot;커머스 분야는 <b>생성형 AI</b>를 비롯해 3D, 로보틱스 등의 기술 적용이 활발한 분야로, 스튜디오랩은 우수한 기술력에 기반해 네이버와 함께 SME의 디지털 전환을 돕는 등 다양한 시너지가... \n",
            "---\n",
            "제목: “네이버, <b>AI</b> 사업 본격 드라이브”...이해진 네이버 창업자 복귀 소식...\n",
            "URL: https://n.news.naver.com/mnews/article/243/0000072225?sid=101\n",
            "내용: 2021년에는 네이버 자체적으로 개발한 거대언어모델(LLM) 하이퍼클로바를 출시했고, 2년 뒤에는 이를 고도화한 <b>생성형 AI</b> 모델 하이퍼클로바X를 공개했다. 네이버의 최신 AI 모델인 하이퍼클로바X는 한국어와 한국 문화를... \n",
            "---\n",
            "제목: 코난테크놀로지, <b>생성형 AI</b> 기반 의료 LLM 선보인다\n",
            "URL: https://n.news.naver.com/mnews/article/030/0003281228?sid=105\n",
            "내용: 인공지능(AI) 소프트웨어 기업 코난테크놀로지가 <b>생성형 AI</b> 기술을 기반으로 의료 분야에 특화된 거대언어모델(LLM)을 선보인다. 코난테크놀로지는 한림대의료원과 '<b>생성형 AI</b> 기반 입원환자 전주기 기록지 작성·의료원... \n",
            "---\n",
            "제목: 복잡한 의료규정, 시간 걸리는 의무기록까지 <b>생성형 AI</b>가 해준다\n",
            "URL: https://n.news.naver.com/mnews/article/018/0005936741?sid=102\n",
            "내용: 한림대학교성심병원 신경과 이민우 교수(한림대학교의료원 <b>생성형AI</b> 구축 태스크포스(TF) 팀장)는 “이번 플랫폼 개발로 <b>생성형 AI</b>를 활용해 입원환자의 전주기 의무기록지를 자동으로 생성하고 교직원들을 위한... \n",
            "---\n",
            "제목: 미취업 청년에 정부가 <b>생성형 AI</b> 교육한다\n",
            "URL: https://n.news.naver.com/mnews/article/015/0005089779?sid=105\n",
            "내용: 고용부에서 발굴한 미취업 청년들에게 과기정통부가 <b>생성형 AI</b> 활용 교육, 디지털 리더 특강 등 디지털 교육을 제공해 청년들이 디지털 분야에 흥미를 가질 수 있도록 지원할 계획이다. 최근 수시·경력직 중심의 채용... \n",
            "---\n",
            "제목: 네이버 D2SF, 커머스 <b>AI</b> 스타트업 '스튜디오랩' 33억원 투자\n",
            "URL: https://n.news.naver.com/mnews/article/421/0008056517?sid=105\n",
            "내용: 양상환 네이버 D2SF 센터장은 &quot;커머스 분야는 <b>생성형 AI</b>를 비롯해 3D, 로보틱스 등의 기술 적용이 활발한 분야&quot;라며 &quot;스튜디오랩은 우수한 기술력에 기반해 네이버와 함께 중소기업(SME)의 디지털 전환을 돕는 등... \n",
            "---\n",
            "제목: 네이버 D2SF, 커머스 <b>AI</b> 스타트업 '스튜디오랩' 투자\n",
            "URL: https://n.news.naver.com/mnews/article/001/0015193324?sid=105\n",
            "내용: 양상환 네이버 D2SF 센터장은 &quot;커머스 분야는 <b>생성형 AI</b>를 비롯해 3D, 로보틱스 등의 기술 적용이 활발한 분야&quot;라며 &quot;올해에도 AI, 커머스 등 분야를 가리지 않고 적극적으로 투자할 계획&quot;이라고 말했다. 네이버 D2SF는... \n",
            "---\n",
            "제목: 딥시크 추격에…오픈<b>AI</b> 올트먼, 한국서 주도권다지기 '광폭행보'(종합)\n",
            "URL: https://n.news.naver.com/mnews/article/001/0015191966?sid=105\n",
            "내용: 전 세계적으로 <b>생성형 AI</b> 개발을 주도해온 오픈AI가 적극적으로 국내 유수 기업의 수장들을 만나 협력을 논의하면서 한국도 글로벌 AI 패권 경쟁의 핵심 전선으로 떠오르고 있다. 반도체·플랫폼·게임 '종횡무진'…AI... \n",
            "---\n",
            "제목: 올트먼 만난 김창한 크래프톤 대표 &quot;게임 특화 <b>AI</b> 논의&quot;\n",
            "URL: https://n.news.naver.com/mnews/article/003/0013046577?sid=105\n",
            "내용: 크래프톤 구성원 중 95%가 챗GPT를 통해 <b>생성형 AI</b>를 사용하고 있는 것으로 알려졌다. 김 대표는 &quot;크래프톤이 오픈AI와 게임 개발과 운영 전반에 더욱 혁신적으로 적용할 새로운 기술과 가능성을 적극 모색하고 있다... \n",
            "---\n",
            "제목: 최태원, 샘 올트먼과 7개월 만에 회동…<b>AI</b> 논의 방향은?\n",
            "URL: https://n.news.naver.com/mnews/article/003/0013045446?sid=101\n",
            "내용: AI 반도체용 메모리인 HBM를 생산 중이며, AI 자체 칩 제조를 위한 생산시설(파운드리)를 갖고 있다. 오픈AI는 <b>생성형AI</b> 전용 단말기 개발도 추진 중인데, 이와 관련한 양사 간 협력 방안 논의도 가능한 장면이다．\n",
            "---\n",
            "제목: 네이버, 커머스 <b>AI</b> 스타트업 '스튜디오랩' 투자\n",
            "URL: https://n.news.naver.com/mnews/article/003/0013047880?sid=105\n",
            "내용: 양상환 네이버 D2SF 센터장은 &quot;커머스 분야는 <b>생성형 AI</b>를 비롯해 3D, 로보틱스 등의 기술 적용이 활발한 분야다. 스튜디오랩은 우수한 기술력에 기반해 네이버와 함께 중·소상공인(SME) 디지털 전환을 돕는 등 다양한... \n",
            "---\n",
            "제목: 美·日 <b>AI</b> 동맹에 삼성 가세 … 첨단칩부터 TV·폰까지 협력 타진\n",
            "URL: https://n.news.naver.com/mnews/article/009/0005438268?sid=101\n",
            "내용: 삼성전자는 스마트폰, TV, 가전을 비롯한 글로벌 소비자용 디바이스(제품)를 보유하고 있고, 여기에 오픈AI의 <b>생성형 AI</b> 모델을 적용해 AI 음성비서, 개인화 추천 시스템, 실시간 AI 번역 같은 기능을 강화할 수 있다.... \n",
            "---\n",
            "제목: 삼성 <b>AI</b>반도체 `스타게이트` 협업나선다\n",
            "URL: https://n.news.naver.com/mnews/article/029/0002933166?sid=101\n",
            "내용: 전날 올트먼 CEO와 손 회장은 일본에서 합작사를 만들어 기업용 <b>생성형 AI</b>를 개발·판매하겠다는 계획을 제시했다. 삼성전자는 올해 초 미 라스베이거스에서 열린 CES 2025에서 마이크로소프트(MS), 구글 등 다양한 AI... \n",
            "---\n",
            "제목: '이재용-올트먼-손정의' 전격 회동…<b>AI</b> 동맹\n",
            "URL: https://n.news.naver.com/mnews/article/215/0001197323?sid=101\n",
            "내용: 오픈AI가 중국 AI 기업 딥시크에 맞서 <b>생성형 AI</b> 전용 단말기 개발에도 나설 예정이죠. 오늘 회동을 계기로 AI 산업을 대표하는 한미일 기업들과 포괄적 협력 관계가 구축될 것으로 전망됩니다. &lt;앵커&gt; 잘 들었습니다.... \n",
            "---\n",
            "제목: [팩트체크] <b>AI</b>가 인간의 모든 일자리를 대체한다?\n",
            "URL: https://n.news.naver.com/mnews/article/001/0015192198?sid=105\n",
            "내용: 2022년 출시된 오픈AI의 대형언어모델(LLM) 챗GPT는 AI가 텍스트, 이미지, 오디오 등 다양한 콘텐츠를 창작할 수 있는 '<b>생성형 AI</b>'의 대중화를 이끌었다. 국제학술지 '네이처'는 2023년 챗GPT를 &quot;과학 발전을 심오하게... \n",
            "---\n",
            "제목: 최태원 만난 올트먼 &quot;원더풀&quot; 엄지척…40분간 '<b>AI</b> 회동'(종합)\n",
            "URL: https://n.news.naver.com/mnews/article/421/0008053470?sid=101\n",
            "내용: 특히 올트먼 CEO는 지난 3일 일본 방문 당시 니혼게이자이신문 인터뷰에서 스마트폰을 대신하는 <b>생성형 AI</b> 전용 단말기와 독자 반도체 개발에 나서겠다는 구상을 밝혀 업계의 기대감이 커진 상태다. 올트먼은 당시... \n",
            "---\n",
            "제목: <b>AI</b>칩 절실한 소뱅·오픈<b>AI</b>…손정의 &quot;삼성은 훌륭한 파트너&quot;\n",
            "URL: https://n.news.naver.com/mnews/article/011/0004446632?sid=101\n",
            "내용: 오픈AI가 개발을 선언한 <b>생성형 AI</b> 전용 단말기 역시 삼성전자와 전방위 협업 가능성을 열어둔 것으로 알려졌다. 손정의 소프트뱅크그룹 회장은 4일 서울 삼성전자 서초 사옥에서 이재용 삼성전자 회장과 샘 올트먼... \n",
            "---\n",
            "제목: 오픈 <b>AI</b>, '한일과 협업'…딥시크 견제 나서\n",
            "URL: https://n.news.naver.com/mnews/article/057/0001869835?sid=101\n",
            "내용: 오픈AI와 소프트뱅크그룹은 어제(3일) <b>생성형 AI</b> 합작 회사 'SB오픈AI 재팬'을 설립한다고 밝혔습니다. 지난달 도널드 트럼프 미국 대통령과 함께 발표한 AI 합작 프로젝트 '스타게이트'의 일본판이라는 평가가 나옵니다.... \n",
            "---\n",
            "제목: 네이버가 투자한 '<b>AI</b> 영상 생성' 시나몬, 110억 투자 유치\n",
            "URL: https://n.news.naver.com/mnews/article/003/0013047405?sid=105\n",
            "내용: 특히 프롬포트 입력에 따라 다른 결과물을 얻는 <b>생성형 AI</b> 영상 서비스와 달리 사용자가 배우의 연기와 카메라 연출, 조명, 배경 등을 원하는 대로 편집할 수 있다. 모든 사용자가 영화 감독이자 1인 제작사가 될 수 있는... \n",
            "---\n",
            "제목: SKT, 美 MIT '<b>생성형 AI</b> 컨소시엄' 참여…오픈AI·코카콜라 등도\n",
            "URL: https://n.news.naver.com/mnews/article/001/0015189655?sid=105\n",
            "내용: &quot;<b>생성형 AI</b> 기반 산업 혁신 이끌 것&quot;…피지컬 AI 등 중점 연구 SK텔레콤은 미국 매사추세츠공과대학(MIT)이 생성형 인공지능(AI) 연구를 목적으로 발족한 'MIT 젠AI 임팩트 컨소시엄'에 창립 멤버로 참여한다고 4일... \n",
            "---\n",
            "제목: 코난테크놀로지, 의료 <b>AI</b> 개발한다…한림대의료원과 '맞손'\n",
            "URL: https://n.news.naver.com/mnews/article/003/0013047588?sid=105\n",
            "내용: 인공지능(AI) 소프트웨어 전문기업 코난테크놀로지가 <b>생성형 AI</b> 기술을 기반으로 의료 분야에 특화된 거대언어모델(LLM)을 선보인다고 5일 밝혔다. 코난테크놀로지는 지난해 12월 한림대학교 의료원과 ‘<b>생성형 AI</b>기반... \n",
            "---\n",
            "제목: [기획] 이·손·올트먼 서울 회동… <b>AI</b> 3각 동맹 `출격`\n",
            "URL: https://n.news.naver.com/mnews/article/029/0002933172?sid=101\n",
            "내용: 다만 바로 전날 일본 도쿄에서 올트먼 CEO와 손 회장은 일본에서 합작사를 만들어 기업용 <b>생성형 AI</b>를 개발 및 판매하겠다는 계획을 밝힌 만큼, 이와 관련한 포괄적인 협력 방안이 논의됐을 것으로 보인다. 이와 관련, 손... \n",
            "---\n",
            "제목: '서울 회동' 최태원-올트먼 <b>AI</b> 협력 논의…곽노정·유영상 사장 배석\n",
            "URL: https://n.news.naver.com/mnews/article/421/0008053246?sid=101\n",
            "내용: 특히 올트먼 CEO는 전날 일본 방문 당시 니혼게이자이신문 인터뷰에서 스마트폰을 대신하는 <b>생성형 AI</b> 전용 단말기와 독자 반도체 개발에 나서겠다는 구상을 밝혀 업계의 기대감이 커진 상태다. 올트먼은 <b>생성형 AI</b>... \n",
            "---\n",
            "제목: 미국이 불붙인 '스타게이트 프로젝트'...한미일 <b>AI</b>동맹으로 타오른다\n",
            "URL: https://n.news.naver.com/mnews/article/014/0005303409?sid=101\n",
            "내용: 오픈AI는 스마트폰을 대신하는 <b>생성형 AI</b> 전용 단말기와 독자 반도체를 개발하겠다는 구상이다. 삼성전자와의 협력 가능성이 예상되는 대목이다. 한편, 올트먼 CEO는 이날 오전 최태원 SK그룹 회장과도 약 40분간... \n",
            "---\n",
            "제목: &quot;<b>AI</b> 강자 없다&quot;…올트먼 '<b>AI</b> 삼각동맹' 숨가쁘게 추진한 이유\n",
            "URL: https://n.news.naver.com/mnews/article/079/0003988097?sid=105\n",
            "내용: <b>생성형 AI</b> 단말기·반도체·에이전트 동맹 다각화, 국내 기회? 한국 시장 진출을 확대하겠다고 밝힌 오픈AI를 활용한다면 국내 IT 기업에게는 좋은 기회가 될 수 있다는 기대도 나온다. 한국 기업들은 AI 시장에서... \n",
            "---\n",
            "제목: <b>AI</b> 영상 제작 스타트업 시나몬, 110억원 규모 투자 유치\n",
            "URL: https://n.news.naver.com/mnews/article/421/0008055533?sid=101\n",
            "내용: 특히 프롬프트 입력에 따라 다른 결과물을 얻는 <b>생성형 AI</b> 영상 서비스와 달리 사용자가 배우의 연기와 카메라 연출, 조명, 배경 등을 원하는 대로 편집할 수 있다. 먼저 구축한 3D 공간에 캐릭터, 액션, 조명, 카메라... \n",
            "---\n",
            "\n"
          ]
        },
        {
          "data": {
            "text/plain": [
              "\"제목: 이재용-올트먼-손정의 ‘한미일 <b>AI</b> 동맹’ 손잡았다\\nURL: https://n.news.naver.com/mnews/article/020/0003613234?sid=101\\n내용: 업계에서는 오픈AI와 엔비디아 등 미국 빅테크 주도의 <b>생성형 AI</b>와 AI 반도체, 일본 소프트뱅크·ARM의 자금 조달과 칩 설계 기술에 한국 기업이 갖춘 고대역폭메모리(HBM)와 파운드리(반도체 위탁생산), 데이터센터... \\n---\\n제목: 이재용-올트먼-손정의 '<b>AI</b> 회동'…한미일 '<b>AI</b> 동맹' 속도내나\\nURL: https://n.news.naver.com/mnews/article/001/0015191319?sid=101\\n내용: 바로 전날 일본 도쿄에서 올트먼 CEO와 손 회장은 일본에서 합작사를 만들어 기업용 <b>생성형 AI</b>를 개발 및 판매하겠다는 계획을 밝히기도 했다. 따라서 이번 회동도 스타게이트 관련 협력 논의의 연장선에서 삼성전자가... \\n---\\n제목: [단독]“<b>AI</b> 뒤처질 수 없다”...이해진, 네이버 이사회 의장으로 복귀\\nURL: https://n.news.naver.com/mnews/article/023/0003886031?sid=105\\n내용: 네이버는 2021년 자체 기술로 개발한 거대언어모델(LLM) 하이퍼클로바를 출시했고, 2년 뒤 기존 모델을 고도화한 <b>생성형 AI</b> 모델 하이퍼클로바X를 공개했다. 하이퍼클로바X를 한국어와 문화에 강점을 가진 토종 ‘소버린... \\n---\\n제목: 美 스타게이트 '합종연횡'…글로벌 <b>AI</b> 선점 경쟁 뜨겁다\\nURL: https://n.news.naver.com/mnews/article/003/0013047908?sid=101\\n내용: 또 기업용 <b>생성형 AI</b> 개발, <b>생성형 AI</b> 단말기 사업도 벌인다. 전반적으로 오픈AI는 AI 본업 뿐 아니라 이를 활용한 자율주행이나 로봇, 스마트폰, TV, 가전 등에까지 영향력을 뻗치려 하고 있다. AI 소프트웨어 하나로... \\n---\\n제목: 네이버 D2SF, 커머스 <b>AI</b> 스타트업 '스튜디오랩' 투자\\nURL: https://n.news.naver.com/mnews/article/092/0002361943?sid=105\\n내용: 양상환 네이버 D2SF 센터장은 &quot;커머스 분야는 <b>생성형 AI</b>를 비롯해 3D, 로보틱스 등의 기술 적용이 활발한 분야로, 스튜디오랩은 우수한 기술력에 기반해 네이버와 함께 SME의 디지털 전환을 돕는 등 다양한 시너지가... \\n---\\n제목: “네이버, <b>AI</b> 사업 본격 드라이브”...이해진 네이버 창업자 복귀 소식...\\nURL: https://n.news.naver.com/mnews/article/243/0000072225?sid=101\\n내용: 2021년에는 네이버 자체적으로 개발한 거대언어모델(LLM) 하이퍼클로바를 출시했고, 2년 뒤에는 이를 고도화한 <b>생성형 AI</b> 모델 하이퍼클로바X를 공개했다. 네이버의 최신 AI 모델인 하이퍼클로바X는 한국어와 한국 문화를... \\n---\\n제목: 코난테크놀로지, <b>생성형 AI</b> 기반 의료 LLM 선보인다\\nURL: https://n.news.naver.com/mnews/article/030/0003281228?sid=105\\n내용: 인공지능(AI) 소프트웨어 기업 코난테크놀로지가 <b>생성형 AI</b> 기술을 기반으로 의료 분야에 특화된 거대언어모델(LLM)을 선보인다. 코난테크놀로지는 한림대의료원과 '<b>생성형 AI</b> 기반 입원환자 전주기 기록지 작성·의료원... \\n---\\n제목: 복잡한 의료규정, 시간 걸리는 의무기록까지 <b>생성형 AI</b>가 해준다\\nURL: https://n.news.naver.com/mnews/article/018/0005936741?sid=102\\n내용: 한림대학교성심병원 신경과 이민우 교수(한림대학교의료원 <b>생성형AI</b> 구축 태스크포스(TF) 팀장)는 “이번 플랫폼 개발로 <b>생성형 AI</b>를 활용해 입원환자의 전주기 의무기록지를 자동으로 생성하고 교직원들을 위한... \\n---\\n제목: 미취업 청년에 정부가 <b>생성형 AI</b> 교육한다\\nURL: https://n.news.naver.com/mnews/article/015/0005089779?sid=105\\n내용: 고용부에서 발굴한 미취업 청년들에게 과기정통부가 <b>생성형 AI</b> 활용 교육, 디지털 리더 특강 등 디지털 교육을 제공해 청년들이 디지털 분야에 흥미를 가질 수 있도록 지원할 계획이다. 최근 수시·경력직 중심의 채용... \\n---\\n제목: 네이버 D2SF, 커머스 <b>AI</b> 스타트업 '스튜디오랩' 33억원 투자\\nURL: https://n.news.naver.com/mnews/article/421/0008056517?sid=105\\n내용: 양상환 네이버 D2SF 센터장은 &quot;커머스 분야는 <b>생성형 AI</b>를 비롯해 3D, 로보틱스 등의 기술 적용이 활발한 분야&quot;라며 &quot;스튜디오랩은 우수한 기술력에 기반해 네이버와 함께 중소기업(SME)의 디지털 전환을 돕는 등... \\n---\\n제목: 네이버 D2SF, 커머스 <b>AI</b> 스타트업 '스튜디오랩' 투자\\nURL: https://n.news.naver.com/mnews/article/001/0015193324?sid=105\\n내용: 양상환 네이버 D2SF 센터장은 &quot;커머스 분야는 <b>생성형 AI</b>를 비롯해 3D, 로보틱스 등의 기술 적용이 활발한 분야&quot;라며 &quot;올해에도 AI, 커머스 등 분야를 가리지 않고 적극적으로 투자할 계획&quot;이라고 말했다. 네이버 D2SF는... \\n---\\n제목: 딥시크 추격에…오픈<b>AI</b> 올트먼, 한국서 주도권다지기 '광폭행보'(종합)\\nURL: https://n.news.naver.com/mnews/article/001/0015191966?sid=105\\n내용: 전 세계적으로 <b>생성형 AI</b> 개발을 주도해온 오픈AI가 적극적으로 국내 유수 기업의 수장들을 만나 협력을 논의하면서 한국도 글로벌 AI 패권 경쟁의 핵심 전선으로 떠오르고 있다. 반도체·플랫폼·게임 '종횡무진'…AI... \\n---\\n제목: 올트먼 만난 김창한 크래프톤 대표 &quot;게임 특화 <b>AI</b> 논의&quot;\\nURL: https://n.news.naver.com/mnews/article/003/0013046577?sid=105\\n내용: 크래프톤 구성원 중 95%가 챗GPT를 통해 <b>생성형 AI</b>를 사용하고 있는 것으로 알려졌다. 김 대표는 &quot;크래프톤이 오픈AI와 게임 개발과 운영 전반에 더욱 혁신적으로 적용할 새로운 기술과 가능성을 적극 모색하고 있다... \\n---\\n제목: 최태원, 샘 올트먼과 7개월 만에 회동…<b>AI</b> 논의 방향은?\\nURL: https://n.news.naver.com/mnews/article/003/0013045446?sid=101\\n내용: AI 반도체용 메모리인 HBM를 생산 중이며, AI 자체 칩 제조를 위한 생산시설(파운드리)를 갖고 있다. 오픈AI는 <b>생성형AI</b> 전용 단말기 개발도 추진 중인데, 이와 관련한 양사 간 협력 방안 논의도 가능한 장면이다．\\n---\\n제목: 네이버, 커머스 <b>AI</b> 스타트업 '스튜디오랩' 투자\\nURL: https://n.news.naver.com/mnews/article/003/0013047880?sid=105\\n내용: 양상환 네이버 D2SF 센터장은 &quot;커머스 분야는 <b>생성형 AI</b>를 비롯해 3D, 로보틱스 등의 기술 적용이 활발한 분야다. 스튜디오랩은 우수한 기술력에 기반해 네이버와 함께 중·소상공인(SME) 디지털 전환을 돕는 등 다양한... \\n---\\n제목: 美·日 <b>AI</b> 동맹에 삼성 가세 … 첨단칩부터 TV·폰까지 협력 타진\\nURL: https://n.news.naver.com/mnews/article/009/0005438268?sid=101\\n내용: 삼성전자는 스마트폰, TV, 가전을 비롯한 글로벌 소비자용 디바이스(제품)를 보유하고 있고, 여기에 오픈AI의 <b>생성형 AI</b> 모델을 적용해 AI 음성비서, 개인화 추천 시스템, 실시간 AI 번역 같은 기능을 강화할 수 있다.... \\n---\\n제목: 삼성 <b>AI</b>반도체 `스타게이트` 협업나선다\\nURL: https://n.news.naver.com/mnews/article/029/0002933166?sid=101\\n내용: 전날 올트먼 CEO와 손 회장은 일본에서 합작사를 만들어 기업용 <b>생성형 AI</b>를 개발·판매하겠다는 계획을 제시했다. 삼성전자는 올해 초 미 라스베이거스에서 열린 CES 2025에서 마이크로소프트(MS), 구글 등 다양한 AI... \\n---\\n제목: '이재용-올트먼-손정의' 전격 회동…<b>AI</b> 동맹\\nURL: https://n.news.naver.com/mnews/article/215/0001197323?sid=101\\n내용: 오픈AI가 중국 AI 기업 딥시크에 맞서 <b>생성형 AI</b> 전용 단말기 개발에도 나설 예정이죠. 오늘 회동을 계기로 AI 산업을 대표하는 한미일 기업들과 포괄적 협력 관계가 구축될 것으로 전망됩니다. &lt;앵커&gt; 잘 들었습니다.... \\n---\\n제목: [팩트체크] <b>AI</b>가 인간의 모든 일자리를 대체한다?\\nURL: https://n.news.naver.com/mnews/article/001/0015192198?sid=105\\n내용: 2022년 출시된 오픈AI의 대형언어모델(LLM) 챗GPT는 AI가 텍스트, 이미지, 오디오 등 다양한 콘텐츠를 창작할 수 있는 '<b>생성형 AI</b>'의 대중화를 이끌었다. 국제학술지 '네이처'는 2023년 챗GPT를 &quot;과학 발전을 심오하게... \\n---\\n제목: 최태원 만난 올트먼 &quot;원더풀&quot; 엄지척…40분간 '<b>AI</b> 회동'(종합)\\nURL: https://n.news.naver.com/mnews/article/421/0008053470?sid=101\\n내용: 특히 올트먼 CEO는 지난 3일 일본 방문 당시 니혼게이자이신문 인터뷰에서 스마트폰을 대신하는 <b>생성형 AI</b> 전용 단말기와 독자 반도체 개발에 나서겠다는 구상을 밝혀 업계의 기대감이 커진 상태다. 올트먼은 당시... \\n---\\n제목: <b>AI</b>칩 절실한 소뱅·오픈<b>AI</b>…손정의 &quot;삼성은 훌륭한 파트너&quot;\\nURL: https://n.news.naver.com/mnews/article/011/0004446632?sid=101\\n내용: 오픈AI가 개발을 선언한 <b>생성형 AI</b> 전용 단말기 역시 삼성전자와 전방위 협업 가능성을 열어둔 것으로 알려졌다. 손정의 소프트뱅크그룹 회장은 4일 서울 삼성전자 서초 사옥에서 이재용 삼성전자 회장과 샘 올트먼... \\n---\\n제목: 오픈 <b>AI</b>, '한일과 협업'…딥시크 견제 나서\\nURL: https://n.news.naver.com/mnews/article/057/0001869835?sid=101\\n내용: 오픈AI와 소프트뱅크그룹은 어제(3일) <b>생성형 AI</b> 합작 회사 'SB오픈AI 재팬'을 설립한다고 밝혔습니다. 지난달 도널드 트럼프 미국 대통령과 함께 발표한 AI 합작 프로젝트 '스타게이트'의 일본판이라는 평가가 나옵니다.... \\n---\\n제목: 네이버가 투자한 '<b>AI</b> 영상 생성' 시나몬, 110억 투자 유치\\nURL: https://n.news.naver.com/mnews/article/003/0013047405?sid=105\\n내용: 특히 프롬포트 입력에 따라 다른 결과물을 얻는 <b>생성형 AI</b> 영상 서비스와 달리 사용자가 배우의 연기와 카메라 연출, 조명, 배경 등을 원하는 대로 편집할 수 있다. 모든 사용자가 영화 감독이자 1인 제작사가 될 수 있는... \\n---\\n제목: SKT, 美 MIT '<b>생성형 AI</b> 컨소시엄' 참여…오픈AI·코카콜라 등도\\nURL: https://n.news.naver.com/mnews/article/001/0015189655?sid=105\\n내용: &quot;<b>생성형 AI</b> 기반 산업 혁신 이끌 것&quot;…피지컬 AI 등 중점 연구 SK텔레콤은 미국 매사추세츠공과대학(MIT)이 생성형 인공지능(AI) 연구를 목적으로 발족한 'MIT 젠AI 임팩트 컨소시엄'에 창립 멤버로 참여한다고 4일... \\n---\\n제목: 코난테크놀로지, 의료 <b>AI</b> 개발한다…한림대의료원과 '맞손'\\nURL: https://n.news.naver.com/mnews/article/003/0013047588?sid=105\\n내용: 인공지능(AI) 소프트웨어 전문기업 코난테크놀로지가 <b>생성형 AI</b> 기술을 기반으로 의료 분야에 특화된 거대언어모델(LLM)을 선보인다고 5일 밝혔다. 코난테크놀로지는 지난해 12월 한림대학교 의료원과 ‘<b>생성형 AI</b>기반... \\n---\\n제목: [기획] 이·손·올트먼 서울 회동… <b>AI</b> 3각 동맹 `출격`\\nURL: https://n.news.naver.com/mnews/article/029/0002933172?sid=101\\n내용: 다만 바로 전날 일본 도쿄에서 올트먼 CEO와 손 회장은 일본에서 합작사를 만들어 기업용 <b>생성형 AI</b>를 개발 및 판매하겠다는 계획을 밝힌 만큼, 이와 관련한 포괄적인 협력 방안이 논의됐을 것으로 보인다. 이와 관련, 손... \\n---\\n제목: '서울 회동' 최태원-올트먼 <b>AI</b> 협력 논의…곽노정·유영상 사장 배석\\nURL: https://n.news.naver.com/mnews/article/421/0008053246?sid=101\\n내용: 특히 올트먼 CEO는 전날 일본 방문 당시 니혼게이자이신문 인터뷰에서 스마트폰을 대신하는 <b>생성형 AI</b> 전용 단말기와 독자 반도체 개발에 나서겠다는 구상을 밝혀 업계의 기대감이 커진 상태다. 올트먼은 <b>생성형 AI</b>... \\n---\\n제목: 미국이 불붙인 '스타게이트 프로젝트'...한미일 <b>AI</b>동맹으로 타오른다\\nURL: https://n.news.naver.com/mnews/article/014/0005303409?sid=101\\n내용: 오픈AI는 스마트폰을 대신하는 <b>생성형 AI</b> 전용 단말기와 독자 반도체를 개발하겠다는 구상이다. 삼성전자와의 협력 가능성이 예상되는 대목이다. 한편, 올트먼 CEO는 이날 오전 최태원 SK그룹 회장과도 약 40분간... \\n---\\n제목: &quot;<b>AI</b> 강자 없다&quot;…올트먼 '<b>AI</b> 삼각동맹' 숨가쁘게 추진한 이유\\nURL: https://n.news.naver.com/mnews/article/079/0003988097?sid=105\\n내용: <b>생성형 AI</b> 단말기·반도체·에이전트 동맹 다각화, 국내 기회? 한국 시장 진출을 확대하겠다고 밝힌 오픈AI를 활용한다면 국내 IT 기업에게는 좋은 기회가 될 수 있다는 기대도 나온다. 한국 기업들은 AI 시장에서... \\n---\\n제목: <b>AI</b> 영상 제작 스타트업 시나몬, 110억원 규모 투자 유치\\nURL: https://n.news.naver.com/mnews/article/421/0008055533?sid=101\\n내용: 특히 프롬프트 입력에 따라 다른 결과물을 얻는 <b>생성형 AI</b> 영상 서비스와 달리 사용자가 배우의 연기와 카메라 연출, 조명, 배경 등을 원하는 대로 편집할 수 있다. 먼저 구축한 3D 공간에 캐릭터, 액션, 조명, 카메라... \\n---\\n\""
            ]
          },
          "execution_count": 9,
          "metadata": {},
          "output_type": "execute_result"
        }
      ],
      "source": [
        "import requests\n",
        "\n",
        "def get_news(query):\n",
        "    url = f\"https://openapi.naver.com/v1/search/news.json?query={query}&display=30&sort=sim\"\n",
        "    headers = {\n",
        "        'X-Naver-Client-Id': os.getenv(\"NAVER_CLIENT_ID\"),\n",
        "        'X-Naver-Client-Secret': os.getenv(\"NAVER_CLIENT_SECRET\")\n",
        "    }\n",
        "    \n",
        "    response = requests.get(url, headers=headers)\n",
        "    news_items = response.json().get('items', [])\n",
        "    \n",
        "    result = \"\"\n",
        "    for item in news_items:\n",
        "        title = item['title']\n",
        "        link = item['link']\n",
        "        description = item['description']\n",
        "        \n",
        "        result += f\"제목: {title}\\n\"\n",
        "        result += f\"URL: {link}\\n\"\n",
        "        result += f\"내용: {description}\\n\"\n",
        "        result += \"---\\n\"\n",
        "    \n",
        "    print(result)\n",
        "    return result\n",
        "\n",
        "# 검색어\n",
        "query = '생성형 AI'\n",
        "get_news(query)\n"
      ]
    },
    {
      "cell_type": "markdown",
      "id": "875dc181",
      "metadata": {
        "id": "875dc181"
      },
      "source": [
        "아래는 예시 코드입니다."
      ]
    },
    {
      "cell_type": "code",
      "execution_count": 10,
      "id": "7b98cc94",
      "metadata": {
        "id": "7b98cc94",
        "scrolled": true
      },
      "outputs": [
        {
          "name": "stdout",
          "output_type": "stream",
          "text": [
            "제목: 이재용-올트먼-손정의 ‘한미일 <b>AI</b> 동맹’ 손잡았다\n",
            "URL: https://n.news.naver.com/mnews/article/020/0003613234?sid=101\n",
            "내용: 업계에서는 오픈AI와 엔비디아 등 미국 빅테크 주도의 <b>생성형 AI</b>와 AI 반도체, 일본 소프트뱅크·ARM의 자금 조달과 칩 설계 기술에 한국 기업이 갖춘 고대역폭메모리(HBM)와 파운드리(반도체 위탁생산), 데이터센터... \n",
            "---\n",
            "제목: 이재용-올트먼-손정의 '<b>AI</b> 회동'…한미일 '<b>AI</b> 동맹' 속도내나\n",
            "URL: https://n.news.naver.com/mnews/article/001/0015191319?sid=101\n",
            "내용: 바로 전날 일본 도쿄에서 올트먼 CEO와 손 회장은 일본에서 합작사를 만들어 기업용 <b>생성형 AI</b>를 개발 및 판매하겠다는 계획을 밝히기도 했다. 따라서 이번 회동도 스타게이트 관련 협력 논의의 연장선에서 삼성전자가... \n",
            "---\n",
            "제목: [단독]“<b>AI</b> 뒤처질 수 없다”...이해진, 네이버 이사회 의장으로 복귀\n",
            "URL: https://n.news.naver.com/mnews/article/023/0003886031?sid=105\n",
            "내용: 네이버는 2021년 자체 기술로 개발한 거대언어모델(LLM) 하이퍼클로바를 출시했고, 2년 뒤 기존 모델을 고도화한 <b>생성형 AI</b> 모델 하이퍼클로바X를 공개했다. 하이퍼클로바X를 한국어와 문화에 강점을 가진 토종 ‘소버린... \n",
            "---\n",
            "제목: 美 스타게이트 '합종연횡'…글로벌 <b>AI</b> 선점 경쟁 뜨겁다\n",
            "URL: https://n.news.naver.com/mnews/article/003/0013047908?sid=101\n",
            "내용: 또 기업용 <b>생성형 AI</b> 개발, <b>생성형 AI</b> 단말기 사업도 벌인다. 전반적으로 오픈AI는 AI 본업 뿐 아니라 이를 활용한 자율주행이나 로봇, 스마트폰, TV, 가전 등에까지 영향력을 뻗치려 하고 있다. AI 소프트웨어 하나로... \n",
            "---\n",
            "제목: 네이버 D2SF, 커머스 <b>AI</b> 스타트업 '스튜디오랩' 투자\n",
            "URL: https://n.news.naver.com/mnews/article/092/0002361943?sid=105\n",
            "내용: 양상환 네이버 D2SF 센터장은 &quot;커머스 분야는 <b>생성형 AI</b>를 비롯해 3D, 로보틱스 등의 기술 적용이 활발한 분야로, 스튜디오랩은 우수한 기술력에 기반해 네이버와 함께 SME의 디지털 전환을 돕는 등 다양한 시너지가... \n",
            "---\n",
            "제목: “네이버, <b>AI</b> 사업 본격 드라이브”...이해진 네이버 창업자 복귀 소식...\n",
            "URL: https://n.news.naver.com/mnews/article/243/0000072225?sid=101\n",
            "내용: 2021년에는 네이버 자체적으로 개발한 거대언어모델(LLM) 하이퍼클로바를 출시했고, 2년 뒤에는 이를 고도화한 <b>생성형 AI</b> 모델 하이퍼클로바X를 공개했다. 네이버의 최신 AI 모델인 하이퍼클로바X는 한국어와 한국 문화를... \n",
            "---\n",
            "제목: 코난테크놀로지, <b>생성형 AI</b> 기반 의료 LLM 선보인다\n",
            "URL: https://n.news.naver.com/mnews/article/030/0003281228?sid=105\n",
            "내용: 인공지능(AI) 소프트웨어 기업 코난테크놀로지가 <b>생성형 AI</b> 기술을 기반으로 의료 분야에 특화된 거대언어모델(LLM)을 선보인다. 코난테크놀로지는 한림대의료원과 '<b>생성형 AI</b> 기반 입원환자 전주기 기록지 작성·의료원... \n",
            "---\n",
            "제목: 복잡한 의료규정, 시간 걸리는 의무기록까지 <b>생성형 AI</b>가 해준다\n",
            "URL: https://n.news.naver.com/mnews/article/018/0005936741?sid=102\n",
            "내용: 한림대학교성심병원 신경과 이민우 교수(한림대학교의료원 <b>생성형AI</b> 구축 태스크포스(TF) 팀장)는 “이번 플랫폼 개발로 <b>생성형 AI</b>를 활용해 입원환자의 전주기 의무기록지를 자동으로 생성하고 교직원들을 위한... \n",
            "---\n",
            "제목: 미취업 청년에 정부가 <b>생성형 AI</b> 교육한다\n",
            "URL: https://n.news.naver.com/mnews/article/015/0005089779?sid=105\n",
            "내용: 고용부에서 발굴한 미취업 청년들에게 과기정통부가 <b>생성형 AI</b> 활용 교육, 디지털 리더 특강 등 디지털 교육을 제공해 청년들이 디지털 분야에 흥미를 가질 수 있도록 지원할 계획이다. 최근 수시·경력직 중심의 채용... \n",
            "---\n",
            "제목: 네이버 D2SF, 커머스 <b>AI</b> 스타트업 '스튜디오랩' 33억원 투자\n",
            "URL: https://n.news.naver.com/mnews/article/421/0008056517?sid=105\n",
            "내용: 양상환 네이버 D2SF 센터장은 &quot;커머스 분야는 <b>생성형 AI</b>를 비롯해 3D, 로보틱스 등의 기술 적용이 활발한 분야&quot;라며 &quot;스튜디오랩은 우수한 기술력에 기반해 네이버와 함께 중소기업(SME)의 디지털 전환을 돕는 등... \n",
            "---\n",
            "제목: 네이버 D2SF, 커머스 <b>AI</b> 스타트업 '스튜디오랩' 투자\n",
            "URL: https://n.news.naver.com/mnews/article/001/0015193324?sid=105\n",
            "내용: 양상환 네이버 D2SF 센터장은 &quot;커머스 분야는 <b>생성형 AI</b>를 비롯해 3D, 로보틱스 등의 기술 적용이 활발한 분야&quot;라며 &quot;올해에도 AI, 커머스 등 분야를 가리지 않고 적극적으로 투자할 계획&quot;이라고 말했다. 네이버 D2SF는... \n",
            "---\n",
            "제목: 딥시크 추격에…오픈<b>AI</b> 올트먼, 한국서 주도권다지기 '광폭행보'(종합)\n",
            "URL: https://n.news.naver.com/mnews/article/001/0015191966?sid=105\n",
            "내용: 전 세계적으로 <b>생성형 AI</b> 개발을 주도해온 오픈AI가 적극적으로 국내 유수 기업의 수장들을 만나 협력을 논의하면서 한국도 글로벌 AI 패권 경쟁의 핵심 전선으로 떠오르고 있다. 반도체·플랫폼·게임 '종횡무진'…AI... \n",
            "---\n",
            "제목: 올트먼 만난 김창한 크래프톤 대표 &quot;게임 특화 <b>AI</b> 논의&quot;\n",
            "URL: https://n.news.naver.com/mnews/article/003/0013046577?sid=105\n",
            "내용: 크래프톤 구성원 중 95%가 챗GPT를 통해 <b>생성형 AI</b>를 사용하고 있는 것으로 알려졌다. 김 대표는 &quot;크래프톤이 오픈AI와 게임 개발과 운영 전반에 더욱 혁신적으로 적용할 새로운 기술과 가능성을 적극 모색하고 있다... \n",
            "---\n",
            "제목: 최태원, 샘 올트먼과 7개월 만에 회동…<b>AI</b> 논의 방향은?\n",
            "URL: https://n.news.naver.com/mnews/article/003/0013045446?sid=101\n",
            "내용: AI 반도체용 메모리인 HBM를 생산 중이며, AI 자체 칩 제조를 위한 생산시설(파운드리)를 갖고 있다. 오픈AI는 <b>생성형AI</b> 전용 단말기 개발도 추진 중인데, 이와 관련한 양사 간 협력 방안 논의도 가능한 장면이다．\n",
            "---\n",
            "제목: 네이버, 커머스 <b>AI</b> 스타트업 '스튜디오랩' 투자\n",
            "URL: https://n.news.naver.com/mnews/article/003/0013047880?sid=105\n",
            "내용: 양상환 네이버 D2SF 센터장은 &quot;커머스 분야는 <b>생성형 AI</b>를 비롯해 3D, 로보틱스 등의 기술 적용이 활발한 분야다. 스튜디오랩은 우수한 기술력에 기반해 네이버와 함께 중·소상공인(SME) 디지털 전환을 돕는 등 다양한... \n",
            "---\n",
            "제목: 美·日 <b>AI</b> 동맹에 삼성 가세 … 첨단칩부터 TV·폰까지 협력 타진\n",
            "URL: https://n.news.naver.com/mnews/article/009/0005438268?sid=101\n",
            "내용: 삼성전자는 스마트폰, TV, 가전을 비롯한 글로벌 소비자용 디바이스(제품)를 보유하고 있고, 여기에 오픈AI의 <b>생성형 AI</b> 모델을 적용해 AI 음성비서, 개인화 추천 시스템, 실시간 AI 번역 같은 기능을 강화할 수 있다.... \n",
            "---\n",
            "제목: 삼성 <b>AI</b>반도체 `스타게이트` 협업나선다\n",
            "URL: https://n.news.naver.com/mnews/article/029/0002933166?sid=101\n",
            "내용: 전날 올트먼 CEO와 손 회장은 일본에서 합작사를 만들어 기업용 <b>생성형 AI</b>를 개발·판매하겠다는 계획을 제시했다. 삼성전자는 올해 초 미 라스베이거스에서 열린 CES 2025에서 마이크로소프트(MS), 구글 등 다양한 AI... \n",
            "---\n",
            "제목: '이재용-올트먼-손정의' 전격 회동…<b>AI</b> 동맹\n",
            "URL: https://n.news.naver.com/mnews/article/215/0001197323?sid=101\n",
            "내용: 오픈AI가 중국 AI 기업 딥시크에 맞서 <b>생성형 AI</b> 전용 단말기 개발에도 나설 예정이죠. 오늘 회동을 계기로 AI 산업을 대표하는 한미일 기업들과 포괄적 협력 관계가 구축될 것으로 전망됩니다. &lt;앵커&gt; 잘 들었습니다.... \n",
            "---\n",
            "제목: [팩트체크] <b>AI</b>가 인간의 모든 일자리를 대체한다?\n",
            "URL: https://n.news.naver.com/mnews/article/001/0015192198?sid=105\n",
            "내용: 2022년 출시된 오픈AI의 대형언어모델(LLM) 챗GPT는 AI가 텍스트, 이미지, 오디오 등 다양한 콘텐츠를 창작할 수 있는 '<b>생성형 AI</b>'의 대중화를 이끌었다. 국제학술지 '네이처'는 2023년 챗GPT를 &quot;과학 발전을 심오하게... \n",
            "---\n",
            "제목: 최태원 만난 올트먼 &quot;원더풀&quot; 엄지척…40분간 '<b>AI</b> 회동'(종합)\n",
            "URL: https://n.news.naver.com/mnews/article/421/0008053470?sid=101\n",
            "내용: 특히 올트먼 CEO는 지난 3일 일본 방문 당시 니혼게이자이신문 인터뷰에서 스마트폰을 대신하는 <b>생성형 AI</b> 전용 단말기와 독자 반도체 개발에 나서겠다는 구상을 밝혀 업계의 기대감이 커진 상태다. 올트먼은 당시... \n",
            "---\n",
            "제목: <b>AI</b>칩 절실한 소뱅·오픈<b>AI</b>…손정의 &quot;삼성은 훌륭한 파트너&quot;\n",
            "URL: https://n.news.naver.com/mnews/article/011/0004446632?sid=101\n",
            "내용: 오픈AI가 개발을 선언한 <b>생성형 AI</b> 전용 단말기 역시 삼성전자와 전방위 협업 가능성을 열어둔 것으로 알려졌다. 손정의 소프트뱅크그룹 회장은 4일 서울 삼성전자 서초 사옥에서 이재용 삼성전자 회장과 샘 올트먼... \n",
            "---\n",
            "제목: 오픈 <b>AI</b>, '한일과 협업'…딥시크 견제 나서\n",
            "URL: https://n.news.naver.com/mnews/article/057/0001869835?sid=101\n",
            "내용: 오픈AI와 소프트뱅크그룹은 어제(3일) <b>생성형 AI</b> 합작 회사 'SB오픈AI 재팬'을 설립한다고 밝혔습니다. 지난달 도널드 트럼프 미국 대통령과 함께 발표한 AI 합작 프로젝트 '스타게이트'의 일본판이라는 평가가 나옵니다.... \n",
            "---\n",
            "제목: 네이버가 투자한 '<b>AI</b> 영상 생성' 시나몬, 110억 투자 유치\n",
            "URL: https://n.news.naver.com/mnews/article/003/0013047405?sid=105\n",
            "내용: 특히 프롬포트 입력에 따라 다른 결과물을 얻는 <b>생성형 AI</b> 영상 서비스와 달리 사용자가 배우의 연기와 카메라 연출, 조명, 배경 등을 원하는 대로 편집할 수 있다. 모든 사용자가 영화 감독이자 1인 제작사가 될 수 있는... \n",
            "---\n",
            "제목: SKT, 美 MIT '<b>생성형 AI</b> 컨소시엄' 참여…오픈AI·코카콜라 등도\n",
            "URL: https://n.news.naver.com/mnews/article/001/0015189655?sid=105\n",
            "내용: &quot;<b>생성형 AI</b> 기반 산업 혁신 이끌 것&quot;…피지컬 AI 등 중점 연구 SK텔레콤은 미국 매사추세츠공과대학(MIT)이 생성형 인공지능(AI) 연구를 목적으로 발족한 'MIT 젠AI 임팩트 컨소시엄'에 창립 멤버로 참여한다고 4일... \n",
            "---\n",
            "제목: 코난테크놀로지, 의료 <b>AI</b> 개발한다…한림대의료원과 '맞손'\n",
            "URL: https://n.news.naver.com/mnews/article/003/0013047588?sid=105\n",
            "내용: 인공지능(AI) 소프트웨어 전문기업 코난테크놀로지가 <b>생성형 AI</b> 기술을 기반으로 의료 분야에 특화된 거대언어모델(LLM)을 선보인다고 5일 밝혔다. 코난테크놀로지는 지난해 12월 한림대학교 의료원과 ‘<b>생성형 AI</b>기반... \n",
            "---\n",
            "제목: [기획] 이·손·올트먼 서울 회동… <b>AI</b> 3각 동맹 `출격`\n",
            "URL: https://n.news.naver.com/mnews/article/029/0002933172?sid=101\n",
            "내용: 다만 바로 전날 일본 도쿄에서 올트먼 CEO와 손 회장은 일본에서 합작사를 만들어 기업용 <b>생성형 AI</b>를 개발 및 판매하겠다는 계획을 밝힌 만큼, 이와 관련한 포괄적인 협력 방안이 논의됐을 것으로 보인다. 이와 관련, 손... \n",
            "---\n",
            "제목: '서울 회동' 최태원-올트먼 <b>AI</b> 협력 논의…곽노정·유영상 사장 배석\n",
            "URL: https://n.news.naver.com/mnews/article/421/0008053246?sid=101\n",
            "내용: 특히 올트먼 CEO는 전날 일본 방문 당시 니혼게이자이신문 인터뷰에서 스마트폰을 대신하는 <b>생성형 AI</b> 전용 단말기와 독자 반도체 개발에 나서겠다는 구상을 밝혀 업계의 기대감이 커진 상태다. 올트먼은 <b>생성형 AI</b>... \n",
            "---\n",
            "제목: 미국이 불붙인 '스타게이트 프로젝트'...한미일 <b>AI</b>동맹으로 타오른다\n",
            "URL: https://n.news.naver.com/mnews/article/014/0005303409?sid=101\n",
            "내용: 오픈AI는 스마트폰을 대신하는 <b>생성형 AI</b> 전용 단말기와 독자 반도체를 개발하겠다는 구상이다. 삼성전자와의 협력 가능성이 예상되는 대목이다. 한편, 올트먼 CEO는 이날 오전 최태원 SK그룹 회장과도 약 40분간... \n",
            "---\n",
            "제목: &quot;<b>AI</b> 강자 없다&quot;…올트먼 '<b>AI</b> 삼각동맹' 숨가쁘게 추진한 이유\n",
            "URL: https://n.news.naver.com/mnews/article/079/0003988097?sid=105\n",
            "내용: <b>생성형 AI</b> 단말기·반도체·에이전트 동맹 다각화, 국내 기회? 한국 시장 진출을 확대하겠다고 밝힌 오픈AI를 활용한다면 국내 IT 기업에게는 좋은 기회가 될 수 있다는 기대도 나온다. 한국 기업들은 AI 시장에서... \n",
            "---\n",
            "제목: <b>AI</b> 영상 제작 스타트업 시나몬, 110억원 규모 투자 유치\n",
            "URL: https://n.news.naver.com/mnews/article/421/0008055533?sid=101\n",
            "내용: 특히 프롬프트 입력에 따라 다른 결과물을 얻는 <b>생성형 AI</b> 영상 서비스와 달리 사용자가 배우의 연기와 카메라 연출, 조명, 배경 등을 원하는 대로 편집할 수 있다. 먼저 구축한 3D 공간에 캐릭터, 액션, 조명, 카메라... \n",
            "---\n"
          ]
        }
      ],
      "source": [
        "import requests\n",
        "\n",
        "def get_news(query):\n",
        "    url = f\"https://openapi.naver.com/v1/search/news.json?query={query}&display=30&sort=sim\"\n",
        "    headers = {\n",
        "        'X-Naver-Client-Id': os.getenv(\"NAVER_CLIENT_ID\"),\n",
        "        'X-Naver-Client-Secret': os.getenv(\"NAVER_CLIENT_SECRET\")\n",
        "    }\n",
        "\n",
        "    response = requests.get(url, headers=headers)\n",
        "    news_json = response.json()\n",
        "\n",
        "    result = []\n",
        "    for item in news_json['items']:\n",
        "        title = item['title']\n",
        "        link = item['link']\n",
        "        description = item['description']\n",
        "\n",
        "        result.append(f\"제목: {title}\\nURL: {link}\\n내용: {description}\\n---\")\n",
        "\n",
        "    return \"\\n\".join(result)\n",
        "\n",
        "# 검색어\n",
        "query = '생성형 AI'\n",
        "result = get_news(query)\n",
        "print(result)"
      ]
    },
    {
      "cell_type": "markdown",
      "id": "e399facd",
      "metadata": {
        "id": "e399facd"
      },
      "source": [
        "## 2. OpenAI chat을 이용하여 요약하기"
      ]
    },
    {
      "cell_type": "markdown",
      "id": "a995dc0b",
      "metadata": {
        "id": "a995dc0b"
      },
      "source": [
        "키워드에 대한 뉴스 검색 결과를 요약합니다.   \n",
        "위 결과인 `result` 데이터를 입력으로 넣은 뒤, 해당 결과에 대한 요약을 요청합니다."
      ]
    },
    {
      "cell_type": "code",
      "execution_count": 11,
      "id": "97ead65c",
      "metadata": {
        "id": "97ead65c"
      },
      "outputs": [],
      "source": [
        "def news_bot(messages):\n",
        "\n",
        "    response = client.chat.completions.create(\n",
        "        model=\"gpt-4o-mini\",\n",
        "        messages = messages,\n",
        "        temperature = 0.1,\n",
        "        max_tokens= 2048,\n",
        "    )\n",
        "\n",
        "    return response.choices[0].message.content\n",
        "    # 간편한 출력을 위해 content만 추출"
      ]
    },
    {
      "cell_type": "markdown",
      "id": "f0ff486c",
      "metadata": {
        "id": "f0ff486c"
      },
      "source": [
        "챗봇에 전달할 메시지는 두 개로 나눠집니다.   \n",
        "위에서 얻은 get_html(query)와, 사용자가 제시할 명령입니다.   "
      ]
    },
    {
      "cell_type": "code",
      "execution_count": 12,
      "id": "ba01b31a",
      "metadata": {
        "id": "ba01b31a",
        "scrolled": true
      },
      "outputs": [
        {
          "name": "stdout",
          "output_type": "stream",
          "text": [
            "삼성 라이온즈 1군 선수단이 미국 괌에서의 1차 전지훈련을 성공적으로 마치고 4일 저녁 귀국했습니다. 박진만 감독은 이번 훈련에 대해 \"따뜻한 날씨 속에서 선수들이 몸을 잘 만드는 데 집중했다\"며 만족감을 표했습니다. 특히 신인 선수들인 배찬승과 심재훈의 준비 상태에 대해 긍정적인 평가를 내렸습니다. 삼성은 8년 만에 괌에서 스프링캠프를 진행했으며, 귀국 후 5일에는 일본 오키나와로 이동하여 2차 전지훈련을 시작할 예정입니다.\n",
            "\n",
            "관련 링크:\n",
            "- [삼성 박진만 감독 \"배찬승·심재훈 등 준비 잘 돼\"](https://m.sports.naver.com/kbaseball/article/001/0015191612)\n",
            "- [삼성, 괌 1차 캠프 마무리...박진만 \"배찬승·심재훈 준비 잘됐다\"](https://m.sports.naver.com/kbaseball/article/018/0005936205)\n",
            "- [괌 캠프 마친 삼성 박진만 감독 \"신인들 준비 잘했다\"](https://m.sports.naver.com/kbaseball/article/003/0013047022)\n"
          ]
        }
      ],
      "source": [
        "query = '삼성 라이온즈'\n",
        "\n",
        "result = get_news(query)\n",
        "\n",
        "response = news_bot([\n",
        "    {\n",
        "        # f-string: f\"\"\"{변수명}\"\"\"\n",
        "        \"role\": \"system\",\n",
        "        \"content\": f\"\"\"{query}에 대한 뉴스 검색 결과가 주어집니다.\n",
        "{query}에 대한 뉴스를 요약하세요.\n",
        "관련 링크를 추가하세요.\n",
        "---\n",
        "\"\"\"\n",
        "    },\n",
        "    {\n",
        "        \"role\": \"user\",\n",
        "        \"content\": result\n",
        "    }\n",
        "])\n",
        "\n",
        "print(response)"
      ]
    },
    {
      "cell_type": "code",
      "execution_count": 13,
      "id": "eb8753f4",
      "metadata": {
        "id": "eb8753f4"
      },
      "outputs": [
        {
          "name": "stdout",
          "output_type": "stream",
          "text": [
            "문자 수: 7821\n",
            "토큰 수: 4615\n",
            "제목: 프로야구 <b>삼성</b> 박진만 감독 &quot;배찬승·심재훈 등 준비 잘 돼&quot;\n",
            "URL: https://m.sports.naver.com/kbaseball/article/001/0015191612\n",
            "내용: 프로야구 <b>삼성 라이온즈</b> 1군 선수단이 미국 괌에서 1차 전지훈련을 마치고 4일 저녁 귀국한다. 박진만 삼성 감독은 이날 구단을 통해 &quot;따뜻한 날씨 속에서 트레이닝 위주로 선수들이 몸을 잘 만드는 것이 괌 전훈 캠프의... \n",
            "---\n",
            "제목: 프로야구 <b>삼성</b> 박진만 감독 &quot;배찬승·심재훈 등 준비 잘 돼&quot;\n",
            "URL: https://m.sports.naver.com/kbaseball/article/055/0001228666\n",
            "내용: ▲ 삼성 배찬승 프로야구 <b>삼성 라이온즈</b> 1군 선수단이 미국 괌에서 1차 전지훈련을 마치고 오늘(4일) 저녁 귀국합니다. 박진만 삼성 감독은 이날 구단을 통해 &quot;따뜻한 날씨 속에서 트레이닝 위주로 선수들이 몸을 잘 만드는... \n",
            "---\n",
            "제목: <b>삼성</b>, 괌 1차 캠프 마무리...박진만 &quot;배찬승·심재훈 준비 잘됐다&quot;\n",
            "URL: https://m.sports.naver.com/kbaseball/article/018/0005936205\n",
            "내용: <b>삼성라이온즈</b> 1군 선수단이 괌에서 1차 전지훈련을 마쳤다. <b>삼성라이온즈</b> 신인투수 배찬승. 사진=<b>삼성라이온즈</b> <b>삼성라이온즈</b> 신인 내야수 심재훈. 사진=<b>삼성라이온즈</b> 8년 만에 괌에서 스프링캠프를 치른 삼성은는 4일 1차... \n",
            "---\n",
            "제목: &quot;만족스러웠다&quot; <b>삼성</b> 1군 선수단 귀국 예정…5일 日 오키나와로 출국\n",
            "URL: https://m.sports.naver.com/kbaseball/article/079/0003987988\n",
            "내용: 프로야구 <b>삼성 라이온즈</b> 1군 선수단이 1차 스프링캠프를 마치고 귀국한다. 삼성 박진만 감독은 4일 &quot;따뜻한 날씨 속에서 트레이닝 위주로 선수들이 몸을 잘 만드는 것이 괌 전훈 캠프의 목적이었다&quot;고 알렸다. 그러면서... \n",
            "---\n",
            "제목: <b>삼성라이온즈</b> 박진만 감독, 괌 1차 전지훈련 &quot;첫단추가 잘 꿰진 느낌&quot;\n",
            "URL: https://www.kbmaeil.com/news/articleView.html?idxno=1029272\n",
            "내용: <b>삼성라이온즈</b> 배찬승 선수가 괌에서 열린 1차 전지훈련에 참가해 구슬땀을 흘리고 있다./<b>삼성라이온즈</b> 제공 <b>삼성라이온즈</b> 1군 선수단이 미국 괌 1차 전지훈련을 마치고 4일 귀국한다. 삼성은 박진만 감독의 요청으로... \n",
            "---\n",
            "제목: '2025시즌 준비 착착' <b>삼성 라이온즈</b>, 2차 스프링캠프 시작\n",
            "URL: https://m.sports.naver.com/kbaseball/article/088/0000929313\n",
            "내용: 프로야구 각 구단이 해외에서 담금질 중인 가운데 <b>삼성 라이온즈</b>가 1차 전지훈련(스프링캠프)을 마치고 2차 전지훈련에 돌입했다. 2025시즌 준비가 착실히 진행되고 있다는 평가다. 삼성은 괌에서 지난달 22일 시작한 1차... \n",
            "---\n",
            "제목: '하늘도 <b>삼성</b>을 돕는다' 작년엔 타자→올해는 투수 터져야 산다, &quot;젊은 ...\n",
            "URL: https://m.sports.naver.com/kbaseball/article/108/0003300678\n",
            "내용: 박진만(49) <b>삼성 라이온즈</b> 감독의 선택이 대성공으로 이어졌다. 2025년 예감이 좋다. <b>삼성 라이온즈</b> 4일 &quot;1군 선수단이 괌에서의 1차 전지훈련을 마쳤다&quot;고 밝혔다. 삼성은 미국, 호주 등 장거리 비행을 통해 더 좋은 환경을... \n",
            "---\n",
            "제목: 괌 캠프 마친 <b>삼성</b> 박진만 감독 &quot;배찬승 등 신인들 준비 잘했다&quot;\n",
            "URL: https://m.sports.naver.com/kbaseball/article/003/0013047022\n",
            "내용: 미국 괌에서 1차 스프링캠프를 마친 <b>삼성 라이온즈</b> 박진만 감독이 신인 선수들의 훈련 성과에 만족감을 표했다. 박진만 감독은 4일 구단을 통해 &quot;배찬승, 심재훈, 차승준, 함수호 등 신인 선수들이 함께했는데, 지난해... \n",
            "---\n",
            "제목: [부고] 백정현 씨(<b>삼성 라이온즈</b> 투수) 외조모상\n",
            "URL: https://n.news.naver.com/mnews/article/421/0008056880?sid=102\n",
            "내용: ■신말순씨 별세, 백정현 씨(<b>삼성 라이온즈</b> 투수) 외조모상 = 5일, 대구전문장례식장 108호, 발인 7일, 장지 명복공원 - 시립납골당, (053)961-4444.\n",
            "---\n",
            "제목: 괌 달군 <b>삼성</b>의 새 시즌 열정, 오키나와로 이어간다\n",
            "URL: https://m.sports.naver.com/kbaseball/article/425/0000159047\n",
            "내용: <b>삼성 라이온즈</b> 1군 선수단이 미국 괌에서의 1차 전지훈련을 성공적으로 마치고 4일 저녁 귀국한다. 박진만 감독은 &quot;따뜻한 날씨 속에서 트레이닝에 집중하며 선수들이 몸을 잘 만들었다&quot;고 평가했다. 특히 괌의 최상의 훈련... \n",
            "---\n",
            "제목: <b>삼성</b> '루키 4인방' 성장에 박진만 대만족 &quot;첫 단추 잘 꿰졌다&quot;, 152㎞ 좌...\n",
            "URL: https://m.sports.naver.com/kbaseball/article/108/0003300562\n",
            "내용: 8년 만에 미국 괌에서 스프링캠프를 치른 <b>삼성 라이온즈</b>. 사령탑은 신인들이 성장한 모습에 만족감을 드러냈다. 삼성은 4일 &quot;1군 선수단이 괌에서의 1차 전지훈련을 마쳤다&quot;고 전했다. 2017년 이후 처음으로 괌에서 캠프를... \n",
            "---\n",
            "제목: <b>삼성</b>, 괌 1차 캠프 마무리…박진만 감독 &quot;신인들 준비 잘했다&quot;\n",
            "URL: https://m.sports.naver.com/kbaseball/article/421/0008055182\n",
            "내용: 박진만 <b>삼성 라이온즈</b> 감독이 프로 입단 후 첫 스프링캠프를 잘 소화하고 있는 신인 선수들에게 합격점을 줬다. 4일 괌 1차 스프링캠프를 마치고 귀국한 박 감독은 구단을 통해 &quot;따뜻한 날씨 속에서 트레이닝 위주로... \n",
            "---\n",
            "제목: [사진]후라도,'<b>삼성</b> 스프링캠프 소감'\n",
            "URL: https://m.sports.naver.com/kbaseball/article/109/0005236736\n",
            "내용: 5일 오전 <b>삼성 라이온즈</b> 선수단이 인천국제공항을 통해 일본 오키니와로 출국했다. <b>삼성 라이온즈</b>는 하루 전인 4일 미국 괌 1차 스프링캠프를 마치고 입국, 잠깐의 휴식을 취한 뒤 곧바로 오키나와로 2차 전지훈련을... \n",
            "---\n",
            "제목: 괌 캠프 마친 <b>삼성</b> 박진만 감독 “날씨 GOOD, 신인들 몸상태도 GOOD”\n",
            "URL: https://m.sports.naver.com/kbaseball/article/468/0001124273\n",
            "내용: 사진 | <b>삼성 라이온즈</b> 예열은 끝났다. 이제는 실전을 포함한 본격적인 담금질이다. 정상 문턱에서 아쉽게 무릎을 꿇은 삼성이 괌 전지훈련을 마쳤다. 4일 1차 전지훈련을 마치고 인천국제공항을 통해 귀국한 삼성... \n",
            "---\n",
            "제목: <b>삼성</b>, 1차 전지훈련 마무리… 박진만 감독 &quot;만족스러웠다&quot; 총평\n",
            "URL: http://www.hansbiz.co.kr/news/articleView.html?idxno=732655\n",
            "내용: 프로야구 <b>삼성 라이온즈</b> 투수 배찬승. /삼성 제공  프로야구 <b>삼성 라이온즈</b> 1군 선수단이 미국 괌에서 열린 1차 전지훈련을 마무리하고 4일 저녁 귀국한다. 박진만 삼성 감독은 이날 구단을 통해 &quot;따뜻한 날씨 속에서... \n",
            "---\n",
            "제목: 프로야구 <b>삼성 라이온즈</b>, 2025 오키나와 스프랭캠프 팬 투어 모집\n",
            "URL: https://m.sports.naver.com/kbaseball/article/088/0000929089\n",
            "내용: 프로야구 <b>삼성 라이온즈</b>가 팬들에게 해외 전지훈련(스프링캠프) 참관 기회를 제공한다. 삼성에 따르면 '2025년 오키나와 스프링캠프 팬 투어'는 2월 24일부터 28일까지 모두 4박 5일 일정. 이번 투어는... \n",
            "---\n",
            "제목: &quot;첫 단추가 잘 꿰진 느낌&quot; '우승 재도전' 사령탑 만족시킨 <b>삼성</b> 루키 4총...\n",
            "URL: https://m.sports.naver.com/kbaseball/article/076/0004241613\n",
            "내용: <b>삼성 라이온즈</b> 1군 선수단이 괌에서의 1차 전지훈련을 마치고 일시 귀국한다. 8년만에 괌에서 1차 스프링캠프를 치른 <b>삼성 라이온즈</b>는 4일 저녁 인천국제공항을 통해 일시 귀국한 뒤 다음날인 5일 오전 8시5분 KE755편으로... \n",
            "---\n",
            "제목: 일본 오키나와에서 다시 뭉치는 <b>삼성</b> 1·2군, 본격 시즌 준비\n",
            "URL: https://m.sports.naver.com/kbaseball/article/382/0001176329\n",
            "내용: <b>삼성 라이온즈</b> 1군 선수단은 괌에서 진행한 1차 스프링캠프를 성공적으로 마치고 5일 오전 일본 오키나와로 이동했다. 이미 오키나와에서 훈련 중인 2군 선수들과 가까운 거리에서 2025시즌을 본격적으로 준비한다. 1군... \n",
            "---\n",
            "제목: [사진]최원태,'<b>삼성</b> 팬과 함께'\n",
            "URL: https://m.sports.naver.com/kbaseball/article/109/0005236684\n",
            "내용: 4일 오후 미국 괌에서 1차 스프링캠프를 마친 <b>삼성 라이온즈</b> 선수단이 인천국제공항을 통해 입국했다. 1차 스프링캠프 훈련을 마친 <b>삼성 라이온즈</b>는 5일 오전 2차 캠프지인 일본 오키나와로 출국할 예정이다. 삼성... \n",
            "---\n",
            "제목: 괌 캠프 마친 <b>삼성</b>, 신인 배찬승 가능성 '확인'…&quot;첫 단추 잘 끼워진 느...\n",
            "URL: https://m.sports.naver.com/kbaseball/article/421/0008056058\n",
            "내용: 지난해 준우승의 아쉬움을 뒤로 하고 2025 한국시리즈 제패를 노리는 <b>삼성 라이온즈</b>에 무서운 신인이 가세했다. 좌완 배찬승이 1차 스프링캠프에서 두각을 나타내며 기대감이 피어오르고 있다. 삼성은 지난달 22일 괌에서... \n",
            "---\n",
            "제목: [부음]백정현씨(<b>삼성 라이온즈</b> 선수) 외조모상\n",
            "URL: https://m.sports.naver.com/kbaseball/article/076/0004241989\n",
            "내용: ▶백정현씨(<b>삼성 라이온즈</b> 선수) 외조모상=5일, 대구전문장례식장 108호, 발인 7일. (053)961-4444\n",
            "---\n",
            "제목: <b>삼성</b> 박진만 감독 &quot;괌 전훈, 최상의 선택&quot;\n",
            "URL: https://www.kyongbuk.co.kr/news/articleView.html?idxno=4030981\n",
            "내용: 박진만 <b>삼성라이온즈</b> 감독이 괌 1차 전지훈련에 대해 만족감을 나타냈다. 삼성 1군 선수단은 8년 만에 괌에서 스프링캠프를 꾸렸으며 4일 1차 전훈 일정을 끝내고 이날 인천국제공항을 통해 일시 귀국했다. 곧바로 5일 오전... \n",
            "---\n",
            "제목: <b>삼성</b> 박진만 감독 “괌 1차 전훈 만족…신인선수들 첫단추 잘 꿰진 느낌...\n",
            "URL: https://m.sports.naver.com/kbaseball/article/016/0002423741\n",
            "내용: 삼성 신인투수 배찬승 [<b>삼성 라이온즈</b> 제공] 프로야구 <b>삼성 라이온즈</b> 1군 선수단이 괌에서 1차 전지훈련을 마치고 4일 저녁 일시 귀국한다. 박진만 삼성 감독은 이날 구단을 통해 괌 1차 전지훈련 성과에 만족감을 표했다.... \n",
            "---\n",
            "제목: <b>삼성 라이온즈</b>, 오키나와 스프링캠프 팬 투어 모집\n",
            "URL: https://www.kbmaeil.com/news/articleView.html?idxno=1029096\n",
            "내용: <b>삼성 라이온즈</b> 2025년 오키나와 스프링캠프 팬 투어 안내문. /<b>삼성 라이온즈</b> 제공 <b>삼성 라이온즈</b>가 오는 5일 오전 11시부터 '오키나와 스프링캠프 팬 투어'참가자를 모집한다. 이번 팬 투어는 오는 24일부터... \n",
            "---\n",
            "제목: [사진]후라도,'<b>삼성</b> 1차 스프링캠프 마치고'\n",
            "URL: https://m.sports.naver.com/kbaseball/article/109/0005236643\n",
            "내용: 4일 오후 미국 괌에서 1차 스프링캠프를 마친 <b>삼성 라이온즈</b> 선수단이 인천국제공항을 통해 입국했다. 1차 스프링캠프 훈련을 마친 <b>삼성 라이온즈</b>는 5일 오전 2차 캠프지인 일본 오키나와로 출국할 예정이다. 삼성... \n",
            "---\n",
            "제목: 흙 15톤 쏟아부은 보람 있네, <b>삼성</b> 괌 캠프 성료 &quot;날씨 만족, 선수들도 ...\n",
            "URL: https://m.sports.naver.com/kbaseball/article/241/0003411143\n",
            "내용: <b>삼성 라이온즈</b> 1군 선수단이 괌에서의 1차 전지훈련을 마치고 귀국한다. 2017년 이후 8년 만에 괌에서 스프링캠프를 치른 삼성 선수단은 4일 1차 스프링캠프 일정을 마치고 귀국한다. 선수단은 이튿날(5일) 일본... \n",
            "---\n",
            "제목: <b>삼성 라이온즈</b> 괌 1차 전훈 캠프 마무리, 박진만 감독 &quot;만족스럽다&quot; 총...\n",
            "URL: https://www.idaegu.com/news/articleView.html?idxno=627836\n",
            "내용: <b>삼성 라이온즈</b> 1군 선수단이 괌에서의 1차 전지훈련을 마무리하고, 4일 저녁 인천국제공항을 통해 일시 귀국한다. 귀국 전 <b>삼성 라이온즈</b> 박진만 감독은 1차 전훈에 대해 &quot;만족스럽다&quot;는 평가를 내렸다. 박 감독은 &quot;따뜻한... \n",
            "---\n",
            "제목: <b>삼성</b>의 무한 발전, 이번에는 마운드다… 괌에서 기대주 속출, 박진만 환...\n",
            "URL: https://m.sports.naver.com/kbaseball/article/477/0000533005\n",
            "내용: 삼성은 &quot;<b>삼성 라이온즈</b> 1군 선수단이 괌에서의 1차 전지훈련을 마쳤다&quot;면서 &quot;8년 만에 괌에서 스프링캠프를 치른 <b>삼성 라이온즈</b>는 4일(화) 1차 전훈 일정을 끝내고 이날 저녁 인천국제공항을 통해 일시 귀국한다. 이어 5일... \n",
            "---\n",
            "제목: PS 히든카드였던 김무신, 2025시즌 <b>삼성</b> 불펜의 새로운 축으로 도약하나...\n",
            "URL: https://m.sports.naver.com/kbaseball/article/382/0001176094\n",
            "내용: <b>삼성 라이온즈</b>는 2025시즌을 준비하는 과정에서 불펜 보강을 노렸지만, 외부 영입에는 실패했다. 결과적으로 내부에서 새로운 동력을 찾아야 한다. 코칭스태프가 주목하는 카드는 우완 파이어볼러 김무신(26)이다.... \n",
            "---\n",
            "제목: <b>삼성</b>, 8년 만의 괌 캠프 어땠나? 이제는 실전이다!\n",
            "URL: https://m.sports.naver.com/kbaseball/article/445/0000270882\n",
            "내용: <b>삼성 라이온즈</b>가 2025시즌을 위한 1차 전지훈련을 마치고 2차 캠프 준비에 돌입한다. 삼성은 4일 &quot;1군 선수단이 괌에서 진행한 1차 전지훈련을 마쳤다&quot;고 밝혔다. 이날 저녁 인천국제공항을 통해 귀국한 뒤, 오는 5일 오전... \n",
            "---\n"
          ]
        }
      ],
      "source": [
        "# 토큰 수 체크\n",
        "import tiktoken\n",
        "\n",
        "tokenizer  = tiktoken.encoding_for_model('gpt-4o-mini')\n",
        "\n",
        "print(\"문자 수:\", len(result))\n",
        "print(\"토큰 수:\", len(tokenizer.encode(result)))\n",
        "print(result) #result\n"
      ]
    },
    {
      "cell_type": "markdown",
      "id": "f22469ad",
      "metadata": {
        "id": "f22469ad"
      },
      "source": [
        "다양한 명령을 넣어서 형식과 스타일을 바꿀 수 있습니다."
      ]
    },
    {
      "cell_type": "code",
      "execution_count": 32,
      "id": "b83450fb",
      "metadata": {
        "id": "b83450fb"
      },
      "outputs": [
        {
          "name": "stdout",
          "output_type": "stream",
          "text": [
            "A: 기아 타이거즈가 최근 스프링캠프에서 첫 불펜 투구를 시작했다는 소식을 들었나요? 조상우 선수와 함께 네일, 올러 선수도 본격적인 훈련에 돌입했다고 하니, 이번 시즌에 대한 기대가 큽니다.\n",
            "\n",
            "B: 아, 맞아요! 조상우가 불펜에서 던졌다고 하던데, 그게 뭐 그렇게 대단한가요? 그냥 던지는 거 아닌가요?\n",
            "\n",
            "A: 물론 던지는 것 자체는 간단해 보일 수 있지만, 스프링캠프는 선수들이 시즌을 준비하는 중요한 과정입니다. 특히 조상우 선수는 팀의 필승 카드로 기대되고 있으니, 그의 컨디션이 중요하죠.\n",
            "\n",
            "B: 아하, 그래서 그런 거군요! 그리고 기아가 우승 기원 예·적금을 출시했다는 것도 들었어요. 그게 뭐죠?\n",
            "\n",
            "A: 광주은행이 기아 타이거즈의 V13 우승을 기원하는 예·적금을 출시한 것입니다. 이는 지역 팬들과 함께 팀을 응원하고, 동시에 금융 상품으로서의 의미도 갖고 있습니다. 팬들의 열정이 팀에 긍정적인 영향을 미칠 수 있죠.\n",
            "\n",
            "B: 오, 팬들이 응원하는 게 그렇게 중요하군요! 그럼 기아가 올해도 우승할 가능성이 높다고 보시나요?\n",
            "\n",
            "A: 충분히 가능성이 있습니다. 이범호 감독이 팬들이 웃을 수 있는 야구를 하겠다고 다짐한 만큼, 팀의 분위기도 좋고, 선수들의 사기도 높습니다. 게다가 지난해 통합 우승을 차지한 경험이 큰 자산이 될 것입니다.\n",
            "\n",
            "B: 와, 그럼 올해는 진짜 기대해도 되겠네요! 그런데 연봉 계약도 다 마무리됐다고 하던데, 선수들이 많이 올랐나요?\n",
            "\n",
            "A: 맞습니다. 특히 김도영 선수가 역대 4년 차 최고액인 5억 원에 재계약을 했습니다. 이는 선수들의 발전과 팀의 미래를 위한 투자로 볼 수 있습니다. 기아 타이거즈가 지속적으로 강팀으로 자리 잡기 위한 기반이 마련되고 있는 셈이죠.\n",
            "\n",
            "B: 아, 그러니까 선수들이 잘하면 팀도 잘 되고, 팬들도 행복해지는 거군요! 기아 타이거즈가 올해도 잘했으면 좋겠어요!\n"
          ]
        }
      ],
      "source": [
        "query = '기아 타이거즈'\n",
        "\n",
        "result  = get_news(query)\n",
        "\n",
        "result = news_bot([\n",
        "    {\n",
        "        \"role\": \"user\",\n",
        "        \"content\": result\n",
        "    },\n",
        "    {\n",
        "        \"role\": \"user\",\n",
        "        \"content\": f\"\"\"\n",
        "---\n",
        "위 전체 내용을 종합하여 {query}의 동향과 미래에 대해 논쟁하는 두 사람의 대화 내용을 만들어줘.\n",
        "한 명은 전문적인 말투, 한 명은 어리숙한 말투를 사용하고, 형식은 아래와 같아.\n",
        "---\n",
        "A:(A의 대화)\n",
        "B:(B의 대화)\n",
        "        \"\"\"\n",
        "    }\n",
        "])\n",
        "\n",
        "print(result)"
      ]
    },
    {
      "cell_type": "markdown",
      "id": "4aa4182c",
      "metadata": {
        "id": "4aa4182c"
      },
      "source": [
        "## 참고) 스트리밍\n",
        "ChatGPT처럼 글자가 한 글자씩 순서대로 쭉 출력되도록 하면 어떨까요?   \n",
        "이와 같은 작업을 스트리밍(Streaming)이라고 하며, 옵션을 추가하여 구현할 수 있습니다."
      ]
    },
    {
      "cell_type": "code",
      "execution_count": 15,
      "id": "c9c2254e",
      "metadata": {
        "id": "c9c2254e"
      },
      "outputs": [],
      "source": [
        "def news_bot_stream(messages):\n",
        "\n",
        "    response = client.chat.completions.create(\n",
        "        model = \"gpt-4o-mini\",\n",
        "        messages = messages,\n",
        "        temperature = 0.1,\n",
        "        max_tokens = 2048,\n",
        "        stream=True # 스트리밍\n",
        "    )\n",
        "\n",
        "    return response\n",
        "    # content가 아닌 전체를 return함"
      ]
    },
    {
      "cell_type": "code",
      "execution_count": 16,
      "id": "c57c0f75",
      "metadata": {
        "id": "c57c0f75"
      },
      "outputs": [
        {
          "name": "stdout",
          "output_type": "stream",
          "text": [
            "**제목:** AI 모델 개발 및 배포 가속화: 오라클과 업스테이지의 협력, 그리고 글로벌 AI 동향\n",
            "\n",
            "**본문:** 최근 AI 기술의 발전이 가속화되면서 여러 기업들이 거대언어모델(LLM) 개발에 집중하고 있다. 특히, 오라클은 업스테이지에 클라우드 인프라를 공급하여 AI 모델 개발과 배포를 지원하고 있다. 업스테이지는 자체 개발한 LLM '솔라(Solar)'와 AI OCR 솔루션 '다큐먼트 AI'의 복잡한 학습 과정을 신속히 처리하기 위해 고성능 컴퓨팅 리소스를 확보하고 있다. 이로 인해 연구개발(R&D) 강화를 위한 인프라가 마련되었다.\n",
            "\n",
            "한편, 네이버는 사우디 LEAP 전시회에 참가하여 현지 문화와 언어에 특화된 AI 개발 방향성을 제시하고 있다. 네이버는 자사의 LLM을 기반으로 사우디의 언어적, 문화적 특성을 존중하는 AI 솔루션을 개발하고 있으며, 이는 AI 밸류체인의 실제 구현 사례로 주목받고 있다.\n",
            "\n",
            "또한, 솔트룩스는 초거대 언어모델 '루시아2.5'를 공개하며 법률, 의료, 제조, 교육 등 다양한 분야에서 높은 성능을 발휘할 수 있다고 밝혔다. 이 모델은 챗GPT 대비 최대 20분의 1 수준의 비용으로 운영할 수 있어 주목받고 있다.\n",
            "\n",
            "AI 모델의 경쟁이 치열해짐에 따라, 카카오는 오픈AI의 기술을 활용하기로 결정했으며, 엔비디아는 자사의 GPU를 통해 AI 모델의 배포를 지원하고 있다. 이러한 흐름 속에서 중국의 AI 모델 '딥시크'가 미국의 기술기업들과 경쟁하고 있는 상황도 주목할 만하다.\n",
            "\n",
            "AI 기술의 발전은 다양한 산업에 걸쳐 혁신을 가져오고 있으며, 앞으로의 동향이 더욱 기대된다.\n",
            "\n",
            "관련 링크:\n",
            "- [오라클, 업스테이지에 OCI 공급... AI 모델 개발·배포 가속화](https://n.news.naver.com/mnews/article/366/0001051275?sid=105)\n",
            "- [네이버, 사우디 LEAP 참가…현지 문화·언어에 특화된 '소버린 AI'강조](https://n.news.naver.com/mnews/article/003/0013044819?sid=105)\n",
            "- [솔트룩스, 초거대 언어모델 '루시아2.5' 공개](https://www.autodaily.co.kr/news/articleView.html?idxno=527482)\n",
            "- [카카오, AI 모델 자체 개발 대신 '오픈AI' 기술 빌려쓰기 선택](https://www.newsworks.co.kr/news/articleView.html?idxno=783060)\n",
            "- [중국이 개발한 AI 모델, 미국서 챗GPT도 넘었다](https://n.news.naver.com/mnews/article/018/0005932788?sid=101)None"
          ]
        }
      ],
      "source": [
        "query = '거대 언어 모델'\n",
        "result = get_news(query)\n",
        "\n",
        "result = news_bot_stream([\n",
        "    {\n",
        "        \"role\": \"user\",\n",
        "        \"content\": result\n",
        "    },\n",
        "    {\n",
        "        \"role\": \"user\",\n",
        "        \"content\": \"\"\"\n",
        "위 전체 내용을 종합하여 뉴스 리포팅을 해줘.\n",
        "관련 링크를 추가해줘\n",
        "---\n",
        "'제목':\n",
        "'본문':\n",
        "        \"\"\"\n",
        "    }\n",
        "])\n",
        "\n",
        "for chunk in result:\n",
        "    print(chunk.choices[0].delta.content, end='')"
      ]
    },
    {
      "cell_type": "markdown",
      "id": "72c46e8a",
      "metadata": {
        "id": "72c46e8a"
      },
      "source": [
        "이와 같은 스트리밍은 LLM 어플리케이션의 마지막 출력에서 사용하면    \n",
        "사용자 경험을 향상시킬 수 있습니다."
      ]
    },
    {
      "cell_type": "markdown",
      "id": "d34bf6c6",
      "metadata": {
        "id": "d34bf6c6"
      },
      "source": [
        "<br><br><br>\n",
        "## Tool(과거 Function Call) : 커스텀 함수 사용하기\n",
        "만약 query를 명시적으로 지정하지 않고, 사용자의 질문에 따라 관련 query를 추출하고,  \n",
        "이를 통해 검색하게 할 수도 있을까요?    \n",
        "\n",
        "`Tool Calling` 를 추가하면 이를 수행할 수 있습니다.    \n",
        "\n",
        "Web_Search라는 이름의 툴을 만들고, 이를 `get_html`과 연결하겠습니다.\n",
        "\n",
        "-------\n"
      ]
    },
    {
      "cell_type": "code",
      "execution_count": 17,
      "id": "MwUHmvcyetyZ",
      "metadata": {
        "id": "MwUHmvcyetyZ"
      },
      "outputs": [
        {
          "data": {
            "text/plain": [
              "[{'type': 'function',\n",
              "  'function': {'name': 'Web_Search',\n",
              "   'strict': True,\n",
              "   'parameters': {'description': 'query를 이용하여 뉴스 검색',\n",
              "    'properties': {'query': {'description': '검색 키워드\\n규칙:\\n1. 최대 2개 단어로 구성\\n2. 불필요한 조사나 형용사 제외\\n3. 핵심 명사만 포함\\n\\n예시:\\n- (좋음) \"개봉영화\", \"영화\"\\n- (나쁨) \"새로 개봉한 영화\", \"요즘 인기있는 영화\"\\n        ',\n",
              "      'title': 'Query',\n",
              "      'type': 'string'}},\n",
              "    'required': ['query'],\n",
              "    'title': 'Web_Search',\n",
              "    'type': 'object',\n",
              "    'additionalProperties': False},\n",
              "   'description': 'query를 이용하여 뉴스 검색'}}]"
            ]
          },
          "execution_count": 17,
          "metadata": {},
          "output_type": "execute_result"
        }
      ],
      "source": [
        "from pydantic import BaseModel, Field\n",
        "\n",
        "class Web_Search(BaseModel):\n",
        "    \"\"\"query를 이용하여 뉴스 검색\"\"\"\n",
        "    query: str= Field(description=\"\"\"검색 키워드\n",
        "규칙:\n",
        "1. 최대 2개 단어로 구성\n",
        "2. 불필요한 조사나 형용사 제외\n",
        "3. 핵심 명사만 포함\n",
        "\n",
        "예시:\n",
        "- (좋음) \"개봉영화\", \"영화\"\n",
        "- (나쁨) \"새로 개봉한 영화\", \"요즘 인기있는 영화\"\n",
        "        \"\"\")\n",
        "\n",
        "tools = [openai.pydantic_function_tool(Web_Search)]\n",
        "tools"
      ]
    },
    {
      "cell_type": "markdown",
      "id": "si2yTeBWe3LV",
      "metadata": {
        "id": "si2yTeBWe3LV"
      },
      "source": [
        "Tool 정보가 포함된 gpt는 함수의 구조와 설명을 이용하여 어떤 함수를 써야 하는지를 판단합니다.\n",
        "\n",
        "직접적으로 실행하는 것은 아니지만, 결과를 활용하면 해당 함수를 바로 사용할 수 있습니다."
      ]
    },
    {
      "cell_type": "code",
      "execution_count": 18,
      "id": "c8465bc2",
      "metadata": {
        "id": "c8465bc2"
      },
      "outputs": [],
      "source": [
        "def news_bot_v2(messages, stream=False, model = 'gpt-4o-mini'):\n",
        "\n",
        "    # 사용할 툴 펑션의 목록과 설명을 리스트로 전달\n",
        "    # LLM이 스스로 description, name, parameter의 값을 통해 판단\n",
        "    class Web_Search(BaseModel):\n",
        "        \"\"\"query를 이용하여 뉴스 검색\"\"\"\n",
        "        query: str= Field(description=\"\"\"\n",
        "검색 키워드\n",
        "규칙:\n",
        "1. 최대 2개 단어로 구성\n",
        "2. 불필요한 조사나 형용사 제외\n",
        "3. 핵심 명사만 포함\n",
        "\n",
        "예시:\n",
        "- (좋음) \"영화\"\n",
        "- (나쁨) \"새로 개봉한 영화\", \"요즘 인기있는 영화\"\n",
        "\"\"\")\n",
        "\n",
        "    tools = [openai.pydantic_function_tool(Web_Search)]\n",
        "\n",
        "    response = client.chat.completions.create(\n",
        "        model = model,\n",
        "        messages = messages,\n",
        "\n",
        "        tools = tools, # 사용할 툴 목록 전달\n",
        "        tool_choice = 'auto',\n",
        "        # 'none'이면 툴 사용하지 않음\n",
        "        # 'required'면 무조건 툴 사용\n",
        "\n",
        "        # parallel_tool_calls = False,\n",
        "        # 툴 1회만 출력하기\n",
        "\n",
        "        temperature= 0.1,\n",
        "        max_tokens= 1024,\n",
        "\n",
        "        stream = stream\n",
        "        # stream = True 면 스트리밍, 아니면 기본 출력\n",
        "    )\n",
        "\n",
        "    # Streaming 여부에 따라 출력 다르게 하기\n",
        "    if stream: return response\n",
        "\n",
        "    return response.choices[0].message"
      ]
    },
    {
      "cell_type": "code",
      "execution_count": 19,
      "id": "_vzJwQWN5QY7",
      "metadata": {
        "id": "_vzJwQWN5QY7"
      },
      "outputs": [
        {
          "data": {
            "text/plain": [
              "ChatCompletionMessage(content='안녕하세요! 날씨가 좋다니 기쁘네요. 오늘 어떤 계획이 있으신가요?', refusal=None, role='assistant', audio=None, function_call=None, tool_calls=None)"
            ]
          },
          "execution_count": 19,
          "metadata": {},
          "output_type": "execute_result"
        }
      ],
      "source": [
        "# tool 사용 필요 없음\n",
        "result = news_bot_v2([\n",
        "    {\n",
        "        \"role\": \"user\",\n",
        "        \"content\": \"\"\"안녕하세요! 오늘 날씨가 좋네요.\"\"\"\n",
        "    }\n",
        "])\n",
        "\n",
        "result"
      ]
    },
    {
      "cell_type": "code",
      "execution_count": 20,
      "id": "34500980",
      "metadata": {
        "id": "34500980"
      },
      "outputs": [
        {
          "name": "stdout",
          "output_type": "stream",
          "text": [
            "ChatCompletionMessage(content=None, refusal=None, role='assistant', audio=None, function_call=None, tool_calls=[ChatCompletionMessageToolCall(id='call_Pfp6fz80ra5fEDlo8neSlvRb', function=Function(arguments='{\"query\":\"영화\"}', name='Web_Search'), type='function')])\n"
          ]
        }
      ],
      "source": [
        "# tool 사용 필요함\n",
        "\n",
        "tool_call_result = news_bot_v2([\n",
        "    {\n",
        "        \"role\": \"user\",\n",
        "        \"content\": \"\"\"\n",
        "요즘 새로 개봉한 영화는 무엇이 있나요?\n",
        "\"\"\"\n",
        "    }\n",
        "])\n",
        "\n",
        "print(tool_call_result)"
      ]
    },
    {
      "cell_type": "markdown",
      "id": "7_TO3a-cbVaO",
      "metadata": {
        "id": "7_TO3a-cbVaO"
      },
      "source": [
        "Tool Call 메시지는 content 대신 tool_calls로 전달됩니다."
      ]
    },
    {
      "cell_type": "code",
      "execution_count": 21,
      "id": "bLOhNEPiZcWB",
      "metadata": {
        "id": "bLOhNEPiZcWB"
      },
      "outputs": [
        {
          "data": {
            "text/plain": [
              "[ChatCompletionMessageToolCall(id='call_Pfp6fz80ra5fEDlo8neSlvRb', function=Function(arguments='{\"query\":\"영화\"}', name='Web_Search'), type='function')]"
            ]
          },
          "execution_count": 21,
          "metadata": {},
          "output_type": "execute_result"
        }
      ],
      "source": [
        "tool_call_result.tool_calls"
      ]
    },
    {
      "cell_type": "code",
      "execution_count": 22,
      "id": "aqN-uIqeV6mC",
      "metadata": {
        "id": "aqN-uIqeV6mC"
      },
      "outputs": [
        {
          "data": {
            "text/plain": [
              "('call_Pfp6fz80ra5fEDlo8neSlvRb', 'Web_Search', '{\"query\":\"영화\"}')"
            ]
          },
          "execution_count": 22,
          "metadata": {},
          "output_type": "execute_result"
        }
      ],
      "source": [
        "(tool_call_result.tool_calls[0].id,\n",
        "tool_call_result.tool_calls[0].function.name,\n",
        "tool_call_result.tool_calls[0].function.arguments)"
      ]
    },
    {
      "cell_type": "markdown",
      "id": "eGFDzYvif2u6",
      "metadata": {
        "id": "eGFDzYvif2u6"
      },
      "source": [
        "LLM이 스스로 판단하여, 실행할 함수의 정보를 `tool_calls`에 돌려줍니다."
      ]
    },
    {
      "cell_type": "markdown",
      "id": "kcw0x1ULbh0I",
      "metadata": {
        "id": "kcw0x1ULbh0I"
      },
      "source": [
        "tool_calls의 구성 요소는 다음과 같습니다.\n",
        "- id: tool call의 id로, 해당 id에 실행 결과를 연결할 수 있습니다.\n",
        "- function : arguments와 name을 통해 실행할 툴의 이름과 매개변수를 전달합니다.\n",
        "<br><br>\n",
        "\n",
        "\n",
        "tool_calls의 결과를 임의로 포함하여 전달해 보겠습니다.   \n",
        "`tool`타입의 메시지로 전달해야 합니다."
      ]
    },
    {
      "cell_type": "code",
      "execution_count": 23,
      "id": "TeFixgQUY7F7",
      "metadata": {
        "id": "TeFixgQUY7F7"
      },
      "outputs": [
        {
          "data": {
            "text/plain": [
              "ChatCompletionMessage(content='요즘 새로 개봉한 영화로는 다음과 같은 작품들이 있습니다:\\n\\n1. 청설\\n2. 보통의 가족\\n3. 아노라\\n4. 아마존 활명수\\n5. 베놈: 라스트 댄스', refusal=None, role='assistant', audio=None, function_call=None, tool_calls=None)"
            ]
          },
          "execution_count": 23,
          "metadata": {},
          "output_type": "execute_result"
        }
      ],
      "source": [
        "result = news_bot_v2([\n",
        "    {\n",
        "        \"role\": \"user\",\n",
        "        \"content\": \"\"\"\n",
        "요즘 새로 개봉한 영화는 무엇이 있나요?\n",
        "\"\"\"\n",
        "    },\n",
        "    tool_call_result, # tool_calls 메시지\n",
        "    {\n",
        "        \"role\": \"tool\",\n",
        "        \"content\": \"\"\"\n",
        "청설, 보통의 가족, 아노라, 아마존 활명수, 베놈:라스트 댄스\n",
        "\"\"\",\n",
        "        \"tool_call_id\":tool_call_result.tool_calls[0].id\n",
        "    }\n",
        "])\n",
        "\n",
        "result"
      ]
    },
    {
      "cell_type": "markdown",
      "id": "-lBwdy_f5vMA",
      "metadata": {
        "id": "-lBwdy_f5vMA"
      },
      "source": [
        "이번에는 실제 함수를 실행하여 전달해 보겠습니다."
      ]
    },
    {
      "cell_type": "code",
      "execution_count": 24,
      "id": "85f007da",
      "metadata": {
        "id": "85f007da"
      },
      "outputs": [
        {
          "data": {
            "text/plain": [
              "('Web_Search', '{\"query\":\"영화\"}')"
            ]
          },
          "execution_count": 24,
          "metadata": {},
          "output_type": "execute_result"
        }
      ],
      "source": [
        "tool_call_result.tool_calls[0].function.name, tool_call_result.tool_calls[0].function.arguments"
      ]
    },
    {
      "cell_type": "markdown",
      "id": "dTJGyyWs6D4e",
      "metadata": {
        "id": "dTJGyyWs6D4e"
      },
      "source": [
        "함수명과 함수에 전달할 매개변수값이 주어지면, 아래와 같이 함수를 불러올 수 있습니다."
      ]
    },
    {
      "cell_type": "code",
      "execution_count": 25,
      "id": "-dHIEPJe6DpO",
      "metadata": {
        "id": "-dHIEPJe6DpO"
      },
      "outputs": [
        {
          "name": "stdout",
          "output_type": "stream",
          "text": [
            "{'query': 'LLM'}\n",
            "<class 'dict'>\n"
          ]
        }
      ],
      "source": [
        "# 문자열을 Dict로 바꾸기\n",
        "import json\n",
        "\n",
        "example = '{\"query\":\"LLM\"}'\n",
        "example_dict = json.loads(example)\n",
        "# json으로 변환\n",
        "\n",
        "print(example_dict)\n",
        "print(type(example_dict))\n",
        "\n"
      ]
    },
    {
      "cell_type": "code",
      "execution_count": 26,
      "id": "jFXaG0Gy6dHw",
      "metadata": {
        "id": "jFXaG0Gy6dHw"
      },
      "outputs": [
        {
          "data": {
            "text/plain": [
              "<function __main__.get_news(query)>"
            ]
          },
          "execution_count": 26,
          "metadata": {},
          "output_type": "execute_result"
        }
      ],
      "source": [
        "# 함수이름 문자열을 함수로 바꾸기\n",
        "\n",
        "available_functions = {'Web_Search': get_news}\n",
        "\n",
        "available_functions['Web_Search']"
      ]
    },
    {
      "cell_type": "code",
      "execution_count": 27,
      "id": "jHBnRR_v72Yi",
      "metadata": {
        "id": "jHBnRR_v72Yi"
      },
      "outputs": [
        {
          "data": {
            "text/plain": [
              "3"
            ]
          },
          "execution_count": 27,
          "metadata": {},
          "output_type": "execute_result"
        }
      ],
      "source": [
        "# Dictionary를 함수의 매개변수로 전달하기\n",
        "\n",
        "def f(a,b):\n",
        "  return a + b\n",
        "\n",
        "example2 = {'a': 1, 'b': 2}\n",
        "\n",
        "f(**example2)\n"
      ]
    },
    {
      "cell_type": "code",
      "execution_count": 28,
      "id": "w_qW36Y26qS4",
      "metadata": {
        "id": "w_qW36Y26qS4"
      },
      "outputs": [
        {
          "data": {
            "text/plain": [
              "\"제목: <b>LLM</b> 보안 전문 솔루션 필요할까?···87%가 &quot;예스&quot;\\nURL: https://n.news.naver.com/mnews/article/092/0002361970?sid=105\\n내용: 이스트시큐리티(대표 정진일)는 지난 12월 개최한 기업의 <b>LLM</b> 필수 보안 전략 웨비나에서 국내 기업 보안 담당자 및 실무자 200여 명을 대상으로 설문조사를 진행하고 그 결과를 5일 발표했다. 그 결과, <b>LLM</b> 보안... \\n---\\n제목: 코난테크놀로지, 생성형 AI 기반 의료 <b>LLM</b> 선보인다\\nURL: https://n.news.naver.com/mnews/article/030/0003281228?sid=105\\n내용: 인공지능(AI) 소프트웨어 기업 코난테크놀로지가 생성형 AI 기술을 기반으로 의료 분야에 특화된 거대언어모델(<b>LLM</b>)을 선보인다. 코난테크놀로지는 한림대의료원과 '생성형 AI 기반 입원환자 전주기 기록지 작성·의료원... \\n---\\n제목: 딥시크 추격에…오픈AI 올트먼, 한국서 주도권다지기 '광폭행보'(종합)\\nURL: https://n.news.naver.com/mnews/article/001/0015191966?sid=105\\n내용: 오픈AI의 미국 내 최대 경쟁자인 구글과 마이크로소프트(MS)는 대형언어모델(<b>LLM</b>)뿐만 아니라 기기에... 카카오 &quot;오픈AI와 서비스 공동 개발&quot; <b>LLM</b> 자체 개발서 협력으로 선회 지난해 말 인공지능(AI) 서비스 '카나나'를... \\n---\\n제목: 올트먼 만난 김창한 크래프톤 대표 &quot;게임 특화 AI 논의&quot;\\nURL: https://n.news.naver.com/mnews/article/003/0013046577?sid=105\\n내용: 거대언어모델(<b>LLM</b>)을 기반으로 한 CPC(Co-Playable Character: 협동 플레이 가능한 캐릭터) 개발과 게임 특화 AI... 이번 올트먼 CEO와의 만남에서도 김 대표는 오픈AI의 고품질 <b>LLM</b>을 기반으로 한 CPC의 발전과 활용 방안을... \\n---\\n제목: 코난테크놀로지, 한림대의료원과 <b>LLM</b> 기반 진료 플랫폼 공동 개발\\nURL: https://www.newspim.com/news/view/20250205000108\\n내용: 인공지능 소프트웨어 전문기업 코난테크놀로지가 생성형 AI 기술을 기반으로 의료 분야에 특화된 <b>LLM</b>을... 과정에 <b>LLM</b>(대규모 언어 모델) 기술을 적용하는 사례는 국내 최초다. 이에 따라 의무기록 작성에 소요되는... \\n---\\n제목: 코난테크놀로지, 한림대의료원 <b>LLM</b> 기반 진료 플랫폼 개발\\nURL: http://www.datanews.co.kr/news/article.html?no=136947\\n내용: 코난테크놀로지가 생성형 AI 기술을 기반으로 의료분야에 특화된 대규모언어모델(<b>LLM</b>)을 선보인다. 인공지능... 과정에 <b>LLM</b> 기술을 적용하는 사례는 국내 최초다. 이에 따라 의무기록 작성에 소요되는 시간이 최대... \\n---\\n제목: &quot;국내 기업 64%, <b>LLM</b> 도입 시 민감 데이터 유출 우려&quot;\\nURL: http://www.itdaily.kr/news/articleView.html?idxno=230782\\n내용: 이스트시큐리티는 5일 이 같은 내용이 담긴 거대언어모델(<b>LLM</b>) 사용 현황 및 인식 관련 설문 결과를 발표했다. 이번 조사는 이스트시큐리티가 지난해 12월 개최한 '<b>LLM</b> 필수 보안 전략 웨비나'에서 국내 기업 보안 담당자... \\n---\\n제목: 코난테크놀로지, 한림대의료원과 의료분야 국내 첫 <b>LLM</b> 기반 진료 플랫...\\nURL: https://n.news.naver.com/mnews/article/029/0002933259?sid=105\\n내용: 모델(<b>LLM</b>) 기술을 적용하는 것은 국내 최초&quot;라고 설명했다. 접수부터 퇴원까지 전 과정에 자체 개발한 AI모델 '코난 <b>LLM</b>'을 도입해 의료 서비스의 품질을 높이겠다는 목표다. AI 도입으로 의무기록 작성에 소요되는 시간을... \\n---\\n제목: 7년 만에 돌아온 이해진 네이버 창업자, 소버린 AI 고삐 쥔다(종합)\\nURL: https://n.news.naver.com/mnews/article/138/0002190333?sid=105\\n내용: 소버린 AI는 자체 거대언어모델(<b>LLM</b>) 기술력을 바탕으로 현지 문화와 언어에 최적화된 AI 모델을 구축하는... 아랍어 <b>LLM</b> 기반 소버린 AI 개발에 협력하기로 했다. 그해 6월은 이 GIO와 최수연 네이버 대표 등 경영진이... \\n---\\n제목: 대규모 언어 모델(<b>LLM</b>) 진화 방식은?\\nURL: https://n.news.naver.com/mnews/article/421/0008053625?sid=100\\n내용: 이주석 AI이용자진흥원장이 4일 서울 여의도 국회의원회관에서 열린 더불어민주당·한국인공지능협회 주최 '딥시크 쇼크 대응과 AI 발전 전략 긴급 간담회'에서 토론하고 있다. 2025.2.4/뉴스1\\n---\\n제목: 샘 올트먼 &quot;한국 시장 확대…오픈소스 전략도 고려&quot;(종합)\\nURL: https://n.news.naver.com/mnews/article/001/0015190324?sid=105\\n내용: &quot;<b>LLM</b> 계속 빠르게 발전할 것…다중 <b>LLM</b> 연구 중&quot; &quot;사람들, 인간 실수에는 관대하지만 AI에 엄격…o시리즈 오류율 1천분의1&quot; 한국을 방문 중인 챗GPT 개발사 오픈AI의 샘 올트먼 최고경영자(CEO)는 4일 한국 시장 확대 방침을... \\n---\\n제목: '방한' 올트먼, 이재용·최태원·정신아 만난다(종합)\\nURL: https://n.news.naver.com/mnews/article/003/0013044540?sid=101\\n내용: 올해 출시할 예정인 새 AI 서비스 '카나나'의 구체적인 출시 일정, 동명의 자사 거대언어모델(<b>LLM</b>) 활용 방향 등을 알릴 전망이다. 카카오는 자체 개발한 <b>LLM</b>뿐만 아니라 오픈AI, 앤트로픽 등 외부 AI 모델을 조합해... \\n---\\n제목: 딥시크발 위기 속 韓 찾은 샘 올트먼, 카카오·삼성·SK 협업 러브콜\\nURL: https://n.news.naver.com/mnews/article/003/0013044676?sid=105\\n내용: 거대언어모델(<b>LLM</b>) 활용 방향 등을 알릴 것으로 전해졌다. 이 가운데 올트먼 CEO가 행사에서 정 대표와 함께 오픈AI와 카카오 간 AI 협업 내용을 발표할 것으로 알려졌다. 카카오는 자체 개발한 <b>LLM</b>뿐만 아니라 오픈AI... \\n---\\n제목: 코난테크놀로지, 의료 AI 개발한다…한림대의료원과 '맞손'\\nURL: https://n.news.naver.com/mnews/article/003/0013047588?sid=105\\n내용: 거대언어모델(<b>LLM</b>)을 선보인다고 5일 밝혔다. 코난테크놀로지는 지난해 12월 한림대학교 의료원과 ‘생성형... 과정에 <b>LLM</b> 기술을 적용하는 사례는 국내 최초다. 이에 따라 의무기록 작성에 소요되는 시간이 연간 최대... \\n---\\n제목: 샘 올트먼 &quot;오픈소스 전략 검토 중…다중 <b>LLM</b>도 연구&quot;\\nURL: https://n.news.naver.com/mnews/article/029/0002933154?sid=105\\n내용: ◇ &quot;거대언어모델(<b>LLM</b>), 더욱 빠르게 발전할 것&quot; 올트먼은 AI 모델의 발전 방향에 대해 &quot;<b>LLM</b>은 계속해서 빠르게 진화할 것이며, 현재의 작은 문제 해결에만 집중한다면 결국 뒤처질 가능성이 크다&quot;고 경고했다. 그는 &quot;아직... \\n---\\n제목: 업스테이지, <b>LLM</b>·OCR 솔루션 학습에 오라클 클라우드 도입\\nURL: https://www.digitaltoday.co.kr/news/articleView.html?idxno=551948\\n내용: 업스테이지는 자체 사전학습 거대언어모델(<b>LLM</b>) '솔라(Solar)'와 AI OCR 솔루션 '다큐먼트(Document) AI' 등 자사AI 모델 학습 과정에 OCI를 활용했다. 업스테이지는 OCI GPU 워크로드에 최적화된 네트워킹과 베어메탈... \\n---\\n제목: 코난테크놀로지, 한림대의료원과 <b>LLM</b> 기반 진료 플랫폼 공동 개발\\nURL: https://www.epnc.co.kr/news/articleView.html?idxno=312128\\n내용: 입원환자 전주기 의무기록은 접수부터 진료, 검사, 경과 기록, 퇴원까지 모든 과정을 아우르는 통합 기록 시스템으로, 의료 기록 전 과정에 대규모언어모델(<b>LLM</b>) 기술을 적용하는 사례는 국내 최초다. 이에 따라 의무기록... \\n---\\n제목: 김창한 크래프톤, 알트먼 만나 게임 AI 협력 논의\\nURL: https://n.news.naver.com/mnews/article/092/0002361982?sid=105\\n내용: 그는 &quot;오픈AI의 플래그십 모델을 비롯한 고품질 거대언어모델(<b>LLM</b>)을 기반으로 한 CPC(Co-Playable Character... 이번 알트먼 CEO와의 만남에서도 김 대표는 오픈AI의 고품질 <b>LLM</b>을 기반으로 한 CPC의 발전과 활용 방안을... \\n---\\n제목: 딥엘, 차세대 <b>LLM</b> 모델 탑재 및 딥엘 라이트 추가\\nURL: https://www.epnc.co.kr/news/articleView.html?idxno=312133\\n내용: 이번 최신 업데이트를 통해 딥엘의 독자적 <b>LLM</b> 기술이 적용된 차세대 언어 모델이 API에 통합돼, 사용자는 더욱 향상된 번역 결과를 얻고 번역 및 사후 편집에 소요되는 시간을 크게 절감할 수 있다. 또, 딥엘의 고급... \\n---\\n제목: 딥시크 추격에…오픈AI 올트먼, 한국서 주도권 다지기 '광폭행보'\\nURL: https://n.news.naver.com/mnews/article/001/0015191360?sid=105\\n내용: 오픈AI의 미국 내 최대 경쟁자인 구글과 마이크로소프트(MS)는 대형언어모델(<b>LLM</b>)뿐만 아니라 기기에... 카카오 &quot;오픈AI와 서비스 공동 개발&quot; <b>LLM</b> 자체 개발서 협력으로 선회 지난해 말 인공지능(AI) 서비스 '카나나'를... \\n---\\n제목: &quot;민감 데이터 유출 어쩌나&quot;…AI 시대 '보안 우려' 여전\\nURL: https://n.news.naver.com/mnews/article/138/0002190329?sid=105\\n내용: 특히 거대언어모델(<b>LLM</b>)을 활용할 때, 민감 데이터가 외부에 유출되는 것을 우려하고 있는 것으로... 다만 <b>LLM</b>을 도입했을 때 보안 취약점이 발생할 것을 우려하고 있는 것으로 나타났다. 응답자는 <b>LLM</b>을 도입했을 때... \\n---\\n제목: [팩플] 오픈AI 샘 올트먼 &quot;최신 AI모델, 캄브리아기 대폭발 도달&quot;\\nURL: https://n.news.naver.com/mnews/article/025/0003418529?sid=105\\n내용: 그는 “당면한 작은 문제를 해결하는 데 집중한다면 거대언어모델(<b>LLM</b>)이 업데이트될 때 찾은 해결책이 더 이상 필요 없어질 수도 있다”며 “현재 부족한 점이 있더라도, <b>LLM</b>의 장점을 활용하는 제품을 만든다면... \\n---\\n제목: AI 스타트업 올거나이즈, <b>LLM</b> 에이전트 역량 평가 플랫폼 출시\\nURL: https://n.news.naver.com/mnews/article/015/0005088627?sid=105\\n내용: 거대언어모델(<b>LLM</b>) 올인원 솔루션 기업 올거나이즈가 <b>LLM</b>의 에이전트 역량을 평가하는 ‘All-in-One Benchmark(올인원 벤치마크)’를 공개한다고 3일 밝혔다. 올인원 벤치마크는 <b>LLM</b>의 에이전트 성능을 종합적으로... \\n---\\n제목: &quot;챗GPT·카나나 콜라보?&quot;…샘 올트먼, 내일 카카오 정신아 만난다\\nURL: https://n.news.naver.com/mnews/article/003/0013043659?sid=105\\n내용: 올해 출시할 예정인 새 AI 서비스 '카나나'의 구체적인 출시 일정, 동명의 자사 거대언어모델(<b>LLM</b>) 활용 방향 등을 알릴 전망이다. 카카오는 자체 개발한 <b>LLM</b>뿐만 아니라 오픈AI, 앤트로픽 등 외부 AI 모델을 조합해... \\n---\\n제목: 딥시크 노리는 'K-AI 모델'은?…네이버·LG·트웰브랩스 등 꼽혀\\nURL: https://n.news.naver.com/mnews/article/001/0015193713?sid=105\\n내용: X', KT '믿음', NC소프트 '바르코 <b>LLM</b>'이 포함돼 있다. 국가 전략적 지원을 통한 '소버린 AI' 개발에 대해 목소리를 내온 네이버가 개발한 거대언어모델(<b>LLM</b>) 하이퍼클로바X는 2023년 공개 이후 고도화 작업이 진행 중이다.... \\n---\\n제목: 딥엘, 기업 위한 API 솔루션 기능 강화... 차세대 <b>LLM</b> 탑재 및 딥엘 라이...\\nURL: https://www.aitimes.kr/news/articleView.html?idxno=33764\\n내용: 세바스찬 엔더라인(Sebastian Enderlein) 딥엘 최고기술책임자(CTO)는 &quot;딥엘의 API 솔루션에 차세대 <b>LLM</b> 기반 번역... 차세대 <b>LLM</b> 탑재로 번역 품질 및 정확도 향상: 딥엘의 독자적 <b>LLM</b> 기술이 적용된 차세대 언어 모델이 API에... \\n---\\n제목: TTA, <b>LLM</b> 학습용 데이터 유해표현 검출 AI모델 공개\\nURL: https://n.news.naver.com/mnews/article/366/0001050800?sid=105\\n내용: 한국정보통신기술협회(TTA)는 <b>LLM</b> 학습용 데이터에 대해 유해표현을 검출할 수 있는 AI모델을 구축했다고... 손승현 TTA 회장은 “최근 다양한 분야에서 생성형 AI 기술이 활발히 적용되면서, <b>LLM</b> 학습용 텍스트... \\n---\\n제목: '딥시크 쇼크'에도 카카오, 오픈AI 손잡은 이유…&quot;AI 세이프티 공감대&quot;\\nURL: https://n.news.naver.com/mnews/article/008/0005148417?sid=105\\n내용: 올해 상반기 중 선보일 카카오의 새로운 AI서비스 카나나에는 오픈AI의 <b>LLM</b>(거대언어모델) 챗GPT가 적용된다.... 카카오톡 외에도 커머스를 비롯해 모빌리티, 금융 등의 카카오가 제공하는 모든 서비스에 챗GPT의 <b>LLM</b>을... \\n---\\n제목: [AI 한쿡] 딥시크도 믿고 쓸 수 있어야... 한국형 '<b>LLM</b> 신뢰성 평가 체계...\\nURL: https://n.news.naver.com/mnews/article/138/0002190292?sid=105\\n내용: 2월 4일 AI 한쿡은 한국형 <b>LLM</b> 신뢰성 평가 체계 기틀 마련에 기여한 크라우드웍스의 소식 외 5건입니다. ■ 주요 소식 - 크라우드웍스 'AI 안전성 평가' 경쟁력 확보... <b>LLM</b> 신뢰성 검증 표준화 '신호탄' 크라우드웍스는... \\n---\\n제목: &quot;진료부터 퇴원까지 AI 기록·관리&quot; 코난테크놀로지-한림대의료원 MOU\\nURL: https://news.mtn.co.kr/news-detail/2025020508504547585\\n내용: 코난테크놀로지는 의료 분야에 특화된 거대언어모델(<b>LLM</b>)을 선보일 계획이다. 코난테크놀로지의 의료 특화 <b>LLM</b>은 입원환자 전주기 의무기록 시스템에 들어간다. 입원환자 전주기 의무기록은 접수부터 진료, 검사, 경과... \\n---\""
            ]
          },
          "execution_count": 28,
          "metadata": {},
          "output_type": "execute_result"
        }
      ],
      "source": [
        "available_functions['Web_Search'](**example_dict)"
      ]
    },
    {
      "cell_type": "markdown",
      "id": "ae9443e6",
      "metadata": {
        "id": "ae9443e6",
        "vscode": {
          "languageId": "bat"
        }
      },
      "source": [
        "위 과정을 조합하여 실행해 보겠습니다."
      ]
    },
    {
      "cell_type": "code",
      "execution_count": 29,
      "id": "vvzJ5ziM5_U2",
      "metadata": {
        "id": "vvzJ5ziM5_U2"
      },
      "outputs": [
        {
          "data": {
            "text/plain": [
              "\"최근 개봉한 영화 중 하나는 **'레드벨벳 해피니스 다이어리: 마이 디어, 레베럽 인 시네마'**입니다. 이 영화는 레드벨벳의 데뷔 10주년 기념 팬콘서트 실황을 담고 있으며, 11월 5일에 개봉했습니다. \\n\\n또한, **'캡틴 아메리카: 브레이브 뉴 월드'**라는 영화도 개봉을 앞두고 있으며, 이 영화는 한국 영화 '달콤한 인생'에서 영감을 받은 액션 장면이 포함되어 있다고 합니다. \\n\\n더 많은 정보가 필요하시면 말씀해 주세요!\""
            ]
          },
          "execution_count": 29,
          "metadata": {},
          "output_type": "execute_result"
        }
      ],
      "source": [
        "available_functions = {'Web_Search':get_news}\n",
        "\n",
        "name, arguments = tool_call_result.tool_calls[0].function.name, tool_call_result.tool_calls[0].function.arguments\n",
        "\n",
        "\n",
        "result = news_bot_v2([\n",
        "    {\n",
        "        \"role\": \"user\",\n",
        "        \"content\": \"\"\"\n",
        "요즘 새로 개봉한 영화는 무엇이 있나요? 오늘 날짜는 24년 11월 18일입니다.\n",
        "\"\"\"\n",
        "    },\n",
        "    tool_call_result, # tool_calls 메시지\n",
        "    {\n",
        "        \"role\": \"tool\",\n",
        "        \"content\": available_functions[name](**json.loads(arguments)),  \n",
        "        # get_news(query = '영화')\n",
        "\n",
        "        \"tool_call_id\":tool_call_result.tool_calls[0].id\n",
        "    }\n",
        "])\n",
        "\n",
        "result.content"
      ]
    },
    {
      "cell_type": "markdown",
      "id": "acv8mydxWKTW",
      "metadata": {
        "id": "acv8mydxWKTW"
      },
      "source": [
        "스트리밍 기능을 추가하고, 전체 과정을 함수로 자동화합니다.:"
      ]
    },
    {
      "cell_type": "code",
      "execution_count": 30,
      "id": "db7579cc",
      "metadata": {
        "id": "db7579cc"
      },
      "outputs": [
        {
          "name": "stdout",
          "output_type": "stream",
          "text": [
            "Prompt: 넷플릭스 신작 추천해줘.\n",
            "---\n",
            "News_Bot: Call Web_Search {\"query\":\"넷플릭스 신작\"}\n",
            "---\n",
            "News_Bot:최근 넷플릭스에서 공개될 신작 중 몇 가지를 추천해 드립니다:\n",
            "\n",
            "1. **계시록** - 연상호 감독이 제작한 이 작품은 알폰소 쿠아론 감독이 이그제큐티브 프로듀서로 참여한 영화입니다. 다양한 장르의 요소가 결합된 스릴러로 기대를 모으고 있습니다.\n",
            "\n",
            "2. **이 별에 필요한** - 넷플릭스의 첫 번째 한국 애니메이션 영화로, 독특한 스토리와 비주얼로 많은 관심을 받고 있습니다.\n",
            "\n",
            "3. **동미새: 동호회에 미친 새내기** - '솔로지옥' 제작진이 만든 신작 예능으로, 매주 월요일마다 새로운 에피소드가 공개됩니다.\n",
            "\n",
            "4. **흑백요리사: 요리 계급 전쟁** - 요리 서바이벌 형식의 예능으로, 다양한 요리 대결을 통해 시청자들에게 재미를 선사할 예정입니다.\n",
            "\n",
            "5. **오징어 게임 시즌 3** - 전 세계적으로 큰 인기를 끌었던 '오징어 게임'의 새로운 시즌이 곧 공개됩니다.\n",
            "\n",
            "이 외에도 다양한 장르의 신작들이 준비되어 있으니, 기대해 보세요!None"
          ]
        }
      ],
      "source": [
        "def news_qa(prompt):\n",
        "\n",
        "    print('Prompt:',prompt)\n",
        "    # 출력 결과를 함수와 연결하기 위한 dictionary\n",
        "    available_functions = {'Web_Search':get_news}\n",
        "\n",
        "    tool_call_result = news_bot_v2([\n",
        "        {\n",
        "            \"role\": \"user\",\n",
        "            \"content\": prompt\n",
        "        }\n",
        "    ])\n",
        "    # 프롬프트를 받아 Web_Search를 수행할지 결정합니다.\n",
        "    # 단순 대화라면 tool call을 생성하지 않습니다.\n",
        "\n",
        "    print('---')\n",
        "    print('News_Bot: Call ', end='')\n",
        "\n",
        "    if tool_call_result.tool_calls: # tool_calls가 존재하면:\n",
        "\n",
        "        name, arguments = tool_call_result.tool_calls[0].function.name, tool_call_result.tool_calls[0].function.arguments\n",
        "\n",
        "        print(name,arguments)\n",
        "\n",
        "        # get_news(query)\n",
        "        result = available_functions[name](**json.loads(arguments))\n",
        "        # 함수 선택, 매개변수 전달\n",
        "        print('---')\n",
        "        print('News_Bot:',end='')\n",
        "\n",
        "        response = news_bot_v2(\n",
        "        [\n",
        "        {\n",
        "            'role':\"system\",\n",
        "            'content':'사용자의 질문과 이를 답변하기 위한 정보가 주어집니다. 이를 바탕으로 답변하세요.'\n",
        "        },\n",
        "\n",
        "        {\n",
        "            \"role\": \"user\",\n",
        "            \"content\": prompt\n",
        "        },\n",
        "        tool_call_result, # tool_calls 메시지\n",
        "        {\n",
        "            \"role\": \"tool\",\n",
        "            \"content\": result,\n",
        "            \"tool_call_id\":tool_call_result.tool_calls[0].id\n",
        "        }],\n",
        "        stream=True\n",
        "        )\n",
        "        for chunk in response:\n",
        "            print(chunk.choices[0].delta.content, end='')\n",
        "    else:\n",
        "        print('Nothing')\n",
        "        print(tool_call_result.content)\n",
        "\n",
        "# example\n",
        "# \"오늘 가장 큰 뉴스는 뭐야?\"\n",
        "# \"\"\"오픈AI는 요즘 새로운 소식 있어?\"\"\"\n",
        "prompt = \"\"\"넷플릭스 신작 추천해줘.\"\"\"\n",
        "\n",
        "news_qa(prompt)"
      ]
    },
    {
      "cell_type": "code",
      "execution_count": 31,
      "id": "S3FsjTkylvFQ",
      "metadata": {
        "id": "S3FsjTkylvFQ"
      },
      "outputs": [
        {
          "name": "stdout",
          "output_type": "stream",
          "text": [
            "Prompt: 회사 가기 싫어.\n",
            "---\n",
            "News_Bot: Call Nothing\n",
            "회사가 가기 싫은 기분이 드는 건 자연스러운 일이에요. 어떤 이유로 그런 기분이 드는지 이야기해볼까요? 스트레스, 업무량, 동료 관계 등 여러 가지 이유가 있을 수 있어요.\n"
          ]
        }
      ],
      "source": [
        "news_qa(\"회사 가기 싫어.\")"
      ]
    },
    {
      "cell_type": "markdown",
      "id": "J0SUkT2iD6rk",
      "metadata": {
        "id": "J0SUkT2iD6rk"
      },
      "source": [
        "# [심화] Multiple Tool Call\n",
        "때로는, 하나의 메시지에서 여러 개의 Tool Call을 수행해야 하기도 합니다.   \n"
      ]
    },
    {
      "cell_type": "markdown",
      "id": "o6_W_jFeD8xV",
      "metadata": {
        "id": "o6_W_jFeD8xV"
      },
      "source": [
        "반복문을 통해, Tool Call의 목록을 한꺼번에 전달합니다."
      ]
    },
    {
      "cell_type": "code",
      "execution_count": 41,
      "id": "UiHGG9lhD3z4",
      "metadata": {
        "id": "UiHGG9lhD3z4"
      },
      "outputs": [
        {
          "name": "stdout",
          "output_type": "stream",
          "text": [
            "Prompt: 넷플릭스 왓챠 디즈니플러스 웨이브 신작 추천해줘.\n",
            "---\n",
            "News_Bot: Call Web_Search {\"query\": \"넷플릭스 신작\"}\n",
            "---\n",
            "News_Bot:Web_Search {\"query\": \"왓챠 신작\"}\n",
            "---\n",
            "News_Bot:Web_Search {\"query\": \"디즈니플러스 신작\"}\n",
            "---\n",
            "News_Bot:Web_Search {\"query\": \"웨이브 신작\"}\n",
            "---\n",
            "News_Bot:다양한 OTT 플랫폼에서의 신작 추천을 위해 최근 뉴스 기사를 참고했습니다. 아래는 넷플릭스, 왓챠, 디즈니플러스, 웨이브에서 추천할 만한 신작입니다.\n",
            "\n",
            "### 넷플릭스\n",
            "1. **신작: 'Mr. 포트너'**\n",
            "   - **장르**: 드라마\n",
            "   - **내용**: 이 드라마는 주인공이 다양한 사건을 통해 성장하는 이야기를 담고 있습니다. 11월 14일에 공개됩니다.\n",
            "   - **링크**: [기사 링크](https://m.entertain.naver.com/article/311/0001797192)\n",
            "\n",
            "2. **신작: '좀비버스: 뉴 블러드'**\n",
            "   - **장르**: 리얼리티, 좀비\n",
            "   - **내용**: K-좀비를 테마로 한 리얼리티 쇼로, 참가자들이 좀비 상황에서 생존하는 과정을 그립니다. 11월 19일에 공개됩니다.\n",
            "   - **링크**: [기사 링크](https://sports.hankooki.com/news/articleView.html?idxno=6881142)\n",
            "\n",
            "### 왓챠\n",
            "1. **신작: '신작'**\n",
            "   - **장르**: 다양한 장르\n",
            "   - **내용**: 왓챠에서 다양한 신작들이 공개되고 있으며, 특히 한국 드라마와 영화가 주목받고 있습니다. 구체적인 제목은 기사에서 확인할 수 있습니다.\n",
            "   - **링크**: [기사 링크](https://m.entertain.naver.com/article/609/0000922147)\n",
            "\n",
            "### 디즈니플러스\n",
            "1. **신작: '가디언즈 오브 갤럭시 Vol. 3'**\n",
            "   - **장르**: 액션, 어드벤처\n",
            "   - **내용**: 마블의 인기 캐릭터들이 다시 모여 우주를 구하는 이야기를 담고 있습니다. 11월 중 공개 예정입니다.\n",
            "   - **링크**: [기사 링크](https://m.entertain.naver.com/article/311/0001794016)\n",
            "\n",
            "### 웨이브\n",
            "1. **신작: '신작'**\n",
            "   - **장르**: 다양한 장르\n",
            "   - **내용**: 웨이브에서도 여러 신작들이 공개되고 있으며, 특히 한국 드라마와 예능 프로그램이 인기를 끌고 있습니다. 구체적인 제목은 기사에서 확인할 수 있습니다.\n",
            "   - **링크**: [기사 링크](https://m.entertain.naver.com/article/311/0001792349)\n",
            "\n",
            "각 플랫폼에서 제공하는 신작들은 다양한 장르와 흥미로운 스토리를 가지고 있으니, 관심 있는 작품을 선택해 보시기 바랍니다!None"
          ]
        }
      ],
      "source": [
        "def news_qa_v2(prompt, model = 'gpt-4o-mini'):\n",
        "\n",
        "    print('Prompt:',prompt)\n",
        "    # 출력 결과를 함수와 연결하기 위한 dictionary\n",
        "    available_functions = {'Web_Search':get_news}\n",
        "\n",
        "    tool_call_result = news_bot_v2([\n",
        "        {\n",
        "            \"role\": \"user\",\n",
        "            \"content\": prompt\n",
        "        },\n",
        "    ])\n",
        "    # 프롬프트를 받아 Web_Search를 수행할지 결정합니다.\n",
        "    # 단순 대화라면 tool call을 생성하지 않습니다.\n",
        "\n",
        "    print('---')\n",
        "    print('News_Bot: Call ', end='')\n",
        "\n",
        "    if tool_call_result.tool_calls: # tool_calls가 존재하면:\n",
        "\n",
        "\n",
        "\n",
        "        ### Tool Message 복수 입력\n",
        "\n",
        "        tool_messages=[]\n",
        "        for tool_call in tool_call_result.tool_calls:\n",
        "            name, arguments = tool_call.function.name, tool_call.function.arguments\n",
        "            print(name,arguments)\n",
        "\n",
        "            # get_news(query)\n",
        "            result = available_functions[name](**json.loads(arguments))\n",
        "            # 함수 선택, 매개변수 전달\n",
        "            print('---')\n",
        "            print('News_Bot:',end='')\n",
        "            tool_messages.append(\n",
        "                {\"role\": \"tool\",\"content\": result,\"tool_call_id\":tool_call.id}\n",
        "            )\n",
        "        ####\n",
        "\n",
        "\n",
        "\n",
        "        response = news_bot_v2(\n",
        "        [\n",
        "        {\n",
        "            'role':\"system\",\n",
        "            'content':'사용자의 질문과 이를 답변하기 위한 정보가 tool 실행 결과를 통해 주어집니다. 전체 내용을 최대한 자세히 읽고, 상세하게 답변하세요.'\n",
        "        },\n",
        "\n",
        "        {\n",
        "            \"role\": \"user\",\n",
        "            \"content\": prompt\n",
        "        },\n",
        "        tool_call_result] + tool_messages,\n",
        "        stream=True,\n",
        "        model = model\n",
        "        )\n",
        "        for chunk in response:\n",
        "            print(chunk.choices[0].delta.content, end='')\n",
        "    else:\n",
        "        print('Nothing')\n",
        "        print(tool_call_result.content)\n",
        "\n",
        "\n",
        "prompt = \"\"\"넷플릭스 왓챠 디즈니플러스 웨이브 신작 추천해줘.\"\"\"\n",
        "\n",
        "news_qa_v2(prompt)"
      ]
    },
    {
      "cell_type": "code",
      "execution_count": 42,
      "id": "8V-Do7_dD_PE",
      "metadata": {
        "id": "8V-Do7_dD_PE"
      },
      "outputs": [
        {
          "name": "stdout",
          "output_type": "stream",
          "text": [
            "Prompt: 넷플릭스 왓챠 디즈니플러스 웨이브 신작 추천해줘.\n",
            "---\n",
            "News_Bot: Call Web_Search {\"query\": \"넷플릭스 신작\"}\n",
            "---\n",
            "News_Bot:Web_Search {\"query\": \"왓챠 신작\"}\n",
            "---\n",
            "News_Bot:Web_Search {\"query\": \"디즈니플러스 신작\"}\n",
            "---\n",
            "News_Bot:Web_Search {\"query\": \"웨이브 신작\"}\n",
            "---\n",
            "News_Bot:최근 각 스트리밍 플랫폼에서 공개된 신작들을 소개합니다.\n",
            "\n",
            "### 넷플릭스\n",
            "1. **좀비버스: 뉴 블러드** - K-좀비 예능으로, 좀비와의 생존을 다루는 콘텐츠입니다.\n",
            "2. **미키 17** - 북미 극장에서 개봉 예정인 영화로, 넷플릭스 시리즈 '성난 사람들'과 함께 주목받고 있습니다.\n",
            "3. **사흘** - 박신양 주연의 드라마로, 복잡한 인간관계를 다루고 있습니다.\n",
            "\n",
            "### 왓챠\n",
            "1. **유마 카운티의 끝에서: 주유소 살인사건** - 범죄 스릴러 영화로, 긴장감 넘치는 스토리를 제공합니다.\n",
            "2. **러브 라이즈 블리딩** - 로맨스 드라마로, 사랑과 갈등을 그립니다.\n",
            "3. **개소리** - 코미디 드라마로, 일상 속의 유머를 담고 있습니다.\n",
            "\n",
            "### 디즈니플러스\n",
            "1. **강남 비-사이드** - 한국 드라마로, 강남의 화려한 삶을 배경으로 한 이야기를 다룹니다.\n",
            "2. **조명가게** - 미스터리 드라마로, 조명가게에서 벌어지는 사건들을 중심으로 전개됩니다.\n",
            "3. **왕과 사는 남자** - 역사 드라마로, 조선시대를 배경으로 한 이야기입니다.\n",
            "\n",
            "### 웨이브\n",
            "1. **미안하다, 사랑한다 2024** - 클래식 드라마의 리메이크로, 현대적인 감각을 더했습니다.\n",
            "2. **여왕벌 게임** - 서바이벌 게임을 소재로 한 드라마로, 긴장감 넘치는 전개가 특징입니다.\n",
            "3. **내 이름은 김삼순 2024** - 인기 드라마의 리메이크로, 새로운 캐스팅과 함께 돌아왔습니다.\n",
            "\n",
            "각 플랫폼에서 다양한 장르의 신작들이 공개되고 있으니, 관심 있는 작품을 찾아보세요!None"
          ]
        }
      ],
      "source": [
        "news_qa_v2(prompt, model='gpt-4o')"
      ]
    }
  ],
  "metadata": {
    "colab": {
      "provenance": []
    },
    "kernelspec": {
      "display_name": "SKALA",
      "language": "python",
      "name": "skala"
    },
    "language_info": {
      "codemirror_mode": {
        "name": "ipython",
        "version": 3
      },
      "file_extension": ".py",
      "mimetype": "text/x-python",
      "name": "python",
      "nbconvert_exporter": "python",
      "pygments_lexer": "ipython3",
      "version": "3.10.16"
    }
  },
  "nbformat": 4,
  "nbformat_minor": 5
}
