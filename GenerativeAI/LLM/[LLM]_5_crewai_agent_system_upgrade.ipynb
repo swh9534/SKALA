{
 "cells": [
  {
   "cell_type": "code",
   "execution_count": 1,
   "metadata": {
    "colab": {
     "base_uri": "https://localhost:8080/"
    },
    "collapsed": true,
    "executionInfo": {
     "elapsed": 10982,
     "status": "ok",
     "timestamp": 1738288472292,
     "user": {
      "displayName": "Sung Ryel Lim",
      "userId": "17832580391396757133"
     },
     "user_tz": -540
    },
    "id": "HJc141DwTkEr",
    "outputId": "20ec80bf-62ff-402f-c9f1-2d2a7fa7b597"
   },
   "outputs": [
    {
     "name": "stdout",
     "output_type": "stream",
     "text": [
      "Requirement already satisfied: crewai==0.28.8 in /usr/local/lib/python3.11/dist-packages (0.28.8)\n",
      "Requirement already satisfied: crewai_tools==0.1.6 in /usr/local/lib/python3.11/dist-packages (0.1.6)\n",
      "Requirement already satisfied: langchain_community==0.0.29 in /usr/local/lib/python3.11/dist-packages (0.0.29)\n",
      "Requirement already satisfied: appdirs<2.0.0,>=1.4.4 in /usr/local/lib/python3.11/dist-packages (from crewai==0.28.8) (1.4.4)\n",
      "Requirement already satisfied: click<9.0.0,>=8.1.7 in /usr/local/lib/python3.11/dist-packages (from crewai==0.28.8) (8.1.7)\n",
      "Requirement already satisfied: embedchain<0.2.0,>=0.1.98 in /usr/local/lib/python3.11/dist-packages (from crewai==0.28.8) (0.1.113)\n",
      "Requirement already satisfied: instructor<0.6.0,>=0.5.2 in /usr/local/lib/python3.11/dist-packages (from crewai==0.28.8) (0.5.2)\n",
      "Requirement already satisfied: langchain<0.2.0,>=0.1.10 in /usr/local/lib/python3.11/dist-packages (from crewai==0.28.8) (0.1.13)\n",
      "Requirement already satisfied: openai<2.0.0,>=1.13.3 in /usr/local/lib/python3.11/dist-packages (from crewai==0.28.8) (1.55.3)\n",
      "Requirement already satisfied: opentelemetry-api<2.0.0,>=1.22.0 in /usr/local/lib/python3.11/dist-packages (from crewai==0.28.8) (1.29.0)\n",
      "Requirement already satisfied: opentelemetry-exporter-otlp-proto-http<2.0.0,>=1.22.0 in /usr/local/lib/python3.11/dist-packages (from crewai==0.28.8) (1.29.0)\n",
      "Requirement already satisfied: opentelemetry-sdk<2.0.0,>=1.22.0 in /usr/local/lib/python3.11/dist-packages (from crewai==0.28.8) (1.29.0)\n",
      "Requirement already satisfied: pydantic<3.0.0,>=2.4.2 in /usr/local/lib/python3.11/dist-packages (from crewai==0.28.8) (2.10.6)\n",
      "Requirement already satisfied: python-dotenv==1.0.0 in /usr/local/lib/python3.11/dist-packages (from crewai==0.28.8) (1.0.0)\n",
      "Requirement already satisfied: regex<2024.0.0,>=2023.12.25 in /usr/local/lib/python3.11/dist-packages (from crewai==0.28.8) (2023.12.25)\n",
      "Requirement already satisfied: beautifulsoup4<5.0.0,>=4.12.3 in /usr/local/lib/python3.11/dist-packages (from crewai_tools==0.1.6) (4.12.3)\n",
      "Requirement already satisfied: chromadb<0.5.0,>=0.4.22 in /usr/local/lib/python3.11/dist-packages (from crewai_tools==0.1.6) (0.4.24)\n",
      "Requirement already satisfied: lancedb<0.6.0,>=0.5.4 in /usr/local/lib/python3.11/dist-packages (from crewai_tools==0.1.6) (0.5.7)\n",
      "Requirement already satisfied: pyright<2.0.0,>=1.1.350 in /usr/local/lib/python3.11/dist-packages (from crewai_tools==0.1.6) (1.1.393)\n",
      "Requirement already satisfied: pytest<9.0.0,>=8.0.0 in /usr/local/lib/python3.11/dist-packages (from crewai_tools==0.1.6) (8.3.4)\n",
      "Requirement already satisfied: pytube<16.0.0,>=15.0.0 in /usr/local/lib/python3.11/dist-packages (from crewai_tools==0.1.6) (15.0.0)\n",
      "Requirement already satisfied: requests<3.0.0,>=2.31.0 in /usr/local/lib/python3.11/dist-packages (from crewai_tools==0.1.6) (2.32.3)\n",
      "Requirement already satisfied: selenium<5.0.0,>=4.18.1 in /usr/local/lib/python3.11/dist-packages (from crewai_tools==0.1.6) (4.28.1)\n",
      "Requirement already satisfied: PyYAML>=5.3 in /usr/local/lib/python3.11/dist-packages (from langchain_community==0.0.29) (6.0.2)\n",
      "Requirement already satisfied: SQLAlchemy<3,>=1.4 in /usr/local/lib/python3.11/dist-packages (from langchain_community==0.0.29) (2.0.37)\n",
      "Requirement already satisfied: aiohttp<4.0.0,>=3.8.3 in /usr/local/lib/python3.11/dist-packages (from langchain_community==0.0.29) (3.11.11)\n",
      "Requirement already satisfied: dataclasses-json<0.7,>=0.5.7 in /usr/local/lib/python3.11/dist-packages (from langchain_community==0.0.29) (0.6.7)\n",
      "Requirement already satisfied: langchain-core<0.2.0,>=0.1.33 in /usr/local/lib/python3.11/dist-packages (from langchain_community==0.0.29) (0.1.53)\n",
      "Requirement already satisfied: langsmith<0.2.0,>=0.1.0 in /usr/local/lib/python3.11/dist-packages (from langchain_community==0.0.29) (0.1.147)\n",
      "Requirement already satisfied: numpy<2,>=1 in /usr/local/lib/python3.11/dist-packages (from langchain_community==0.0.29) (1.26.4)\n",
      "Requirement already satisfied: tenacity<9.0.0,>=8.1.0 in /usr/local/lib/python3.11/dist-packages (from langchain_community==0.0.29) (8.5.0)\n",
      "Requirement already satisfied: aiohappyeyeballs>=2.3.0 in /usr/local/lib/python3.11/dist-packages (from aiohttp<4.0.0,>=3.8.3->langchain_community==0.0.29) (2.4.4)\n",
      "Requirement already satisfied: aiosignal>=1.1.2 in /usr/local/lib/python3.11/dist-packages (from aiohttp<4.0.0,>=3.8.3->langchain_community==0.0.29) (1.3.2)\n",
      "Requirement already satisfied: attrs>=17.3.0 in /usr/local/lib/python3.11/dist-packages (from aiohttp<4.0.0,>=3.8.3->langchain_community==0.0.29) (25.1.0)\n",
      "Requirement already satisfied: frozenlist>=1.1.1 in /usr/local/lib/python3.11/dist-packages (from aiohttp<4.0.0,>=3.8.3->langchain_community==0.0.29) (1.5.0)\n",
      "Requirement already satisfied: multidict<7.0,>=4.5 in /usr/local/lib/python3.11/dist-packages (from aiohttp<4.0.0,>=3.8.3->langchain_community==0.0.29) (6.1.0)\n",
      "Requirement already satisfied: propcache>=0.2.0 in /usr/local/lib/python3.11/dist-packages (from aiohttp<4.0.0,>=3.8.3->langchain_community==0.0.29) (0.2.1)\n",
      "Requirement already satisfied: yarl<2.0,>=1.17.0 in /usr/local/lib/python3.11/dist-packages (from aiohttp<4.0.0,>=3.8.3->langchain_community==0.0.29) (1.18.3)\n",
      "Requirement already satisfied: soupsieve>1.2 in /usr/local/lib/python3.11/dist-packages (from beautifulsoup4<5.0.0,>=4.12.3->crewai_tools==0.1.6) (2.6)\n",
      "Requirement already satisfied: build>=1.0.3 in /usr/local/lib/python3.11/dist-packages (from chromadb<0.5.0,>=0.4.22->crewai_tools==0.1.6) (1.2.2.post1)\n",
      "Requirement already satisfied: chroma-hnswlib==0.7.3 in /usr/local/lib/python3.11/dist-packages (from chromadb<0.5.0,>=0.4.22->crewai_tools==0.1.6) (0.7.3)\n",
      "Requirement already satisfied: fastapi>=0.95.2 in /usr/local/lib/python3.11/dist-packages (from chromadb<0.5.0,>=0.4.22->crewai_tools==0.1.6) (0.115.8)\n",
      "Requirement already satisfied: uvicorn>=0.18.3 in /usr/local/lib/python3.11/dist-packages (from uvicorn[standard]>=0.18.3->chromadb<0.5.0,>=0.4.22->crewai_tools==0.1.6) (0.34.0)\n",
      "Requirement already satisfied: posthog>=2.4.0 in /usr/local/lib/python3.11/dist-packages (from chromadb<0.5.0,>=0.4.22->crewai_tools==0.1.6) (3.11.0)\n",
      "Requirement already satisfied: typing-extensions>=4.5.0 in /usr/local/lib/python3.11/dist-packages (from chromadb<0.5.0,>=0.4.22->crewai_tools==0.1.6) (4.12.2)\n",
      "Requirement already satisfied: pulsar-client>=3.1.0 in /usr/local/lib/python3.11/dist-packages (from chromadb<0.5.0,>=0.4.22->crewai_tools==0.1.6) (3.6.0)\n",
      "Requirement already satisfied: onnxruntime>=1.14.1 in /usr/local/lib/python3.11/dist-packages (from chromadb<0.5.0,>=0.4.22->crewai_tools==0.1.6) (1.20.1)\n",
      "Requirement already satisfied: opentelemetry-exporter-otlp-proto-grpc>=1.2.0 in /usr/local/lib/python3.11/dist-packages (from chromadb<0.5.0,>=0.4.22->crewai_tools==0.1.6) (1.29.0)\n",
      "Requirement already satisfied: opentelemetry-instrumentation-fastapi>=0.41b0 in /usr/local/lib/python3.11/dist-packages (from chromadb<0.5.0,>=0.4.22->crewai_tools==0.1.6) (0.50b0)\n",
      "Requirement already satisfied: tokenizers>=0.13.2 in /usr/local/lib/python3.11/dist-packages (from chromadb<0.5.0,>=0.4.22->crewai_tools==0.1.6) (0.21.0)\n",
      "Requirement already satisfied: pypika>=0.48.9 in /usr/local/lib/python3.11/dist-packages (from chromadb<0.5.0,>=0.4.22->crewai_tools==0.1.6) (0.48.9)\n",
      "Requirement already satisfied: tqdm>=4.65.0 in /usr/local/lib/python3.11/dist-packages (from chromadb<0.5.0,>=0.4.22->crewai_tools==0.1.6) (4.67.1)\n",
      "Requirement already satisfied: overrides>=7.3.1 in /usr/local/lib/python3.11/dist-packages (from chromadb<0.5.0,>=0.4.22->crewai_tools==0.1.6) (7.7.0)\n",
      "Requirement already satisfied: importlib-resources in /usr/local/lib/python3.11/dist-packages (from chromadb<0.5.0,>=0.4.22->crewai_tools==0.1.6) (6.5.2)\n",
      "Requirement already satisfied: grpcio>=1.58.0 in /usr/local/lib/python3.11/dist-packages (from chromadb<0.5.0,>=0.4.22->crewai_tools==0.1.6) (1.70.0)\n",
      "Requirement already satisfied: bcrypt>=4.0.1 in /usr/local/lib/python3.11/dist-packages (from chromadb<0.5.0,>=0.4.22->crewai_tools==0.1.6) (4.2.1)\n",
      "Requirement already satisfied: typer>=0.9.0 in /usr/local/lib/python3.11/dist-packages (from chromadb<0.5.0,>=0.4.22->crewai_tools==0.1.6) (0.9.4)\n",
      "Requirement already satisfied: kubernetes>=28.1.0 in /usr/local/lib/python3.11/dist-packages (from chromadb<0.5.0,>=0.4.22->crewai_tools==0.1.6) (32.0.0)\n",
      "Requirement already satisfied: mmh3>=4.0.1 in /usr/local/lib/python3.11/dist-packages (from chromadb<0.5.0,>=0.4.22->crewai_tools==0.1.6) (5.1.0)\n",
      "Requirement already satisfied: orjson>=3.9.12 in /usr/local/lib/python3.11/dist-packages (from chromadb<0.5.0,>=0.4.22->crewai_tools==0.1.6) (3.10.15)\n",
      "Requirement already satisfied: marshmallow<4.0.0,>=3.18.0 in /usr/local/lib/python3.11/dist-packages (from dataclasses-json<0.7,>=0.5.7->langchain_community==0.0.29) (3.26.0)\n",
      "Requirement already satisfied: typing-inspect<1,>=0.4.0 in /usr/local/lib/python3.11/dist-packages (from dataclasses-json<0.7,>=0.5.7->langchain_community==0.0.29) (0.9.0)\n",
      "Requirement already satisfied: alembic<2.0.0,>=1.13.1 in /usr/local/lib/python3.11/dist-packages (from embedchain<0.2.0,>=0.1.98->crewai==0.28.8) (1.14.1)\n",
      "Requirement already satisfied: clarifai<11.0.0,>=10.0.1 in /usr/local/lib/python3.11/dist-packages (from embedchain<0.2.0,>=0.1.98->crewai==0.28.8) (10.11.1)\n",
      "Requirement already satisfied: google-cloud-aiplatform<2.0.0,>=1.26.1 in /usr/local/lib/python3.11/dist-packages (from embedchain<0.2.0,>=0.1.98->crewai==0.28.8) (1.74.0)\n",
      "Requirement already satisfied: gptcache<0.2.0,>=0.1.43 in /usr/local/lib/python3.11/dist-packages (from embedchain<0.2.0,>=0.1.98->crewai==0.28.8) (0.1.44)\n",
      "Requirement already satisfied: langchain-cohere<0.2.0,>=0.1.4 in /usr/local/lib/python3.11/dist-packages (from embedchain<0.2.0,>=0.1.98->crewai==0.28.8) (0.1.5)\n",
      "Requirement already satisfied: langchain-openai<0.2.0,>=0.1.7 in /usr/local/lib/python3.11/dist-packages (from embedchain<0.2.0,>=0.1.98->crewai==0.28.8) (0.1.7)\n",
      "Requirement already satisfied: pypdf<5.0.0,>=4.0.1 in /usr/local/lib/python3.11/dist-packages (from embedchain<0.2.0,>=0.1.98->crewai==0.28.8) (4.3.1)\n",
      "Requirement already satisfied: pysbd<0.4.0,>=0.3.4 in /usr/local/lib/python3.11/dist-packages (from embedchain<0.2.0,>=0.1.98->crewai==0.28.8) (0.3.4)\n",
      "Requirement already satisfied: rich<14.0.0,>=13.7.0 in /usr/local/lib/python3.11/dist-packages (from embedchain<0.2.0,>=0.1.98->crewai==0.28.8) (13.9.4)\n",
      "Requirement already satisfied: schema<0.8.0,>=0.7.5 in /usr/local/lib/python3.11/dist-packages (from embedchain<0.2.0,>=0.1.98->crewai==0.28.8) (0.7.5)\n",
      "Requirement already satisfied: tiktoken<0.8.0,>=0.7.0 in /usr/local/lib/python3.11/dist-packages (from embedchain<0.2.0,>=0.1.98->crewai==0.28.8) (0.7.0)\n",
      "Requirement already satisfied: PyGithub<2.0.0,>=1.59.1 in /usr/local/lib/python3.11/dist-packages (from embedchain[github,youtube]<0.2.0,>=0.1.85->crewai_tools==0.1.6) (1.59.1)\n",
      "Requirement already satisfied: gitpython<4.0.0,>=3.1.38 in /usr/local/lib/python3.11/dist-packages (from embedchain[github,youtube]<0.2.0,>=0.1.85->crewai_tools==0.1.6) (3.1.44)\n",
      "Requirement already satisfied: youtube-transcript-api<0.7.0,>=0.6.1 in /usr/local/lib/python3.11/dist-packages (from embedchain[github,youtube]<0.2.0,>=0.1.85->crewai_tools==0.1.6) (0.6.3)\n",
      "Requirement already satisfied: yt_dlp<2024.0.0,>=2023.11.14 in /usr/local/lib/python3.11/dist-packages (from embedchain[github,youtube]<0.2.0,>=0.1.85->crewai_tools==0.1.6) (2023.12.30)\n",
      "Requirement already satisfied: docstring-parser<0.16,>=0.15 in /usr/local/lib/python3.11/dist-packages (from instructor<0.6.0,>=0.5.2->crewai==0.28.8) (0.15)\n",
      "Requirement already satisfied: deprecation in /usr/local/lib/python3.11/dist-packages (from lancedb<0.6.0,>=0.5.4->crewai_tools==0.1.6) (2.1.0)\n",
      "Requirement already satisfied: pylance==0.9.18 in /usr/local/lib/python3.11/dist-packages (from lancedb<0.6.0,>=0.5.4->crewai_tools==0.1.6) (0.9.18)\n",
      "Requirement already satisfied: ratelimiter~=1.0 in /usr/local/lib/python3.11/dist-packages (from lancedb<0.6.0,>=0.5.4->crewai_tools==0.1.6) (1.2.0.post0)\n",
      "Requirement already satisfied: retry>=0.9.2 in /usr/local/lib/python3.11/dist-packages (from lancedb<0.6.0,>=0.5.4->crewai_tools==0.1.6) (0.9.2)\n",
      "Requirement already satisfied: semver>=3.0 in /usr/local/lib/python3.11/dist-packages (from lancedb<0.6.0,>=0.5.4->crewai_tools==0.1.6) (3.0.4)\n",
      "Requirement already satisfied: cachetools in /usr/local/lib/python3.11/dist-packages (from lancedb<0.6.0,>=0.5.4->crewai_tools==0.1.6) (5.5.1)\n",
      "Requirement already satisfied: pyarrow>=12 in /usr/local/lib/python3.11/dist-packages (from pylance==0.9.18->lancedb<0.6.0,>=0.5.4->crewai_tools==0.1.6) (17.0.0)\n",
      "Requirement already satisfied: jsonpatch<2.0,>=1.33 in /usr/local/lib/python3.11/dist-packages (from langchain<0.2.0,>=0.1.10->crewai==0.28.8) (1.33)\n",
      "Requirement already satisfied: langchain-text-splitters<0.1,>=0.0.1 in /usr/local/lib/python3.11/dist-packages (from langchain<0.2.0,>=0.1.10->crewai==0.28.8) (0.0.2)\n",
      "Requirement already satisfied: packaging<24.0,>=23.2 in /usr/local/lib/python3.11/dist-packages (from langchain-core<0.2.0,>=0.1.33->langchain_community==0.0.29) (23.2)\n",
      "Requirement already satisfied: httpx<1,>=0.23.0 in /usr/local/lib/python3.11/dist-packages (from langsmith<0.2.0,>=0.1.0->langchain_community==0.0.29) (0.27.2)\n",
      "Requirement already satisfied: requests-toolbelt<2.0.0,>=1.0.0 in /usr/local/lib/python3.11/dist-packages (from langsmith<0.2.0,>=0.1.0->langchain_community==0.0.29) (1.0.0)\n",
      "Requirement already satisfied: anyio<5,>=3.5.0 in /usr/local/lib/python3.11/dist-packages (from openai<2.0.0,>=1.13.3->crewai==0.28.8) (3.7.1)\n",
      "Requirement already satisfied: distro<2,>=1.7.0 in /usr/local/lib/python3.11/dist-packages (from openai<2.0.0,>=1.13.3->crewai==0.28.8) (1.9.0)\n",
      "Requirement already satisfied: jiter<1,>=0.4.0 in /usr/local/lib/python3.11/dist-packages (from openai<2.0.0,>=1.13.3->crewai==0.28.8) (0.8.2)\n",
      "Requirement already satisfied: sniffio in /usr/local/lib/python3.11/dist-packages (from openai<2.0.0,>=1.13.3->crewai==0.28.8) (1.3.1)\n",
      "Requirement already satisfied: deprecated>=1.2.6 in /usr/local/lib/python3.11/dist-packages (from opentelemetry-api<2.0.0,>=1.22.0->crewai==0.28.8) (1.2.18)\n",
      "Requirement already satisfied: importlib-metadata<=8.5.0,>=6.0 in /usr/local/lib/python3.11/dist-packages (from opentelemetry-api<2.0.0,>=1.22.0->crewai==0.28.8) (8.5.0)\n",
      "Requirement already satisfied: googleapis-common-protos~=1.52 in /usr/local/lib/python3.11/dist-packages (from opentelemetry-exporter-otlp-proto-http<2.0.0,>=1.22.0->crewai==0.28.8) (1.66.0)\n",
      "Requirement already satisfied: opentelemetry-exporter-otlp-proto-common==1.29.0 in /usr/local/lib/python3.11/dist-packages (from opentelemetry-exporter-otlp-proto-http<2.0.0,>=1.22.0->crewai==0.28.8) (1.29.0)\n",
      "Requirement already satisfied: opentelemetry-proto==1.29.0 in /usr/local/lib/python3.11/dist-packages (from opentelemetry-exporter-otlp-proto-http<2.0.0,>=1.22.0->crewai==0.28.8) (1.29.0)\n",
      "Requirement already satisfied: protobuf<6.0,>=5.0 in /usr/local/lib/python3.11/dist-packages (from opentelemetry-proto==1.29.0->opentelemetry-exporter-otlp-proto-http<2.0.0,>=1.22.0->crewai==0.28.8) (5.29.3)\n",
      "Requirement already satisfied: opentelemetry-semantic-conventions==0.50b0 in /usr/local/lib/python3.11/dist-packages (from opentelemetry-sdk<2.0.0,>=1.22.0->crewai==0.28.8) (0.50b0)\n",
      "Requirement already satisfied: annotated-types>=0.6.0 in /usr/local/lib/python3.11/dist-packages (from pydantic<3.0.0,>=2.4.2->crewai==0.28.8) (0.7.0)\n",
      "Requirement already satisfied: pydantic-core==2.27.2 in /usr/local/lib/python3.11/dist-packages (from pydantic<3.0.0,>=2.4.2->crewai==0.28.8) (2.27.2)\n",
      "Requirement already satisfied: nodeenv>=1.6.0 in /usr/local/lib/python3.11/dist-packages (from pyright<2.0.0,>=1.1.350->crewai_tools==0.1.6) (1.9.1)\n",
      "Requirement already satisfied: iniconfig in /usr/local/lib/python3.11/dist-packages (from pytest<9.0.0,>=8.0.0->crewai_tools==0.1.6) (2.0.0)\n",
      "Requirement already satisfied: pluggy<2,>=1.5 in /usr/local/lib/python3.11/dist-packages (from pytest<9.0.0,>=8.0.0->crewai_tools==0.1.6) (1.5.0)\n",
      "Requirement already satisfied: charset-normalizer<4,>=2 in /usr/local/lib/python3.11/dist-packages (from requests<3.0.0,>=2.31.0->crewai_tools==0.1.6) (3.4.1)\n",
      "Requirement already satisfied: idna<4,>=2.5 in /usr/local/lib/python3.11/dist-packages (from requests<3.0.0,>=2.31.0->crewai_tools==0.1.6) (3.10)\n",
      "Requirement already satisfied: urllib3<3,>=1.21.1 in /usr/local/lib/python3.11/dist-packages (from requests<3.0.0,>=2.31.0->crewai_tools==0.1.6) (2.3.0)\n",
      "Requirement already satisfied: certifi>=2017.4.17 in /usr/local/lib/python3.11/dist-packages (from requests<3.0.0,>=2.31.0->crewai_tools==0.1.6) (2024.12.14)\n",
      "Requirement already satisfied: trio~=0.17 in /usr/local/lib/python3.11/dist-packages (from selenium<5.0.0,>=4.18.1->crewai_tools==0.1.6) (0.28.0)\n",
      "Requirement already satisfied: trio-websocket~=0.9 in /usr/local/lib/python3.11/dist-packages (from selenium<5.0.0,>=4.18.1->crewai_tools==0.1.6) (0.11.1)\n",
      "Requirement already satisfied: websocket-client~=1.8 in /usr/local/lib/python3.11/dist-packages (from selenium<5.0.0,>=4.18.1->crewai_tools==0.1.6) (1.8.0)\n",
      "Requirement already satisfied: greenlet!=0.4.17 in /usr/local/lib/python3.11/dist-packages (from SQLAlchemy<3,>=1.4->langchain_community==0.0.29) (3.1.1)\n",
      "Requirement already satisfied: Mako in /usr/local/lib/python3.11/dist-packages (from alembic<2.0.0,>=1.13.1->embedchain<0.2.0,>=0.1.98->crewai==0.28.8) (1.3.8)\n",
      "Requirement already satisfied: pyproject_hooks in /usr/local/lib/python3.11/dist-packages (from build>=1.0.3->chromadb<0.5.0,>=0.4.22->crewai_tools==0.1.6) (1.2.0)\n",
      "Requirement already satisfied: clarifai-grpc>=10.11.2 in /usr/local/lib/python3.11/dist-packages (from clarifai<11.0.0,>=10.0.1->embedchain<0.2.0,>=0.1.98->crewai==0.28.8) (11.0.7)\n",
      "Requirement already satisfied: clarifai-protocol>=0.0.14 in /usr/local/lib/python3.11/dist-packages (from clarifai<11.0.0,>=10.0.1->embedchain<0.2.0,>=0.1.98->crewai==0.28.8) (0.0.14)\n",
      "Requirement already satisfied: tritonclient>=2.34.0 in /usr/local/lib/python3.11/dist-packages (from clarifai<11.0.0,>=10.0.1->embedchain<0.2.0,>=0.1.98->crewai==0.28.8) (2.54.0)\n",
      "Requirement already satisfied: Pillow>=9.5.0 in /usr/local/lib/python3.11/dist-packages (from clarifai<11.0.0,>=10.0.1->embedchain<0.2.0,>=0.1.98->crewai==0.28.8) (11.1.0)\n",
      "Requirement already satisfied: inquirerpy==0.3.4 in /usr/local/lib/python3.11/dist-packages (from clarifai<11.0.0,>=10.0.1->embedchain<0.2.0,>=0.1.98->crewai==0.28.8) (0.3.4)\n",
      "Requirement already satisfied: tabulate>=0.9.0 in /usr/local/lib/python3.11/dist-packages (from clarifai<11.0.0,>=10.0.1->embedchain<0.2.0,>=0.1.98->crewai==0.28.8) (0.9.0)\n",
      "Requirement already satisfied: fsspec==2024.6.1 in /usr/local/lib/python3.11/dist-packages (from clarifai<11.0.0,>=10.0.1->embedchain<0.2.0,>=0.1.98->crewai==0.28.8) (2024.6.1)\n",
      "Requirement already satisfied: contextlib2>=0.5.5 in /usr/local/lib/python3.11/dist-packages (from schema<0.8.0,>=0.7.5->embedchain<0.2.0,>=0.1.98->crewai==0.28.8) (21.6.0)\n",
      "Requirement already satisfied: pfzy<0.4.0,>=0.3.1 in /usr/local/lib/python3.11/dist-packages (from inquirerpy==0.3.4->clarifai<11.0.0,>=10.0.1->embedchain<0.2.0,>=0.1.98->crewai==0.28.8) (0.3.4)\n",
      "Requirement already satisfied: prompt-toolkit<4.0.0,>=3.0.1 in /usr/local/lib/python3.11/dist-packages (from inquirerpy==0.3.4->clarifai<11.0.0,>=10.0.1->embedchain<0.2.0,>=0.1.98->crewai==0.28.8) (3.0.50)\n",
      "Requirement already satisfied: wrapt<2,>=1.10 in /usr/local/lib/python3.11/dist-packages (from deprecated>=1.2.6->opentelemetry-api<2.0.0,>=1.22.0->crewai==0.28.8) (1.17.2)\n",
      "Requirement already satisfied: starlette<0.46.0,>=0.40.0 in /usr/local/lib/python3.11/dist-packages (from fastapi>=0.95.2->chromadb<0.5.0,>=0.4.22->crewai_tools==0.1.6) (0.45.3)\n",
      "Requirement already satisfied: gitdb<5,>=4.0.1 in /usr/local/lib/python3.11/dist-packages (from gitpython<4.0.0,>=3.1.38->embedchain[github,youtube]<0.2.0,>=0.1.85->crewai_tools==0.1.6) (4.0.12)\n",
      "Requirement already satisfied: google-api-core!=2.0.*,!=2.1.*,!=2.2.*,!=2.3.*,!=2.4.*,!=2.5.*,!=2.6.*,!=2.7.*,<3.0.0dev,>=1.34.1 in /usr/local/lib/python3.11/dist-packages (from google-api-core[grpc]!=2.0.*,!=2.1.*,!=2.2.*,!=2.3.*,!=2.4.*,!=2.5.*,!=2.6.*,!=2.7.*,<3.0.0dev,>=1.34.1->google-cloud-aiplatform<2.0.0,>=1.26.1->embedchain<0.2.0,>=0.1.98->crewai==0.28.8) (2.19.2)\n",
      "Requirement already satisfied: google-auth<3.0.0dev,>=2.14.1 in /usr/local/lib/python3.11/dist-packages (from google-cloud-aiplatform<2.0.0,>=1.26.1->embedchain<0.2.0,>=0.1.98->crewai==0.28.8) (2.27.0)\n",
      "Requirement already satisfied: proto-plus<2.0.0dev,>=1.22.3 in /usr/local/lib/python3.11/dist-packages (from google-cloud-aiplatform<2.0.0,>=1.26.1->embedchain<0.2.0,>=0.1.98->crewai==0.28.8) (1.26.0)\n",
      "Requirement already satisfied: google-cloud-storage<3.0.0dev,>=1.32.0 in /usr/local/lib/python3.11/dist-packages (from google-cloud-aiplatform<2.0.0,>=1.26.1->embedchain<0.2.0,>=0.1.98->crewai==0.28.8) (2.19.0)\n",
      "Requirement already satisfied: google-cloud-bigquery!=3.20.0,<4.0.0dev,>=1.15.0 in /usr/local/lib/python3.11/dist-packages (from google-cloud-aiplatform<2.0.0,>=1.26.1->embedchain<0.2.0,>=0.1.98->crewai==0.28.8) (3.25.0)\n",
      "Requirement already satisfied: google-cloud-resource-manager<3.0.0dev,>=1.3.3 in /usr/local/lib/python3.11/dist-packages (from google-cloud-aiplatform<2.0.0,>=1.26.1->embedchain<0.2.0,>=0.1.98->crewai==0.28.8) (1.14.0)\n",
      "Requirement already satisfied: shapely<3.0.0dev in /usr/local/lib/python3.11/dist-packages (from google-cloud-aiplatform<2.0.0,>=1.26.1->embedchain<0.2.0,>=0.1.98->crewai==0.28.8) (2.0.6)\n",
      "Requirement already satisfied: httpcore==1.* in /usr/local/lib/python3.11/dist-packages (from httpx<1,>=0.23.0->langsmith<0.2.0,>=0.1.0->langchain_community==0.0.29) (1.0.7)\n",
      "Requirement already satisfied: h11<0.15,>=0.13 in /usr/local/lib/python3.11/dist-packages (from httpcore==1.*->httpx<1,>=0.23.0->langsmith<0.2.0,>=0.1.0->langchain_community==0.0.29) (0.14.0)\n",
      "Requirement already satisfied: zipp>=3.20 in /usr/local/lib/python3.11/dist-packages (from importlib-metadata<=8.5.0,>=6.0->opentelemetry-api<2.0.0,>=1.22.0->crewai==0.28.8) (3.21.0)\n",
      "Requirement already satisfied: jsonpointer>=1.9 in /usr/local/lib/python3.11/dist-packages (from jsonpatch<2.0,>=1.33->langchain<0.2.0,>=0.1.10->crewai==0.28.8) (3.0.0)\n",
      "Requirement already satisfied: six>=1.9.0 in /usr/local/lib/python3.11/dist-packages (from kubernetes>=28.1.0->chromadb<0.5.0,>=0.4.22->crewai_tools==0.1.6) (1.17.0)\n",
      "Requirement already satisfied: python-dateutil>=2.5.3 in /usr/local/lib/python3.11/dist-packages (from kubernetes>=28.1.0->chromadb<0.5.0,>=0.4.22->crewai_tools==0.1.6) (2.8.2)\n",
      "Requirement already satisfied: requests-oauthlib in /usr/local/lib/python3.11/dist-packages (from kubernetes>=28.1.0->chromadb<0.5.0,>=0.4.22->crewai_tools==0.1.6) (1.3.1)\n",
      "Requirement already satisfied: oauthlib>=3.2.2 in /usr/local/lib/python3.11/dist-packages (from kubernetes>=28.1.0->chromadb<0.5.0,>=0.4.22->crewai_tools==0.1.6) (3.2.2)\n",
      "Requirement already satisfied: durationpy>=0.7 in /usr/local/lib/python3.11/dist-packages (from kubernetes>=28.1.0->chromadb<0.5.0,>=0.4.22->crewai_tools==0.1.6) (0.9)\n",
      "Requirement already satisfied: cohere<6.0,>=5.5 in /usr/local/lib/python3.11/dist-packages (from langchain-cohere<0.2.0,>=0.1.4->embedchain<0.2.0,>=0.1.98->crewai==0.28.8) (5.13.11)\n",
      "Requirement already satisfied: coloredlogs in /usr/local/lib/python3.11/dist-packages (from onnxruntime>=1.14.1->chromadb<0.5.0,>=0.4.22->crewai_tools==0.1.6) (15.0.1)\n",
      "Requirement already satisfied: flatbuffers in /usr/local/lib/python3.11/dist-packages (from onnxruntime>=1.14.1->chromadb<0.5.0,>=0.4.22->crewai_tools==0.1.6) (25.1.24)\n",
      "Requirement already satisfied: sympy in /usr/local/lib/python3.11/dist-packages (from onnxruntime>=1.14.1->chromadb<0.5.0,>=0.4.22->crewai_tools==0.1.6) (1.13.1)\n",
      "Requirement already satisfied: opentelemetry-instrumentation-asgi==0.50b0 in /usr/local/lib/python3.11/dist-packages (from opentelemetry-instrumentation-fastapi>=0.41b0->chromadb<0.5.0,>=0.4.22->crewai_tools==0.1.6) (0.50b0)\n",
      "Requirement already satisfied: opentelemetry-instrumentation==0.50b0 in /usr/local/lib/python3.11/dist-packages (from opentelemetry-instrumentation-fastapi>=0.41b0->chromadb<0.5.0,>=0.4.22->crewai_tools==0.1.6) (0.50b0)\n",
      "Requirement already satisfied: opentelemetry-util-http==0.50b0 in /usr/local/lib/python3.11/dist-packages (from opentelemetry-instrumentation-fastapi>=0.41b0->chromadb<0.5.0,>=0.4.22->crewai_tools==0.1.6) (0.50b0)\n",
      "Requirement already satisfied: asgiref~=3.0 in /usr/local/lib/python3.11/dist-packages (from opentelemetry-instrumentation-asgi==0.50b0->opentelemetry-instrumentation-fastapi>=0.41b0->chromadb<0.5.0,>=0.4.22->crewai_tools==0.1.6) (3.8.1)\n",
      "Requirement already satisfied: monotonic>=1.5 in /usr/local/lib/python3.11/dist-packages (from posthog>=2.4.0->chromadb<0.5.0,>=0.4.22->crewai_tools==0.1.6) (1.6)\n",
      "Requirement already satisfied: backoff>=1.10.0 in /usr/local/lib/python3.11/dist-packages (from posthog>=2.4.0->chromadb<0.5.0,>=0.4.22->crewai_tools==0.1.6) (2.2.1)\n",
      "Requirement already satisfied: pyjwt>=2.4.0 in /usr/local/lib/python3.11/dist-packages (from pyjwt[crypto]>=2.4.0->PyGithub<2.0.0,>=1.59.1->embedchain[github,youtube]<0.2.0,>=0.1.85->crewai_tools==0.1.6) (2.10.1)\n",
      "Requirement already satisfied: pynacl>=1.4.0 in /usr/local/lib/python3.11/dist-packages (from PyGithub<2.0.0,>=1.59.1->embedchain[github,youtube]<0.2.0,>=0.1.85->crewai_tools==0.1.6) (1.5.0)\n",
      "Requirement already satisfied: decorator>=3.4.2 in /usr/local/lib/python3.11/dist-packages (from retry>=0.9.2->lancedb<0.6.0,>=0.5.4->crewai_tools==0.1.6) (4.4.2)\n",
      "Requirement already satisfied: py<2.0.0,>=1.4.26 in /usr/local/lib/python3.11/dist-packages (from retry>=0.9.2->lancedb<0.6.0,>=0.5.4->crewai_tools==0.1.6) (1.11.0)\n",
      "Requirement already satisfied: markdown-it-py>=2.2.0 in /usr/local/lib/python3.11/dist-packages (from rich<14.0.0,>=13.7.0->embedchain<0.2.0,>=0.1.98->crewai==0.28.8) (3.0.0)\n",
      "Requirement already satisfied: pygments<3.0.0,>=2.13.0 in /usr/local/lib/python3.11/dist-packages (from rich<14.0.0,>=13.7.0->embedchain<0.2.0,>=0.1.98->crewai==0.28.8) (2.18.0)\n",
      "Requirement already satisfied: huggingface-hub<1.0,>=0.16.4 in /usr/local/lib/python3.11/dist-packages (from tokenizers>=0.13.2->chromadb<0.5.0,>=0.4.22->crewai_tools==0.1.6) (0.27.1)\n",
      "Requirement already satisfied: sortedcontainers in /usr/local/lib/python3.11/dist-packages (from trio~=0.17->selenium<5.0.0,>=4.18.1->crewai_tools==0.1.6) (2.4.0)\n",
      "Requirement already satisfied: outcome in /usr/local/lib/python3.11/dist-packages (from trio~=0.17->selenium<5.0.0,>=4.18.1->crewai_tools==0.1.6) (1.3.0.post0)\n",
      "Requirement already satisfied: wsproto>=0.14 in /usr/local/lib/python3.11/dist-packages (from trio-websocket~=0.9->selenium<5.0.0,>=4.18.1->crewai_tools==0.1.6) (1.2.0)\n",
      "Requirement already satisfied: mypy-extensions>=0.3.0 in /usr/local/lib/python3.11/dist-packages (from typing-inspect<1,>=0.4.0->dataclasses-json<0.7,>=0.5.7->langchain_community==0.0.29) (1.0.0)\n",
      "Requirement already satisfied: pysocks!=1.5.7,<2.0,>=1.5.6 in /usr/local/lib/python3.11/dist-packages (from urllib3[socks]<3,>=1.26->selenium<5.0.0,>=4.18.1->crewai_tools==0.1.6) (1.7.1)\n",
      "Requirement already satisfied: httptools>=0.6.3 in /usr/local/lib/python3.11/dist-packages (from uvicorn[standard]>=0.18.3->chromadb<0.5.0,>=0.4.22->crewai_tools==0.1.6) (0.6.4)\n",
      "Requirement already satisfied: uvloop!=0.15.0,!=0.15.1,>=0.14.0 in /usr/local/lib/python3.11/dist-packages (from uvicorn[standard]>=0.18.3->chromadb<0.5.0,>=0.4.22->crewai_tools==0.1.6) (0.21.0)\n",
      "Requirement already satisfied: watchfiles>=0.13 in /usr/local/lib/python3.11/dist-packages (from uvicorn[standard]>=0.18.3->chromadb<0.5.0,>=0.4.22->crewai_tools==0.1.6) (1.0.4)\n",
      "Requirement already satisfied: websockets>=10.4 in /usr/local/lib/python3.11/dist-packages (from uvicorn[standard]>=0.18.3->chromadb<0.5.0,>=0.4.22->crewai_tools==0.1.6) (14.2)\n",
      "Requirement already satisfied: defusedxml<0.8.0,>=0.7.1 in /usr/local/lib/python3.11/dist-packages (from youtube-transcript-api<0.7.0,>=0.6.1->embedchain[github,youtube]<0.2.0,>=0.1.85->crewai_tools==0.1.6) (0.7.1)\n",
      "Requirement already satisfied: mutagen in /usr/local/lib/python3.11/dist-packages (from yt_dlp<2024.0.0,>=2023.11.14->embedchain[github,youtube]<0.2.0,>=0.1.85->crewai_tools==0.1.6) (1.47.0)\n",
      "Requirement already satisfied: pycryptodomex in /usr/local/lib/python3.11/dist-packages (from yt_dlp<2024.0.0,>=2023.11.14->embedchain[github,youtube]<0.2.0,>=0.1.85->crewai_tools==0.1.6) (3.21.0)\n",
      "Requirement already satisfied: brotli in /usr/local/lib/python3.11/dist-packages (from yt_dlp<2024.0.0,>=2023.11.14->embedchain[github,youtube]<0.2.0,>=0.1.85->crewai_tools==0.1.6) (1.1.0)\n",
      "Requirement already satisfied: fastavro<2.0.0,>=1.9.4 in /usr/local/lib/python3.11/dist-packages (from cohere<6.0,>=5.5->langchain-cohere<0.2.0,>=0.1.4->embedchain<0.2.0,>=0.1.98->crewai==0.28.8) (1.10.0)\n",
      "Requirement already satisfied: httpx-sse==0.4.0 in /usr/local/lib/python3.11/dist-packages (from cohere<6.0,>=5.5->langchain-cohere<0.2.0,>=0.1.4->embedchain<0.2.0,>=0.1.98->crewai==0.28.8) (0.4.0)\n",
      "Requirement already satisfied: types-requests<3.0.0,>=2.0.0 in /usr/local/lib/python3.11/dist-packages (from cohere<6.0,>=5.5->langchain-cohere<0.2.0,>=0.1.4->embedchain<0.2.0,>=0.1.98->crewai==0.28.8) (2.32.0.20241016)\n",
      "Requirement already satisfied: smmap<6,>=3.0.1 in /usr/local/lib/python3.11/dist-packages (from gitdb<5,>=4.0.1->gitpython<4.0.0,>=3.1.38->embedchain[github,youtube]<0.2.0,>=0.1.85->crewai_tools==0.1.6) (5.0.2)\n",
      "Requirement already satisfied: grpcio-status<2.0.dev0,>=1.33.2 in /usr/local/lib/python3.11/dist-packages (from google-api-core[grpc]!=2.0.*,!=2.1.*,!=2.2.*,!=2.3.*,!=2.4.*,!=2.5.*,!=2.6.*,!=2.7.*,<3.0.0dev,>=1.34.1->google-cloud-aiplatform<2.0.0,>=1.26.1->embedchain<0.2.0,>=0.1.98->crewai==0.28.8) (1.62.3)\n",
      "Requirement already satisfied: pyasn1-modules>=0.2.1 in /usr/local/lib/python3.11/dist-packages (from google-auth<3.0.0dev,>=2.14.1->google-cloud-aiplatform<2.0.0,>=1.26.1->embedchain<0.2.0,>=0.1.98->crewai==0.28.8) (0.4.1)\n",
      "Requirement already satisfied: rsa<5,>=3.1.4 in /usr/local/lib/python3.11/dist-packages (from google-auth<3.0.0dev,>=2.14.1->google-cloud-aiplatform<2.0.0,>=1.26.1->embedchain<0.2.0,>=0.1.98->crewai==0.28.8) (4.9)\n",
      "Requirement already satisfied: google-cloud-core<3.0.0dev,>=1.6.0 in /usr/local/lib/python3.11/dist-packages (from google-cloud-bigquery!=3.20.0,<4.0.0dev,>=1.15.0->google-cloud-aiplatform<2.0.0,>=1.26.1->embedchain<0.2.0,>=0.1.98->crewai==0.28.8) (2.4.1)\n",
      "Requirement already satisfied: google-resumable-media<3.0dev,>=0.6.0 in /usr/local/lib/python3.11/dist-packages (from google-cloud-bigquery!=3.20.0,<4.0.0dev,>=1.15.0->google-cloud-aiplatform<2.0.0,>=1.26.1->embedchain<0.2.0,>=0.1.98->crewai==0.28.8) (2.7.2)\n",
      "Requirement already satisfied: grpc-google-iam-v1<1.0.0dev,>=0.12.4 in /usr/local/lib/python3.11/dist-packages (from google-cloud-resource-manager<3.0.0dev,>=1.3.3->google-cloud-aiplatform<2.0.0,>=1.26.1->embedchain<0.2.0,>=0.1.98->crewai==0.28.8) (0.14.0)\n",
      "Requirement already satisfied: google-crc32c<2.0dev,>=1.0 in /usr/local/lib/python3.11/dist-packages (from google-cloud-storage<3.0.0dev,>=1.32.0->google-cloud-aiplatform<2.0.0,>=1.26.1->embedchain<0.2.0,>=0.1.98->crewai==0.28.8) (1.6.0)\n",
      "Requirement already satisfied: filelock in /usr/local/lib/python3.11/dist-packages (from huggingface-hub<1.0,>=0.16.4->tokenizers>=0.13.2->chromadb<0.5.0,>=0.4.22->crewai_tools==0.1.6) (3.17.0)\n",
      "Requirement already satisfied: mdurl~=0.1 in /usr/local/lib/python3.11/dist-packages (from markdown-it-py>=2.2.0->rich<14.0.0,>=13.7.0->embedchain<0.2.0,>=0.1.98->crewai==0.28.8) (0.1.2)\n",
      "Requirement already satisfied: cryptography>=3.4.0 in /usr/local/lib/python3.11/dist-packages (from pyjwt[crypto]>=2.4.0->PyGithub<2.0.0,>=1.59.1->embedchain[github,youtube]<0.2.0,>=0.1.85->crewai_tools==0.1.6) (43.0.3)\n",
      "Requirement already satisfied: cffi>=1.4.1 in /usr/local/lib/python3.11/dist-packages (from pynacl>=1.4.0->PyGithub<2.0.0,>=1.59.1->embedchain[github,youtube]<0.2.0,>=0.1.85->crewai_tools==0.1.6) (1.17.1)\n",
      "Requirement already satisfied: python-rapidjson>=0.9.1 in /usr/local/lib/python3.11/dist-packages (from tritonclient>=2.34.0->clarifai<11.0.0,>=10.0.1->embedchain<0.2.0,>=0.1.98->crewai==0.28.8) (1.20)\n",
      "Requirement already satisfied: humanfriendly>=9.1 in /usr/local/lib/python3.11/dist-packages (from coloredlogs->onnxruntime>=1.14.1->chromadb<0.5.0,>=0.4.22->crewai_tools==0.1.6) (10.0)\n",
      "Requirement already satisfied: MarkupSafe>=0.9.2 in /usr/local/lib/python3.11/dist-packages (from Mako->alembic<2.0.0,>=1.13.1->embedchain<0.2.0,>=0.1.98->crewai==0.28.8) (3.0.2)\n",
      "Requirement already satisfied: mpmath<1.4,>=1.1.0 in /usr/local/lib/python3.11/dist-packages (from sympy->onnxruntime>=1.14.1->chromadb<0.5.0,>=0.4.22->crewai_tools==0.1.6) (1.3.0)\n",
      "Requirement already satisfied: pycparser in /usr/local/lib/python3.11/dist-packages (from cffi>=1.4.1->pynacl>=1.4.0->PyGithub<2.0.0,>=1.59.1->embedchain[github,youtube]<0.2.0,>=0.1.85->crewai_tools==0.1.6) (2.22)\n",
      "Requirement already satisfied: wcwidth in /usr/local/lib/python3.11/dist-packages (from prompt-toolkit<4.0.0,>=3.0.1->inquirerpy==0.3.4->clarifai<11.0.0,>=10.0.1->embedchain<0.2.0,>=0.1.98->crewai==0.28.8) (0.2.13)\n",
      "Requirement already satisfied: pyasn1<0.7.0,>=0.4.6 in /usr/local/lib/python3.11/dist-packages (from pyasn1-modules>=0.2.1->google-auth<3.0.0dev,>=2.14.1->google-cloud-aiplatform<2.0.0,>=1.26.1->embedchain<0.2.0,>=0.1.98->crewai==0.28.8) (0.6.1)\n",
      "Requirement already satisfied: openai==1.55.3 in /usr/local/lib/python3.11/dist-packages (1.55.3)\n",
      "Requirement already satisfied: httpx==0.27.2 in /usr/local/lib/python3.11/dist-packages (0.27.2)\n",
      "Requirement already satisfied: anyio<5,>=3.5.0 in /usr/local/lib/python3.11/dist-packages (from openai==1.55.3) (3.7.1)\n",
      "Requirement already satisfied: distro<2,>=1.7.0 in /usr/local/lib/python3.11/dist-packages (from openai==1.55.3) (1.9.0)\n",
      "Requirement already satisfied: jiter<1,>=0.4.0 in /usr/local/lib/python3.11/dist-packages (from openai==1.55.3) (0.8.2)\n",
      "Requirement already satisfied: pydantic<3,>=1.9.0 in /usr/local/lib/python3.11/dist-packages (from openai==1.55.3) (2.10.6)\n",
      "Requirement already satisfied: sniffio in /usr/local/lib/python3.11/dist-packages (from openai==1.55.3) (1.3.1)\n",
      "Requirement already satisfied: tqdm>4 in /usr/local/lib/python3.11/dist-packages (from openai==1.55.3) (4.67.1)\n",
      "Requirement already satisfied: typing-extensions<5,>=4.11 in /usr/local/lib/python3.11/dist-packages (from openai==1.55.3) (4.12.2)\n",
      "Requirement already satisfied: certifi in /usr/local/lib/python3.11/dist-packages (from httpx==0.27.2) (2024.12.14)\n",
      "Requirement already satisfied: httpcore==1.* in /usr/local/lib/python3.11/dist-packages (from httpx==0.27.2) (1.0.7)\n",
      "Requirement already satisfied: idna in /usr/local/lib/python3.11/dist-packages (from httpx==0.27.2) (3.10)\n",
      "Requirement already satisfied: h11<0.15,>=0.13 in /usr/local/lib/python3.11/dist-packages (from httpcore==1.*->httpx==0.27.2) (0.14.0)\n",
      "Requirement already satisfied: annotated-types>=0.6.0 in /usr/local/lib/python3.11/dist-packages (from pydantic<3,>=1.9.0->openai==1.55.3) (0.7.0)\n",
      "Requirement already satisfied: pydantic-core==2.27.2 in /usr/local/lib/python3.11/dist-packages (from pydantic<3,>=1.9.0->openai==1.55.3) (2.27.2)\n"
     ]
    }
   ],
   "source": [
    "!pip install crewai==0.28.8 crewai_tools==0.1.6 langchain_community==0.0.29\n",
    "!pip install openai==1.55.3 httpx==0.27.2"
   ]
  },
  {
   "cell_type": "code",
   "execution_count": 2,
   "metadata": {
    "executionInfo": {
     "elapsed": 251,
     "status": "ok",
     "timestamp": 1738288475145,
     "user": {
      "displayName": "Sung Ryel Lim",
      "userId": "17832580391396757133"
     },
     "user_tz": -540
    },
    "height": 64,
    "id": "hc15bfrPTf2H"
   },
   "outputs": [],
   "source": [
    "# Warning control\n",
    "import warnings\n",
    "warnings.filterwarnings('ignore')"
   ]
  },
  {
   "cell_type": "code",
   "execution_count": 3,
   "metadata": {
    "executionInfo": {
     "elapsed": 10513,
     "status": "ok",
     "timestamp": 1738288488155,
     "user": {
      "displayName": "Sung Ryel Lim",
      "userId": "17832580391396757133"
     },
     "user_tz": -540
    },
    "height": 30,
    "id": "GUpYG2AXTf2I"
   },
   "outputs": [],
   "source": [
    "from crewai import Agent, Task, Crew"
   ]
  },
  {
   "cell_type": "code",
   "execution_count": null,
   "metadata": {},
   "outputs": [],
   "source": [
    "from dotenv import load_dotenv\n",
    "import os\n",
    "\n",
    "# .env 파일 로드\n",
    "load_dotenv()\n",
    "\n",
    "# 환경 변수 가져오기\n",
    "openai_api_key = os.getenv('OPENAI_API_KEY')\n",
    "\n",
    "print(openai_api_key)  # 출력된 API 키 확인"
   ]
  },
  {
   "cell_type": "code",
   "execution_count": 13,
   "metadata": {
    "executionInfo": {
     "elapsed": 277,
     "status": "ok",
     "timestamp": 1738288729360,
     "user": {
      "displayName": "Sung Ryel Lim",
      "userId": "17832580391396757133"
     },
     "user_tz": -540
    },
    "height": 98,
    "id": "9w0UJ8WGTf2J"
   },
   "outputs": [],
   "source": [
    "import os\n",
    "import openai\n",
    "\n",
    "from dotenv import load_dotenv, find_dotenv\n",
    "_ = load_dotenv(find_dotenv()) # read local .env file\n",
    "\n",
    "api_key= openai_api_key\n",
    "\n",
    "os.environ[\"OPENAI_API_KEY\"] = api_key\n",
    "os.environ[\"OPENAI_MODEL_NAME\"] = 'gpt-4o'\n"
   ]
  },
  {
   "cell_type": "markdown",
   "metadata": {
    "id": "q2KsLYF0Tf2J"
   },
   "source": [
    "Agent(에이전트) 생성하기\n",
    "\n",
    "Agent를 정의하고, role(역할), goal(목표), backstory(배경 설명)를 제공합니다.\n",
    "\n",
    "LLM(대규모 언어 모델)은 롤플레잉을 할 때 더 나은 성능을 보이는 것으로 확인되었습니다."
   ]
  },
  {
   "cell_type": "markdown",
   "metadata": {
    "id": "XUz7YSJpTf2J"
   },
   "source": [
    "### Agent: 기획자(Planner)\n",
    "\n",
    "**참고**: _여러 문자열_ 사용의 이점:\n",
    "```Python\n",
    "varname = \"텍스트의 첫 번째 줄\"\n",
    "          \"텍스트의 두 번째 줄\"\n",
    "```\n",
    "\n",
    "_삼중 따옴표 독스트링_ 사용과 비교했을 때:\n",
    "```Python\n",
    "varname = \"\"\"텍스트의 첫 번째 줄\n",
    "             텍스트의 두 번째 줄\n",
    "          \"\"\"\n",
    "```\n",
    "여러 문자열을 사용하면 공백과 줄바꿈 문자가 추가되는 것을 피할 수 있어, LLM에 전달할 때 더 나은 형식을 유지할 수 있습니다."
   ]
  },
  {
   "cell_type": "code",
   "execution_count": 14,
   "metadata": {
    "executionInfo": {
     "elapsed": 255,
     "status": "ok",
     "timestamp": 1738288733125,
     "user": {
      "displayName": "Sung Ryel Lim",
      "userId": "17832580391396757133"
     },
     "user_tz": -540
    },
    "height": 234,
    "id": "v8h_39g3Tf2K"
   },
   "outputs": [],
   "source": [
    "planner = Agent(\n",
    "    role=\"콘텐츠 기획자\",\n",
    "    goal=\"{topic}에 대한 흥미롭고 사실에 기반한 콘텐츠 기획\",\n",
    "    backstory=\"당신은 {topic}에 대한 블로그 글을 \"\n",
    "              \"기획하는 일을 하고 있습니다. \"\n",
    "              \"독자들이 새로운 것을 배우고 \"\n",
    "              \"정보에 기반한 결정을 내릴 수 있도록 \"\n",
    "              \"도움이 되는 정보를 수집합니다. \"\n",
    "              \"당신의 작업은 콘텐츠 작성자가 \"\n",
    "              \"이 주제로 글을 쓸 수 있는 토대가 됩니다.\"\n",
    "              \"결과물은 한국어로 생성될 예정입니다.\",\n",
    "    allow_delegation=False,\n",
    "    verbose=True\n",
    ")"
   ]
  },
  {
   "cell_type": "markdown",
   "metadata": {
    "id": "jM-zQC2JTf2K"
   },
   "source": [
    "### Agent: Writer"
   ]
  },
  {
   "cell_type": "code",
   "execution_count": 15,
   "metadata": {
    "executionInfo": {
     "elapsed": 272,
     "status": "ok",
     "timestamp": 1738288735083,
     "user": {
      "displayName": "Sung Ryel Lim",
      "userId": "17832580391396757133"
     },
     "user_tz": -540
    },
    "height": 370,
    "id": "Q732-epnTf2K"
   },
   "outputs": [],
   "source": [
    "writer = Agent(\n",
    "    role=\"콘텐츠 작성자\",\n",
    "    goal=\"{topic}에 대한 통찰력 있고 사실에 기반한 \"\n",
    "         \"의견 기사 작성\",\n",
    "    backstory=\"당신은 {topic}에 대한 새로운 \"\n",
    "              \"의견 기사를 작성하고 있습니다. \"\n",
    "              \"콘텐츠 기획자가 제공한 개요와 \"\n",
    "              \"주제 관련 맥락을 바탕으로 글을 씁니다. \"\n",
    "              \"콘텐츠 기획자가 제시한 \"\n",
    "              \"주요 목표와 방향을 따릅니다. \"\n",
    "              \"또한 객관적이고 공정한 통찰을 제공하고 \"\n",
    "              \"이를 콘텐츠 기획자가 제공한 \"\n",
    "              \"정보로 뒷받침합니다. \"\n",
    "              \"의견 기사에서 객관적 진술과 \"\n",
    "              \"구별되는 개인적 의견을 명시합니다.\"\n",
    "              \"결과물은 한국어로 생성될 예정입니다.\",\n",
    "    allow_delegation=False,\n",
    "    verbose=True\n",
    ")"
   ]
  },
  {
   "cell_type": "markdown",
   "metadata": {
    "id": "RWUNpt29Tf2K"
   },
   "source": [
    "### Agent: Editor"
   ]
  },
  {
   "cell_type": "code",
   "execution_count": 16,
   "metadata": {
    "executionInfo": {
     "elapsed": 271,
     "status": "ok",
     "timestamp": 1738288737193,
     "user": {
      "displayName": "Sung Ryel Lim",
      "userId": "17832580391396757133"
     },
     "user_tz": -540
    },
    "height": 268,
    "id": "9xnDvxIDTf2K"
   },
   "outputs": [],
   "source": [
    "editor = Agent(\n",
    "    role=\"편집자\",\n",
    "    goal=\"주어진 블로그 글을 조직의 글쓰기 스타일에 \"\n",
    "         \"맞게 편집\",\n",
    "    backstory=\"당신은 콘텐츠 작성자로부터 \"\n",
    "              \"블로그 글을 받는 편집자입니다. \"\n",
    "              \"블로그 글을 검토하여 저널리즘의 모범 사례를 \"\n",
    "              \"따르고 있는지 확인하고, \"\n",
    "              \"의견이나 주장을 제시할 때 \"\n",
    "              \"균형 잡힌 관점을 제공하며, \"\n",
    "              \"가능한 한 주요 논쟁적 주제나 \"\n",
    "              \"의견을 피하도록 하는 것이 당신의 목표입니다.\"\n",
    "              \"결과물은 한국어로 생성될 예정입니다.\",\n",
    "    allow_delegation=False,\n",
    "    verbose=True\n",
    ")"
   ]
  },
  {
   "cell_type": "markdown",
   "metadata": {
    "id": "TMlksZgITf2K"
   },
   "source": [
    "## Task(작업) 생성하기\n",
    "\n",
    "- Task를 정의하고, `description`(설명), `expected_output`(예상 결과물), `agent`(수행 에이전트)를 제공합니다.\n"
   ]
  },
  {
   "cell_type": "markdown",
   "metadata": {
    "id": "vBNTQ48rTf2K"
   },
   "source": [
    "### Task: Plan"
   ]
  },
  {
   "cell_type": "code",
   "execution_count": 17,
   "metadata": {
    "executionInfo": {
     "elapsed": 248,
     "status": "ok",
     "timestamp": 1738288740079,
     "user": {
      "displayName": "Sung Ryel Lim",
      "userId": "17832580391396757133"
     },
     "user_tz": -540
    },
    "height": 268,
    "id": "7u5O6jLQTf2L"
   },
   "outputs": [],
   "source": [
    "plan = Task(\n",
    "    description=(\n",
    "        \"1. {topic}에 대한 최신 트렌드, 주요 인물, \"\n",
    "            \"그리고 주목할 만한 뉴스를 우선순위화하기.\\n\"\n",
    "        \"2. 목표 독자층의 관심사와 pain point를 \"\n",
    "            \"고려하여 파악하기.\\n\"\n",
    "        \"3. 서론, 핵심 요점, 행동 유도(CTA)를 포함한 \"\n",
    "            \"상세한 콘텐츠 개요 개발하기.\\n\"\n",
    "        \"4. SEO 키워드와 관련 데이터 또는 출처 포함하기.\"\n",
    "    ),\n",
    "    expected_output=\"개요, 독자층 분석, \"\n",
    "        \"SEO 키워드, 참고 자료를 포함한 \"\n",
    "        \"포괄적인 콘텐츠 기획 문서.\"\n",
    "        \"결과물은 한국어로 생성될 예정입니다.\",\n",
    "    agent=planner,\n",
    ")"
   ]
  },
  {
   "cell_type": "markdown",
   "metadata": {
    "id": "tpYfPWHpTf2L"
   },
   "source": [
    "### Task: Write"
   ]
  },
  {
   "cell_type": "code",
   "execution_count": 18,
   "metadata": {
    "executionInfo": {
     "elapsed": 286,
     "status": "ok",
     "timestamp": 1738288743842,
     "user": {
      "displayName": "Sung Ryel Lim",
      "userId": "17832580391396757133"
     },
     "user_tz": -540
    },
    "height": 319,
    "id": "Dch6sY44Tf2L"
   },
   "outputs": [],
   "source": [
    "write = Task(\n",
    "    description=(\n",
    "        \"1. 콘텐츠 기획을 활용하여 {topic}에 대한 \"\n",
    "            \"매력적인 블로그 글 작성하기.\\n\"\n",
    "        \"2. SEO 키워드를 자연스럽게 포함하기.\\n\"\n",
    "        \"3. 섹션/부제목을 흥미롭게 적절한 \"\n",
    "            \"이름으로 지정하기.\\n\"\n",
    "        \"4. 매력적인 서론, 통찰력 있는 본문, \"\n",
    "            \"요약하는 결론으로 글을 구성하기.\\n\"\n",
    "        \"5. 문법 오류를 점검하고 \"\n",
    "            \"브랜드의 톤앤매너와 일치하는지 확인하기.\\n\"\n",
    "    ),\n",
    "    expected_output=\"각 섹션이 2~3개의 문단으로 구성된, \"\n",
    "        \"출판 준비가 완료된 마크다운 형식의 \"\n",
    "        \"잘 작성된 블로그 글.\"\n",
    "        \"결과물은 한국어로 생성될 예정입니다.\",\n",
    "    agent=writer,\n",
    ")"
   ]
  },
  {
   "cell_type": "markdown",
   "metadata": {
    "id": "Gtkz1jgoTf2L"
   },
   "source": [
    "### Task: Edit"
   ]
  },
  {
   "cell_type": "code",
   "execution_count": 19,
   "metadata": {
    "executionInfo": {
     "elapsed": 286,
     "status": "ok",
     "timestamp": 1738288746166,
     "user": {
      "displayName": "Sung Ryel Lim",
      "userId": "17832580391396757133"
     },
     "user_tz": -540
    },
    "height": 166,
    "id": "ZyQRdPvgTf2L"
   },
   "outputs": [],
   "source": [
    "edit = Task(\n",
    "    description=(\"주어진 블로그 글의 문법 오류를 검토하고 \"\n",
    "                 \"브랜드의 톤앤매너와 일치하는지 확인하기.\"),\n",
    "    expected_output=\"각 섹션이 2~3개의 문단으로 구성된, \"\n",
    "                    \"출판 준비가 완료된 마크다운 형식의 \"\n",
    "                    \"잘 작성된 블로그 글.\"\n",
    "                    \"결과물은 한국어로 생성될 예정입니다.\",\n",
    "    agent=editor\n",
    ")"
   ]
  },
  {
   "cell_type": "markdown",
   "metadata": {
    "id": "m7Uw_J9iTf2L"
   },
   "source": [
    "## Crew(팀) 생성하기\n",
    "\n",
    "- Agent들로 구성된 팀을 생성합니다\n",
    "- 해당 Agent들이 수행할 작업들을 전달합니다.\n",
    "    - **참고**: *이 간단한 예시에서는* 작업들이 순차적으로 수행됩니다(즉, 서로 의존적임). 따라서 목록에서의 작업 _순서_가 _중요_합니다.\n",
    "- `verbose=2`를 설정하면 실행의 모든 로그를 확인할 수 있습니다.\n",
    "\n",
    "\n",
    "이 설정에서:\n",
    "1. `planner`가 먼저 콘텐츠를 기획합니다\n",
    "2. `writer`가 기획된 내용을 바탕으로 글을 작성합니다\n",
    "3. `editor`가 최종적으로 작성된 글을 검토하고 편집합니다"
   ]
  },
  {
   "cell_type": "code",
   "execution_count": 20,
   "metadata": {
    "colab": {
     "base_uri": "https://localhost:8080/"
    },
    "executionInfo": {
     "elapsed": 267,
     "status": "ok",
     "timestamp": 1738288748672,
     "user": {
      "displayName": "Sung Ryel Lim",
      "userId": "17832580391396757133"
     },
     "user_tz": -540
    },
    "height": 98,
    "id": "4qFEjv2STf2L",
    "outputId": "e6555364-76fb-49ea-9483-7a1bd5eb7d1b"
   },
   "outputs": [
    {
     "name": "stderr",
     "output_type": "stream",
     "text": [
      "WARNING:opentelemetry.trace:Overriding of current TracerProvider is not allowed\n"
     ]
    }
   ],
   "source": [
    "crew = Crew(\n",
    "    agents=[planner, writer, editor],\n",
    "    tasks=[plan, write, edit],\n",
    "    verbose=2\n",
    ")"
   ]
  },
  {
   "cell_type": "markdown",
   "metadata": {
    "id": "VV0SCjyqTf2M"
   },
   "source": [
    "## Running the Crew"
   ]
  },
  {
   "cell_type": "code",
   "execution_count": 21,
   "metadata": {
    "colab": {
     "base_uri": "https://localhost:8080/"
    },
    "executionInfo": {
     "elapsed": 62971,
     "status": "ok",
     "timestamp": 1738288813695,
     "user": {
      "displayName": "Sung Ryel Lim",
      "userId": "17832580391396757133"
     },
     "user_tz": -540
    },
    "height": 30,
    "id": "bsfxOgXDTf2M",
    "outputId": "6373d16b-e881-4411-ad14-ab874287940f"
   },
   "outputs": [
    {
     "name": "stdout",
     "output_type": "stream",
     "text": [
      "\u001b[1m\u001b[95m [DEBUG]: == Working Agent: 콘텐츠 기획자\u001b[00m\n",
      "\u001b[1m\u001b[95m [INFO]: == Starting Task: 1. LLM(Large Language Model)을 이용한 지능형 에이전트 경쟁력 제고 방안에 대한 최신 트렌드, 주요 인물, 그리고 주목할 만한 뉴스를 우선순위화하기.\n",
      "2. 목표 독자층의 관심사와 pain point를 고려하여 파악하기.\n",
      "3. 서론, 핵심 요점, 행동 유도(CTA)를 포함한 상세한 콘텐츠 개요 개발하기.\n",
      "4. SEO 키워드와 관련 데이터 또는 출처 포함하기.\u001b[00m\n",
      "\n",
      "\n",
      "\u001b[1m> Entering new CrewAgentExecutor chain...\u001b[0m\n",
      "\u001b[32;1m\u001b[1;3mI now can give a great answer  \n",
      "Final Answer:\n",
      "\n",
      "**지능형 에이전트 경쟁력 제고 방안: LLM(Large Language Model) 활용**\n",
      "\n",
      "**1. 개요**\n",
      "\n",
      "*서론:*  \n",
      "지능형 에이전트는 현대 비즈니스에서 필수적인 도구로 자리잡고 있습니다. 특히, LLM(Large Language Model)의 발전은 이러한 에이전트의 능력을 획기적으로 높였습니다. 본 글에서는 LLM을 활용하여 지능형 에이전트의 경쟁력을 제고할 수 있는 여러 방안과 최신 트렌드를 살펴봅니다.\n",
      "\n",
      "*핵심 요점:*  \n",
      "- LLM의 최신 트렌드 및 발전: GPT-4, PaLM 2 등 최신 모델의 기능과 활용 사례.\n",
      "- 주요 인물과 기업: OpenAI, 구글, 마이크로소프트 등의 기술적 기여.\n",
      "- LLM 활용의 장점: 자연어 처리 능력 향상, 고객 서비스 자동화, 데이터 분석의 고도화.\n",
      "- 실제 적용 사례: 산업별 LLM 적용 사례 소개.\n",
      "- 경쟁력 제고 전략: 맞춤형 솔루션 개발, 지속적 학습 및 데이터 업데이트, 윤리적 AI 활용 방안.\n",
      "\n",
      "*행동 유도(CTA):*  \n",
      "독자들에게 LLM을 활용한 지능형 에이전트 솔루션 도입의 필요성을 강조하며, 관련 세미나 참석이나 기술 컨설팅 문의를 제안합니다.\n",
      "\n",
      "**2. 독자층 분석**\n",
      "\n",
      "- **목표 독자층:** IT 및 AI 기술 담당자, 비즈니스 전략가, 기술 혁신에 관심 있는 경영진.\n",
      "- **관심사:** 최신 AI 기술 동향, 비즈니스에의 AI 적용 가능성, AI 도입을 통한 비용 절감 및 효율성 향상.\n",
      "- **Pain Point:** 기술 도입 시 높은 초기 투자 비용, 기술적 이해 부족, 데이터 프라이버시 및 보안 문제.\n",
      "\n",
      "**3. SEO 키워드**\n",
      "\n",
      "- LLM\n",
      "- 지능형 에이전트\n",
      "- AI 도입 사례\n",
      "- AI 경쟁력\n",
      "- 자연어 처리\n",
      "- GPT-4\n",
      "- PaLM 2\n",
      "- AI 트렌드\n",
      "- AI 기술 혁신\n",
      "\n",
      "**4. 참고 자료**\n",
      "\n",
      "- OpenAI 공식 웹사이트 및 연구 논문\n",
      "- 구글 AI 블로그\n",
      "- 마이크로소프트 AI 연구 결과 보고서\n",
      "- 산업별 AI 적용 사례 연구 (예: 금융, 헬스케어, 고객 서비스 등)\n",
      "- 최신 AI 관련 뉴스 및 기술 매거진\n",
      "\n",
      "위의 콘텐츠 기획은 LLM을 통한 지능형 에이전트의 경쟁력 제고를 위한 실질적이고 정보에 기반한 내용을 제공합니다. 독자들이 이를 통해 AI 기술 도입의 중요성을 인식하고, 실제 비즈니스에 적용할 수 있는 실행 가능한 전략을 얻을 수 있도록 구성하였습니다.\u001b[0m\n",
      "\n",
      "\u001b[1m> Finished chain.\u001b[0m\n",
      "\u001b[1m\u001b[92m [DEBUG]: == [콘텐츠 기획자] Task output: **지능형 에이전트 경쟁력 제고 방안: LLM(Large Language Model) 활용**\n",
      "\n",
      "**1. 개요**\n",
      "\n",
      "*서론:*  \n",
      "지능형 에이전트는 현대 비즈니스에서 필수적인 도구로 자리잡고 있습니다. 특히, LLM(Large Language Model)의 발전은 이러한 에이전트의 능력을 획기적으로 높였습니다. 본 글에서는 LLM을 활용하여 지능형 에이전트의 경쟁력을 제고할 수 있는 여러 방안과 최신 트렌드를 살펴봅니다.\n",
      "\n",
      "*핵심 요점:*  \n",
      "- LLM의 최신 트렌드 및 발전: GPT-4, PaLM 2 등 최신 모델의 기능과 활용 사례.\n",
      "- 주요 인물과 기업: OpenAI, 구글, 마이크로소프트 등의 기술적 기여.\n",
      "- LLM 활용의 장점: 자연어 처리 능력 향상, 고객 서비스 자동화, 데이터 분석의 고도화.\n",
      "- 실제 적용 사례: 산업별 LLM 적용 사례 소개.\n",
      "- 경쟁력 제고 전략: 맞춤형 솔루션 개발, 지속적 학습 및 데이터 업데이트, 윤리적 AI 활용 방안.\n",
      "\n",
      "*행동 유도(CTA):*  \n",
      "독자들에게 LLM을 활용한 지능형 에이전트 솔루션 도입의 필요성을 강조하며, 관련 세미나 참석이나 기술 컨설팅 문의를 제안합니다.\n",
      "\n",
      "**2. 독자층 분석**\n",
      "\n",
      "- **목표 독자층:** IT 및 AI 기술 담당자, 비즈니스 전략가, 기술 혁신에 관심 있는 경영진.\n",
      "- **관심사:** 최신 AI 기술 동향, 비즈니스에의 AI 적용 가능성, AI 도입을 통한 비용 절감 및 효율성 향상.\n",
      "- **Pain Point:** 기술 도입 시 높은 초기 투자 비용, 기술적 이해 부족, 데이터 프라이버시 및 보안 문제.\n",
      "\n",
      "**3. SEO 키워드**\n",
      "\n",
      "- LLM\n",
      "- 지능형 에이전트\n",
      "- AI 도입 사례\n",
      "- AI 경쟁력\n",
      "- 자연어 처리\n",
      "- GPT-4\n",
      "- PaLM 2\n",
      "- AI 트렌드\n",
      "- AI 기술 혁신\n",
      "\n",
      "**4. 참고 자료**\n",
      "\n",
      "- OpenAI 공식 웹사이트 및 연구 논문\n",
      "- 구글 AI 블로그\n",
      "- 마이크로소프트 AI 연구 결과 보고서\n",
      "- 산업별 AI 적용 사례 연구 (예: 금융, 헬스케어, 고객 서비스 등)\n",
      "- 최신 AI 관련 뉴스 및 기술 매거진\n",
      "\n",
      "위의 콘텐츠 기획은 LLM을 통한 지능형 에이전트의 경쟁력 제고를 위한 실질적이고 정보에 기반한 내용을 제공합니다. 독자들이 이를 통해 AI 기술 도입의 중요성을 인식하고, 실제 비즈니스에 적용할 수 있는 실행 가능한 전략을 얻을 수 있도록 구성하였습니다.\n",
      "\n",
      "\u001b[00m\n",
      "\u001b[1m\u001b[95m [DEBUG]: == Working Agent: 콘텐츠 작성자\u001b[00m\n",
      "\u001b[1m\u001b[95m [INFO]: == Starting Task: 1. 콘텐츠 기획을 활용하여 LLM(Large Language Model)을 이용한 지능형 에이전트 경쟁력 제고 방안에 대한 매력적인 블로그 글 작성하기.\n",
      "2. SEO 키워드를 자연스럽게 포함하기.\n",
      "3. 섹션/부제목을 흥미롭게 적절한 이름으로 지정하기.\n",
      "4. 매력적인 서론, 통찰력 있는 본문, 요약하는 결론으로 글을 구성하기.\n",
      "5. 문법 오류를 점검하고 브랜드의 톤앤매너와 일치하는지 확인하기.\n",
      "\u001b[00m\n",
      "\n",
      "\n",
      "\u001b[1m> Entering new CrewAgentExecutor chain...\u001b[0m\n",
      "\u001b[32;1m\u001b[1;3mI now can give a great answer\n",
      "\n",
      "Final Answer:\n",
      "\n",
      "# LLM을 활용한 지능형 에이전트 경쟁력 강화 방안\n",
      "\n",
      "## 서론: 미래를 여는 지능형 에이전트\n",
      "\n",
      "지능형 에이전트는 현대 비즈니스에서 필수적인 도구로 자리잡고 있습니다. 특히, LLM(Large Language Model)의 발전은 이러한 에이전트의 능력을 획기적으로 높였습니다. 이러한 변화는 기업의 경쟁력을 높이고, 고객 경험을 향상시키는 중요한 요소로 작용하고 있습니다. 본 글에서는 LLM을 활용하여 지능형 에이전트의 경쟁력을 제고할 수 있는 여러 방안과 최신 트렌드를 살펴봅니다.\n",
      "\n",
      "## LLM의 최신 트렌드와 발전\n",
      "\n",
      "최근 LLM 기술은 GPT-4와 PaLM 2와 같은 첨단 모델의 등장으로 빠르게 발전하고 있습니다. 이들 모델은 자연어 처리 능력을 획기적으로 개선하여, 복잡한 언어 이해와 생성 작업을 수행할 수 있습니다. OpenAI, 구글, 마이크로소프트와 같은 주요 기업들은 이러한 기술 발전에 기여하며, 다양한 산업에 LLM을 적용하는 데 앞장서고 있습니다. 이러한 최신 트렌드는 기업들이 지능형 에이전트를 통해 혁신을 이끌어낼 수 있는 기회를 제공합니다.\n",
      "\n",
      "## LLM 활용의 장점\n",
      "\n",
      "LLM을 활용한 지능형 에이전트는 자연어 처리 능력을 크게 향상시킬 수 있습니다. 이를 통해 고객 서비스 자동화가 가능해지며, 고객의 요구에 빠르고 정확하게 응답할 수 있습니다. 또한, 데이터 분석의 고도화를 통해 더 깊이 있는 인사이트를 얻을 수 있어, 비즈니스 전략 수립에 큰 도움을 줄 수 있습니다. 이러한 장점은 기업이 경쟁에서 우위를 점할 수 있게 하는 중요한 요소가 됩니다.\n",
      "\n",
      "## 실제 적용 사례: 다양한 산업에서의 성공적인 도입\n",
      "\n",
      "LLM은 다양한 산업에서 그 활용 가능성을 입증하고 있습니다. 금융 분야에서는 고객 상담과 거래 분석에, 헬스케어에서는 환자 기록 분석 및 맞춤형 정보 제공에, 고객 서비스 분야에서는 24/7 자동 응대 시스템 구축에 활용되고 있습니다. 이러한 실제 사례들은 LLM이 비즈니스에 실질적인 가치를 제공할 수 있음을 보여줍니다.\n",
      "\n",
      "## 경쟁력 제고 전략\n",
      "\n",
      "LLM을 활용한 지능형 에이전트의 경쟁력을 높이기 위해서는 몇 가지 전략이 필요합니다. 먼저, 각 기업의 특성에 맞춘 맞춤형 솔루션을 개발해야 합니다. 또한, 지속적인 학습과 데이터 업데이트를 통해 최신 기술을 유지하는 것이 중요합니다. 마지막으로, 윤리적 AI 활용 방안을 마련하여 데이터 프라이버시와 보안을 강화해야 합니다.\n",
      "\n",
      "## 결론: LLM으로 미래를 준비하라\n",
      "\n",
      "LLM을 활용한 지능형 에이전트는 기업의 미래를 이끌어갈 핵심 도구입니다. 최신 AI 기술을 도입함으로써 기업은 경쟁력을 강화하고, 고객에게 더 나은 서비스를 제공할 수 있습니다. LLM을 활용한 솔루션 도입을 고려하는 기업들은 관련 세미나에 참석하거나 기술 컨설팅을 통해 구체적인 전략을 마련하는 것을 추천합니다. 이를 통해 AI 기술 혁신의 선두에 서고, 지속 가능한 성장을 이끌어 나갈 수 있을 것입니다.\u001b[0m\n",
      "\n",
      "\u001b[1m> Finished chain.\u001b[0m\n",
      "\u001b[1m\u001b[92m [DEBUG]: == [콘텐츠 작성자] Task output: # LLM을 활용한 지능형 에이전트 경쟁력 강화 방안\n",
      "\n",
      "## 서론: 미래를 여는 지능형 에이전트\n",
      "\n",
      "지능형 에이전트는 현대 비즈니스에서 필수적인 도구로 자리잡고 있습니다. 특히, LLM(Large Language Model)의 발전은 이러한 에이전트의 능력을 획기적으로 높였습니다. 이러한 변화는 기업의 경쟁력을 높이고, 고객 경험을 향상시키는 중요한 요소로 작용하고 있습니다. 본 글에서는 LLM을 활용하여 지능형 에이전트의 경쟁력을 제고할 수 있는 여러 방안과 최신 트렌드를 살펴봅니다.\n",
      "\n",
      "## LLM의 최신 트렌드와 발전\n",
      "\n",
      "최근 LLM 기술은 GPT-4와 PaLM 2와 같은 첨단 모델의 등장으로 빠르게 발전하고 있습니다. 이들 모델은 자연어 처리 능력을 획기적으로 개선하여, 복잡한 언어 이해와 생성 작업을 수행할 수 있습니다. OpenAI, 구글, 마이크로소프트와 같은 주요 기업들은 이러한 기술 발전에 기여하며, 다양한 산업에 LLM을 적용하는 데 앞장서고 있습니다. 이러한 최신 트렌드는 기업들이 지능형 에이전트를 통해 혁신을 이끌어낼 수 있는 기회를 제공합니다.\n",
      "\n",
      "## LLM 활용의 장점\n",
      "\n",
      "LLM을 활용한 지능형 에이전트는 자연어 처리 능력을 크게 향상시킬 수 있습니다. 이를 통해 고객 서비스 자동화가 가능해지며, 고객의 요구에 빠르고 정확하게 응답할 수 있습니다. 또한, 데이터 분석의 고도화를 통해 더 깊이 있는 인사이트를 얻을 수 있어, 비즈니스 전략 수립에 큰 도움을 줄 수 있습니다. 이러한 장점은 기업이 경쟁에서 우위를 점할 수 있게 하는 중요한 요소가 됩니다.\n",
      "\n",
      "## 실제 적용 사례: 다양한 산업에서의 성공적인 도입\n",
      "\n",
      "LLM은 다양한 산업에서 그 활용 가능성을 입증하고 있습니다. 금융 분야에서는 고객 상담과 거래 분석에, 헬스케어에서는 환자 기록 분석 및 맞춤형 정보 제공에, 고객 서비스 분야에서는 24/7 자동 응대 시스템 구축에 활용되고 있습니다. 이러한 실제 사례들은 LLM이 비즈니스에 실질적인 가치를 제공할 수 있음을 보여줍니다.\n",
      "\n",
      "## 경쟁력 제고 전략\n",
      "\n",
      "LLM을 활용한 지능형 에이전트의 경쟁력을 높이기 위해서는 몇 가지 전략이 필요합니다. 먼저, 각 기업의 특성에 맞춘 맞춤형 솔루션을 개발해야 합니다. 또한, 지속적인 학습과 데이터 업데이트를 통해 최신 기술을 유지하는 것이 중요합니다. 마지막으로, 윤리적 AI 활용 방안을 마련하여 데이터 프라이버시와 보안을 강화해야 합니다.\n",
      "\n",
      "## 결론: LLM으로 미래를 준비하라\n",
      "\n",
      "LLM을 활용한 지능형 에이전트는 기업의 미래를 이끌어갈 핵심 도구입니다. 최신 AI 기술을 도입함으로써 기업은 경쟁력을 강화하고, 고객에게 더 나은 서비스를 제공할 수 있습니다. LLM을 활용한 솔루션 도입을 고려하는 기업들은 관련 세미나에 참석하거나 기술 컨설팅을 통해 구체적인 전략을 마련하는 것을 추천합니다. 이를 통해 AI 기술 혁신의 선두에 서고, 지속 가능한 성장을 이끌어 나갈 수 있을 것입니다.\n",
      "\n",
      "\u001b[00m\n",
      "\u001b[1m\u001b[95m [DEBUG]: == Working Agent: 편집자\u001b[00m\n",
      "\u001b[1m\u001b[95m [INFO]: == Starting Task: 주어진 블로그 글의 문법 오류를 검토하고 브랜드의 톤앤매너와 일치하는지 확인하기.\u001b[00m\n",
      "\n",
      "\n",
      "\u001b[1m> Entering new CrewAgentExecutor chain...\u001b[0m\n",
      "\u001b[32;1m\u001b[1;3mThought: I now can give a great answer\n",
      "\n",
      "Final Answer: \n",
      "\n",
      "```markdown\n",
      "# LLM을 활용한 지능형 에이전트 경쟁력 강화 방안\n",
      "\n",
      "## 서론: 미래를 여는 지능형 에이전트\n",
      "\n",
      "지능형 에이전트는 현대 비즈니스에서 필수적인 도구로 자리잡고 있습니다. 특히, LLM(Large Language Model)의 발전은 이러한 에이전트의 능력을 획기적으로 높였습니다. 이러한 변화는 기업의 경쟁력을 높이고, 고객 경험을 향상시키는 중요한 요소로 작용하고 있습니다. 본 글에서는 LLM을 활용하여 지능형 에이전트의 경쟁력을 제고할 수 있는 여러 방안과 최신 트렌드를 살펴봅니다.\n",
      "\n",
      "## LLM의 최신 트렌드와 발전\n",
      "\n",
      "최근 LLM 기술은 GPT-4와 PaLM 2와 같은 첨단 모델의 등장으로 빠르게 발전하고 있습니다. 이들 모델은 자연어 처리 능력을 획기적으로 개선하여, 복잡한 언어 이해와 생성 작업을 수행할 수 있습니다. OpenAI, 구글, 마이크로소프트와 같은 주요 기업들은 이러한 기술 발전에 기여하며, 다양한 산업에 LLM을 적용하는 데 앞장서고 있습니다. 이러한 최신 트렌드는 기업들이 지능형 에이전트를 통해 혁신을 이끌어낼 수 있는 기회를 제공합니다.\n",
      "\n",
      "## LLM 활용의 장점\n",
      "\n",
      "LLM을 활용한 지능형 에이전트는 자연어 처리 능력을 크게 향상시킬 수 있습니다. 이를 통해 고객 서비스 자동화가 가능해지며, 고객의 요구에 빠르고 정확하게 응답할 수 있습니다. 또한, 데이터 분석의 고도화를 통해 더 깊이 있는 인사이트를 얻을 수 있어, 비즈니스 전략 수립에 큰 도움을 줄 수 있습니다. 이러한 장점은 기업이 경쟁에서 우위를 점할 수 있게 하는 중요한 요소가 됩니다.\n",
      "\n",
      "## 실제 적용 사례: 다양한 산업에서의 성공적인 도입\n",
      "\n",
      "LLM은 다양한 산업에서 그 활용 가능성을 입증하고 있습니다. 금융 분야에서는 고객 상담과 거래 분석에, 헬스케어에서는 환자 기록 분석 및 맞춤형 정보 제공에, 고객 서비스 분야에서는 24/7 자동 응대 시스템 구축에 활용되고 있습니다. 이러한 실제 사례들은 LLM이 비즈니스에 실질적인 가치를 제공할 수 있음을 보여줍니다.\n",
      "\n",
      "## 경쟁력 제고 전략\n",
      "\n",
      "LLM을 활용한 지능형 에이전트의 경쟁력을 높이기 위해서는 몇 가지 전략이 필요합니다. 먼저, 각 기업의 특성에 맞춘 맞춤형 솔루션을 개발해야 합니다. 또한, 지속적인 학습과 데이터 업데이트를 통해 최신 기술을 유지하는 것이 중요합니다. 마지막으로, 윤리적 AI 활용 방안을 마련하여 데이터 프라이버시와 보안을 강화해야 합니다.\n",
      "\n",
      "## 결론: LLM으로 미래를 준비하라\n",
      "\n",
      "LLM을 활용한 지능형 에이전트는 기업의 미래를 이끌어갈 핵심 도구입니다. 최신 AI 기술을 도입함으로써 기업은 경쟁력을 강화하고, 고객에게 더 나은 서비스를 제공할 수 있습니다. LLM을 활용한 솔루션 도입을 고려하는 기업들은 관련 세미나에 참석하거나 기술 컨설팅을 통해 구체적인 전략을 마련하는 것을 추천합니다. 이를 통해 AI 기술 혁신의 선두에 서고, 지속 가능한 성장을 이끌어 나갈 수 있을 것입니다.\n",
      "```\n",
      "\n",
      "This final answer is a well-structured and polished blog post in Markdown format, ready for publication. It follows the organization's writing style, maintains a balanced perspective, and avoids controversial statements.\u001b[0m\n",
      "\n",
      "\u001b[1m> Finished chain.\u001b[0m\n",
      "\u001b[1m\u001b[92m [DEBUG]: == [편집자] Task output: ```markdown\n",
      "# LLM을 활용한 지능형 에이전트 경쟁력 강화 방안\n",
      "\n",
      "## 서론: 미래를 여는 지능형 에이전트\n",
      "\n",
      "지능형 에이전트는 현대 비즈니스에서 필수적인 도구로 자리잡고 있습니다. 특히, LLM(Large Language Model)의 발전은 이러한 에이전트의 능력을 획기적으로 높였습니다. 이러한 변화는 기업의 경쟁력을 높이고, 고객 경험을 향상시키는 중요한 요소로 작용하고 있습니다. 본 글에서는 LLM을 활용하여 지능형 에이전트의 경쟁력을 제고할 수 있는 여러 방안과 최신 트렌드를 살펴봅니다.\n",
      "\n",
      "## LLM의 최신 트렌드와 발전\n",
      "\n",
      "최근 LLM 기술은 GPT-4와 PaLM 2와 같은 첨단 모델의 등장으로 빠르게 발전하고 있습니다. 이들 모델은 자연어 처리 능력을 획기적으로 개선하여, 복잡한 언어 이해와 생성 작업을 수행할 수 있습니다. OpenAI, 구글, 마이크로소프트와 같은 주요 기업들은 이러한 기술 발전에 기여하며, 다양한 산업에 LLM을 적용하는 데 앞장서고 있습니다. 이러한 최신 트렌드는 기업들이 지능형 에이전트를 통해 혁신을 이끌어낼 수 있는 기회를 제공합니다.\n",
      "\n",
      "## LLM 활용의 장점\n",
      "\n",
      "LLM을 활용한 지능형 에이전트는 자연어 처리 능력을 크게 향상시킬 수 있습니다. 이를 통해 고객 서비스 자동화가 가능해지며, 고객의 요구에 빠르고 정확하게 응답할 수 있습니다. 또한, 데이터 분석의 고도화를 통해 더 깊이 있는 인사이트를 얻을 수 있어, 비즈니스 전략 수립에 큰 도움을 줄 수 있습니다. 이러한 장점은 기업이 경쟁에서 우위를 점할 수 있게 하는 중요한 요소가 됩니다.\n",
      "\n",
      "## 실제 적용 사례: 다양한 산업에서의 성공적인 도입\n",
      "\n",
      "LLM은 다양한 산업에서 그 활용 가능성을 입증하고 있습니다. 금융 분야에서는 고객 상담과 거래 분석에, 헬스케어에서는 환자 기록 분석 및 맞춤형 정보 제공에, 고객 서비스 분야에서는 24/7 자동 응대 시스템 구축에 활용되고 있습니다. 이러한 실제 사례들은 LLM이 비즈니스에 실질적인 가치를 제공할 수 있음을 보여줍니다.\n",
      "\n",
      "## 경쟁력 제고 전략\n",
      "\n",
      "LLM을 활용한 지능형 에이전트의 경쟁력을 높이기 위해서는 몇 가지 전략이 필요합니다. 먼저, 각 기업의 특성에 맞춘 맞춤형 솔루션을 개발해야 합니다. 또한, 지속적인 학습과 데이터 업데이트를 통해 최신 기술을 유지하는 것이 중요합니다. 마지막으로, 윤리적 AI 활용 방안을 마련하여 데이터 프라이버시와 보안을 강화해야 합니다.\n",
      "\n",
      "## 결론: LLM으로 미래를 준비하라\n",
      "\n",
      "LLM을 활용한 지능형 에이전트는 기업의 미래를 이끌어갈 핵심 도구입니다. 최신 AI 기술을 도입함으로써 기업은 경쟁력을 강화하고, 고객에게 더 나은 서비스를 제공할 수 있습니다. LLM을 활용한 솔루션 도입을 고려하는 기업들은 관련 세미나에 참석하거나 기술 컨설팅을 통해 구체적인 전략을 마련하는 것을 추천합니다. 이를 통해 AI 기술 혁신의 선두에 서고, 지속 가능한 성장을 이끌어 나갈 수 있을 것입니다.\n",
      "```\n",
      "\n",
      "This final answer is a well-structured and polished blog post in Markdown format, ready for publication. It follows the organization's writing style, maintains a balanced perspective, and avoids controversial statements.\n",
      "\n",
      "\u001b[00m\n"
     ]
    }
   ],
   "source": [
    "result = crew.kickoff(inputs={\"topic\": \"LLM(Large Language Model)을 이용한 지능형 에이전트 경쟁력 제고 방안\"})"
   ]
  },
  {
   "cell_type": "code",
   "execution_count": 23,
   "metadata": {
    "colab": {
     "base_uri": "https://localhost:8080/",
     "height": 518
    },
    "executionInfo": {
     "elapsed": 240,
     "status": "ok",
     "timestamp": 1738288867932,
     "user": {
      "displayName": "Sung Ryel Lim",
      "userId": "17832580391396757133"
     },
     "user_tz": -540
    },
    "height": 47,
    "id": "VEEgWLc9Tf2M",
    "outputId": "670cc216-7696-46ad-ea40-fb249f597e3d"
   },
   "outputs": [
    {
     "data": {
      "text/markdown": [
       "```markdown\n",
       "# LLM을 활용한 지능형 에이전트 경쟁력 강화 방안\n",
       "\n",
       "## 서론: 미래를 여는 지능형 에이전트\n",
       "\n",
       "지능형 에이전트는 현대 비즈니스에서 필수적인 도구로 자리잡고 있습니다. 특히, LLM(Large Language Model)의 발전은 이러한 에이전트의 능력을 획기적으로 높였습니다. 이러한 변화는 기업의 경쟁력을 높이고, 고객 경험을 향상시키는 중요한 요소로 작용하고 있습니다. 본 글에서는 LLM을 활용하여 지능형 에이전트의 경쟁력을 제고할 수 있는 여러 방안과 최신 트렌드를 살펴봅니다.\n",
       "\n",
       "## LLM의 최신 트렌드와 발전\n",
       "\n",
       "최근 LLM 기술은 GPT-4와 PaLM 2와 같은 첨단 모델의 등장으로 빠르게 발전하고 있습니다. 이들 모델은 자연어 처리 능력을 획기적으로 개선하여, 복잡한 언어 이해와 생성 작업을 수행할 수 있습니다. OpenAI, 구글, 마이크로소프트와 같은 주요 기업들은 이러한 기술 발전에 기여하며, 다양한 산업에 LLM을 적용하는 데 앞장서고 있습니다. 이러한 최신 트렌드는 기업들이 지능형 에이전트를 통해 혁신을 이끌어낼 수 있는 기회를 제공합니다.\n",
       "\n",
       "## LLM 활용의 장점\n",
       "\n",
       "LLM을 활용한 지능형 에이전트는 자연어 처리 능력을 크게 향상시킬 수 있습니다. 이를 통해 고객 서비스 자동화가 가능해지며, 고객의 요구에 빠르고 정확하게 응답할 수 있습니다. 또한, 데이터 분석의 고도화를 통해 더 깊이 있는 인사이트를 얻을 수 있어, 비즈니스 전략 수립에 큰 도움을 줄 수 있습니다. 이러한 장점은 기업이 경쟁에서 우위를 점할 수 있게 하는 중요한 요소가 됩니다.\n",
       "\n",
       "## 실제 적용 사례: 다양한 산업에서의 성공적인 도입\n",
       "\n",
       "LLM은 다양한 산업에서 그 활용 가능성을 입증하고 있습니다. 금융 분야에서는 고객 상담과 거래 분석에, 헬스케어에서는 환자 기록 분석 및 맞춤형 정보 제공에, 고객 서비스 분야에서는 24/7 자동 응대 시스템 구축에 활용되고 있습니다. 이러한 실제 사례들은 LLM이 비즈니스에 실질적인 가치를 제공할 수 있음을 보여줍니다.\n",
       "\n",
       "## 경쟁력 제고 전략\n",
       "\n",
       "LLM을 활용한 지능형 에이전트의 경쟁력을 높이기 위해서는 몇 가지 전략이 필요합니다. 먼저, 각 기업의 특성에 맞춘 맞춤형 솔루션을 개발해야 합니다. 또한, 지속적인 학습과 데이터 업데이트를 통해 최신 기술을 유지하는 것이 중요합니다. 마지막으로, 윤리적 AI 활용 방안을 마련하여 데이터 프라이버시와 보안을 강화해야 합니다.\n",
       "\n",
       "## 결론: LLM으로 미래를 준비하라\n",
       "\n",
       "LLM을 활용한 지능형 에이전트는 기업의 미래를 이끌어갈 핵심 도구입니다. 최신 AI 기술을 도입함으로써 기업은 경쟁력을 강화하고, 고객에게 더 나은 서비스를 제공할 수 있습니다. LLM을 활용한 솔루션 도입을 고려하는 기업들은 관련 세미나에 참석하거나 기술 컨설팅을 통해 구체적인 전략을 마련하는 것을 추천합니다. 이를 통해 AI 기술 혁신의 선두에 서고, 지속 가능한 성장을 이끌어 나갈 수 있을 것입니다.\n",
       "```\n",
       "\n",
       "This final answer is a well-structured and polished blog post in Markdown format, ready for publication. It follows the organization's writing style, maintains a balanced perspective, and avoids controversial statements."
      ],
      "text/plain": [
       "<IPython.core.display.Markdown object>"
      ]
     },
     "execution_count": 23,
     "metadata": {},
     "output_type": "execute_result"
    }
   ],
   "source": [
    "from IPython.display import Markdown\n",
    "Markdown(result)"
   ]
  },
  {
   "cell_type": "markdown",
   "metadata": {
    "id": "8iqjhGxGTf2M"
   },
   "source": [
    "- Display the results of your execution as markdown in the notebook."
   ]
  }
 ],
 "metadata": {
  "colab": {
   "gpuType": "T4",
   "provenance": []
  },
  "kernelspec": {
   "display_name": "Python 3 (ipykernel)",
   "language": "python",
   "name": "python3"
  },
  "language_info": {
   "codemirror_mode": {
    "name": "ipython",
    "version": 3
   },
   "file_extension": ".py",
   "mimetype": "text/x-python",
   "name": "python",
   "nbconvert_exporter": "python",
   "pygments_lexer": "ipython3",
   "version": "3.11.5"
  }
 },
 "nbformat": 4,
 "nbformat_minor": 0
}
