{
 "cells": [
  {
   "cell_type": "code",
   "execution_count": 2,
   "metadata": {},
   "outputs": [
    {
     "name": "stdout",
     "output_type": "stream",
     "text": [
      "[결합 전략: merge] -> [gpt-3.5] -> 'What is AI?': [gpt-3.5] 응답: 'What is AI?'에 대한 답변 / 'Explain AI in simple terms': [gpt-3.5] 응답: 'Explain AI in simple terms'에 대한 답변 | [gpt-4] -> 'What is AI?': [gpt-4] 응답: 'What is AI?'에 대한 답변 / 'Explain AI in simple terms': [gpt-4] 응답: 'Explain AI in simple terms'에 대한 답변\n"
     ]
    }
   ],
   "source": [
    "import json\n",
    "def multi_llm_call_lcel(llms, prompts, combine_strategy):\n",
    "     # 모델과 프롬프트 매칭 결과 저장\n",
    "     responses = {}\n",
    "     for llm in llms:\n",
    "           responses[llm] = {}\n",
    "           for prompt in prompts:\n",
    "                 # 예제 응답 (실제 환경에서는 API 호출로 대체)\n",
    "                 responses[llm][prompt] = f\"[{llm}] 응답: '{prompt}'에 대한 답변\"\n",
    "     # LCEL 스타일로 응답을 변환\n",
    "     if combine_strategy == \"merge\":\n",
    "          combined_output = \" | \".join(\n",
    "                f\"[{llm}] -> \" + \" / \".join(f\"'{prompt}': {response}\" for prompt, response in responses[llm].items())\n",
    "                for llm in llms\n",
    "           )\n",
    "     elif combine_strategy == \"separate\":\n",
    "         combined_output = \"\\n\".join(\n",
    "                f\"[{llm}] -> {responses[llm][prompt]}\" for llm in llms for prompt in prompts\n",
    "          )\n",
    "     else:\n",
    "         combined_output = \"[오류 발생] -> 지원되지 않는 결합 전략\"\n",
    "     return f\"[결합 전략: {combine_strategy}] -> {combined_output}\"\n",
    "\n",
    "# 예제 실행\n",
    "llms = [\"gpt-3.5\", \"gpt-4\"]\n",
    "prompts = [\"What is AI?\", \"Explain AI in simple terms\"]\n",
    "combine_strategy = \"merge\"\n",
    "lcel_output = multi_llm_call_lcel(llms, prompts, combine_strategy)\n",
    "print(lcel_output)\n"
   ]
  }
 ],
 "metadata": {
  "kernelspec": {
   "display_name": "base",
   "language": "python",
   "name": "python3"
  },
  "language_info": {
   "codemirror_mode": {
    "name": "ipython",
    "version": 3
   },
   "file_extension": ".py",
   "mimetype": "text/x-python",
   "name": "python",
   "nbconvert_exporter": "python",
   "pygments_lexer": "ipython3",
   "version": "3.11.5"
  }
 },
 "nbformat": 4,
 "nbformat_minor": 2
}
