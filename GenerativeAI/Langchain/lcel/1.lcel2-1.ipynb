{
 "cells": [
  {
   "cell_type": "code",
   "execution_count": 2,
   "metadata": {},
   "outputs": [
    {
     "name": "stdout",
     "output_type": "stream",
     "text": [
      "[필터링 조건: age > 18] -> 필터링된 데이터 개수: 2\n"
     ]
    }
   ],
   "source": [
    "import pandas as pd\n",
    "\n",
    "def filter_data_lcel(data, condition):\n",
    "    try:\n",
    "        # 주어진 조건을 Pandas에서 실행할 수 있도록 변환\n",
    "        filtered_data = data.query(condition)\n",
    "        # LCEL 스타일의 출력 형식 적용\n",
    "        return f\"[필터링 조건: {condition}] -> 필터링된 데이터 개수: {len(filtered_data)}\"\n",
    "    except Exception as e:\n",
    "        return f\"[오류 발생] -> {str(e)}\"\n",
    "\n",
    "# 예제 실행\n",
    "# 예제 데이터 생성\n",
    "data = pd.DataFrame({\n",
    "    \"name\": [\"Alice\", \"Bob\", \"Charlie\", \"David\"],\n",
    "    \"age\": [17, 25, 19, 16]\n",
    "})\n",
    "\n",
    "condition = \"age > 18\"\n",
    "lcel_output = filter_data_lcel(data, condition)\n",
    "print(lcel_output)\n"
   ]
  }
 ],
 "metadata": {
  "kernelspec": {
   "display_name": "Python 3",
   "language": "python",
   "name": "python3"
  },
  "language_info": {
   "codemirror_mode": {
    "name": "ipython",
    "version": 3
   },
   "file_extension": ".py",
   "mimetype": "text/x-python",
   "name": "python",
   "nbconvert_exporter": "python",
   "pygments_lexer": "ipython3",
   "version": "3.11.5"
  }
 },
 "nbformat": 4,
 "nbformat_minor": 2
}
