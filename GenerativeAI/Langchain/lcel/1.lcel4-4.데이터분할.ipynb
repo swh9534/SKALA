{
 "cells": [
  {
   "cell_type": "code",
   "execution_count": 1,
   "metadata": {},
   "outputs": [
    {
     "name": "stdout",
     "output_type": "stream",
     "text": [
      "[데이터 분할 비율: {'train': 0.8, 'test': 0.2}] -> [섞음 여부: True] -> [분할된 데이터: {'train': [{'id': 3, 'value': 'C'}, {'id': 5, 'value': 'E'}, {'id': 2, 'value': 'B'}, {'id': 1, 'value': 'A'}], 'test': [{'id': 4, 'value': 'D'}]}]\n"
     ]
    }
   ],
   "source": [
    "import random\n",
    "\n",
    "def split_data_lcel(data, ratio, shuffle=True):\n",
    "    \"\"\" 데이터 섞기 (shuffle이 True일 경우) \"\"\"\n",
    "    if shuffle:\n",
    "        random.shuffle(data)\n",
    "\n",
    "    # 비율을 기반으로 데이터 분할\n",
    "    total_count = len(data)\n",
    "    split_points = {key: int(total_count * value) for key, value in ratio.items()}\n",
    "    split_result = {}\n",
    "    start_idx = 0\n",
    "\n",
    "    for key, count in split_points.items():\n",
    "        split_result[key] = data[start_idx : start_idx + count]\n",
    "        start_idx += count\n",
    "\n",
    "    # LCEL 스타일로 변환\n",
    "    return f\"[데이터 분할 비율: {ratio}] -> [섞음 여부: {shuffle}] -> [분할된 데이터: {split_result}]\"\n",
    "\n",
    "# 예제 실행\n",
    "data = [\n",
    "    {\"id\": 1, \"value\": \"A\"},\n",
    "    {\"id\": 2, \"value\": \"B\"},\n",
    "    {\"id\": 3, \"value\": \"C\"},\n",
    "    {\"id\": 4, \"value\": \"D\"},\n",
    "    {\"id\": 5, \"value\": \"E\"}\n",
    "]\n",
    "\n",
    "ratio = {\"train\": 0.8, \"test\": 0.2}\n",
    "shuffle = True\n",
    "\n",
    "lcel_output = split_data_lcel(data, ratio, shuffle)\n",
    "print(lcel_output)\n"
   ]
  }
 ],
 "metadata": {
  "kernelspec": {
   "display_name": "base",
   "language": "python",
   "name": "python3"
  },
  "language_info": {
   "codemirror_mode": {
    "name": "ipython",
    "version": 3
   },
   "file_extension": ".py",
   "mimetype": "text/x-python",
   "name": "python",
   "nbconvert_exporter": "python",
   "pygments_lexer": "ipython3",
   "version": "3.11.5"
  }
 },
 "nbformat": 4,
 "nbformat_minor": 2
}
