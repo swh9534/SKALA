{
 "cells": [
  {
   "cell_type": "code",
   "execution_count": 1,
   "metadata": {},
   "outputs": [
    {
     "name": "stdout",
     "output_type": "stream",
     "text": [
      "Hello, World, and how are you?\n"
     ]
    }
   ],
   "source": [
    "def join_sentences_lcel(sentence1, sentence2):\n",
    "    return f\"{sentence1[:-1]}, and {sentence2.lower()}\"\n",
    "\n",
    "# Example usage\n",
    "sentence1 = \"Hello, World!\"\n",
    "sentence2 = \"How are you?\"\n",
    "lcel_output = join_sentences_lcel(sentence1, sentence2)\n",
    "print(lcel_output)\n"
   ]
  }
 ],
 "metadata": {
  "kernelspec": {
   "display_name": "base",
   "language": "python",
   "name": "python3"
  },
  "language_info": {
   "codemirror_mode": {
    "name": "ipython",
    "version": 3
   },
   "file_extension": ".py",
   "mimetype": "text/x-python",
   "name": "python",
   "nbconvert_exporter": "python",
   "pygments_lexer": "ipython3",
   "version": "3.11.5"
  }
 },
 "nbformat": 4,
 "nbformat_minor": 2
}
