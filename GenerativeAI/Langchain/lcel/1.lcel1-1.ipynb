{
 "cells": [
  {
   "cell_type": "code",
   "execution_count": 1,
   "metadata": {},
   "outputs": [
    {
     "name": "stdout",
     "output_type": "stream",
     "text": [
      "2\n"
     ]
    }
   ],
   "source": [
    "# count_words 함수 정의\n",
    "def count_words(text):\n",
    "    return len(text.split())\n",
    "\n",
    "# 간단한 LCEL 환경을 정의하는 딕셔너리\n",
    "lcel_env = {\n",
    "    \"count_words\": count_words\n",
    "}\n",
    "\n",
    "# LCEL 명령어를 파이썬 코드로 실행하는 방식\n",
    "expression = 'count_words(\"Hello, World!\")'\n",
    "result = eval(expression, {}, lcel_env)\n",
    "\n",
    "print(result)  # 출력: 2\n"
   ]
  }
 ],
 "metadata": {
  "kernelspec": {
   "display_name": "base",
   "language": "python",
   "name": "python3"
  },
  "language_info": {
   "codemirror_mode": {
    "name": "ipython",
    "version": 3
   },
   "file_extension": ".py",
   "mimetype": "text/x-python",
   "name": "python",
   "nbconvert_exporter": "python",
   "pygments_lexer": "ipython3",
   "version": "3.11.5"
  }
 },
 "nbformat": 4,
 "nbformat_minor": 2
}
