{
 "cells": [
  {
   "cell_type": "code",
   "execution_count": 1,
   "metadata": {},
   "outputs": [
    {
     "name": "stdout",
     "output_type": "stream",
     "text": [
      "[템플릿: Summarize the following data: {data}] -> [채워진 변수: {'data': '[{\"name\": \"Alice\", \"age\": 25}, {\"name\": \"Bob\", \"age\": 30}]'}] -> [생성된 프롬프트: Summarize the following data: [{\"name\": \"Alice\", \"age\": 25}, {\"name\": \"Bob\", \"age\": 30}]]\n"
     ]
    }
   ],
   "source": [
    "import json\n",
    "\n",
    "def generate_prompt_lcel(template, variables):\n",
    "    \"\"\" 변수 내 데이터를 문자열로 변환 \"\"\"\n",
    "    for key, value in variables.items():\n",
    "        if isinstance(value, (dict, list)):\n",
    "            variables[key] = json.dumps(value, ensure_ascii=False)  # 한글이 포함될 경우 깨지지 않도록 설정\n",
    "\n",
    "    # 템플릿에서 변수 값을 채워넣기\n",
    "    try:\n",
    "        generated_prompt = template.format(**variables)\n",
    "    except KeyError as e:\n",
    "        return f\"[오류 발생] -> [누락된 변수: {str(e)}]\"\n",
    "\n",
    "    # LCEL 스타일로 변환\n",
    "    return f\"[템플릿: {template}] -> [채워진 변수: {variables}] -> [생성된 프롬프트: {generated_prompt}]\"\n",
    "\n",
    "# 예제 실행\n",
    "template = \"Summarize the following data: {data}\"\n",
    "variables = {\"data\": [{\"name\": \"Alice\", \"age\": 25}, {\"name\": \"Bob\", \"age\": 30}]}\n",
    "\n",
    "lcel_output = generate_prompt_lcel(template, variables)\n",
    "print(lcel_output)"
   ]
  }
 ],
 "metadata": {
  "kernelspec": {
   "display_name": "base",
   "language": "python",
   "name": "python3"
  },
  "language_info": {
   "codemirror_mode": {
    "name": "ipython",
    "version": 3
   },
   "file_extension": ".py",
   "mimetype": "text/x-python",
   "name": "python",
   "nbconvert_exporter": "python",
   "pygments_lexer": "ipython3",
   "version": "3.11.5"
  }
 },
 "nbformat": 4,
 "nbformat_minor": 2
}
