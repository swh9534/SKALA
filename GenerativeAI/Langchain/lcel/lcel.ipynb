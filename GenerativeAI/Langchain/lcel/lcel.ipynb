{
 "cells": [
  {
   "cell_type": "code",
   "execution_count": 1,
   "metadata": {},
   "outputs": [
    {
     "name": "stdout",
     "output_type": "stream",
     "text": [
      "2\n"
     ]
    }
   ],
   "source": [
    "# count_words 함수 정의\n",
    "def count_words(text):\n",
    "    return len(text.split())\n",
    "\n",
    "# 간단한 LCEL 환경을 정의하는 딕셔너리\n",
    "lcel_env = {\n",
    "    \"count_words\": count_words\n",
    "}\n",
    "\n",
    "# LCEL 명령어를 파이썬 코드로 실행하는 방식\n",
    "expression = 'count_words(\"Hello, World!\")'\n",
    "result = eval(expression, {}, lcel_env)\n",
    "\n",
    "print(result)  # 출력: 2\n"
   ]
  },
  {
   "cell_type": "code",
   "execution_count": 2,
   "metadata": {},
   "outputs": [
    {
     "name": "stdout",
     "output_type": "stream",
     "text": [
      "Hello, World, and how are you?\n"
     ]
    }
   ],
   "source": [
    "def join_sentences_lcel(sentence1, sentence2):\n",
    "    return f\"{sentence1[:-1]}, and {sentence2.lower()}\"\n",
    "\n",
    "# Example usage\n",
    "sentence1 = \"Hello, World!\"\n",
    "sentence2 = \"How are you?\"\n",
    "lcel_output = join_sentences_lcel(sentence1, sentence2)\n",
    "print(lcel_output)\n"
   ]
  },
  {
   "cell_type": "code",
   "execution_count": 3,
   "metadata": {},
   "outputs": [
    {
     "name": "stdout",
     "output_type": "stream",
     "text": [
      "[Transformation: lowercase] -> hello, world!\n"
     ]
    }
   ],
   "source": [
    "def convert_word_lcel(text, mode):\n",
    "    if mode == \"lowercase\":\n",
    "        transformed_text = text.lower()\n",
    "    elif mode == \"uppercase\":\n",
    "        transformed_text = text.upper()\n",
    "    elif mode == \"capitalize\":\n",
    "        transformed_text = text.capitalize()\n",
    "    else:\n",
    "        transformed_text = text  # Default case (no transformation)\n",
    "\n",
    "    return f\"[Transformation: {mode}] -> {transformed_text}\"\n",
    "\n",
    "# Example usage\n",
    "text = \"Hello, World!\"\n",
    "mode = \"lowercase\"\n",
    "lcel_output = convert_word_lcel(text, mode)\n",
    "print(lcel_output)\n"
   ]
  },
  {
   "cell_type": "code",
   "execution_count": 4,
   "metadata": {},
   "outputs": [
    {
     "name": "stdout",
     "output_type": "stream",
     "text": [
      "[필터링 조건: age > 18] -> 필터링된 데이터 개수: 2\n"
     ]
    }
   ],
   "source": [
    "import pandas as pd\n",
    "\n",
    "def filter_data_lcel(data, condition):\n",
    "    try:\n",
    "        # 주어진 조건을 Pandas에서 실행할 수 있도록 변환\n",
    "        filtered_data = data.query(condition)\n",
    "        # LCEL 스타일의 출력 형식 적용\n",
    "        return f\"[필터링 조건: {condition}] -> 필터링된 데이터 개수: {len(filtered_data)}\"\n",
    "    except Exception as e:\n",
    "        return f\"[오류 발생] -> {str(e)}\"\n",
    "\n",
    "# 예제 실행\n",
    "# 예제 데이터 생성\n",
    "data = pd.DataFrame({\n",
    "    \"name\": [\"Alice\", \"Bob\", \"Charlie\", \"David\"],\n",
    "    \"age\": [17, 25, 19, 16]\n",
    "})\n",
    "\n",
    "condition = \"age > 18\"\n",
    "lcel_output = filter_data_lcel(data, condition)\n",
    "print(lcel_output)\n"
   ]
  },
  {
   "cell_type": "code",
   "execution_count": 5,
   "metadata": {},
   "outputs": [
    {
     "name": "stdout",
     "output_type": "stream",
     "text": [
      "[결합 전략: merge] -> [gpt-3.5] -> 'What is AI?': [gpt-3.5] 응답: 'What is AI?'에 대한 답변 / 'Explain AI in simple terms': [gpt-3.5] 응답: 'Explain AI in simple terms'에 대한 답변 | [gpt-4] -> 'What is AI?': [gpt-4] 응답: 'What is AI?'에 대한 답변 / 'Explain AI in simple terms': [gpt-4] 응답: 'Explain AI in simple terms'에 대한 답변\n"
     ]
    }
   ],
   "source": [
    "import json\n",
    "\n",
    "def multi_llm_call_lcel(llms, prompts, combine_strategy):\n",
    "    # 모델과 프롬프트 매칭 결과 저장\n",
    "    responses = {}\n",
    "    for llm in llms:\n",
    "        responses[llm] = {}\n",
    "        for prompt in prompts:\n",
    "            # 예제 응답 (실제 환경에서는 API 호출로 대체)\n",
    "            responses[llm][prompt] = f\"[{llm}] 응답: '{prompt}'에 대한 답변\"\n",
    "\n",
    "    # LCEL 스타일로 응답을 변환\n",
    "    if combine_strategy == \"merge\":\n",
    "        combined_output = \" | \".join(\n",
    "            f\"[{llm}] -> \" + \" / \".join(f\"'{prompt}': {response}\" for prompt, response in responses[llm].items())\n",
    "            for llm in llms\n",
    "        )\n",
    "    elif combine_strategy == \"separate\":\n",
    "        combined_output = \"\\n\".join(\n",
    "            f\"[{llm}] -> {responses[llm][prompt]}\" for llm in llms for prompt in prompts\n",
    "        )\n",
    "    else:\n",
    "        combined_output = \"[오류 발생] -> 지원되지 않는 결합 전략\"\n",
    "\n",
    "    return f\"[결합 전략: {combine_strategy}] -> {combined_output}\"\n",
    "\n",
    "# 예제 실행\n",
    "llms = [\"gpt-3.5\", \"gpt-4\"]\n",
    "prompts = [\"What is AI?\", \"Explain AI in simple terms\"]\n",
    "combine_strategy = \"merge\"\n",
    "\n",
    "lcel_output = multi_llm_call_lcel(llms, prompts, combine_strategy)\n",
    "print(lcel_output)\n"
   ]
  },
  {
   "cell_type": "code",
   "execution_count": 6,
   "metadata": {},
   "outputs": [
    {
     "name": "stdout",
     "output_type": "stream",
     "text": [
      "[데이터 소스: database] -> [쿼리: SELECT name, age FROM users WHERE age > 18] -> [추출된 데이터 개수: 2] -> [LLM 사용: gpt-4] -> [프롬프트: Generate a summary of adult users in the database.] -> [요약: [gpt-4] 응답: 'Generate a summary of adult users in the database.'에 대한 요약 생성 완료]\n"
     ]
    }
   ],
   "source": [
    "import pandas as pd\n",
    "\n",
    "def fetch_and_process_data_lcel(data_source, query, llm_prompt, llm):\n",
    "    # 예제 데이터 (실제 환경에서는 데이터베이스에서 가져와야 함)\n",
    "    sample_data = pd.DataFrame({\n",
    "        \"name\": [\"Alice\", \"Bob\", \"Charlie\", \"David\"],\n",
    "        \"age\": [17, 25, 19, 16]\n",
    "    })\n",
    "    \n",
    "    try:\n",
    "        # 나이가 18 이상인 사용자 필터링\n",
    "        filtered_data = sample_data.query(\"age > 18\")\n",
    "        num_results = len(filtered_data)\n",
    "\n",
    "        # LLM을 사용하여 요약 생성 (예제 응답)\n",
    "        llm_response = f\"[{llm}] 응답: '{llm_prompt}'에 대한 요약 생성 완료\"\n",
    "\n",
    "        return (\n",
    "            f\"[데이터 소스: {data_source}] -> [쿼리: {query}] -> \"\n",
    "            f\"[추출된 데이터 개수: {num_results}] -> \"\n",
    "            f\"[LLM 사용: {llm}] -> [프롬프트: {llm_prompt}] -> [요약: {llm_response}]\"\n",
    "        )\n",
    "    except Exception as e:\n",
    "        return f\"[오류 발생] -> {str(e)}\"\n",
    "\n",
    "# 예제 실행\n",
    "data_source = \"database\"\n",
    "query = \"SELECT name, age FROM users WHERE age > 18\"\n",
    "llm_prompt = \"Generate a summary of adult users in the database.\"\n",
    "llm = \"gpt-4\"\n",
    "\n",
    "lcel_output = fetch_and_process_data_lcel(data_source, query, llm_prompt, llm)\n",
    "print(lcel_output)\n"
   ]
  },
  {
   "cell_type": "code",
   "execution_count": 7,
   "metadata": {},
   "outputs": [
    {
     "name": "stdout",
     "output_type": "stream",
     "text": [
      "[필터링 조건: age > 18] -> 필터링된 데이터 개수: 2\n"
     ]
    }
   ],
   "source": [
    "import pandas as pd\n",
    "def filter_data_lcel(data, condition):\n",
    "      try:\n",
    "            # 주어진 조건을 Pandas에서 실행할 수 있도록 변환\n",
    "            filtered_data = data.query(condition)\n",
    "            # LCEL 스타일의 출력 형식 적용\n",
    "            return f\"[필터링 조건: {condition}] -> 필터링된 데이터 개수: {len(filtered_data)}\"\n",
    "      except Exception as e:\n",
    "            return f\"[오류 발생] -> {str(e)}\"\n",
    "# 예제 실행\n",
    "# 예제 데이터 생성\n",
    "data = pd.DataFrame({\n",
    "       \"name\": [\"Alice\", \"Bob\", \"Charlie\", \"David\"],\n",
    "       \"age\": [17, 25, 19, 16]\n",
    "})\n",
    "condition = \"age > 18\"\n",
    "lcel_output = filter_data_lcel(data, condition)\n",
    "print(lcel_output)"
   ]
  },
  {
   "cell_type": "code",
   "execution_count": 8,
   "metadata": {},
   "outputs": [
    {
     "name": "stdout",
     "output_type": "stream",
     "text": [
      "[결합 전략: merge] -> [gpt-3.5] -> 'What is AI?': [gpt-3.5] 응답: 'What is AI?'에 대한 답변 / 'Explain AI in simple terms': [gpt-3.5] 응답: 'Explain AI in simple terms'에 대한 답변 | [gpt-4] -> 'What is AI?': [gpt-4] 응답: 'What is AI?'에 대한 답변 / 'Explain AI in simple terms': [gpt-4] 응답: 'Explain AI in simple terms'에 대한 답변\n"
     ]
    }
   ],
   "source": [
    "import json\n",
    "def multi_llm_call_lcel(llms, prompts, combine_strategy):\n",
    "     # 모델과 프롬프트 매칭 결과 저장\n",
    "     responses = {}\n",
    "     for llm in llms:\n",
    "           responses[llm] = {}\n",
    "           for prompt in prompts:\n",
    "                 # 예제 응답 (실제 환경에서는 API 호출로 대체)\n",
    "                 responses[llm][prompt] = f\"[{llm}] 응답: '{prompt}'에 대한 답변\"\n",
    "     # LCEL 스타일로 응답을 변환\n",
    "     if combine_strategy == \"merge\":\n",
    "          combined_output = \" | \".join(\n",
    "                f\"[{llm}] -> \" + \" / \".join(f\"'{prompt}': {response}\" for prompt, response in responses[llm].items())\n",
    "                for llm in llms\n",
    "           )\n",
    "     elif combine_strategy == \"separate\":\n",
    "         combined_output = \"\\n\".join(\n",
    "                f\"[{llm}] -> {responses[llm][prompt]}\" for llm in llms for prompt in prompts\n",
    "          )\n",
    "     else:\n",
    "         combined_output = \"[오류 발생] -> 지원되지 않는 결합 전략\"\n",
    "     return f\"[결합 전략: {combine_strategy}] -> {combined_output}\"\n",
    "\n",
    "# 예제 실행\n",
    "llms = [\"gpt-3.5\", \"gpt-4\"]\n",
    "prompts = [\"What is AI?\", \"Explain AI in simple terms\"]\n",
    "combine_strategy = \"merge\"\n",
    "lcel_output = multi_llm_call_lcel(llms, prompts, combine_strategy)\n",
    "print(lcel_output)\n"
   ]
  },
  {
   "cell_type": "code",
   "execution_count": 9,
   "metadata": {},
   "outputs": [
    {
     "name": "stdout",
     "output_type": "stream",
     "text": [
      "[데이터 소스: database] -> [쿼리: SELECT name, age FROM users WHERE age > 18] -> [추출된 데이터 개수: 2] -> [LLM 사용: gpt-4] -> [프롬프트: Generate a summary of adult users in the database.] -> [요약: [gpt-4] 응답: 'Generate a summary of adult users in the database.'에 대한 요약 생성 완료]\n"
     ]
    }
   ],
   "source": [
    "import pandas as pd\n",
    "def fetch_and_process_data_lcel(data_source, query, llm_prompt, llm):\n",
    "   # 예제 데이터 (실제 환경에서는 데이터베이스에서 가져와야 함)\n",
    "   sample_data = pd.DataFrame({\n",
    "       \"name\": [\"Alice\", \"Bob\", \"Charlie\", \"David\"],\n",
    "       \"age\": [17, 25, 19, 16]\n",
    "   })  \n",
    "   try:\n",
    "         filtered_data = sample_data.query(\"age > 18\")\n",
    "         num_results = len(filtered_data)\n",
    "    # LLM을 사용하여 요약 생성 (예제 응답)\n",
    "         llm_response = f\"[{llm}] 응답: '{llm_prompt}'에 대한 요약 생성 완료\"\n",
    "         return (\n",
    "            f\"[데이터 소스: {data_source}] -> [쿼리: {query}] -> \"\n",
    "            f\"[추출된 데이터 개수: {num_results}] -> \"\n",
    "            f\"[LLM 사용: {llm}] -> [프롬프트: {llm_prompt}] -> [요약: {llm_response}]\"\n",
    "         )\n",
    "   except Exception as e:\n",
    "        return f\"[오류 발생] -> {str(e)}\"\n",
    "\n",
    "# 예제 실행\n",
    "data_source = \"database\"\n",
    "query = \"SELECT name, age FROM users WHERE age > 18\"\n",
    "llm_prompt = \"Generate a summary of adult users in the database.\"\n",
    "llm = \"gpt-4\"\n",
    "lcel_output = fetch_and_process_data_lcel(data_source, query, llm_prompt, llm)\n",
    "print(lcel_output)\n"
   ]
  },
  {
   "cell_type": "code",
   "execution_count": 10,
   "metadata": {},
   "outputs": [
    {
     "name": "stdout",
     "output_type": "stream",
     "text": [
      "[데이터 소스: database] -> [쿼리: SELECT name, age FROM users WHERE age > 18] -> [추출된 데이터 개수: 2] -> [LLM 사용: gpt-4] -> [프롬프트: Generate a summary of adult users in the database.]\n",
      "[요약: [gpt-4] 응답: 'Generate a summary of adult users in the database.'에 대한 요약 생성 완료\n",
      "추출된 데이터:\n",
      "   name  age\n",
      "    Bob   25\n",
      "Charlie   19]\n"
     ]
    }
   ],
   "source": [
    "import pandas as pd\n",
    "\n",
    "def fetch_and_process_data_lcel(data_source, query, llm_prompt, llm):\n",
    "    # 예제 데이터 (실제 환경에서는 데이터베이스에서 가져와야 함)\n",
    "    sample_data = pd.DataFrame({\n",
    "        \"name\": [\"Alice\", \"Bob\", \"Charlie\", \"David\"],\n",
    "        \"age\": [17, 25, 19, 16]\n",
    "    })\n",
    "\n",
    "    try:\n",
    "        # 데이터를 필터링하여 성인(18세 이상)만 추출\n",
    "        filtered_data = sample_data.query(\"age > 18\")\n",
    "        num_results = len(filtered_data)\n",
    "\n",
    "        # LLM을 사용하여 요약 생성 (filtered_data 활용)\n",
    "        llm_response = f\"[{llm}] 응답: '{llm_prompt}'에 대한 요약 생성 완료\\n\" \\\n",
    "                       f\"추출된 데이터:\\n{filtered_data.to_string(index=False)}\"\n",
    "\n",
    "        return (\n",
    "            f\"[데이터 소스: {data_source}] -> [쿼리: {query}] -> \"\n",
    "            f\"[추출된 데이터 개수: {num_results}] -> \"\n",
    "            f\"[LLM 사용: {llm}] -> [프롬프트: {llm_prompt}]\\n\"\n",
    "            f\"[요약: {llm_response}]\"\n",
    "        )\n",
    "\n",
    "    except Exception as e:\n",
    "        return f\"[오류 발생] -> {str(e)}\"\n",
    "\n",
    "# 예제 실행\n",
    "data_source = \"database\"\n",
    "query = \"SELECT name, age FROM users WHERE age > 18\"\n",
    "llm_prompt = \"Generate a summary of adult users in the database.\"\n",
    "llm = \"gpt-4\"\n",
    "\n",
    "lcel_output = fetch_and_process_data_lcel(data_source, query, llm_prompt, llm)\n",
    "print(lcel_output)\n"
   ]
  },
  {
   "cell_type": "code",
   "execution_count": 11,
   "metadata": {},
   "outputs": [
    {
     "name": "stdout",
     "output_type": "stream",
     "text": [
      "[적용된 연산: ['strip_whitespace', 'remove_nulls']] -> [정제된 데이터: [{'name': 'Alice', 'age': 25}, {'age': 30}, {'name': 'Bob'}]]\n"
     ]
    }
   ],
   "source": [
    "def clean_data_lcel(data, operations):\n",
    "    \"\"\" 정제된 데이터를 저장할 리스트 \"\"\"\n",
    "    cleaned_data = []\n",
    "    \n",
    "    for item in data:\n",
    "        new_item = item.copy()\n",
    "        \n",
    "        # 문자열에서 앞뒤 공백 제거\n",
    "        if \"strip_whitespace\" in operations:\n",
    "            new_item = {key: value.strip() if isinstance(value, str) else value for key, value in new_item.items()}\n",
    "        \n",
    "        # null 또는 None 값을 가진 항목 제거\n",
    "        if \"remove_nulls\" in operations:\n",
    "            new_item = {key: value for key, value in new_item.items() if value is not None}\n",
    "        \n",
    "        # 데이터가 비어 있지 않으면 추가\n",
    "        if new_item:\n",
    "            cleaned_data.append(new_item)\n",
    "    \n",
    "    return f\"[적용된 연산: {operations}] -> [정제된 데이터: {cleaned_data}]\"\n",
    "\n",
    "# 예제 실행\n",
    "data = [\n",
    "    {\"name\": \" Alice \", \"age\": 25},\n",
    "    {\"name\": None, \"age\": 30},\n",
    "    {\"name\": \" Bob \", \"age\": None}\n",
    "]\n",
    "\n",
    "operations = [\"strip_whitespace\", \"remove_nulls\"]\n",
    "lcel_output = clean_data_lcel(data, operations)\n",
    "print(lcel_output)\n"
   ]
  },
  {
   "cell_type": "code",
   "execution_count": 12,
   "metadata": {},
   "outputs": [
    {
     "name": "stdout",
     "output_type": "stream",
     "text": [
      "[적용된 변환: [{'field': 'name', 'operation': 'lower'}, {'field': 'age', 'operation': 'add', 'value': 5}]] -> [변환된 데이터: [{'name': 'alice', 'age': 30}, {'name': 'bob', 'age': 35}]]\n"
     ]
    }
   ],
   "source": [
    "def transform_data_lcel(data, transformations):\n",
    "    \"\"\" 변환된 데이터를 저장할 리스트 \"\"\"\n",
    "    transformed_data = []\n",
    "    \n",
    "    for item in data:\n",
    "        new_item = item.copy()\n",
    "        \n",
    "        for transformation in transformations:\n",
    "            field = transformation[\"field\"]\n",
    "            operation = transformation[\"operation\"]\n",
    "\n",
    "            # 필드가 존재하는 경우에만 변환 적용\n",
    "            if field in new_item:\n",
    "                if operation == \"lower\":\n",
    "                    # 필드의 값을 소문자로 변환\n",
    "                    new_item[field] = new_item[field].lower() if isinstance(new_item[field], str) else new_item[field]\n",
    "                \n",
    "                elif operation == \"add\" and \"value\" in transformation:\n",
    "                    # 필드의 값에 지정된 숫자를 더함\n",
    "                    new_item[field] = new_item[field] + transformation[\"value\"] if isinstance(new_item[field], (int, float)) else new_item[field]\n",
    "        \n",
    "        transformed_data.append(new_item)\n",
    "\n",
    "    return f\"[적용된 변환: {transformations}] -> [변환된 데이터: {transformed_data}]\"\n",
    "\n",
    "# 예제 실행\n",
    "data = [\n",
    "    {\"name\": \"Alice\", \"age\": 25},\n",
    "    {\"name\": \"Bob\", \"age\": 30}\n",
    "]\n",
    "\n",
    "transformations = [\n",
    "    {\"field\": \"name\", \"operation\": \"lower\"},\n",
    "    {\"field\": \"age\", \"operation\": \"add\", \"value\": 5}\n",
    "]\n",
    "\n",
    "lcel_output = transform_data_lcel(data, transformations)\n",
    "print(lcel_output)\n"
   ]
  },
  {
   "cell_type": "code",
   "execution_count": 13,
   "metadata": {},
   "outputs": [
    {
     "name": "stdout",
     "output_type": "stream",
     "text": [
      "[데이터 분할 비율: {'train': 0.8, 'test': 0.2}] -> [섞음 여부: True] -> [분할된 데이터: {'train': [{'id': 5, 'value': 'E'}, {'id': 4, 'value': 'D'}, {'id': 2, 'value': 'B'}, {'id': 1, 'value': 'A'}], 'test': [{'id': 3, 'value': 'C'}]}]\n"
     ]
    }
   ],
   "source": [
    "import random\n",
    "\n",
    "def split_data_lcel(data, ratio, shuffle=True):\n",
    "    \"\"\" 데이터 섞기 (shuffle이 True일 경우) \"\"\"\n",
    "    if shuffle:\n",
    "        random.shuffle(data)\n",
    "\n",
    "    # 비율을 기반으로 데이터 분할\n",
    "    total_count = len(data)\n",
    "    split_points = {key: int(total_count * value) for key, value in ratio.items()}\n",
    "    split_result = {}\n",
    "    start_idx = 0\n",
    "\n",
    "    for key, count in split_points.items():\n",
    "        split_result[key] = data[start_idx : start_idx + count]\n",
    "        start_idx += count\n",
    "\n",
    "    # LCEL 스타일로 변환\n",
    "    return f\"[데이터 분할 비율: {ratio}] -> [섞음 여부: {shuffle}] -> [분할된 데이터: {split_result}]\"\n",
    "\n",
    "# 예제 실행\n",
    "data = [\n",
    "    {\"id\": 1, \"value\": \"A\"},\n",
    "    {\"id\": 2, \"value\": \"B\"},\n",
    "    {\"id\": 3, \"value\": \"C\"},\n",
    "    {\"id\": 4, \"value\": \"D\"},\n",
    "    {\"id\": 5, \"value\": \"E\"}\n",
    "]\n",
    "\n",
    "ratio = {\"train\": 0.8, \"test\": 0.2}\n",
    "shuffle = True\n",
    "\n",
    "lcel_output = split_data_lcel(data, ratio, shuffle)\n",
    "print(lcel_output)\n"
   ]
  },
  {
   "cell_type": "code",
   "execution_count": 14,
   "metadata": {},
   "outputs": [
    {
     "name": "stdout",
     "output_type": "stream",
     "text": [
      "[템플릿: You are a helpful assistant. Answer the question: {question}] -> [채워진 변수: {'question': 'What is artificial intelligence?'}] -> [생성된 프롬프트: You are a helpful assistant. Answer the question: What is artificial intelligence?]\n"
     ]
    }
   ],
   "source": [
    "def generate_prompt_lcel(template, variables):\n",
    "    \"\"\" 템플릿에서 변수 값을 채워넣기 \"\"\"\n",
    "    try:\n",
    "        generated_prompt = template.format(**variables)\n",
    "    except KeyError as e:\n",
    "        return f\"[오류 발생] -> [누락된 변수: {str(e)}]\"\n",
    "\n",
    "    # LCEL 스타일로 변환\n",
    "    return f\"[템플릿: {template}] -> [채워진 변수: {variables}] -> [생성된 프롬프트: {generated_prompt}]\"\n",
    "\n",
    "# 예제 실행\n",
    "template = \"You are a helpful assistant. Answer the question: {question}\"\n",
    "variables = {\"question\": \"What is artificial intelligence?\"}\n",
    "\n",
    "lcel_output = generate_prompt_lcel(template, variables)\n",
    "print(lcel_output)\n"
   ]
  },
  {
   "cell_type": "code",
   "execution_count": 15,
   "metadata": {},
   "outputs": [
    {
     "name": "stdout",
     "output_type": "stream",
     "text": [
      "[템플릿: You are a {role}. {details}] -> [채워진 변수: {'role': 'teacher', 'details': 'Explain this concept in simple terms.'}] -> [생성된 프롬프트: You are a teacher. Explain this concept in simple terms.]\n"
     ]
    }
   ],
   "source": [
    "def generate_prompt_lcel(template, variables):\n",
    "    \"\"\" 변수 값에 따른 조건부 로직 적용 \"\"\"\n",
    "    role = variables.get(\"role\", \"\")\n",
    "    details = \"Explain this concept in simple terms.\" if role == \"teacher\" else \"Provide detailed insights.\"\n",
    "\n",
    "    # 변수에 조건부 로직 반영\n",
    "    variables[\"details\"] = details\n",
    "\n",
    "    # 템플릿에서 변수 값을 채워넣기\n",
    "    try:\n",
    "        generated_prompt = template.format(**variables)\n",
    "    except KeyError as e:\n",
    "        return f\"[오류 발생] -> [누락된 변수: {str(e)}]\"\n",
    "\n",
    "    # LCEL 스타일로 변환\n",
    "    return f\"[템플릿: {template}] -> [채워진 변수: {variables}] -> [생성된 프롬프트: {generated_prompt}]\"\n",
    "\n",
    "# 예제 실행\n",
    "template = \"You are a {role}. {details}\"\n",
    "variables = {\"role\": \"teacher\"}\n",
    "\n",
    "lcel_output = generate_prompt_lcel(template, variables)\n",
    "print(lcel_output)"
   ]
  },
  {
   "cell_type": "code",
   "execution_count": 16,
   "metadata": {},
   "outputs": [
    {
     "name": "stdout",
     "output_type": "stream",
     "text": [
      "[템플릿: Summarize the following data: {data}] -> [채워진 변수: {'data': '[{\"name\": \"Alice\", \"age\": 25}, {\"name\": \"Bob\", \"age\": 30}]'}] -> [생성된 프롬프트: Summarize the following data: [{\"name\": \"Alice\", \"age\": 25}, {\"name\": \"Bob\", \"age\": 30}]]\n"
     ]
    }
   ],
   "source": [
    "import json\n",
    "\n",
    "def generate_prompt_lcel(template, variables):\n",
    "    \"\"\" 변수 내 데이터를 문자열로 변환 \"\"\"\n",
    "    for key, value in variables.items():\n",
    "        if isinstance(value, (dict, list)):\n",
    "            variables[key] = json.dumps(value, ensure_ascii=False)  # 한글이 포함될 경우 깨지지 않도록 설정\n",
    "\n",
    "    # 템플릿에서 변수 값을 채워넣기\n",
    "    try:\n",
    "        generated_prompt = template.format(**variables)\n",
    "    except KeyError as e:\n",
    "        return f\"[오류 발생] -> [누락된 변수: {str(e)}]\"\n",
    "\n",
    "    # LCEL 스타일로 변환\n",
    "    return f\"[템플릿: {template}] -> [채워진 변수: {variables}] -> [생성된 프롬프트: {generated_prompt}]\"\n",
    "\n",
    "# 예제 실행\n",
    "template = \"Summarize the following data: {data}\"\n",
    "variables = {\"data\": [{\"name\": \"Alice\", \"age\": 25}, {\"name\": \"Bob\", \"age\": 30}]}\n",
    "\n",
    "lcel_output = generate_prompt_lcel(template, variables)\n",
    "print(lcel_output)"
   ]
  }
 ],
 "metadata": {
  "kernelspec": {
   "display_name": "LLM",
   "language": "python",
   "name": "python3"
  },
  "language_info": {
   "codemirror_mode": {
    "name": "ipython",
    "version": 3
   },
   "file_extension": ".py",
   "mimetype": "text/x-python",
   "name": "python",
   "nbconvert_exporter": "python",
   "pygments_lexer": "ipython3",
   "version": "3.10.16"
  }
 },
 "nbformat": 4,
 "nbformat_minor": 2
}
