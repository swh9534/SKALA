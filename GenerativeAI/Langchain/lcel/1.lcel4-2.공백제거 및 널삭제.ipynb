{
 "cells": [
  {
   "cell_type": "code",
   "execution_count": 2,
   "metadata": {},
   "outputs": [
    {
     "name": "stdout",
     "output_type": "stream",
     "text": [
      "[적용된 연산: ['strip_whitespace', 'remove_nulls']] -> [정제된 데이터: [{'name': 'Alice', 'age': 25}, {'age': 30}, {'name': 'Bob'}]]\n"
     ]
    }
   ],
   "source": [
    "def clean_data_lcel(data, operations):\n",
    "    \"\"\" 정제된 데이터를 저장할 리스트 \"\"\"\n",
    "    cleaned_data = []\n",
    "    \n",
    "    for item in data:\n",
    "        new_item = item.copy()\n",
    "        \n",
    "        # 문자열에서 앞뒤 공백 제거\n",
    "        if \"strip_whitespace\" in operations:\n",
    "            new_item = {key: value.strip() if isinstance(value, str) else value for key, value in new_item.items()}\n",
    "        \n",
    "        # null 또는 None 값을 가진 항목 제거\n",
    "        if \"remove_nulls\" in operations:\n",
    "            new_item = {key: value for key, value in new_item.items() if value is not None}\n",
    "        \n",
    "        # 데이터가 비어 있지 않으면 추가\n",
    "        if new_item:\n",
    "            cleaned_data.append(new_item)\n",
    "    \n",
    "    return f\"[적용된 연산: {operations}] -> [정제된 데이터: {cleaned_data}]\"\n",
    "\n",
    "# 예제 실행\n",
    "data = [\n",
    "    {\"name\": \" Alice \", \"age\": 25},\n",
    "    {\"name\": None, \"age\": 30},\n",
    "    {\"name\": \" Bob \", \"age\": None}\n",
    "]\n",
    "\n",
    "operations = [\"strip_whitespace\", \"remove_nulls\"]\n",
    "lcel_output = clean_data_lcel(data, operations)\n",
    "print(lcel_output)\n"
   ]
  }
 ],
 "metadata": {
  "kernelspec": {
   "display_name": "base",
   "language": "python",
   "name": "python3"
  },
  "language_info": {
   "codemirror_mode": {
    "name": "ipython",
    "version": 3
   },
   "file_extension": ".py",
   "mimetype": "text/x-python",
   "name": "python",
   "nbconvert_exporter": "python",
   "pygments_lexer": "ipython3",
   "version": "3.11.5"
  }
 },
 "nbformat": 4,
 "nbformat_minor": 2
}
