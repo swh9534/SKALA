{
 "cells": [
  {
   "cell_type": "code",
   "execution_count": 1,
   "metadata": {},
   "outputs": [
    {
     "name": "stdout",
     "output_type": "stream",
     "text": [
      "[적용된 변환: [{'field': 'name', 'operation': 'lower'}, {'field': 'age', 'operation': 'add', 'value': 5}]] -> [변환된 데이터: [{'name': 'alice', 'age': 30}, {'name': 'bob', 'age': 35}]]\n"
     ]
    }
   ],
   "source": [
    "def transform_data_lcel(data, transformations):\n",
    "    \"\"\" 변환된 데이터를 저장할 리스트 \"\"\"\n",
    "    transformed_data = []\n",
    "    \n",
    "    for item in data:\n",
    "        new_item = item.copy()\n",
    "        \n",
    "        for transformation in transformations:\n",
    "            field = transformation[\"field\"]\n",
    "            operation = transformation[\"operation\"]\n",
    "\n",
    "            # 필드가 존재하는 경우에만 변환 적용\n",
    "            if field in new_item:\n",
    "                if operation == \"lower\":\n",
    "                    # 필드의 값을 소문자로 변환\n",
    "                    new_item[field] = new_item[field].lower() if isinstance(new_item[field], str) else new_item[field]\n",
    "                \n",
    "                elif operation == \"add\" and \"value\" in transformation:\n",
    "                    # 필드의 값에 지정된 숫자를 더함\n",
    "                    new_item[field] = new_item[field] + transformation[\"value\"] if isinstance(new_item[field], (int, float)) else new_item[field]\n",
    "        \n",
    "        transformed_data.append(new_item)\n",
    "\n",
    "    return f\"[적용된 변환: {transformations}] -> [변환된 데이터: {transformed_data}]\"\n",
    "\n",
    "# 예제 실행\n",
    "data = [\n",
    "    {\"name\": \"Alice\", \"age\": 25},\n",
    "    {\"name\": \"Bob\", \"age\": 30}\n",
    "]\n",
    "\n",
    "transformations = [\n",
    "    {\"field\": \"name\", \"operation\": \"lower\"},\n",
    "    {\"field\": \"age\", \"operation\": \"add\", \"value\": 5}\n",
    "]\n",
    "\n",
    "lcel_output = transform_data_lcel(data, transformations)\n",
    "print(lcel_output)\n"
   ]
  }
 ],
 "metadata": {
  "kernelspec": {
   "display_name": "base",
   "language": "python",
   "name": "python3"
  },
  "language_info": {
   "codemirror_mode": {
    "name": "ipython",
    "version": 3
   },
   "file_extension": ".py",
   "mimetype": "text/x-python",
   "name": "python",
   "nbconvert_exporter": "python",
   "pygments_lexer": "ipython3",
   "version": "3.11.5"
  }
 },
 "nbformat": 4,
 "nbformat_minor": 2
}
