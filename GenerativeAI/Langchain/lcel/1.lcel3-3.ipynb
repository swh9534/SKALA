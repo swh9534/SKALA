{
 "cells": [
  {
   "cell_type": "code",
   "execution_count": 2,
   "metadata": {},
   "outputs": [
    {
     "name": "stdout",
     "output_type": "stream",
     "text": [
      "[데이터 소스: database] -> [쿼리: SELECT name, age FROM users WHERE age > 18] -> [추출된 데이터 개수: 2] -> [LLM 사용: gpt-4] -> [프롬프트: Generate a summary of adult users in the database.] -> [요약: [gpt-4] 응답: 'Generate a summary of adult users in the database.'에 대한 요약 생성 완료]\n"
     ]
    }
   ],
   "source": [
    "import pandas as pd\n",
    "def fetch_and_process_data_lcel(data_source, query, llm_prompt, llm):\n",
    "   # 예제 데이터 (실제 환경에서는 데이터베이스에서 가져와야 함)\n",
    "   sample_data = pd.DataFrame({\n",
    "       \"name\": [\"Alice\", \"Bob\", \"Charlie\", \"David\"],\n",
    "       \"age\": [17, 25, 19, 16]\n",
    "   })  \n",
    "   try:\n",
    "         filtered_data = sample_data.query(\"age > 18\")\n",
    "         num_results = len(filtered_data)\n",
    "    # LLM을 사용하여 요약 생성 (예제 응답)\n",
    "         llm_response = f\"[{llm}] 응답: '{llm_prompt}'에 대한 요약 생성 완료\"\n",
    "         return (\n",
    "            f\"[데이터 소스: {data_source}] -> [쿼리: {query}] -> \"\n",
    "            f\"[추출된 데이터 개수: {num_results}] -> \"\n",
    "            f\"[LLM 사용: {llm}] -> [프롬프트: {llm_prompt}] -> [요약: {llm_response}]\"\n",
    "         )\n",
    "   except Exception as e:\n",
    "        return f\"[오류 발생] -> {str(e)}\"\n",
    "\n",
    "# 예제 실행\n",
    "data_source = \"database\"\n",
    "query = \"SELECT name, age FROM users WHERE age > 18\"\n",
    "llm_prompt = \"Generate a summary of adult users in the database.\"\n",
    "llm = \"gpt-4\"\n",
    "lcel_output = fetch_and_process_data_lcel(data_source, query, llm_prompt, llm)\n",
    "print(lcel_output)\n"
   ]
  }
 ],
 "metadata": {
  "kernelspec": {
   "display_name": "base",
   "language": "python",
   "name": "python3"
  },
  "language_info": {
   "codemirror_mode": {
    "name": "ipython",
    "version": 3
   },
   "file_extension": ".py",
   "mimetype": "text/x-python",
   "name": "python",
   "nbconvert_exporter": "python",
   "pygments_lexer": "ipython3",
   "version": "3.11.5"
  }
 },
 "nbformat": 4,
 "nbformat_minor": 2
}
