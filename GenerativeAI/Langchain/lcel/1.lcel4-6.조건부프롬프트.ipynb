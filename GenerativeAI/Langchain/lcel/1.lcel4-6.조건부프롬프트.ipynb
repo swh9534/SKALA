{
 "cells": [
  {
   "cell_type": "code",
   "execution_count": 1,
   "metadata": {},
   "outputs": [
    {
     "name": "stdout",
     "output_type": "stream",
     "text": [
      "[템플릿: You are a {role}. {details}] -> [채워진 변수: {'role': 'teacher', 'details': 'Explain this concept in simple terms.'}] -> [생성된 프롬프트: You are a teacher. Explain this concept in simple terms.]\n"
     ]
    }
   ],
   "source": [
    "def generate_prompt_lcel(template, variables):\n",
    "    \"\"\" 변수 값에 따른 조건부 로직 적용 \"\"\"\n",
    "    role = variables.get(\"role\", \"\")\n",
    "    details = \"Explain this concept in simple terms.\" if role == \"teacher\" else \"Provide detailed insights.\"\n",
    "\n",
    "    # 변수에 조건부 로직 반영\n",
    "    variables[\"details\"] = details\n",
    "\n",
    "    # 템플릿에서 변수 값을 채워넣기\n",
    "    try:\n",
    "        generated_prompt = template.format(**variables)\n",
    "    except KeyError as e:\n",
    "        return f\"[오류 발생] -> [누락된 변수: {str(e)}]\"\n",
    "\n",
    "    # LCEL 스타일로 변환\n",
    "    return f\"[템플릿: {template}] -> [채워진 변수: {variables}] -> [생성된 프롬프트: {generated_prompt}]\"\n",
    "\n",
    "# 예제 실행\n",
    "template = \"You are a {role}. {details}\"\n",
    "variables = {\"role\": \"teacher\"}\n",
    "\n",
    "lcel_output = generate_prompt_lcel(template, variables)\n",
    "print(lcel_output)"
   ]
  }
 ],
 "metadata": {
  "kernelspec": {
   "display_name": "base",
   "language": "python",
   "name": "python3"
  },
  "language_info": {
   "codemirror_mode": {
    "name": "ipython",
    "version": 3
   },
   "file_extension": ".py",
   "mimetype": "text/x-python",
   "name": "python",
   "nbconvert_exporter": "python",
   "pygments_lexer": "ipython3",
   "version": "3.11.5"
  }
 },
 "nbformat": 4,
 "nbformat_minor": 2
}
