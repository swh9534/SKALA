{
 "cells": [
  {
   "cell_type": "code",
   "execution_count": 1,
   "metadata": {},
   "outputs": [
    {
     "name": "stdout",
     "output_type": "stream",
     "text": [
      "[Transformation: lowercase] -> hello, world!\n"
     ]
    }
   ],
   "source": [
    "def convert_word_lcel(text, mode):\n",
    "    if mode == \"lowercase\":\n",
    "        transformed_text = text.lower()\n",
    "    elif mode == \"uppercase\":\n",
    "        transformed_text = text.upper()\n",
    "    elif mode == \"capitalize\":\n",
    "        transformed_text = text.capitalize()\n",
    "    else:\n",
    "        transformed_text = text  # Default case (no transformation)\n",
    "\n",
    "    return f\"[Transformation: {mode}] -> {transformed_text}\"\n",
    "\n",
    "# Example usage\n",
    "text = \"Hello, World!\"\n",
    "mode = \"lowercase\"\n",
    "lcel_output = convert_word_lcel(text, mode)\n",
    "print(lcel_output)\n"
   ]
  }
 ],
 "metadata": {
  "kernelspec": {
   "display_name": "base",
   "language": "python",
   "name": "python3"
  },
  "language_info": {
   "codemirror_mode": {
    "name": "ipython",
    "version": 3
   },
   "file_extension": ".py",
   "mimetype": "text/x-python",
   "name": "python",
   "nbconvert_exporter": "python",
   "pygments_lexer": "ipython3",
   "version": "3.11.5"
  }
 },
 "nbformat": 4,
 "nbformat_minor": 2
}
