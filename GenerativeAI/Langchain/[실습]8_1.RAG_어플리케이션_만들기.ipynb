{
 "cells": [
  {
   "cell_type": "markdown",
   "metadata": {
    "id": "uHQzg8LlBPiX"
   },
   "source": [
    "# [실습] 벡터 데이터베이스 기반 RAG 어플리케이션\n",
    "\n",
    "RAG는 Retrieval-Augmented Generation (RAG) 의 약자로, 질문이 주어지면 관련 있는 문서를 찾아 프롬프트에 추가하는 방식의 어플리케이션입니다.   \n",
    "RAG의 과정은 아래와 같이 진행됩니다.\n",
    "1. Indexing : 문서를 받아 검색이 잘 되도록 저장합니다.\n",
    "1. Processing : 입력 쿼리를 전처리하여 검색에 적절한 형태로 변환합니다<br>(여기서는 수행하지 않습니다)\n",
    "1. Search(Retrieval) : 질문이 주어진 상황에서 가장 필요한 참고자료를 검색합니다.\n",
    "1. Augmenting : Retrieval의 결과와 입력 프롬프트를 이용해 LLM에 전달할 프롬프트를 생성합니다.\n",
    "1. Generation : LLM이 출력을 생성합니다."
   ]
  },
  {
   "cell_type": "code",
   "execution_count": 1,
   "metadata": {
    "id": "GHgrhVbLnM6I"
   },
   "outputs": [
    {
     "name": "stdout",
     "output_type": "stream",
     "text": [
      "Requirement already satisfied: jsonlines in /opt/homebrew/anaconda3/lib/python3.11/site-packages (4.0.0)\n",
      "Requirement already satisfied: openai in /opt/homebrew/anaconda3/lib/python3.11/site-packages (1.65.1)\n",
      "Collecting openai\n",
      "  Obtaining dependency information for openai from https://files.pythonhosted.org/packages/86/d5/b8378be0f4cf192992aa3080eb9ddcdca3109b399be61984424aaa79f847/openai-1.65.3-py3-none-any.whl.metadata\n",
      "  Downloading openai-1.65.3-py3-none-any.whl.metadata (27 kB)\n",
      "Requirement already satisfied: langchain in /opt/homebrew/anaconda3/lib/python3.11/site-packages (0.3.19)\n",
      "Collecting langchain\n",
      "  Obtaining dependency information for langchain from https://files.pythonhosted.org/packages/b5/d4/afe8174838bdd3baba5d6a19e9f3af4c54c5db1ab4d66ef0b650c6157919/langchain-0.3.20-py3-none-any.whl.metadata\n",
      "  Downloading langchain-0.3.20-py3-none-any.whl.metadata (7.7 kB)\n",
      "Requirement already satisfied: langchain-openai in /opt/homebrew/anaconda3/lib/python3.11/site-packages (0.3.7)\n",
      "Requirement already satisfied: langchain-community in /opt/homebrew/anaconda3/lib/python3.11/site-packages (0.3.18)\n",
      "Collecting langchain-community\n",
      "  Obtaining dependency information for langchain-community from https://files.pythonhosted.org/packages/2b/a3/6718deba2c30db991c6b000d23fa062441daa576eb1e520cb2edc2729e2f/langchain_community-0.3.19-py3-none-any.whl.metadata\n",
      "  Downloading langchain_community-0.3.19-py3-none-any.whl.metadata (2.4 kB)\n",
      "Requirement already satisfied: beautifulsoup4 in /opt/homebrew/anaconda3/lib/python3.11/site-packages (4.12.3)\n",
      "Collecting beautifulsoup4\n",
      "  Obtaining dependency information for beautifulsoup4 from https://files.pythonhosted.org/packages/f9/49/6abb616eb3cbab6a7cca303dc02fdf3836de2e0b834bf966a7f5271a34d8/beautifulsoup4-4.13.3-py3-none-any.whl.metadata\n",
      "  Downloading beautifulsoup4-4.13.3-py3-none-any.whl.metadata (3.8 kB)\n",
      "Requirement already satisfied: langchain_chroma in /opt/homebrew/anaconda3/lib/python3.11/site-packages (0.1.4)\n",
      "Collecting langchain_chroma\n",
      "  Obtaining dependency information for langchain_chroma from https://files.pythonhosted.org/packages/e0/ad/02b43c9c6243d430a32fda148236ba02e49289326a58aeef57723f3a92fe/langchain_chroma-0.2.2-py3-none-any.whl.metadata\n",
      "  Downloading langchain_chroma-0.2.2-py3-none-any.whl.metadata (1.3 kB)\n",
      "Requirement already satisfied: chromadb==0.5.3 in /opt/homebrew/anaconda3/lib/python3.11/site-packages (0.5.3)\n",
      "Requirement already satisfied: build>=1.0.3 in /opt/homebrew/anaconda3/lib/python3.11/site-packages (from chromadb==0.5.3) (1.2.2)\n",
      "Requirement already satisfied: requests>=2.28 in /opt/homebrew/anaconda3/lib/python3.11/site-packages (from chromadb==0.5.3) (2.32.3)\n",
      "Requirement already satisfied: pydantic>=1.9 in /opt/homebrew/anaconda3/lib/python3.11/site-packages (from chromadb==0.5.3) (2.10.6)\n",
      "Requirement already satisfied: chroma-hnswlib==0.7.3 in /opt/homebrew/anaconda3/lib/python3.11/site-packages (from chromadb==0.5.3) (0.7.3)\n",
      "Requirement already satisfied: fastapi>=0.95.2 in /opt/homebrew/anaconda3/lib/python3.11/site-packages (from chromadb==0.5.3) (0.115.5)\n",
      "Requirement already satisfied: uvicorn[standard]>=0.18.3 in /opt/homebrew/anaconda3/lib/python3.11/site-packages (from chromadb==0.5.3) (0.30.6)\n",
      "Requirement already satisfied: numpy<2.0.0,>=1.22.5 in /opt/homebrew/anaconda3/lib/python3.11/site-packages (from chromadb==0.5.3) (1.26.4)\n",
      "Requirement already satisfied: posthog>=2.4.0 in /opt/homebrew/anaconda3/lib/python3.11/site-packages (from chromadb==0.5.3) (3.6.6)\n",
      "Requirement already satisfied: typing-extensions>=4.5.0 in /opt/homebrew/anaconda3/lib/python3.11/site-packages (from chromadb==0.5.3) (4.12.2)\n",
      "Requirement already satisfied: onnxruntime>=1.14.1 in /opt/homebrew/anaconda3/lib/python3.11/site-packages (from chromadb==0.5.3) (1.19.2)\n",
      "Requirement already satisfied: opentelemetry-api>=1.2.0 in /opt/homebrew/anaconda3/lib/python3.11/site-packages (from chromadb==0.5.3) (1.25.0)\n",
      "Requirement already satisfied: opentelemetry-exporter-otlp-proto-grpc>=1.2.0 in /opt/homebrew/anaconda3/lib/python3.11/site-packages (from chromadb==0.5.3) (1.25.0)\n",
      "Requirement already satisfied: opentelemetry-instrumentation-fastapi>=0.41b0 in /opt/homebrew/anaconda3/lib/python3.11/site-packages (from chromadb==0.5.3) (0.46b0)\n",
      "Requirement already satisfied: opentelemetry-sdk>=1.2.0 in /opt/homebrew/anaconda3/lib/python3.11/site-packages (from chromadb==0.5.3) (1.25.0)\n",
      "Requirement already satisfied: tokenizers>=0.13.2 in /opt/homebrew/anaconda3/lib/python3.11/site-packages (from chromadb==0.5.3) (0.21.0)\n",
      "Requirement already satisfied: pypika>=0.48.9 in /opt/homebrew/anaconda3/lib/python3.11/site-packages (from chromadb==0.5.3) (0.48.9)\n",
      "Requirement already satisfied: tqdm>=4.65.0 in /opt/homebrew/anaconda3/lib/python3.11/site-packages (from chromadb==0.5.3) (4.66.5)\n",
      "Requirement already satisfied: overrides>=7.3.1 in /opt/homebrew/anaconda3/lib/python3.11/site-packages (from chromadb==0.5.3) (7.7.0)\n",
      "Requirement already satisfied: importlib-resources in /opt/homebrew/anaconda3/lib/python3.11/site-packages (from chromadb==0.5.3) (6.4.5)\n",
      "Requirement already satisfied: grpcio>=1.58.0 in /opt/homebrew/anaconda3/lib/python3.11/site-packages (from chromadb==0.5.3) (1.64.3)\n",
      "Requirement already satisfied: bcrypt>=4.0.1 in /opt/homebrew/anaconda3/lib/python3.11/site-packages (from chromadb==0.5.3) (4.0.1)\n",
      "Requirement already satisfied: typer>=0.9.0 in /opt/homebrew/anaconda3/lib/python3.11/site-packages (from chromadb==0.5.3) (0.15.2)\n",
      "Requirement already satisfied: kubernetes>=28.1.0 in /opt/homebrew/anaconda3/lib/python3.11/site-packages (from chromadb==0.5.3) (30.1.0)\n",
      "Requirement already satisfied: tenacity>=8.2.3 in /opt/homebrew/anaconda3/lib/python3.11/site-packages (from chromadb==0.5.3) (9.0.0)\n",
      "Requirement already satisfied: PyYAML>=6.0.0 in /opt/homebrew/anaconda3/lib/python3.11/site-packages (from chromadb==0.5.3) (6.0.2)\n",
      "Requirement already satisfied: mmh3>=4.0.1 in /opt/homebrew/anaconda3/lib/python3.11/site-packages (from chromadb==0.5.3) (5.0.1)\n",
      "Requirement already satisfied: orjson>=3.9.12 in /opt/homebrew/anaconda3/lib/python3.11/site-packages (from chromadb==0.5.3) (3.10.11)\n",
      "Requirement already satisfied: httpx>=0.27.0 in /opt/homebrew/anaconda3/lib/python3.11/site-packages (from chromadb==0.5.3) (0.27.2)\n",
      "Requirement already satisfied: attrs>=19.2.0 in /opt/homebrew/anaconda3/lib/python3.11/site-packages (from jsonlines) (25.1.0)\n",
      "Requirement already satisfied: anyio<5,>=3.5.0 in /opt/homebrew/anaconda3/lib/python3.11/site-packages (from openai) (4.6.0)\n",
      "Requirement already satisfied: distro<2,>=1.7.0 in /opt/homebrew/anaconda3/lib/python3.11/site-packages (from openai) (1.9.0)\n",
      "Requirement already satisfied: jiter<1,>=0.4.0 in /opt/homebrew/anaconda3/lib/python3.11/site-packages (from openai) (0.4.2)\n",
      "Requirement already satisfied: sniffio in /opt/homebrew/anaconda3/lib/python3.11/site-packages (from openai) (1.3.1)\n",
      "Collecting langchain-core<1.0.0,>=0.3.41 (from langchain)\n",
      "  Obtaining dependency information for langchain-core<1.0.0,>=0.3.41 from https://files.pythonhosted.org/packages/bc/a6/551de93e02b1ef4ec031f6e1c0ff31a70790096c1e7066168a7693e4efe5/langchain_core-0.3.41-py3-none-any.whl.metadata\n",
      "  Downloading langchain_core-0.3.41-py3-none-any.whl.metadata (5.9 kB)\n",
      "Requirement already satisfied: langchain-text-splitters<1.0.0,>=0.3.6 in /opt/homebrew/anaconda3/lib/python3.11/site-packages (from langchain) (0.3.6)\n",
      "Requirement already satisfied: langsmith<0.4,>=0.1.17 in /opt/homebrew/anaconda3/lib/python3.11/site-packages (from langchain) (0.1.125)\n",
      "Requirement already satisfied: SQLAlchemy<3,>=1.4 in /opt/homebrew/anaconda3/lib/python3.11/site-packages (from langchain) (2.0.35)\n",
      "Requirement already satisfied: tiktoken<1,>=0.7 in /opt/homebrew/anaconda3/lib/python3.11/site-packages (from langchain-openai) (0.8.0)\n",
      "Requirement already satisfied: aiohttp<4.0.0,>=3.8.3 in /opt/homebrew/anaconda3/lib/python3.11/site-packages (from langchain-community) (3.10.5)\n",
      "Requirement already satisfied: dataclasses-json<0.7,>=0.5.7 in /opt/homebrew/anaconda3/lib/python3.11/site-packages (from langchain-community) (0.6.7)\n",
      "Requirement already satisfied: pydantic-settings<3.0.0,>=2.4.0 in /opt/homebrew/anaconda3/lib/python3.11/site-packages (from langchain-community) (2.4.0)\n",
      "Requirement already satisfied: httpx-sse<1.0.0,>=0.4.0 in /opt/homebrew/anaconda3/lib/python3.11/site-packages (from langchain-community) (0.4.0)\n",
      "Requirement already satisfied: soupsieve>1.2 in /opt/homebrew/anaconda3/lib/python3.11/site-packages (from beautifulsoup4) (2.4)\n",
      "Requirement already satisfied: aiohappyeyeballs>=2.3.0 in /opt/homebrew/anaconda3/lib/python3.11/site-packages (from aiohttp<4.0.0,>=3.8.3->langchain-community) (2.4.0)\n",
      "Requirement already satisfied: aiosignal>=1.1.2 in /opt/homebrew/anaconda3/lib/python3.11/site-packages (from aiohttp<4.0.0,>=3.8.3->langchain-community) (1.2.0)\n",
      "Requirement already satisfied: frozenlist>=1.1.1 in /opt/homebrew/anaconda3/lib/python3.11/site-packages (from aiohttp<4.0.0,>=3.8.3->langchain-community) (1.3.3)\n",
      "Requirement already satisfied: multidict<7.0,>=4.5 in /opt/homebrew/anaconda3/lib/python3.11/site-packages (from aiohttp<4.0.0,>=3.8.3->langchain-community) (6.0.2)\n",
      "Requirement already satisfied: yarl<2.0,>=1.0 in /opt/homebrew/anaconda3/lib/python3.11/site-packages (from aiohttp<4.0.0,>=3.8.3->langchain-community) (1.8.1)\n",
      "Requirement already satisfied: idna>=2.8 in /opt/homebrew/anaconda3/lib/python3.11/site-packages (from anyio<5,>=3.5.0->openai) (3.10)\n",
      "Requirement already satisfied: packaging>=19.1 in /opt/homebrew/anaconda3/lib/python3.11/site-packages (from build>=1.0.3->chromadb==0.5.3) (24.2)\n",
      "Requirement already satisfied: pyproject_hooks in /opt/homebrew/anaconda3/lib/python3.11/site-packages (from build>=1.0.3->chromadb==0.5.3) (1.1.0)\n",
      "Requirement already satisfied: marshmallow<4.0.0,>=3.18.0 in /opt/homebrew/anaconda3/lib/python3.11/site-packages (from dataclasses-json<0.7,>=0.5.7->langchain-community) (3.22.0)\n",
      "Requirement already satisfied: typing-inspect<1,>=0.4.0 in /opt/homebrew/anaconda3/lib/python3.11/site-packages (from dataclasses-json<0.7,>=0.5.7->langchain-community) (0.9.0)\n",
      "Requirement already satisfied: starlette<0.42.0,>=0.40.0 in /opt/homebrew/anaconda3/lib/python3.11/site-packages (from fastapi>=0.95.2->chromadb==0.5.3) (0.41.3)\n",
      "Requirement already satisfied: certifi in /opt/homebrew/anaconda3/lib/python3.11/site-packages (from httpx>=0.27.0->chromadb==0.5.3) (2025.1.31)\n",
      "Requirement already satisfied: httpcore==1.* in /opt/homebrew/anaconda3/lib/python3.11/site-packages (from httpx>=0.27.0->chromadb==0.5.3) (1.0.5)\n",
      "Requirement already satisfied: h11<0.15,>=0.13 in /opt/homebrew/anaconda3/lib/python3.11/site-packages (from httpcore==1.*->httpx>=0.27.0->chromadb==0.5.3) (0.14.0)\n",
      "Requirement already satisfied: six>=1.9.0 in /opt/homebrew/anaconda3/lib/python3.11/site-packages (from kubernetes>=28.1.0->chromadb==0.5.3) (1.17.0)\n",
      "Requirement already satisfied: python-dateutil>=2.5.3 in /opt/homebrew/anaconda3/lib/python3.11/site-packages (from kubernetes>=28.1.0->chromadb==0.5.3) (2.9.0.post0)\n",
      "Requirement already satisfied: google-auth>=1.0.1 in /opt/homebrew/anaconda3/lib/python3.11/site-packages (from kubernetes>=28.1.0->chromadb==0.5.3) (2.35.0)\n",
      "Requirement already satisfied: websocket-client!=0.40.0,!=0.41.*,!=0.42.*,>=0.32.0 in /opt/homebrew/anaconda3/lib/python3.11/site-packages (from kubernetes>=28.1.0->chromadb==0.5.3) (1.8.0)\n",
      "Requirement already satisfied: requests-oauthlib in /opt/homebrew/anaconda3/lib/python3.11/site-packages (from kubernetes>=28.1.0->chromadb==0.5.3) (2.0.0)\n",
      "Requirement already satisfied: oauthlib>=3.2.2 in /opt/homebrew/anaconda3/lib/python3.11/site-packages (from kubernetes>=28.1.0->chromadb==0.5.3) (3.2.2)\n",
      "Requirement already satisfied: urllib3>=1.24.2 in /opt/homebrew/anaconda3/lib/python3.11/site-packages (from kubernetes>=28.1.0->chromadb==0.5.3) (2.3.0)\n",
      "Requirement already satisfied: jsonpatch<2.0,>=1.33 in /opt/homebrew/anaconda3/lib/python3.11/site-packages (from langchain-core<1.0.0,>=0.3.41->langchain) (1.33)\n",
      "Requirement already satisfied: coloredlogs in /opt/homebrew/anaconda3/lib/python3.11/site-packages (from onnxruntime>=1.14.1->chromadb==0.5.3) (15.0.1)\n",
      "Requirement already satisfied: flatbuffers in /opt/homebrew/anaconda3/lib/python3.11/site-packages (from onnxruntime>=1.14.1->chromadb==0.5.3) (24.3.25)\n",
      "Requirement already satisfied: protobuf in /opt/homebrew/anaconda3/lib/python3.11/site-packages (from onnxruntime>=1.14.1->chromadb==0.5.3) (4.25.6)\n",
      "Requirement already satisfied: sympy in /opt/homebrew/anaconda3/lib/python3.11/site-packages (from onnxruntime>=1.14.1->chromadb==0.5.3) (1.13.1)\n",
      "Requirement already satisfied: deprecated>=1.2.6 in /opt/homebrew/anaconda3/lib/python3.11/site-packages (from opentelemetry-api>=1.2.0->chromadb==0.5.3) (1.2.14)\n",
      "Requirement already satisfied: importlib-metadata<=7.1,>=6.0 in /opt/homebrew/anaconda3/lib/python3.11/site-packages (from opentelemetry-api>=1.2.0->chromadb==0.5.3) (7.1.0)\n",
      "Requirement already satisfied: googleapis-common-protos~=1.52 in /opt/homebrew/anaconda3/lib/python3.11/site-packages (from opentelemetry-exporter-otlp-proto-grpc>=1.2.0->chromadb==0.5.3) (1.65.0)\n",
      "Requirement already satisfied: opentelemetry-exporter-otlp-proto-common==1.25.0 in /opt/homebrew/anaconda3/lib/python3.11/site-packages (from opentelemetry-exporter-otlp-proto-grpc>=1.2.0->chromadb==0.5.3) (1.25.0)\n",
      "Requirement already satisfied: opentelemetry-proto==1.25.0 in /opt/homebrew/anaconda3/lib/python3.11/site-packages (from opentelemetry-exporter-otlp-proto-grpc>=1.2.0->chromadb==0.5.3) (1.25.0)\n",
      "Requirement already satisfied: opentelemetry-instrumentation-asgi==0.46b0 in /opt/homebrew/anaconda3/lib/python3.11/site-packages (from opentelemetry-instrumentation-fastapi>=0.41b0->chromadb==0.5.3) (0.46b0)\n",
      "Requirement already satisfied: opentelemetry-instrumentation==0.46b0 in /opt/homebrew/anaconda3/lib/python3.11/site-packages (from opentelemetry-instrumentation-fastapi>=0.41b0->chromadb==0.5.3) (0.46b0)\n",
      "Requirement already satisfied: opentelemetry-semantic-conventions==0.46b0 in /opt/homebrew/anaconda3/lib/python3.11/site-packages (from opentelemetry-instrumentation-fastapi>=0.41b0->chromadb==0.5.3) (0.46b0)\n",
      "Requirement already satisfied: opentelemetry-util-http==0.46b0 in /opt/homebrew/anaconda3/lib/python3.11/site-packages (from opentelemetry-instrumentation-fastapi>=0.41b0->chromadb==0.5.3) (0.46b0)\n",
      "Requirement already satisfied: setuptools>=16.0 in /opt/homebrew/anaconda3/lib/python3.11/site-packages (from opentelemetry-instrumentation==0.46b0->opentelemetry-instrumentation-fastapi>=0.41b0->chromadb==0.5.3) (75.1.0)\n",
      "Requirement already satisfied: wrapt<2.0.0,>=1.0.0 in /opt/homebrew/anaconda3/lib/python3.11/site-packages (from opentelemetry-instrumentation==0.46b0->opentelemetry-instrumentation-fastapi>=0.41b0->chromadb==0.5.3) (1.14.1)\n",
      "Requirement already satisfied: asgiref~=3.0 in /opt/homebrew/anaconda3/lib/python3.11/site-packages (from opentelemetry-instrumentation-asgi==0.46b0->opentelemetry-instrumentation-fastapi>=0.41b0->chromadb==0.5.3) (3.8.1)\n",
      "Requirement already satisfied: monotonic>=1.5 in /opt/homebrew/anaconda3/lib/python3.11/site-packages (from posthog>=2.4.0->chromadb==0.5.3) (1.6)\n",
      "Requirement already satisfied: backoff>=1.10.0 in /opt/homebrew/anaconda3/lib/python3.11/site-packages (from posthog>=2.4.0->chromadb==0.5.3) (2.2.1)\n",
      "Requirement already satisfied: annotated-types>=0.6.0 in /opt/homebrew/anaconda3/lib/python3.11/site-packages (from pydantic>=1.9->chromadb==0.5.3) (0.7.0)\n",
      "Requirement already satisfied: pydantic-core==2.27.2 in /opt/homebrew/anaconda3/lib/python3.11/site-packages (from pydantic>=1.9->chromadb==0.5.3) (2.27.2)\n",
      "Requirement already satisfied: python-dotenv>=0.21.0 in /opt/homebrew/anaconda3/lib/python3.11/site-packages (from pydantic-settings<3.0.0,>=2.4.0->langchain-community) (1.0.0)\n",
      "Requirement already satisfied: charset-normalizer<4,>=2 in /opt/homebrew/anaconda3/lib/python3.11/site-packages (from requests>=2.28->chromadb==0.5.3) (3.4.1)\n",
      "Requirement already satisfied: regex>=2022.1.18 in /opt/homebrew/anaconda3/lib/python3.11/site-packages (from tiktoken<1,>=0.7->langchain-openai) (2023.12.25)\n",
      "Requirement already satisfied: huggingface-hub<1.0,>=0.16.4 in /opt/homebrew/anaconda3/lib/python3.11/site-packages (from tokenizers>=0.13.2->chromadb==0.5.3) (0.29.1)\n",
      "Requirement already satisfied: click>=8.0.0 in /opt/homebrew/anaconda3/lib/python3.11/site-packages (from typer>=0.9.0->chromadb==0.5.3) (8.1.8)\n",
      "Requirement already satisfied: shellingham>=1.3.0 in /opt/homebrew/anaconda3/lib/python3.11/site-packages (from typer>=0.9.0->chromadb==0.5.3) (1.5.4)\n",
      "Requirement already satisfied: rich>=10.11.0 in /opt/homebrew/anaconda3/lib/python3.11/site-packages (from typer>=0.9.0->chromadb==0.5.3) (13.9.4)\n",
      "Requirement already satisfied: httptools>=0.5.0 in /opt/homebrew/anaconda3/lib/python3.11/site-packages (from uvicorn[standard]>=0.18.3->chromadb==0.5.3) (0.6.1)\n",
      "Requirement already satisfied: uvloop!=0.15.0,!=0.15.1,>=0.14.0 in /opt/homebrew/anaconda3/lib/python3.11/site-packages (from uvicorn[standard]>=0.18.3->chromadb==0.5.3) (0.20.0)\n",
      "Requirement already satisfied: watchfiles>=0.13 in /opt/homebrew/anaconda3/lib/python3.11/site-packages (from uvicorn[standard]>=0.18.3->chromadb==0.5.3) (0.24.0)\n",
      "Requirement already satisfied: websockets>=10.4 in /opt/homebrew/anaconda3/lib/python3.11/site-packages (from uvicorn[standard]>=0.18.3->chromadb==0.5.3) (12.0)\n",
      "Requirement already satisfied: cachetools<6.0,>=2.0.0 in /opt/homebrew/anaconda3/lib/python3.11/site-packages (from google-auth>=1.0.1->kubernetes>=28.1.0->chromadb==0.5.3) (5.5.2)\n",
      "Requirement already satisfied: pyasn1-modules>=0.2.1 in /opt/homebrew/anaconda3/lib/python3.11/site-packages (from google-auth>=1.0.1->kubernetes>=28.1.0->chromadb==0.5.3) (0.2.8)\n",
      "Requirement already satisfied: rsa<5,>=3.1.4 in /opt/homebrew/anaconda3/lib/python3.11/site-packages (from google-auth>=1.0.1->kubernetes>=28.1.0->chromadb==0.5.3) (4.9)\n",
      "Requirement already satisfied: filelock in /opt/homebrew/anaconda3/lib/python3.11/site-packages (from huggingface-hub<1.0,>=0.16.4->tokenizers>=0.13.2->chromadb==0.5.3) (3.16.1)\n",
      "Requirement already satisfied: fsspec>=2023.5.0 in /opt/homebrew/anaconda3/lib/python3.11/site-packages (from huggingface-hub<1.0,>=0.16.4->tokenizers>=0.13.2->chromadb==0.5.3) (2024.3.1)\n",
      "Requirement already satisfied: zipp>=0.5 in /opt/homebrew/anaconda3/lib/python3.11/site-packages (from importlib-metadata<=7.1,>=6.0->opentelemetry-api>=1.2.0->chromadb==0.5.3) (3.11.0)\n",
      "Requirement already satisfied: jsonpointer>=1.9 in /opt/homebrew/anaconda3/lib/python3.11/site-packages (from jsonpatch<2.0,>=1.33->langchain-core<1.0.0,>=0.3.41->langchain) (2.1)\n",
      "Requirement already satisfied: markdown-it-py>=2.2.0 in /opt/homebrew/anaconda3/lib/python3.11/site-packages (from rich>=10.11.0->typer>=0.9.0->chromadb==0.5.3) (3.0.0)\n",
      "Requirement already satisfied: pygments<3.0.0,>=2.13.0 in /opt/homebrew/anaconda3/lib/python3.11/site-packages (from rich>=10.11.0->typer>=0.9.0->chromadb==0.5.3) (2.19.1)\n",
      "Requirement already satisfied: mypy-extensions>=0.3.0 in /opt/homebrew/anaconda3/lib/python3.11/site-packages (from typing-inspect<1,>=0.4.0->dataclasses-json<0.7,>=0.5.7->langchain-community) (1.0.0)\n",
      "Requirement already satisfied: humanfriendly>=9.1 in /opt/homebrew/anaconda3/lib/python3.11/site-packages (from coloredlogs->onnxruntime>=1.14.1->chromadb==0.5.3) (10.0)\n",
      "Requirement already satisfied: mpmath<1.4,>=1.1.0 in /opt/homebrew/anaconda3/lib/python3.11/site-packages (from sympy->onnxruntime>=1.14.1->chromadb==0.5.3) (1.3.0)\n",
      "Requirement already satisfied: mdurl~=0.1 in /opt/homebrew/anaconda3/lib/python3.11/site-packages (from markdown-it-py>=2.2.0->rich>=10.11.0->typer>=0.9.0->chromadb==0.5.3) (0.1.2)\n",
      "Requirement already satisfied: pyasn1<0.5.0,>=0.4.6 in /opt/homebrew/anaconda3/lib/python3.11/site-packages (from pyasn1-modules>=0.2.1->google-auth>=1.0.1->kubernetes>=28.1.0->chromadb==0.5.3) (0.4.8)\n",
      "Downloading openai-1.65.3-py3-none-any.whl (472 kB)\n",
      "\u001b[2K   \u001b[90m━━━━━━━━━━━━━━━━━━━━━━━━━━━━━━━━━━━━━━━━\u001b[0m \u001b[32m472.8/472.8 kB\u001b[0m \u001b[31m16.4 MB/s\u001b[0m eta \u001b[36m0:00:00\u001b[0m\n",
      "\u001b[?25hDownloading langchain-0.3.20-py3-none-any.whl (1.0 MB)\n",
      "\u001b[2K   \u001b[90m━━━━━━━━━━━━━━━━━━━━━━━━━━━━━━━━━━━━━━━━\u001b[0m \u001b[32m1.0/1.0 MB\u001b[0m \u001b[31m9.5 MB/s\u001b[0m eta \u001b[36m0:00:00\u001b[0ma \u001b[36m0:00:01\u001b[0mm\n",
      "\u001b[?25hDownloading langchain_community-0.3.19-py3-none-any.whl (2.5 MB)\n",
      "\u001b[2K   \u001b[90m━━━━━━━━━━━━━━━━━━━━━━━━━━━━━━━━━━━━━━━━\u001b[0m \u001b[32m2.5/2.5 MB\u001b[0m \u001b[31m15.6 MB/s\u001b[0m eta \u001b[36m0:00:00\u001b[0m00:01\u001b[0m00:01\u001b[0m\n",
      "\u001b[?25hDownloading beautifulsoup4-4.13.3-py3-none-any.whl (186 kB)\n",
      "\u001b[2K   \u001b[90m━━━━━━━━━━━━━━━━━━━━━━━━━━━━━━━━━━━━━━━━\u001b[0m \u001b[32m186.0/186.0 kB\u001b[0m \u001b[31m12.5 MB/s\u001b[0m eta \u001b[36m0:00:00\u001b[0m\n",
      "\u001b[?25hDownloading langchain_chroma-0.2.2-py3-none-any.whl (11 kB)\n",
      "Downloading langchain_core-0.3.41-py3-none-any.whl (415 kB)\n",
      "\u001b[2K   \u001b[90m━━━━━━━━━━━━━━━━━━━━━━━━━━━━━━━━━━━━━━━━\u001b[0m \u001b[32m415.1/415.1 kB\u001b[0m \u001b[31m18.6 MB/s\u001b[0m eta \u001b[36m0:00:00\u001b[0m\n",
      "\u001b[?25hInstalling collected packages: beautifulsoup4, openai, langchain-core, langchain, langchain-community, langchain_chroma\n",
      "  Attempting uninstall: beautifulsoup4\n",
      "    Found existing installation: beautifulsoup4 4.12.3\n",
      "    Uninstalling beautifulsoup4-4.12.3:\n",
      "      Successfully uninstalled beautifulsoup4-4.12.3\n",
      "  Attempting uninstall: openai\n",
      "    Found existing installation: openai 1.65.1\n",
      "    Uninstalling openai-1.65.1:\n",
      "      Successfully uninstalled openai-1.65.1\n",
      "  Attempting uninstall: langchain-core\n",
      "    Found existing installation: langchain-core 0.3.40\n",
      "    Uninstalling langchain-core-0.3.40:\n",
      "      Successfully uninstalled langchain-core-0.3.40\n",
      "  Attempting uninstall: langchain\n",
      "    Found existing installation: langchain 0.3.19\n",
      "    Uninstalling langchain-0.3.19:\n",
      "      Successfully uninstalled langchain-0.3.19\n",
      "  Attempting uninstall: langchain-community\n",
      "    Found existing installation: langchain-community 0.3.18\n",
      "    Uninstalling langchain-community-0.3.18:\n",
      "      Successfully uninstalled langchain-community-0.3.18\n",
      "  Attempting uninstall: langchain_chroma\n",
      "    Found existing installation: langchain-chroma 0.1.4\n",
      "    Uninstalling langchain-chroma-0.1.4:\n",
      "      Successfully uninstalled langchain-chroma-0.1.4\n",
      "\u001b[31mERROR: pip's dependency resolver does not currently take into account all the packages that are installed. This behaviour is the source of the following dependency conflicts.\n",
      "instructor 0.5.2 requires tenacity<9.0.0,>=8.2.3, but you have tenacity 9.0.0 which is incompatible.\n",
      "instructor 0.5.2 requires typer<0.10.0,>=0.9.0, but you have typer 0.15.2 which is incompatible.\n",
      "mem0ai 0.0.20 requires pytz<2025.0,>=2024.1, but you have pytz 2025.1 which is incompatible.\n",
      "langchain-anthropic 0.1.23 requires langchain-core<0.3.0,>=0.2.26, but you have langchain-core 0.3.41 which is incompatible.\n",
      "embedchain 0.1.113 requires chromadb<0.5.0,>=0.4.24, but you have chromadb 0.5.3 which is incompatible.\n",
      "embedchain 0.1.113 requires langchain<0.2.0,>=0.1.4, but you have langchain 0.3.20 which is incompatible.\n",
      "embedchain 0.1.113 requires langchain-openai<0.2.0,>=0.1.7, but you have langchain-openai 0.3.7 which is incompatible.\n",
      "embedchain 0.1.113 requires tiktoken<0.8.0,>=0.7.0, but you have tiktoken 0.8.0 which is incompatible.\n",
      "langchain-google-genai 1.0.8 requires langchain-core<0.3,>=0.2.17, but you have langchain-core 0.3.41 which is incompatible.\n",
      "langchain-google-vertexai 1.0.10 requires langchain-core<0.3,>=0.2.33, but you have langchain-core 0.3.41 which is incompatible.\n",
      "crewai 0.28.8 requires langchain<0.2.0,>=0.1.10, but you have langchain 0.3.20 which is incompatible.\n",
      "langchain-aws 0.1.18 requires langchain-core<0.3,>=0.2.33, but you have langchain-core 0.3.41 which is incompatible.\n",
      "langchain-cohere 0.1.5 requires langchain-core<0.3,>=0.1.42, but you have langchain-core 0.3.41 which is incompatible.\n",
      "langchain-groq 0.1.5 requires langchain-core<0.3,>=0.1.45, but you have langchain-core 0.3.41 which is incompatible.\n",
      "astra-assistants 2.1.2 requires python-dotenv<2.0.0,>=1.0.1, but you have python-dotenv 1.0.0 which is incompatible.\n",
      "langchain-pinecone 0.1.3 requires langchain-core<0.3,>=0.1.52, but you have langchain-core 0.3.41 which is incompatible.\n",
      "crewai-tools 0.1.6 requires chromadb<0.5.0,>=0.4.22, but you have chromadb 0.5.3 which is incompatible.\n",
      "crewai-tools 0.1.6 requires langchain<0.2.0,>=0.1.4, but you have langchain 0.3.20 which is incompatible.\n",
      "langchain-mongodb 0.1.9 requires langchain-core<0.3.0,>=0.2.38, but you have langchain-core 0.3.41 which is incompatible.\n",
      "langchain-mistralai 0.1.12 requires langchain-core<0.3.0,>=0.2.26, but you have langchain-core 0.3.41 which is incompatible.\n",
      "langflow 1.0.18 requires certifi<2025.0.0,>=2023.11.17, but you have certifi 2025.1.31 which is incompatible.\n",
      "langflow 1.0.18 requires chromadb<0.5,>=0.4, but you have chromadb 0.5.3 which is incompatible.\n",
      "langflow 1.0.18 requires crewai[tools]<0.37.0,>=0.36.0, but you have crewai 0.28.8 which is incompatible.\n",
      "langflow 1.0.18 requires huggingface-hub[inference]<0.24.0,>=0.23.2, but you have huggingface-hub 0.29.1 which is incompatible.\n",
      "langflow 1.0.18 requires langchain-chroma<0.2.0,>=0.1.1, but you have langchain-chroma 0.2.2 which is incompatible.\n",
      "langflow 1.0.18 requires langchain-groq==0.1.9, but you have langchain-groq 0.1.5 which is incompatible.\n",
      "langflow 1.0.18 requires langchain-openai==0.1.22, but you have langchain-openai 0.3.7 which is incompatible.\n",
      "langflow 1.0.18 requires markupsafe<3.0.0,>=2.1.3, but you have markupsafe 3.0.2 which is incompatible.\n",
      "langflow 1.0.18 requires pyarrow<15.0.0,>=14.0.0, but you have pyarrow 19.0.1 which is incompatible.\n",
      "langflow-base 0.0.96 requires aiofiles<25.0.0,>=24.1.0, but you have aiofiles 23.2.1 which is incompatible.\n",
      "langflow-base 0.0.96 requires crewai<0.37.0,>=0.36.0, but you have crewai 0.28.8 which is incompatible.\n",
      "langflow-base 0.0.96 requires docstring-parser<0.17,>=0.16, but you have docstring-parser 0.15 which is incompatible.\n",
      "langflow-base 0.0.96 requires fastapi<0.112.0,>=0.111.0, but you have fastapi 0.115.5 which is incompatible.\n",
      "langflow-base 0.0.96 requires langchain<0.3.0,>=0.2.0, but you have langchain 0.3.20 which is incompatible.\n",
      "langflow-base 0.0.96 requires langchain-core<0.3.0,>=0.2.32, but you have langchain-core 0.3.41 which is incompatible.\n",
      "langflow-base 0.0.96 requires langchain-experimental<0.0.62,>=0.0.61, but you have langchain-experimental 0.3.4 which is incompatible.\n",
      "langflow-base 0.0.96 requires orjson==3.10.0, but you have orjson 3.10.11 which is incompatible.\n",
      "langflow-base 0.0.96 requires pandas==2.2.2, but you have pandas 2.2.3 which is incompatible.\n",
      "langflow-base 0.0.96 requires pillow<11.0.0,>=10.2.0, but you have pillow 11.1.0 which is incompatible.\n",
      "langflow-base 0.0.96 requires python-multipart<0.0.8,>=0.0.7, but you have python-multipart 0.0.12 which is incompatible.\n",
      "langflow-base 0.0.96 requires typer<0.13.0,>=0.12.0, but you have typer 0.15.2 which is incompatible.\n",
      "langchain-unstructured 0.1.2 requires langchain-core<0.3.0,>=0.2.23, but you have langchain-core 0.3.41 which is incompatible.\n",
      "langchain-nvidia-ai-endpoints 0.1.6 requires langchain-core<0.3,>=0.1.27, but you have langchain-core 0.3.41 which is incompatible.\n",
      "langchain-nvidia-ai-endpoints 0.1.6 requires pillow<11.0.0,>=10.0.0, but you have pillow 11.1.0 which is incompatible.\n",
      "langchain-google-community 1.0.7 requires langchain-community<0.3.0,>=0.2.1, but you have langchain-community 0.3.19 which is incompatible.\n",
      "langchain-google-community 1.0.7 requires langchain-core<0.3,>=0.2.9, but you have langchain-core 0.3.41 which is incompatible.\n",
      "langchain-google-community 1.0.7 requires tenacity<8.4.0,>=8.3.0, but you have tenacity 9.0.0 which is incompatible.\n",
      "langchain-astradb 0.3.5 requires langchain-core<0.3,>=0.1.31, but you have langchain-core 0.3.41 which is incompatible.\n",
      "flagembedding 1.3.2 requires datasets==2.19.0, but you have datasets 3.3.2 which is incompatible.\n",
      "flagembedding 1.3.2 requires transformers==4.44.2, but you have transformers 4.49.0 which is incompatible.\u001b[0m\u001b[31m\n",
      "\u001b[0mSuccessfully installed beautifulsoup4-4.13.3 langchain-0.3.20 langchain-community-0.3.19 langchain-core-0.3.41 langchain_chroma-0.2.2 openai-1.65.3\n"
     ]
    }
   ],
   "source": [
    "!pip install --upgrade jsonlines openai langchain langchain-openai langchain-community beautifulsoup4 langchain_chroma chromadb==0.5.3"
   ]
  },
  {
   "cell_type": "code",
   "execution_count": 1,
   "metadata": {
    "id": "C5uYZQknXLDM"
   },
   "outputs": [],
   "source": [
    "import os\n",
    "from dotenv import load_dotenv\n",
    "from pathlib import Path\n",
    "\n",
    "env_path = Path(\"/Users/blueno/UNO/SKALA/SKALA/.env\")\n",
    "load_dotenv(dotenv_path=env_path, override=True)\n",
    "\n",
    "# 환경 변수 확인\n",
    "openai_api_key = os.getenv(\"OPENAI_API_KEY\")\n",
    "\n",
    "os.environ['USER_AGENT']='MyCustomAgent'\n",
    "# 아래 코드 Warning 제거"
   ]
  },
  {
   "cell_type": "markdown",
   "metadata": {
    "id": "_8tnZzwABPid"
   },
   "source": [
    "## 1. `WebBaseLoader`로 웹 페이지 받아오기"
   ]
  },
  {
   "cell_type": "markdown",
   "metadata": {
    "id": "GVOZC5YqBPid"
   },
   "source": [
    "LangChain의 `document_loaders`는 다양한 형식의 파일을 불러올 수 있습니다.   \n",
    "[https://python.langchain.com/docs/integrations/document_loaders/ ]    \n",
    "\n",
    "이번에는 웹 페이지를 로드하는 `WebBaseLoader`를 통해 뉴스 기사를 읽어보겠습니다.    \n",
    "- 최근에는 FireCrawl(https://www.firecrawl.dev/)을 사용하는 경우가 늘고 있습니다."
   ]
  },
  {
   "cell_type": "markdown",
   "metadata": {
    "id": "j3gBNwwLnr9z"
   },
   "source": [
    "네이버 API를 사용해, 네이버 뉴스 검색 링크를 가져옵니다."
   ]
  },
  {
   "cell_type": "code",
   "execution_count": 3,
   "metadata": {
    "id": "20K2xtOAnrGO"
   },
   "outputs": [
    {
     "name": "stdout",
     "output_type": "stream",
     "text": [
      "54\n",
      "https://n.news.naver.com/mnews/article/293/0000064488?sid=105\n",
      "https://n.news.naver.com/mnews/article/037/0000035830?sid=105\n",
      "https://n.news.naver.com/mnews/article/277/0005554480?sid=105\n",
      "https://n.news.naver.com/mnews/article/015/0005101683?sid=105\n",
      "https://n.news.naver.com/mnews/article/001/0015243264?sid=105\n",
      "https://n.news.naver.com/mnews/article/003/0013096548?sid=105\n",
      "https://n.news.naver.com/mnews/article/014/0005316599?sid=101\n",
      "https://n.news.naver.com/mnews/article/293/0000064445?sid=105\n",
      "https://n.news.naver.com/mnews/article/003/0013097927?sid=105\n",
      "https://n.news.naver.com/mnews/article/031/0000912965?sid=105\n",
      "https://n.news.naver.com/mnews/article/029/0002939041?sid=102\n",
      "https://n.news.naver.com/mnews/article/417/0001061403?sid=105\n",
      "https://n.news.naver.com/mnews/article/030/0003289256?sid=105\n",
      "https://n.news.naver.com/mnews/article/018/0005954203?sid=105\n",
      "https://n.news.naver.com/mnews/article/277/0005555414?sid=101\n",
      "https://n.news.naver.com/mnews/article/018/0005955199?sid=105\n",
      "https://n.news.naver.com/mnews/article/092/0002365485?sid=105\n",
      "https://n.news.naver.com/mnews/article/366/0001057939?sid=105\n",
      "https://n.news.naver.com/mnews/article/030/0003289465?sid=105\n",
      "https://n.news.naver.com/mnews/article/030/0003289402?sid=105\n",
      "https://n.news.naver.com/mnews/article/293/0000064389?sid=105\n",
      "https://n.news.naver.com/mnews/article/421/0008106822?sid=105\n",
      "https://n.news.naver.com/mnews/article/014/0005315794?sid=105\n",
      "https://n.news.naver.com/mnews/article/029/0002939164?sid=105\n",
      "https://n.news.naver.com/mnews/article/029/0002938768?sid=105\n",
      "https://n.news.naver.com/mnews/article/031/0000913045?sid=105\n",
      "https://n.news.naver.com/mnews/article/030/0003289348?sid=105\n",
      "https://n.news.naver.com/mnews/article/003/0013084396?sid=102\n",
      "https://n.news.naver.com/mnews/article/053/0000048487?sid=105\n",
      "https://n.news.naver.com/mnews/article/092/0002365336?sid=105\n",
      "https://n.news.naver.com/mnews/article/031/0000913061?sid=105\n",
      "https://n.news.naver.com/mnews/article/374/0000427835?sid=101\n",
      "https://n.news.naver.com/mnews/article/092/0002365390?sid=105\n",
      "https://n.news.naver.com/mnews/article/092/0002364770?sid=105\n",
      "https://n.news.naver.com/mnews/article/138/0002191893?sid=105\n",
      "https://n.news.naver.com/mnews/article/277/0005554251?sid=105\n",
      "https://n.news.naver.com/mnews/article/138/0002191885?sid=105\n",
      "https://n.news.naver.com/mnews/article/001/0015229472?sid=105\n",
      "https://n.news.naver.com/mnews/article/138/0002191828?sid=105\n",
      "https://n.news.naver.com/mnews/article/079/0003996091?sid=101\n",
      "https://n.news.naver.com/mnews/article/629/0000368284?sid=101\n",
      "https://n.news.naver.com/mnews/article/076/0004250500?sid=101\n",
      "https://n.news.naver.com/mnews/article/138/0002192032?sid=105\n",
      "https://n.news.naver.com/mnews/article/469/0000851720?sid=101\n",
      "https://n.news.naver.com/mnews/article/014/0005316262?sid=105\n",
      "https://n.news.naver.com/mnews/article/009/0005450427?sid=101\n",
      "https://n.news.naver.com/mnews/article/030/0003287746?sid=101\n",
      "https://n.news.naver.com/mnews/article/293/0000064277?sid=105\n",
      "https://n.news.naver.com/mnews/article/030/0003289275?sid=105\n",
      "https://n.news.naver.com/mnews/article/243/0000073398?sid=101\n",
      "https://n.news.naver.com/mnews/article/277/0005552100?sid=101\n",
      "https://n.news.naver.com/mnews/article/119/0002926224?sid=101\n",
      "https://n.news.naver.com/mnews/article/003/0013091255?sid=102\n",
      "https://n.news.naver.com/mnews/article/374/0000427476?sid=101\n",
      "62\n",
      "https://n.news.naver.com/mnews/article/001/0015243729?sid=105\n",
      "https://n.news.naver.com/mnews/article/003/0013097456?sid=105\n",
      "https://n.news.naver.com/mnews/article/028/0002733918?sid=101\n",
      "https://n.news.naver.com/mnews/article/018/0005955165?sid=105\n",
      "https://n.news.naver.com/mnews/article/009/0005452874?sid=105\n",
      "https://n.news.naver.com/mnews/article/366/0001058140?sid=105\n",
      "https://n.news.naver.com/mnews/article/092/0002365494?sid=105\n",
      "https://n.news.naver.com/mnews/article/421/0008108209?sid=105\n",
      "https://n.news.naver.com/mnews/article/016/0002436701?sid=105\n",
      "https://n.news.naver.com/mnews/article/417/0001061598?sid=105\n",
      "https://n.news.naver.com/mnews/article/001/0015243558?sid=105\n",
      "https://n.news.naver.com/mnews/article/003/0013097791?sid=105\n",
      "https://n.news.naver.com/mnews/article/016/0002437252?sid=105\n",
      "https://n.news.naver.com/mnews/article/014/0005315920?sid=105\n",
      "https://n.news.naver.com/mnews/article/018/0005954768?sid=105\n",
      "https://n.news.naver.com/mnews/article/003/0013100821?sid=105\n",
      "https://n.news.naver.com/mnews/article/016/0002436556?sid=105\n",
      "https://n.news.naver.com/mnews/article/008/0005160636?sid=105\n",
      "https://n.news.naver.com/mnews/article/277/0005554641?sid=105\n",
      "https://n.news.naver.com/mnews/article/001/0015246995?sid=105\n",
      "https://n.news.naver.com/mnews/article/029/0002938760?sid=105\n",
      "https://n.news.naver.com/mnews/article/003/0013096578?sid=105\n",
      "https://n.news.naver.com/mnews/article/016/0002436863?sid=100\n",
      "https://n.news.naver.com/mnews/article/030/0003289465?sid=105\n",
      "https://n.news.naver.com/mnews/article/001/0015241561?sid=100\n",
      "https://n.news.naver.com/mnews/article/030/0003290029?sid=105\n",
      "https://n.news.naver.com/mnews/article/011/0004457411?sid=102\n",
      "https://n.news.naver.com/mnews/article/003/0013094329?sid=105\n",
      "https://n.news.naver.com/mnews/article/138/0002191920?sid=105\n",
      "https://n.news.naver.com/mnews/article/055/0001236330?sid=100\n",
      "https://n.news.naver.com/mnews/article/056/0011904015?sid=103\n",
      "https://n.news.naver.com/mnews/article/003/0013097927?sid=105\n",
      "https://n.news.naver.com/mnews/article/003/0013096273?sid=100\n",
      "https://n.news.naver.com/mnews/article/003/0013096171?sid=100\n",
      "https://n.news.naver.com/mnews/article/056/0011903830?sid=100\n",
      "https://n.news.naver.com/mnews/article/666/0000065860?sid=100\n",
      "https://n.news.naver.com/mnews/article/214/0001408554?sid=100\n",
      "https://n.news.naver.com/mnews/article/015/0005100947?sid=100\n",
      "https://n.news.naver.com/mnews/article/016/0002436105?sid=101\n",
      "https://n.news.naver.com/mnews/article/016/0002435759?sid=105\n",
      "https://n.news.naver.com/mnews/article/030/0003289064?sid=105\n",
      "https://n.news.naver.com/mnews/article/648/0000033974?sid=105\n",
      "https://n.news.naver.com/mnews/article/052/0002159291?sid=101\n",
      "https://n.news.naver.com/mnews/article/277/0005554484?sid=105\n",
      "https://n.news.naver.com/mnews/article/055/0001236390?sid=100\n",
      "https://n.news.naver.com/mnews/article/001/0015239589?sid=105\n",
      "https://n.news.naver.com/mnews/article/025/0003424662?sid=105\n",
      "https://n.news.naver.com/mnews/article/421/0008106252?sid=100\n",
      "https://n.news.naver.com/mnews/article/055/0001236329?sid=100\n",
      "https://n.news.naver.com/mnews/article/014/0005315273?sid=100\n",
      "https://n.news.naver.com/mnews/article/030/0003289400?sid=105\n",
      "https://n.news.naver.com/mnews/article/022/0004015348?sid=100\n",
      "https://n.news.naver.com/mnews/article/092/0002365336?sid=105\n",
      "https://n.news.naver.com/mnews/article/018/0005954105?sid=100\n",
      "https://n.news.naver.com/mnews/article/082/0001314062?sid=100\n",
      "https://n.news.naver.com/mnews/article/057/0001874364?sid=100\n",
      "https://n.news.naver.com/mnews/article/056/0011902272?sid=105\n",
      "https://n.news.naver.com/mnews/article/008/0005160250?sid=100\n",
      "https://n.news.naver.com/mnews/article/056/0011902997?sid=100\n",
      "https://n.news.naver.com/mnews/article/001/0015241774?sid=100\n",
      "https://n.news.naver.com/mnews/article/055/0001236444?sid=100\n",
      "https://n.news.naver.com/mnews/article/009/0005451592?sid=105\n",
      "84\n",
      "https://n.news.naver.com/mnews/article/003/0013099490?sid=105\n",
      "https://n.news.naver.com/mnews/article/469/0000852016?sid=101\n",
      "https://n.news.naver.com/mnews/article/001/0015245618?sid=105\n",
      "https://n.news.naver.com/mnews/article/047/0002464440?sid=103\n",
      "https://n.news.naver.com/mnews/article/002/0002375888?sid=100\n",
      "https://n.news.naver.com/mnews/article/009/0005452794?sid=100\n",
      "https://n.news.naver.com/mnews/article/022/0004015819?sid=101\n",
      "https://n.news.naver.com/mnews/article/119/0002929077?sid=100\n",
      "https://n.news.naver.com/mnews/article/374/0000428234?sid=101\n",
      "https://n.news.naver.com/mnews/article/277/0005555325?sid=105\n",
      "https://n.news.naver.com/mnews/article/003/0013100459?sid=105\n",
      "https://n.news.naver.com/mnews/article/079/0003998007?sid=100\n",
      "https://n.news.naver.com/mnews/article/092/0002365390?sid=105\n",
      "https://n.news.naver.com/mnews/article/422/0000718417?sid=101\n",
      "https://n.news.naver.com/mnews/article/001/0015238643?sid=104\n",
      "https://n.news.naver.com/mnews/article/029/0002939209?sid=105\n",
      "https://n.news.naver.com/mnews/article/016/0002437252?sid=105\n",
      "https://n.news.naver.com/mnews/article/022/0004015872?sid=100\n",
      "https://n.news.naver.com/mnews/article/015/0005100401?sid=105\n",
      "https://n.news.naver.com/mnews/article/421/0008108239?sid=100\n",
      "https://n.news.naver.com/mnews/article/003/0013092807?sid=105\n",
      "https://n.news.naver.com/mnews/article/014/0005314838?sid=105\n",
      "https://n.news.naver.com/mnews/article/015/0005101827?sid=102\n",
      "https://n.news.naver.com/mnews/article/009/0005453764?sid=105\n",
      "https://n.news.naver.com/mnews/article/001/0015238401?sid=105\n",
      "https://n.news.naver.com/mnews/article/032/0003354636?sid=101\n",
      "https://n.news.naver.com/mnews/article/030/0003288767?sid=105\n",
      "https://n.news.naver.com/mnews/article/092/0002365507?sid=105\n",
      "https://n.news.naver.com/mnews/article/123/0002353979?sid=004\n",
      "https://n.news.naver.com/mnews/article/022/0004015501?sid=102\n",
      "https://n.news.naver.com/mnews/article/032/0003353772?sid=101\n",
      "https://n.news.naver.com/mnews/article/022/0004014814?sid=105\n",
      "https://n.news.naver.com/mnews/article/421/0008106726?sid=105\n",
      "https://n.news.naver.com/mnews/article/586/0000098242?sid=101\n",
      "https://n.news.naver.com/mnews/article/243/0000073507?sid=105\n",
      "https://n.news.naver.com/mnews/article/092/0002364942?sid=105\n",
      "https://n.news.naver.com/mnews/article/003/0013095932?sid=105\n",
      "https://n.news.naver.com/mnews/article/022/0004015371?sid=102\n",
      "https://n.news.naver.com/mnews/article/003/0013093522?sid=104\n",
      "https://n.news.naver.com/mnews/article/003/0013095960?sid=105\n",
      "https://n.news.naver.com/mnews/article/030/0003288631?sid=105\n",
      "https://n.news.naver.com/mnews/article/020/0003618823?sid=105\n",
      "https://n.news.naver.com/mnews/article/032/0003353891?sid=101\n",
      "https://n.news.naver.com/mnews/article/031/0000912269?sid=105\n",
      "https://n.news.naver.com/mnews/article/031/0000912477?sid=105\n",
      "https://n.news.naver.com/mnews/article/421/0008103550?sid=105\n",
      "https://n.news.naver.com/mnews/article/277/0005553387?sid=101\n",
      "https://n.news.naver.com/mnews/article/001/0015233741?sid=105\n",
      "https://n.news.naver.com/mnews/article/001/0015238189?sid=105\n",
      "https://n.news.naver.com/mnews/article/053/0000048487?sid=105\n",
      "https://n.news.naver.com/mnews/article/005/0001760296?sid=105\n",
      "https://n.news.naver.com/mnews/article/001/0015238876?sid=104\n",
      "https://n.news.naver.com/mnews/article/374/0000427590?sid=101\n",
      "https://n.news.naver.com/mnews/article/032/0003354209?sid=102\n",
      "https://n.news.naver.com/mnews/article/003/0013094865?sid=105\n",
      "https://n.news.naver.com/mnews/article/003/0013091280?sid=105\n",
      "https://n.news.naver.com/mnews/article/092/0002365044?sid=105\n",
      "https://n.news.naver.com/mnews/article/081/0003522194?sid=101\n",
      "https://n.news.naver.com/mnews/article/421/0008110457?sid=105\n",
      "https://n.news.naver.com/mnews/article/003/0013084396?sid=102\n",
      "https://n.news.naver.com/mnews/article/092/0002365494?sid=105\n",
      "https://n.news.naver.com/mnews/article/011/0004456211?sid=105\n",
      "https://n.news.naver.com/mnews/article/366/0001057410?sid=105\n",
      "https://n.news.naver.com/mnews/article/003/0013092974?sid=105\n",
      "https://n.news.naver.com/mnews/article/001/0015239584?sid=104\n",
      "https://n.news.naver.com/mnews/article/023/0003891321?sid=105\n",
      "https://n.news.naver.com/mnews/article/008/0005160649?sid=100\n",
      "https://n.news.naver.com/mnews/article/023/0003890646?sid=101\n",
      "https://n.news.naver.com/mnews/article/640/0000066201?sid=101\n",
      "https://n.news.naver.com/mnews/article/015/0005100302?sid=105\n",
      "https://n.news.naver.com/mnews/article/422/0000717221?sid=104\n",
      "https://n.news.naver.com/mnews/article/656/0000123134?sid=102\n",
      "https://n.news.naver.com/mnews/article/056/0011901535?sid=105\n",
      "https://n.news.naver.com/mnews/article/025/0003423651?sid=105\n",
      "https://n.news.naver.com/mnews/article/018/0005952854?sid=105\n",
      "https://n.news.naver.com/mnews/article/015/0005100456?sid=105\n",
      "https://n.news.naver.com/mnews/article/011/0004455829?sid=105\n",
      "https://n.news.naver.com/mnews/article/055/0001236490?sid=103\n",
      "https://n.news.naver.com/mnews/article/421/0008102779?sid=105\n",
      "https://n.news.naver.com/mnews/article/092/0002365115?sid=105\n",
      "https://n.news.naver.com/mnews/article/088/0000933507?sid=105\n",
      "https://n.news.naver.com/mnews/article/008/0005159479?sid=105\n",
      "https://n.news.naver.com/mnews/article/052/0002159105?sid=104\n",
      "https://n.news.naver.com/mnews/article/001/0015247158?sid=104\n",
      "40\n",
      "https://n.news.naver.com/mnews/article/009/0005453179?sid=101\n",
      "https://n.news.naver.com/mnews/article/366/0001056468?sid=105\n",
      "https://n.news.naver.com/mnews/article/015/0005101517?sid=101\n",
      "https://n.news.naver.com/mnews/article/003/0013096088?sid=102\n",
      "https://n.news.naver.com/mnews/article/029/0002938755?sid=105\n",
      "https://n.news.naver.com/mnews/article/243/0000073515?sid=101\n",
      "https://n.news.naver.com/mnews/article/029/0002938859?sid=105\n",
      "https://n.news.naver.com/mnews/article/092/0002364435?sid=105\n",
      "https://n.news.naver.com/mnews/article/003/0013072853?sid=101\n",
      "https://n.news.naver.com/mnews/article/015/0005098362?sid=101\n",
      "https://n.news.naver.com/mnews/article/421/0008105102?sid=101\n",
      "https://n.news.naver.com/mnews/article/584/0000030984?sid=103\n",
      "https://n.news.naver.com/mnews/article/030/0003288551?sid=102\n",
      "https://n.news.naver.com/mnews/article/277/0005553771?sid=102\n",
      "https://n.news.naver.com/mnews/article/029/0002936058?sid=105\n",
      "https://n.news.naver.com/mnews/article/277/0005547976?sid=101\n",
      "https://n.news.naver.com/mnews/article/366/0001052916?sid=105\n",
      "https://n.news.naver.com/mnews/article/020/0003614502?sid=103\n",
      "https://n.news.naver.com/mnews/article/003/0013070601?sid=102\n",
      "https://n.news.naver.com/mnews/article/008/0005160032?sid=101\n",
      "https://n.news.naver.com/mnews/article/025/0003423612?sid=102\n",
      "https://n.news.naver.com/mnews/article/031/0000912644?sid=105\n",
      "https://n.news.naver.com/mnews/article/030/0003288669?sid=105\n",
      "https://n.news.naver.com/mnews/article/016/0002432599?sid=105\n",
      "https://n.news.naver.com/mnews/article/014/0005311166?sid=101\n",
      "https://n.news.naver.com/mnews/article/030/0003284924?sid=102\n",
      "https://n.news.naver.com/mnews/article/003/0013060533?sid=102\n",
      "https://n.news.naver.com/mnews/article/009/0005441356?sid=105\n",
      "https://n.news.naver.com/mnews/article/009/0005453391?sid=101\n",
      "https://n.news.naver.com/mnews/article/030/0003289151?sid=105\n",
      "https://n.news.naver.com/mnews/article/030/0003284701?sid=102\n",
      "https://n.news.naver.com/mnews/article/366/0001054547?sid=104\n",
      "https://n.news.naver.com/mnews/article/014/0005309218?sid=105\n",
      "https://n.news.naver.com/mnews/article/076/0004241309?sid=102\n",
      "https://n.news.naver.com/mnews/article/031/0000909634?sid=105\n",
      "https://n.news.naver.com/mnews/article/015/0005092705?sid=103\n",
      "https://n.news.naver.com/mnews/article/030/0003287260?sid=105\n",
      "https://n.news.naver.com/mnews/article/020/0003613323?sid=103\n",
      "https://n.news.naver.com/mnews/article/092/0002363946?sid=105\n",
      "https://n.news.naver.com/mnews/article/421/0008051588?sid=105\n",
      "44\n",
      "https://n.news.naver.com/mnews/article/003/0013100116?sid=101\n",
      "https://n.news.naver.com/mnews/article/421/0008110357?sid=101\n",
      "https://n.news.naver.com/mnews/article/030/0003289923?sid=105\n",
      "https://n.news.naver.com/mnews/article/031/0000913429?sid=105\n",
      "https://n.news.naver.com/mnews/article/001/0015246321?sid=104\n",
      "https://n.news.naver.com/mnews/article/003/0013094091?sid=101\n",
      "https://n.news.naver.com/mnews/article/011/0004457419?sid=101\n",
      "https://n.news.naver.com/mnews/article/215/0001200559?sid=101\n",
      "https://n.news.naver.com/mnews/article/421/0008109399?sid=101\n",
      "https://n.news.naver.com/mnews/article/421/0008104476?sid=101\n",
      "https://n.news.naver.com/mnews/article/003/0013086562?sid=101\n",
      "https://n.news.naver.com/mnews/article/014/0005316284?sid=101\n",
      "https://n.news.naver.com/mnews/article/052/0002160040?sid=104\n",
      "https://n.news.naver.com/mnews/article/374/0000427695?sid=101\n",
      "https://n.news.naver.com/mnews/article/009/0005450486?sid=101\n",
      "https://n.news.naver.com/mnews/article/052/0002159823?sid=104\n",
      "https://n.news.naver.com/mnews/article/015/0005100712?sid=104\n",
      "https://n.news.naver.com/mnews/article/001/0015228372?sid=102\n",
      "https://n.news.naver.com/mnews/article/003/0013082847?sid=102\n",
      "https://n.news.naver.com/mnews/article/008/0005159635?sid=101\n",
      "https://n.news.naver.com/mnews/article/029/0002937719?sid=101\n",
      "https://n.news.naver.com/mnews/article/052/0002158543?sid=104\n",
      "https://n.news.naver.com/mnews/article/056/0011898355?sid=101\n",
      "https://n.news.naver.com/mnews/article/032/0003352648?sid=101\n",
      "https://n.news.naver.com/mnews/article/029/0002937508?sid=101\n",
      "https://n.news.naver.com/mnews/article/001/0015235766?sid=103\n",
      "https://n.news.naver.com/mnews/article/009/0005447944?sid=101\n",
      "https://n.news.naver.com/mnews/article/079/0003994986?sid=101\n",
      "https://n.news.naver.com/mnews/article/079/0003993523?sid=102\n",
      "https://n.news.naver.com/mnews/article/018/0005949252?sid=101\n",
      "https://n.news.naver.com/mnews/article/092/0002364211?sid=105\n",
      "https://n.news.naver.com/mnews/article/014/0005314368?sid=101\n",
      "https://n.news.naver.com/mnews/article/366/0001055467?sid=105\n",
      "https://n.news.naver.com/mnews/article/277/0005548558?sid=101\n",
      "https://n.news.naver.com/mnews/article/014/0005314559?sid=101\n",
      "https://n.news.naver.com/mnews/article/056/0011899144?sid=101\n",
      "https://n.news.naver.com/mnews/article/003/0013084419?sid=102\n",
      "https://n.news.naver.com/mnews/article/003/0013084420?sid=102\n",
      "https://n.news.naver.com/mnews/article/003/0013084421?sid=102\n",
      "https://n.news.naver.com/mnews/article/003/0013084422?sid=102\n",
      "https://n.news.naver.com/mnews/article/003/0013084425?sid=101\n",
      "https://n.news.naver.com/mnews/article/003/0013084424?sid=101\n",
      "https://n.news.naver.com/mnews/article/003/0013084428?sid=102\n",
      "https://n.news.naver.com/mnews/article/003/0013084427?sid=102\n",
      "284\n",
      "276\n"
     ]
    }
   ],
   "source": [
    "import os\n",
    "import requests\n",
    "\n",
    "def get_naver_news_links(query, num_links=100):\n",
    "    url = f\"https://openapi.naver.com/v1/search/news.json?query={query}&display={num_links}&sort=sim\"\n",
    "    # 최대 100개의 결과를 표시\n",
    "    headers = {\n",
    "        'X-Naver-Client-Id': os.getenv(\"NAVER_CLIENT_ID\"),\n",
    "        'X-Naver-Client-Secret': os.getenv(\"NAVER_CLIENT_SECRET\")\n",
    "    }\n",
    "\n",
    "    response = requests.get(url, headers=headers)\n",
    "    result = response.json()\n",
    "    # 특정 링크 형식만 필터링\n",
    "    filtered_links = []\n",
    "    for item in result['items']:\n",
    "        link = item['link']\n",
    "        if \"n.news.naver.com/mnews/article/\" in link:\n",
    "            # 네이버 뉴스 스타일만 모으기\n",
    "            filtered_links.append(link)\n",
    "\n",
    "    # 결과 출력\n",
    "    print(len(filtered_links))\n",
    "    for link in filtered_links:\n",
    "        print(link)\n",
    "    return filtered_links\n",
    "\n",
    "filtered_links = []\n",
    "for topic in ['LLM', '생성 인공지능', 'GPT', '딥러닝', '가전제품']:\n",
    "    filtered_links += get_naver_news_links(topic, 100)\n",
    "print(len(filtered_links))\n",
    "print(len(list(set(filtered_links))))\n",
    "filtered_links = list(set(filtered_links))"
   ]
  },
  {
   "cell_type": "markdown",
   "metadata": {
    "id": "x23cqzWq1f9J"
   },
   "source": [
    "WebBaseLoader를 이용해, 링크로부터 본문을 불러옵니다."
   ]
  },
  {
   "cell_type": "code",
   "execution_count": 4,
   "metadata": {
    "id": "1WGDVRWOBPid"
   },
   "outputs": [],
   "source": [
    "# 주의: 동일 IP 환경에서 동시에 다수 실행하면 차단의 위험이 있음\n",
    "\n",
    "import bs4\n",
    "from langchain_community.document_loaders import WebBaseLoader\n",
    "def get_news_documents(links):\n",
    "    loader = WebBaseLoader(\n",
    "        web_paths=links,\n",
    "        bs_kwargs=dict(\n",
    "            parse_only=bs4.SoupStrainer(\n",
    "                class_=(\"newsct\", \"newsct-body\")\n",
    "                # newsct, newsct-body만 추출 : 도메인마다 다름\n",
    "            )\n",
    "        ),\n",
    "        requests_per_second = 1, # 1초에 1개 요청 보내기\n",
    "        show_progress = True # 진행 상황 출력\n",
    "    )\n",
    "    docs = loader.load()\n",
    "    len(docs)\n",
    "    return docs\n",
    "docs = get_news_documents(filtered_links)\n"
   ]
  },
  {
   "cell_type": "code",
   "execution_count": 5,
   "metadata": {
    "id": "6nS6WnJa3WTL"
   },
   "outputs": [
    {
     "name": "stdout",
     "output_type": "stream",
     "text": [
      "[Document(metadata={'source': 'https://n.news.naver.com/mnews/article/023/0003891321?sid=105'}, page_content='\\n\\n\\n\\n\\n조선일보\\n\\n조선일보\\n\\n\\n구독\\n\\n조선일보 언론사 구독되었습니다. 메인 뉴스판에서  주요뉴스를  볼 수 있습니다.\\n보러가기\\n\\n\\n조선일보 언론사 구독 해지되었습니다.\\n\\n\\n\\n\\n“GPT-4.5 거대하고 비싼 모델”… 올트먼도 비판적 평가\\n\\n\\n\\n\\n입력2025.03.04. 오전 1:31\\n\\n\\n수정2025.03.04. 오전 3:37\\n\\n기사원문\\n \\n\\n\\n\\n\\n오로라 기자\\n\\n\\n\\n\\n\\n\\n\\n\\n오로라 기자\\n\\n\\n\\n\\n오로라 기자\\n\\n구독\\n구독중\\n\\n\\n\\n\\n구독자\\n0\\n\\n\\n응원수\\n0\\n\\n\\n\\n더보기\\n\\n\\n\\n\\n\\n\\n\\n\\n\\n\\n\\n\\n\\n\\n추천\\n\\n\\n\\n\\n쏠쏠정보\\n0\\n\\n\\n\\n\\n흥미진진\\n0\\n\\n\\n\\n\\n공감백배\\n0\\n\\n\\n\\n\\n분석탁월\\n0\\n\\n\\n\\n\\n후속강추\\n0\\n\\n\\n \\n\\n\\n\\n댓글\\n\\n\\n\\n\\n\\n본문 요약봇\\n\\n\\n\\n본문 요약봇도움말\\n자동 추출 기술로 요약된 내용입니다. 요약 기술의 특성상 본문의 주요 내용이 제외될 수 있어, 전체 맥락을 이해하기 위해서는 기사 본문 전체보기를 권장합니다.\\n닫기\\n\\n\\n\\n\\n\\n\\n\\n\\n텍스트 음성 변환 서비스 사용하기\\n\\n\\n\\n성별\\n남성\\n여성\\n\\n\\n말하기 속도\\n느림\\n보통\\n빠름\\n\\n이동 통신망을 이용하여 음성을 재생하면 별도의 데이터 통화료가 부과될 수 있습니다.\\n본문듣기 시작\\n\\n닫기\\n\\n\\n \\n\\n글자 크기 변경하기\\n\\n\\n\\n가1단계\\n작게\\n\\n\\n가2단계\\n보통\\n\\n\\n가3단계\\n크게\\n\\n\\n가4단계\\n아주크게\\n\\n\\n가5단계\\n최대크게\\n\\n\\n\\n\\n\\n\\nSNS 보내기\\n\\n\\n\\n인쇄하기\\n\\n\\n\\n\\n\\n\\n\\n\\nGPU 부족, 高價 구독자만 서비스최신 모델인데 성능 기대 못 미쳐\\t\\t\\t\\t\\t\\t\\t\\t\\t\\t오픈AI가 지난달 27일 내놓은 최신 인공지능(AI) 모델 ‘GPT-4.5’에 대해 내부적으로 비판적인 평가가 나오고 있다. AI 반도체인 그래픽 처리 장치(GPU) 부족으로 일부 고가 유료 구독자에게만 서비스를 제공할 수 있고, 최신 모델이지만 경쟁사 대비 성능이 크게 뛰어나지 않다는 것이다. 운영에 과도한 비용이 들어 수익성이 떨어진다는 지적도 있다. 테크 업계 관계자는 “GPU 등 더 많은 자원을 투입하고 모델을 더 복잡하게 설계해도, 성능 개선이 따라가지 못하는 한계를 보여준다”고 했다.샘 올트먼 오픈AI 최고경영자(CEO)는 ‘GPT-4.5’와 관련해 X(옛 트위터)에 “사려 깊은 사람과 대화하는 느낌을 주는 최초의 모델”이라면서도 “나쁜 소식은, 이 제품은 거대하고 비싼 모델이라는 것”이라고 했다. 현재 GPT-4.5는 월 200달러의 고가 구독 모델 프로에만 제공되고 있다. AI 운용에 필요한 GPU가 부족해 월 20달러인 플러스 구독자 및 무료 회원에게 GPT-4.5를 제공할 수 없다는 것이다. 그는 “다음 주에 GPU를 수만 개 추가하고, 저가 유료 회원들에도 GPT-4.5를 제공하기 시작할 것”이라며 “이런 식으로 운영하고 싶지는 않지만, GPU 부족으로 이어지는 폭발적인 (AI의) 성장을 가늠하기 어려웠다”고 했다.업계에선 GPT-4.5의 사용료가 전작인 GPT-4o(포오)의 15~30배에 달하는 것으로 본다. 하지만 성능은 기대에 못 미친다. AI의 성능을 테스트하는 벤치마크의 에이전트 코딩(AI의 코딩 실력) 평가에서 GPT-4.5는 경쟁사인 앤스로픽의 클로드 소넷에 밀렸고, 수학 분야에선 xAI의 그록3보다 낮았다.\\n\\n\\n\\n\\n실리콘밸리=오로라 특파원 aurora@chosun.com\\n\\n\\n\\n\\n기자 프로필\\n\\n\\n\\n\\n\\n\\n\\n\\n조선일보\\n\\n조선일보\\n\\n\\n\\n\\n\\n\\n\\n오로라 기자\\n\\n\\n\\n\\n\\n\\n오로라 기자\\n\\n\\n\\n\\n\\n\\n구독\\n\\n\\n구독중\\n\\n\\n\\n\\n\\n구독자 0\\n\\n\\n\\n\\n응원수\\n0\\n\\n\\n\\n\\n\\n\\n\\n날카롭되 친절한 글을 쓰겠습니다.\\n\\n\\n\\n\\n뮤지션들 “노래가 헐값 됐다”… AI 규제 완화에 ‘깡통 앨범’으로 반발\\n\\n\\n1000억달러 투자받곤 “中, 대만 침공 땐 재앙” 립서비스\\n\\n\\n\\n\\n\\n\\n\\n조선일보의 구독 많은 기자를 구독해보세요!\\n\\n닫기\\n\\n\\n\\n\\n\\n\\n\\n\\nCopyright ⓒ 조선일보. All rights reserved. 무단 전재 및 재배포 금지.\\n\\n \\n이 기사는 언론사에서 IT 섹션으로 분류했습니다.\\n\\n기사 섹션 분류 안내\\n기사의 섹션 정보는 해당 언론사의 분류를 따르고 있습니다. 언론사는 개별 기사를 2개 이상 섹션으로 중복 분류할 수 있습니다.\\n닫기\\n\\n\\n\\n\\n\\n\\n\\n\\n\\n\\n\\n구독\\n메인에서 바로 보는 언론사 편집 뉴스 지금 바로 구독해보세요!\\n\\n\\n구독중\\n메인에서 바로 보는 언론사 편집 뉴스 지금 바로 확인해보세요!\\n\\n\\n\\n\\n\\n\\n\\n\\n\\n\\n\\n\\n\\nAI부동산, 나에게 딱 맞는 부동산 정보\\nQR 코드를 클릭하면 크게 볼 수 있어요.\\n\\n\\n\\nQR을 촬영해보세요.\\nAI부동산, 나에게 딱 맞는 부동산 정보\\n\\n\\n\\n\\n\\n\\n\\n\\n\\n\\n닫기\\n\\n\\n\\n\\n\\n\\n\\n\\n\\n이러면 낫습니다. 오!건강 유튜브 바로 보기\\nQR 코드를 클릭하면 크게 볼 수 있어요.\\n\\n\\n\\nQR을 촬영해보세요.\\n이러면 낫습니다. 오!건강 유튜브 바로 보기\\n\\n\\n\\n\\n\\n\\n\\n\\n\\n\\n닫기\\n\\n\\n\\n\\n\\n\\n\\n\\n\\n\\n조선일보\\n\\n조선일보\\n\\n\\t\\t\\t주요뉴스해당 언론사에서 선정하며 언론사 페이지(아웃링크)로 이동해 볼 수 있습니다.\\n\\n\\n공수처 \"檢 압색으로 영장 누락·쇼핑 의혹 등 해소됐다\"\\n안보협정 믿고 핵·영토 내준 우크라…지켜준 나라 없다\\nK2 전차·천무…中企가 만든 \\'방탄 세라믹\\' 두르고 수출\\n6년 만의 평양국제마라톤…참가 못하는 \\'이 나라\\'는?\\n우크라 北포로, 與유용원과 면담서 \"韓 꼭 가고 싶다\"\\n\\n\\n\\n\\n\\n\\n\\n\\n이 기사를 추천합니다\\n\\n\\n기사 추천은 24시간 내 50회까지 참여할 수 있습니다.\\n닫기\\n\\n\\n\\n\\n\\n\\n쏠쏠정보\\n0\\n\\n\\n\\n\\n흥미진진\\n0\\n\\n\\n\\n\\n공감백배\\n0\\n\\n\\n\\n\\n분석탁월\\n0\\n\\n\\n\\n\\n후속강추\\n0\\n\\n\\n \\n\\n\\n\\n\\n\\n\\n\\n\\n\\n\\n\\n\\n\\n\\n\\n\\n\\n\\n모두에게 보여주고 싶은 기사라면?beta\\n\\n이 기사를 추천합니다 버튼을 눌러주세요.  집계 기간 동안 추천을 많이 받은 기사는 네이버 자동 기사배열 영역에 추천 요소로 활용됩니다.\\n\\n레이어 닫기\\n\\n\\n \\n\\n\\n조선일보 언론사가 직접 선정한 이슈\\n\\t\\t\\t\\n\\n\\n\\n\\n\\n\\n\\n\\n이슈\\n윤 대통령 탄핵소추\\n\\n\\n\\n종지협 “헌재 결정 나면 승복해야”\\n\\n\\n\\n\\n\\n\\n\\n이슈\\n다시 트럼프 시대\\n\\n\\n\\n트럼프 “젤렌스키, 광물협정 서명 준비됐다는 서한 보내”\\n\\n\\n\\n\\n\\n\\n\\n\\n\\n\\n이슈\\n북 러시아 파병\\n\\n\\n\\n“북한군 포로 귀순 의사 확인… 빨리 데려와야”\\n\\n\\n\\n\\n\\n\\n\\n\\n\\n\\n\\n이전\\n\\n\\n다음\\n\\n\\n\\n\\n\\n\\n조선일보 언론사홈 바로가기\\n\\n\\n \\n\\n\\n\\n\\n\\n기자 구독 후 기사보기\\n\\n\\n\\n구독 없이 계속 보기\\n\\n\\n\\n\\n'), Document(metadata={'source': 'https://n.news.naver.com/mnews/article/015/0005100947?sid=100'}, page_content='\\n\\n\\n\\n\\n한국경제\\n\\n한국경제\\n\\n\\n구독\\n\\n한국경제 언론사 구독되었습니다. 메인 뉴스판에서  주요뉴스를  볼 수 있습니다.\\n보러가기\\n\\n\\n한국경제 언론사 구독 해지되었습니다.\\n\\n\\n\\n\\nPICK\\n안내\\n\\n\\n언론사가 주요기사로선정한 기사입니다.\\n언론사별 바로가기\\n닫기\\n\\n\\n\\n\\n이재명 \"전국민 무료로 생성형AI 쓸 기회 만들고 싶어\"\\n\\n\\n\\n\\n입력2025.03.02. 오후 2:33\\n\\n기사원문\\n \\n\\n한경우 기자\\n\\n\\n\\n\\n\\n\\n\\n한경우 기자\\n\\n\\n\\n\\n한경우 기자\\n\\n구독\\n구독중\\n\\n\\n\\n\\n구독자\\n0\\n\\n\\n응원수\\n0\\n\\n\\n\\n더보기\\n\\n\\n\\n\\n\\n\\n\\n\\n\\n\\n\\n\\n\\n\\n추천\\n\\n\\n\\n\\n쏠쏠정보\\n0\\n\\n\\n\\n\\n흥미진진\\n0\\n\\n\\n\\n\\n공감백배\\n0\\n\\n\\n\\n\\n분석탁월\\n0\\n\\n\\n\\n\\n후속강추\\n0\\n\\n\\n \\n\\n\\n\\n댓글\\n\\n\\n\\n\\n\\n본문 요약봇\\n\\n\\n\\n본문 요약봇도움말\\n자동 추출 기술로 요약된 내용입니다. 요약 기술의 특성상 본문의 주요 내용이 제외될 수 있어, 전체 맥락을 이해하기 위해서는 기사 본문 전체보기를 권장합니다.\\n닫기\\n\\n\\n\\n\\n\\n\\n\\n\\n텍스트 음성 변환 서비스 사용하기\\n\\n\\n\\n성별\\n남성\\n여성\\n\\n\\n말하기 속도\\n느림\\n보통\\n빠름\\n\\n이동 통신망을 이용하여 음성을 재생하면 별도의 데이터 통화료가 부과될 수 있습니다.\\n본문듣기 시작\\n\\n닫기\\n\\n\\n \\n\\n글자 크기 변경하기\\n\\n\\n\\n가1단계\\n작게\\n\\n\\n가2단계\\n보통\\n\\n\\n가3단계\\n크게\\n\\n\\n가4단계\\n아주크게\\n\\n\\n가5단계\\n최대크게\\n\\n\\n\\n\\n\\n\\nSNS 보내기\\n\\n\\n\\n인쇄하기\\n\\n\\n\\n\\n\\n\\n\\n\\n\\n\\n\\n\\n사진=뉴스1이재명 더불어민주당 대표는 2일 \"모든 국민들이 무료로 생성형 인공지능(AI)을 쓸 수 있는 기회를 만들고 싶다\"고 말했다.연합뉴스에 따르면 민주당 싱크탱크인 민주연구원의 집단지성센터는 이 대표가 ‘AI와 대한민국, 그리고 나’를 주제로 전문가들과 나눈 대담 영상을 유튜브 채널에 공개한다고 밝혔다.이 대표와 대담하는 전문가로는 네이버 클라우드센터장인 하정우 바른과학기술사회 실현을 위한 국민연합 공동대표, 오혜연 카이스트 AI연구원장이 나섰다. 이 대표는 정책 과제 국민 의견 수렴 온라인 플랫폼인 ‘모두의 질문Q’에 올라온 질문을 소개하고 참석자들과 토론했다.여기서 이 대표는 중국 스타트업 딥시크가 고성능 AI 모델을 내놓아 충격을 준 사건을 거론하며 조속한 H100급 그래픽처리장치(GPU) 확보와 정부 주도의 글로벌 AI 기술 협력 강화 필요성에 공감을 표했다.또 이 대표는 “AI 발달로 인한 생산성 증대를 특정 개인과 기업이 독점하지 ㅇ낳고 국민 모두가 함께 공유할 수 있는 세상을 만들고 싶다”며 AI 산업 발전 과정에서 소외되는 계층이 없도록 충실한 사회안전망 구축이 필요하다고 강조했다.민주연구원 집단지성센터는 앞으로 \\'모두의질문Q\\'에 올라온 질문을 중심으로 다양한 사회 정책 이슈를 다루는 대담을 이어갈 예정이다.\\n\\n\\n\\n\\n한경우 한경닷컴 기자 case@hankyung.com\\n\\n\\n\\n\\n기자 프로필\\n\\n\\n\\n\\n\\n\\n\\n\\n한국경제\\n\\n한국경제\\n\\n\\n\\n\\n\\n\\n한경우 기자\\n\\n\\n\\n\\n\\n\\n한경우 기자\\n\\n\\n\\n\\n\\n\\n구독\\n\\n\\n구독중\\n\\n\\n\\n\\n\\n구독자 0\\n\\n\\n\\n\\n응원수\\n0\\n\\n\\n\\n\\n\\n\\n\\n\\n\\n하루도 빠짐없이 주식 샀다…3조원어치 쓸어담은 \\'큰손\\' 정체  [종목+]\\n\\n\\n서희원 母 \"유산·양육권 전 사위가 마음대로 가져가도 돼\"…왜?\\n\\n\\n\\n\\n\\n\\n\\n한국경제의 구독 많은 기자를 구독해보세요!\\n\\n닫기\\n\\n\\n\\n\\n\\n\\n\\n\\nCopyright ⓒ 한국경제. All rights reserved. 무단 전재 및 재배포 금지.\\n\\n \\n이 기사는 언론사에서 정치 섹션으로 분류했습니다.\\n\\n기사 섹션 분류 안내\\n기사의 섹션 정보는 해당 언론사의 분류를 따르고 있습니다. 언론사는 개별 기사를 2개 이상 섹션으로 중복 분류할 수 있습니다.\\n닫기\\n\\n\\n\\n\\n\\n\\n\\n\\n\\n\\n\\n구독\\n메인에서 바로 보는 언론사 편집 뉴스 지금 바로 구독해보세요!\\n\\n\\n구독중\\n메인에서 바로 보는 언론사 편집 뉴스 지금 바로 확인해보세요!\\n\\n\\n\\n\\n\\n\\n\\n\\n\\n\\n\\n\\n\\n2025년 을사년 신년운세…지금 바로 확인!\\nQR 코드를 클릭하면 크게 볼 수 있어요.\\n\\n\\n\\nQR을 촬영해보세요.\\n2025년 을사년 신년운세…지금 바로 확인!\\n\\n\\n\\n\\n\\n\\n\\n\\n\\n\\n닫기\\n\\n\\n\\n\\n\\n\\n\\n\\n\\n성공하는 사람들의 필수 습관, 한경×스픽\\nQR 코드를 클릭하면 크게 볼 수 있어요.\\n\\n\\n\\nQR을 촬영해보세요.\\n성공하는 사람들의 필수 습관, 한경×스픽\\n\\n\\n\\n\\n\\n\\n\\n\\n\\n\\n닫기\\n\\n\\n\\n\\n\\n\\n\\n\\n\\n\\n한국경제\\n\\n한국경제\\n\\n\\t\\t\\t주요뉴스해당 언론사에서 선정하며 언론사 페이지(아웃링크)로 이동해 볼 수 있습니다.\\n\\n\\n\"알바 자리도 없어\" 연봉 2억 받던 삼성맨 눈물\\n\\'505억\\' 전지현 빌딩, 3년 만에 25억 뛰었다\\n연휴엔 \\'삼겹살 파티\\'…\\'700원대\\' 역대급 가격\\n다이소 3000원 건기식, 오히려 더 비싸다고?\\n널빤지 깔고 시작했는데…\\'월수익 600\\' 대반전\\n\\n\\n\\n\\n\\n\\n\\n\\n이 기사를 추천합니다\\n\\n\\n기사 추천은 24시간 내 50회까지 참여할 수 있습니다.\\n닫기\\n\\n\\n\\n\\n\\n\\n쏠쏠정보\\n0\\n\\n\\n\\n\\n흥미진진\\n0\\n\\n\\n\\n\\n공감백배\\n0\\n\\n\\n\\n\\n분석탁월\\n0\\n\\n\\n\\n\\n후속강추\\n0\\n\\n\\n \\n\\n\\n\\n\\n\\n\\n\\n\\n\\n\\n\\n\\n\\n\\n\\n\\n\\n\\n모두에게 보여주고 싶은 기사라면?beta\\n\\n이 기사를 추천합니다 버튼을 눌러주세요.  집계 기간 동안 추천을 많이 받은 기사는 네이버 자동 기사배열 영역에 추천 요소로 활용됩니다.\\n\\n레이어 닫기\\n\\n\\n \\n\\n\\n한국경제 언론사가 직접 선정한 이슈\\n\\t\\t\\t\\n\\n\\n\\n\\n\\n\\n\\n\\n이슈\\n尹 탄핵 정국\\n\\n\\n\\n\\'尹 탄핵심판\\' 선고 앞두고 모인 종교계 \"헌재 결정 승복해야\"\\n\\n\\n\\n\\n\\n\\n\\n\\n\\n\\n이슈\\n트럼프 2.0 시대\\n\\n\\n\\n트럼프, 한국 콕 집어 \"군사 지원받으면서 관세는 4배나 부과\"\\n\\n\\n\\n\\n\\n\\n\\n\\n\\n\\n이슈\\n우크라 종전 임박\\n\\n\\n\\n美-우크라 광물협정 임박…젤렌스키 \"서명 준비됐다\"\\n\\n\\n\\n\\n\\n\\n\\n\\n\\n\\n\\n이전\\n\\n\\n다음\\n\\n\\n\\n\\n\\n\\n한국경제 언론사홈 바로가기\\n\\n\\n \\n\\n\\n\\n\\n\\n기자 구독 후 기사보기\\n\\n\\n\\n구독 없이 계속 보기\\n\\n\\n\\n\\n'), Document(metadata={'source': 'https://n.news.naver.com/mnews/article/014/0005311166?sid=101'}, page_content='\\n\\n\\n\\n\\n파이낸셜뉴스\\n\\n파이낸셜뉴스\\n\\n\\n구독\\n\\n파이낸셜뉴스 언론사 구독되었습니다. 메인 뉴스판에서  주요뉴스를  볼 수 있습니다.\\n보러가기\\n\\n\\n파이낸셜뉴스 언론사 구독 해지되었습니다.\\n\\n\\n\\n\\nPICK\\n안내\\n\\n\\n언론사가 주요기사로선정한 기사입니다.\\n언론사별 바로가기\\n닫기\\n\\n\\n\\n\\n[단독] \"제조현장 AI 붐\" 삼성전기 ‘AI센터’ 신설됐다 [FN 테크인사이드]\\n\\n\\n\\n\\n입력2025.02.20. 오후 2:11\\n\\n기사원문\\n \\n\\n임수빈 기자\\n김준석 기자\\n\\n\\n\\n\\n\\n\\n\\n\\n임수빈 기자\\n\\n\\n\\n\\n임수빈 기자\\n\\n구독\\n구독중\\n\\n\\n\\n\\n구독자\\n0\\n\\n\\n응원수\\n0\\n\\n\\n\\n더보기\\n\\n\\n\\n\\n\\n\\n\\n김준석 기자\\n\\n\\n\\n\\n김준석 기자\\n\\n구독\\n구독중\\n\\n\\n\\n\\n구독자\\n0\\n\\n\\n응원수\\n0\\n\\n\\n\\n더보기\\n\\n\\n\\n\\n\\n\\n\\n\\n\\n\\n\\n\\n\\n\\n추천\\n\\n\\n\\n\\n쏠쏠정보\\n0\\n\\n\\n\\n\\n흥미진진\\n0\\n\\n\\n\\n\\n공감백배\\n0\\n\\n\\n\\n\\n분석탁월\\n0\\n\\n\\n\\n\\n후속강추\\n0\\n\\n\\n \\n\\n\\n\\n댓글\\n\\n\\n\\n\\n\\n본문 요약봇\\n\\n\\n\\n본문 요약봇도움말\\n자동 추출 기술로 요약된 내용입니다. 요약 기술의 특성상 본문의 주요 내용이 제외될 수 있어, 전체 맥락을 이해하기 위해서는 기사 본문 전체보기를 권장합니다.\\n닫기\\n\\n\\n\\n\\n\\n\\n\\n\\n텍스트 음성 변환 서비스 사용하기\\n\\n\\n\\n성별\\n남성\\n여성\\n\\n\\n말하기 속도\\n느림\\n보통\\n빠름\\n\\n이동 통신망을 이용하여 음성을 재생하면 별도의 데이터 통화료가 부과될 수 있습니다.\\n본문듣기 시작\\n\\n닫기\\n\\n\\n \\n\\n글자 크기 변경하기\\n\\n\\n\\n가1단계\\n작게\\n\\n\\n가2단계\\n보통\\n\\n\\n가3단계\\n크게\\n\\n\\n가4단계\\n아주크게\\n\\n\\n가5단계\\n최대크게\\n\\n\\n\\n\\n\\n\\nSNS 보내기\\n\\n\\n\\n인쇄하기\\n\\n\\n\\n\\n\\n\\n\\n\\n삼성전기, AI 및 공장 자동화 기술 조직 재편한 센터 만들어산하에 AI 솔루션 랩, SW 개발팀, 검사 자동화 랩 등 편제돼MLCC 외관 선별기 설비에 딥러닝 기술 적용하는 등 수율 향상 \\n\\n\\n\\n삼성전기 수원사업장 전경. 삼성전기 제공  \\n\\n\\n\\n [파이낸셜뉴스] 삼성전기가 제조 생산성 향상을 위해 인공지능(AI) 및 공장 자동화 기술을 개발하는 조직을 재편한 것으로 확인됐다. 삼성전자에 이어 핵심 전자 계열사인 삼성전기도 미세 공정에 있어서 AX(AI전환)에 박차를 가하는 모양새다. 이를 통해 생산성 향상 및 경쟁력 강화 수단으로 AI 활용을 전방위로 확대할 것으로 예상된다.    ■\\'자동화기술센터\\'로 전면 탈바꿈 20일 전기전자업계에 따르면 삼성전기는 지난해 12월부터 기존에 있던 제조 시설 자동화와 관련된 조직을 재편, 자동화기술센터(Automation Technology Center)로 확대·개편했다. 해당 센터는 AI 기반 생산 자동화를 통한 효율 및 생산성 향상을 목표로 재편된 조직으로, 사실상 신설이다. 센터장으로는 장우석 삼성전기 부사장이 선임됐다. 장 부사장은 앞서 삼성전자에서 29년 간 재직한 인물로, AI과 소프트웨어(SW) 등을 기술을 연구 및 개발한 경험이 있다.   산하 조직에는 AI 솔루션 랩, SW 개발팀, 검사자동화 랩 등이 편제 됐다. 특히 제조업에 적용하기 위한 AI 기술의 최적화를 위해 각 팀이 따로 또 함께 움직이고 있는 것으로 파악된다. 예컨대 AI 솔루션을 제공하기 위한 SW를 개발하고, 제품 품질 검사 설비 등 자동화를 위한 연구도 진행하는 것으로 알려졌다.   이 같은 노력은 산업 현장에서 AI를 적극 도입하기 위한 조치로 풀이된다. 이미 삼성전자의 경우 반도체(DS)부문에 AI 센터를 통해 반도체 생산 공정의 자동화와 데이터 기반 품질 개선에 AI 기술을 적용, 제조 경쟁력을 높이고 있다.    ■\\'불량률 제로\\' 도전...AI 적극 도입 삼성전기도 글로벌 흐름에 맞춰 그동안 다양한 AI 기반 솔루션을 현장에 적용해 왔다. 지난 2016년엔 AI 스스로 학습하는 \\'딥러닝\\' 기술을 영상 기반의 제품 불량 탐지에 적용하고 있다. 현재 활용하는 대부분의 적층세라믹캐패시터(MLCC) 외관 선별기 설비에도 딥러닝 기술이 적용돼 있다. 기존 MLCC 외관 선별기는 전통적 영상 처리 기법으로 불량품을 골라내 미세하게 스크래치가 발생한 일부 제품을 판단하지 못하는 경우가 많았는데, AI 기술을 활용해 불량품 검출 정확도를 높였다.   이처럼 AI를 활용하면 수율(양품 비율)을 향상시키는 것이 가능하다. 제품의 선폭·선간폭·회로길이 등 다양한 원인으로 단선·합선 등 불량 이슈가 발생하는 데 이 같은 문제를 보다 정교하게 감지할 수 있어서다. 마이크로미터(0.000001m) 단위의 미세한 차이로도 회로 이상이 발생할 수 있다. 이에 따라 발생하는 실패비용(F-cost) 등은 공정 초기 수율 저조의 주원인으로 지목돼 왔다.   삼성전기는 AI 기술을 제조업에 효율적으로 적용하기 위해 지난 2017년 자체 AI 학습 툴도 개발 및 구축했다. 아울러 삼성 계열사와의 시너지 등을 통해 \\'거대언어모델(LLM)\\'의 현장 활용도 준비하고 있다.   업계 관계자는 \"산업 현장에서 AI 활용은 필수인 시대\"라며 \"제조 기업들에서도 적극적으로 AI 자동화를 도입하고 있는데 삼성전기는 전문 조직을 통해 전문성을 더 확보할 수 있을 것\"이라고 말했다. #삼성전기 #자동화기술센터  \\n\\n\\n\\n\\n임수빈 기자 (soup@fnnews.com)\\n김준석 기자 (rejune1112@fnnews.com)\\n\\n\\n\\n\\n기자 프로필\\n\\n\\n\\n\\n\\n\\n\\n\\n파이낸셜뉴스\\n\\n파이낸셜뉴스\\n\\n\\n\\n\\n\\n\\n\\n임수빈 기자\\n\\n\\n\\n\\n\\n\\n임수빈 기자\\n\\n\\n\\n\\n\\n\\n구독\\n\\n\\n구독중\\n\\n\\n\\n\\n\\n구독자 0\\n\\n\\n\\n\\n응원수\\n0\\n\\n\\n\\n\\n\\n\\n\\n열심히 쓰겠습니다. 제보 기다립니다. \\n\\n\\n\\n\\n[단독] 삼성전자, 파운드리→메모리行 본격 시동 \\'메모리 구하기\\' 속도 내나\\n\\n\\n[단독] \"이번에는 \\'스마트폰 두뇌\\' 독립 나선다\"...삼성전자, 성능향상TF 띄웠다\\n\\n\\n\\n\\n\\n\\n\\n\\n\\n\\n\\n파이낸셜뉴스\\n\\n파이낸셜뉴스\\n\\n\\n\\n\\n\\n\\n\\n김준석 기자\\n\\n\\n\\n\\n\\n\\n김준석 기자\\n\\n\\n\\n\\n\\n\\n구독\\n\\n\\n구독중\\n\\n\\n\\n\\n\\n구독자 0\\n\\n\\n\\n\\n응원수\\n0\\n\\n\\n\\n\\n\\n\\n\\n\"언제든 Day and night~ Hit me hit me up Hit me hit me up now oh\"\\n\\n\\n\\n\\n[단독] 삼성전자, 파운드리→메모리行 본격 시동 \\'메모리 구하기\\' 속도 내나\\n\\n\\n[단독] \"이번에는 \\'스마트폰 두뇌\\' 독립 나선다\"...삼성전자, 성능향상TF 띄웠다\\n\\n\\n\\n\\n\\n\\n\\n파이낸셜뉴스의 구독 많은 기자를 구독해보세요!\\n\\n닫기\\n\\n\\n\\n\\n\\n\\n\\n\\nCopyright ⓒ 파이낸셜뉴스. All rights reserved. 무단 전재 및 재배포 금지.\\n\\n \\n이 기사는 언론사에서 경제 섹션으로 분류했습니다.\\n\\n기사 섹션 분류 안내\\n기사의 섹션 정보는 해당 언론사의 분류를 따르고 있습니다. 언론사는 개별 기사를 2개 이상 섹션으로 중복 분류할 수 있습니다.\\n닫기\\n\\n\\n\\n\\n\\n\\n\\n\\n\\n\\n\\n구독\\n메인에서 바로 보는 언론사 편집 뉴스 지금 바로 구독해보세요!\\n\\n\\n구독중\\n메인에서 바로 보는 언론사 편집 뉴스 지금 바로 확인해보세요!\\n\\n\\n\\n\\n\\n\\n\\n\\n\\n\\n변화와 혁신의 현장에서 전하는 [실리콘밸리 NOW]\\n\\n\\n\\n\\n나는 대학시절 취직을 전공했다는 사실! [루틴]\\n\\n\\n\\n\\n\\n\\n\\n\\n파이낸셜뉴스\\n\\n파이낸셜뉴스\\n\\n\\t\\t\\t주요뉴스해당 언론사에서 선정하며 언론사 페이지(아웃링크)로 이동해 볼 수 있습니다.\\n\\n\\n서정희 母 작심고백 \"서세원, 딸이 밖에서 남자랑...\"\\n신동엽 부인, 뜻밖의 폭로 \"이소라에 3500만원짜리...\"\\n\\'하하♥\\' 별의 고민 \"임신 너무 잘되는데 부부관계를...\"\\n양양 하천서 50대 男 숨진채 발견, 시신 살펴보니...소름\\n90대 여성 성폭행한 70대 이장, 홈캠 봤더니 갑자기\\n\\n\\n\\n\\n\\n\\n\\n\\n이 기사를 추천합니다\\n\\n\\n기사 추천은 24시간 내 50회까지 참여할 수 있습니다.\\n닫기\\n\\n\\n\\n\\n\\n\\n쏠쏠정보\\n0\\n\\n\\n\\n\\n흥미진진\\n0\\n\\n\\n\\n\\n공감백배\\n0\\n\\n\\n\\n\\n분석탁월\\n0\\n\\n\\n\\n\\n후속강추\\n0\\n\\n\\n \\n\\n\\n\\n\\n\\n\\n\\n\\n\\n\\n\\n\\n\\n\\n\\n\\n\\n\\n모두에게 보여주고 싶은 기사라면?beta\\n\\n이 기사를 추천합니다 버튼을 눌러주세요.  집계 기간 동안 추천을 많이 받은 기사는 네이버 자동 기사배열 영역에 추천 요소로 활용됩니다.\\n\\n레이어 닫기\\n\\n\\n \\n\\n\\n파이낸셜뉴스 언론사가 직접 선정한 이슈\\n\\t\\t\\t\\n\\n\\n\\n\\n\\n\\n\\n\\n이슈\\n고려아연 경영권 분쟁\\n\\n\\n\\n영풍·MBK, 최윤범 고려아연 회장에 주주대표 소송..한화 지분 매각\\n\\n\\n\\n\\n\\n\\n\\n\\n\\n\\n이슈\\n\\'티메프\\' 미정산 사태\\n\\n\\n\\n오아시스, 티몬 조건부 인수 나선다\\n\\n\\n\\n\\n\\n\\n\\n\\n\\n\\n이슈\\n中 AI \\'딥시크 충격파\\'\\n\\n\\n\\n\"AI·반도체 미래는 ‘온디바이스 AI’… 삼성·SK도 대비해야\"\\n\\n\\n\\n\\n\\n\\n\\n\\n\\n\\n이슈\\n상법개정안 충돌\\n\\n\\n\\n일단 멈춘 상법개정, 여야 합의는 \\'난항\\'\\n\\n\\n\\n\\n\\n\\n\\n이슈\\n의정 갈등 장기화\\n\\n\\n\\n내일이 개강인데..전국 의대 40곳 중 10곳, 수강신청자 \\'0명\\'\\n\\n\\n\\n\\n\\n\\n\\n\\n\\n\\n\\n이전\\n\\n\\n다음\\n\\n\\n\\n\\n\\n\\n파이낸셜뉴스 언론사홈 바로가기\\n\\n\\n \\n\\n\\n\\n\\n\\n기자 구독 후 기사보기\\n\\n\\n\\n구독 없이 계속 보기\\n\\n\\n\\n\\n'), Document(metadata={'source': 'https://n.news.naver.com/mnews/article/016/0002432599?sid=105'}, page_content='\\n\\n\\n\\n\\n헤럴드경제\\n\\n헤럴드경제\\n\\n\\n구독\\n\\n헤럴드경제 언론사 구독되었습니다. 메인 뉴스판에서  주요뉴스를  볼 수 있습니다.\\n보러가기\\n\\n\\n헤럴드경제 언론사 구독 해지되었습니다.\\n\\n\\n\\n\\nPICK\\n안내\\n\\n\\n언론사가 주요기사 및 심층기획으로선정한 기사입니다.\\n언론사별 바로가기\\n닫기\\n\\n\\n\\n\\n연봉 1억2천만원, 숙박 지원…“삼성보다 낫다” 역대급 사원 ‘우르르’\\n\\n\\n\\n\\n입력2025.02.22. 오전 11:41\\n\\n\\n수정2025.02.22. 오후 12:12\\n\\n기사원문\\n \\n\\n고재우 기자\\n\\nTALK\\n\\n\\n\\n\\n\\n\\n고재우 기자\\n\\n\\n\\n\\n고재우 기자\\n\\nTALK\\n구독\\n구독중\\n\\n\\n\\n\\n구독자\\n0\\n\\n\\n응원수\\n0\\n\\n\\n\\n더보기\\n\\n\\n\\n\\n\\n\\n\\n\\n\\n\\n\\n\\n\\n\\n추천\\n\\n\\n\\n\\n쏠쏠정보\\n0\\n\\n\\n\\n\\n흥미진진\\n0\\n\\n\\n\\n\\n공감백배\\n0\\n\\n\\n\\n\\n분석탁월\\n0\\n\\n\\n\\n\\n후속강추\\n0\\n\\n\\n \\n\\n\\n\\n댓글\\n\\n\\n\\n\\n\\n본문 요약봇\\n\\n\\n\\n본문 요약봇도움말\\n자동 추출 기술로 요약된 내용입니다. 요약 기술의 특성상 본문의 주요 내용이 제외될 수 있어, 전체 맥락을 이해하기 위해서는 기사 본문 전체보기를 권장합니다.\\n닫기\\n\\n\\n\\n\\n\\n\\n\\n\\n텍스트 음성 변환 서비스 사용하기\\n\\n\\n\\n성별\\n남성\\n여성\\n\\n\\n말하기 속도\\n느림\\n보통\\n빠름\\n\\n이동 통신망을 이용하여 음성을 재생하면 별도의 데이터 통화료가 부과될 수 있습니다.\\n본문듣기 시작\\n\\n닫기\\n\\n\\n \\n\\n글자 크기 변경하기\\n\\n\\n\\n가1단계\\n작게\\n\\n\\n가2단계\\n보통\\n\\n\\n가3단계\\n크게\\n\\n\\n가4단계\\n아주크게\\n\\n\\n가5단계\\n최대크게\\n\\n\\n\\n\\n\\n\\nSNS 보내기\\n\\n\\n\\n인쇄하기\\n\\n\\n\\n\\n\\n\\n\\n\\n\\n\\n\\n\\n[유튜브 워크맨 캡처][헤럴드경제=고재우 기자] 네이버가 인공지능(AI) 관련 경력 채용에 나섰다. 기존에도 ICT 업계에서는 AI 인력 부족을 호소하는 목소리가 적잖았는데, 이런 상황에 더해 주력 사업인 검색 등에서 글로벌 빅테크와 경쟁에서 뒤처지지 않기 위한 노력으로 풀이된다.21일 업계에 따르면 네이버는 최근 테크 직군 경력 채용에 돌입했다. 특히 AI와 직간접적으로 연결된 직무가 많았다. 네이버 검색&데이터 플랫폼 개발, AI 검색 개발 등이 대표적이다.연구자들이 대거 포진된 네이러랩스에서는 딥러닝&로보틱스 리서치 엔지니어, 로봇 컨트롤 머신러닝 엔지니어, AI·ML 컴퓨터 비전 리서치 엔지니어, 3D 비전 리서치 엔지니어, 컴퓨터 비전&3D 비전 리서치 엔지니어, 컴퓨터 비전&3D 리콘.리서치 엔지니어 등이 눈에 띈다.여기에 3D 비전리서치(인턴십), 컴퓨터 비전&딥러닝 리서치(인턴십), 로봇 소프트웨어&시스템 개발(인턴십), 로보틱스&딥러닝 리서치(인턴십) 등도 있었다.이외에도 네이버웹툰에서 안티어뷰징 엔지니어, 스노우에서 데이터 엔지니어 등 AI 관련 채용에 나섰다.\\n\\n\\n\\n최수연 네이버 대표이사. [네이버 제공]그동안 AI 관련 인력 채용에 대한 어려움은 여러 차례 제기된 바 있다. AI를 담당한 임원 등의 경쟁 업체 이직을 일정 기간 제한하는 정관 개정이 이뤄질 정도였다.이에 더해 ICT 업계에서는 네이버의 이 같은 움직임이 기존 서비스에 AI 접목하고, 이를 더욱 확장하기 위한 채용이라고 분석한다. 예를 들어 기존 네이버 검색에 생성형 AI를 접목한 서비스인 ‘큐(cue)’를 위한 인력이란 것이다.업계 관계자는 “검색 서비스 큐뿐만 아니라 네이버쇼핑 등에도 AI를 접목하겠다고 발표한 바 있는 만큼, 관련 채용이 이뤄지고 있는 것으로 보인다”며 “그동안 연구개발을 바탕으로 올해에는 성과를 내야 한다는 이야기가 네이버 내부에서 나온다”고 귀띔했다.이어 “이번 채용을 통해 초거대인공지능(하이퍼클로바X) 파트는 큐 서비스 강화, 디지털트윈(가상 시뮬레이션 모형), 로봇 파트는 연구개발에 집중하려는 것으로 보인다”고 덧붙였다.\\n\\n\\n\\n[유튜브 워크맨 캡처]한편 네이버는 평균 연봉 1억1900만원(2023년 기준) 외에도 억 소리 나는 복지로도 정평이 나 있다. 지난 2021년부터는 전 직원을 대상으로 연간 1000만원 상당의 주식을 부여하고 있고, 네이버 주식 매입 후 6개월 보유 시에는 매입 금액 10%(연간 200만원까지)를 지원한다.이 밖에도 원격 근무 및 연간 최대 2주 해외 근무, 최대 7일 워케이션 업무 공간 및 숙박·식사 지원(국내 춘천 커넥트원, 해외 베이스캠프 도쿄), 2년 근속 시 연차 외 추가 15일 유급휴가, 점심·저녁 사내 식당 무료 이용 등이 대표적이다.\\n\\n\\n\\n\\n고재우 ko@heraldcorp.com\\n\\n\\n\\n\\n기자 프로필\\n\\n\\n\\n\\n\\n\\n\\n\\n헤럴드경제\\n\\n헤럴드경제\\n\\n\\n\\n\\n\\n\\n고재우 기자\\n\\n\\n\\n\\n\\n\\n고재우 기자\\n\\n\\n\\n\\n\\nTALK\\n\\n응원의 한마디! 힘이 됩니다!\\n응원\\n\\n닫기\\n\\n\\n\\n\\n구독\\n\\n\\n구독중\\n\\n\\n\\n\\n\\n구독자 0\\n\\n\\n\\n\\n응원수\\n0\\n\\n\\n\\n\\n\\n\\n\\n어떤 제보라도 환영합니다. ko@heraldcorp.com, https://open.kakao.com/o/s3Disp9g\\n\\n\\n\\n\\n“이건 충격 넘어 ‘공포’” 못 믿을 화장실 ‘수두룩’…이러다가\\n\\n\\n“점유율 0%, 한국서 하루 1대도 안 팔려” 충격 받은 ‘샤오미’ 결국\\n\\n\\n\\n\\n\\n\\n\\n헤럴드경제의 구독 많은 기자를 구독해보세요!\\n\\n닫기\\n\\n\\n\\n\\n\\n\\n\\n\\nCopyright ⓒ 헤럴드경제. All rights reserved. 무단 전재 및 재배포 금지.\\n\\n \\n이 기사는 언론사에서 IT 섹션으로 분류했습니다.\\n\\n기사 섹션 분류 안내\\n기사의 섹션 정보는 해당 언론사의 분류를 따르고 있습니다. 언론사는 개별 기사를 2개 이상 섹션으로 중복 분류할 수 있습니다.\\n닫기\\n\\n\\n\\n\\n\\n\\n\\n\\n\\n\\n\\n구독\\n메인에서 바로 보는 언론사 편집 뉴스 지금 바로 구독해보세요!\\n\\n\\n구독중\\n메인에서 바로 보는 언론사 편집 뉴스 지금 바로 확인해보세요!\\n\\n\\n\\n\\n\\n\\n\\n\\n\\n\\n\\n\\n\\nHeralDeep\\nQR 코드를 클릭하면 크게 볼 수 있어요.\\n\\n\\n\\nQR을 촬영해보세요.\\nHeralDeep\\n\\n\\n\\n\\n\\n\\n\\n\\n\\n\\n닫기\\n\\n\\n\\n\\n\\n\\n\\n\\n\\n이원율의 후암동미술관\\nQR 코드를 클릭하면 크게 볼 수 있어요.\\n\\n\\n\\nQR을 촬영해보세요.\\n이원율의 후암동미술관\\n\\n\\n\\n\\n\\n\\n\\n\\n\\n\\n닫기\\n\\n\\n\\n\\n\\n\\n\\n\\n\\n\\n헤럴드경제\\n\\n헤럴드경제\\n\\n\\t\\t\\t주요뉴스해당 언론사에서 선정하며 언론사 페이지(아웃링크)로 이동해 볼 수 있습니다.\\n\\n\\n개그맨 황현희 \\'100억 자산가\\' 되더니…깜짝 근황, 교수로 임명됐다\\n손담비 \"결혼 후 인간관계 많이 바뀌었다\"\\n블랙핑크 로제·리사, 英 싱글차트 12·34위\\n배성재 \"여자들에 관심 구걸하고 싶지 않아\"\\n\\'60억 세금 추가납부\\' 이하늬, 탈세 의혹 해명에도…경찰 내사 착수\\n\\n\\n\\n\\n\\n\\n\\n\\n이 기사를 추천합니다\\n\\n\\n기사 추천은 24시간 내 50회까지 참여할 수 있습니다.\\n닫기\\n\\n\\n\\n\\n\\n\\n쏠쏠정보\\n0\\n\\n\\n\\n\\n흥미진진\\n0\\n\\n\\n\\n\\n공감백배\\n0\\n\\n\\n\\n\\n분석탁월\\n0\\n\\n\\n\\n\\n후속강추\\n0\\n\\n\\n \\n\\n\\n\\n\\n\\n\\n\\n\\n\\n\\n\\n\\n\\n\\n\\n\\n\\n\\n모두에게 보여주고 싶은 기사라면?beta\\n\\n이 기사를 추천합니다 버튼을 눌러주세요.  집계 기간 동안 추천을 많이 받은 기사는 네이버 자동 기사배열 영역에 추천 요소로 활용됩니다.\\n\\n레이어 닫기\\n\\n\\n \\n\\n\\n헤럴드경제 언론사가 직접 선정한 이슈\\n\\t\\t\\t\\n\\n\\n\\n\\n\\n\\n\\n\\n이슈\\n한국 증시 어디로\\n\\n\\n\\n“대장주라 믿었는데”···트럼프 취임 후 기술주 7% ‘뚝’·반도체 ETF도 흘러내렸다\\n\\n\\n\\n\\n\\n\\n\\n\\n\\n\\n이슈\\n트럼프 2.0\\n\\n\\n\\n“트럼프, 4일 의회 연설 때 광물협정 합의 발표 원해”\\n\\n\\n\\n\\n\\n\\n\\n\\n\\n\\n이슈\\n반도체 전쟁\\n\\n\\n\\n여야 협의체 6일 개최…반도체법·연금·추경 논의\\n\\n\\n\\n\\n\\n\\n\\n\\n\\n\\n이슈\\n탄핵정국\\n\\n\\n\\n국방부, 비상계엄 관련 간부 추가 직무정지 착수\\n\\n\\n\\n\\n\\n\\n\\n\\n\\n\\n\\n이전\\n\\n\\n다음\\n\\n\\n\\n\\n\\n\\n헤럴드경제 언론사홈 바로가기\\n\\n\\n \\n\\n\\n\\n\\n\\n기자 구독 후 기사보기\\n\\n\\n\\n구독 없이 계속 보기\\n\\n\\n\\n\\n')]\n"
     ]
    }
   ],
   "source": [
    "print(docs[0:4])"
   ]
  },
  {
   "cell_type": "code",
   "execution_count": 6,
   "metadata": {
    "id": "73nVmzJLBPie"
   },
   "outputs": [
    {
     "name": "stderr",
     "output_type": "stream",
     "text": [
      "/var/folders/fn/7bjmjvmn2d30b47j1yfz_5jm0000gn/T/ipykernel_72024/3672484833.py:7: PydanticDeprecatedSince20: The `dict` method is deprecated; use `model_dump` instead. Deprecated in Pydantic V2.0 to be removed in V3.0. See Pydantic V2 Migration Guide at https://errors.pydantic.dev/2.10/migration/\n",
      "  writer.write(doc.dict())\n"
     ]
    }
   ],
   "source": [
    "# 참고) 불러온 document 저장하기\n",
    "\n",
    "import jsonlines\n",
    "def save_docs_to_jsonl(documents, file_path):\n",
    "    with jsonlines.open(file_path, mode=\"w\") as writer:\n",
    "        for doc in documents:\n",
    "            writer.write(doc.dict())\n",
    "save_docs_to_jsonl(docs, \"docs.jsonl\")\n",
    "\n",
    "# 참고) jsonl 파일 불러오기\n",
    "from langchain.schema import Document\n",
    "\n",
    "def load_docs_from_jsonl(file_path):\n",
    "    documents = []\n",
    "    with jsonlines.open(file_path, mode=\"r\") as reader:\n",
    "        for doc in reader:\n",
    "            documents.append(Document(**doc))\n",
    "    return documents\n"
   ]
  },
  {
   "cell_type": "code",
   "execution_count": 7,
   "metadata": {
    "id": "9NNJGe4LyEDI"
   },
   "outputs": [
    {
     "data": {
      "text/plain": [
       "276"
      ]
     },
     "execution_count": 7,
     "metadata": {},
     "output_type": "execute_result"
    }
   ],
   "source": [
    "# 파일로부터 다시 불러오기\n",
    "docs = load_docs_from_jsonl(\"docs.jsonl\")\n",
    "len(docs)"
   ]
  },
  {
   "cell_type": "code",
   "execution_count": 8,
   "metadata": {
    "id": "7Wuz3T8ty6f_"
   },
   "outputs": [
    {
     "data": {
      "text/plain": [
       "'\\n\\n\\n\\n\\n조선일보\\n\\n조선일보\\n\\n\\n구독\\n\\n조선일보 언론사 구독되었습니다. 메인 뉴스판에서  주요뉴스를  볼 수 있습니다.\\n보러가기\\n\\n\\n조선일보 언론사 구독 해지되었습니다.\\n\\n\\n\\n\\n“GPT-4.5 거대하고 비싼 모델”… 올트먼도 비판적 평가\\n\\n\\n\\n\\n입력2025.03.04. 오전 1:31\\n\\n\\n수정2025.03.04. 오전 3:37\\n\\n기사원문\\n \\n\\n\\n\\n\\n오로라 기자\\n\\n\\n\\n\\n\\n\\n\\n\\n오로라 기자\\n\\n\\n\\n\\n오로라 기자\\n\\n구독\\n구독중\\n\\n\\n\\n\\n구독자\\n0\\n\\n\\n응원수\\n0\\n\\n\\n\\n더보기\\n\\n\\n\\n\\n\\n\\n\\n\\n\\n\\n\\n\\n\\n\\n추천\\n\\n\\n\\n\\n쏠쏠정보\\n0\\n\\n\\n\\n\\n흥미진진\\n0\\n\\n\\n\\n\\n공감백배\\n0\\n\\n\\n\\n\\n분석탁월\\n0\\n\\n\\n\\n\\n후속강추\\n0\\n\\n\\n \\n\\n\\n\\n댓글\\n\\n\\n\\n\\n\\n본문 요약봇\\n\\n\\n\\n본문 요약봇도움말\\n자동 추출 기술로 요약된 내용입니다. 요약 기술의 특성상 본문의 주요 내용이 제외될 수 있어, 전체 맥락을 이해하기 위해서는 기사 본문 전체보기를 권장합니다.\\n닫기\\n\\n\\n\\n\\n\\n\\n\\n\\n텍스트 음성 변환 서비스 사용하기\\n\\n\\n\\n성별\\n남성\\n여성\\n\\n\\n말하기 속도\\n느림\\n보통\\n빠름\\n\\n이동 통신망을 이용하여 음성을 재생하면 별도의 데이터 통화료가 부과될 수 있습니다.\\n본문듣기 시작\\n\\n닫기\\n\\n\\n \\n\\n글자 크기 변경하기\\n\\n\\n\\n가1단계\\n작게\\n\\n\\n가2단계\\n보통\\n\\n\\n가3단계\\n크게\\n\\n\\n가4단계\\n아주크게\\n\\n\\n가5단계\\n최대크게\\n\\n\\n\\n\\n\\n\\nSNS 보내기\\n\\n\\n\\n인쇄하기\\n\\n\\n\\n\\n\\n\\n\\n\\nGPU 부족, 高價 구독자만 서비스최신 모델인데 성능 기대 못 미쳐\\t\\t\\t\\t\\t\\t\\t\\t\\t\\t오픈AI가 지난달 27일 내놓은 최신 인공지능(AI) 모델 ‘GPT-4.5’에 대해 내부적으로 비판적인 평가가 나오고 있다. AI 반도체인 그래픽 처리 장치(GPU) 부족으로 일부 고가 유료 구독자에게만 서비스를 제공할 수 있고, 최신 모델이지만 경쟁사 대비 성능이 크게 뛰어나지 않다는 것이다. 운영에 과도한 비용이 들어 수익성이 떨어진다는 지적도 있다. 테크 업계 관계자는 “GPU 등 더 많은 자원을 투입하고 모델을 더 복잡하게 설계해도, 성능 개선이 따라가지 못하는 한계를 보여준다”고 했다.샘 올트먼 오픈AI 최고경영자(CEO)는 ‘GPT-4.5’와 관련해 X(옛 트위터)에 “사려 깊은 사람과 대화하는 느낌을 주는 최초의 모델”이라면서도 “나쁜 소식은, 이 제품은 거대하고 비싼 모델이라는 것”이라고 했다. 현재 GPT-4.5는 월 200달러의 고가 구독 모델 프로에만 제공되고 있다. AI 운용에 필요한 GPU가 부족해 월 20달러인 플러스 구독자 및 무료 회원에게 GPT-4.5를 제공할 수 없다는 것이다. 그는 “다음 주에 GPU를 수만 개 추가하고, 저가 유료 회원들에도 GPT-4.5를 제공하기 시작할 것”이라며 “이런 식으로 운영하고 싶지는 않지만, GPU 부족으로 이어지는 폭발적인 (AI의) 성장을 가늠하기 어려웠다”고 했다.업계에선 GPT-4.5의 사용료가 전작인 GPT-4o(포오)의 15~30배에 달하는 것으로 본다. 하지만 성능은 기대에 못 미친다. AI의 성능을 테스트하는 벤치마크의 에이전트 코딩(AI의 코딩 실력) 평가에서 GPT-4.5는 경쟁사인 앤스로픽의 클로드 소넷에 밀렸고, 수학 분야에선 xAI의 그록3보다 낮았다.\\n\\n\\n\\n\\n실리콘밸리=오로라 특파원 aurora@chosun.com\\n\\n\\n\\n\\n기자 프로필\\n\\n\\n\\n\\n\\n\\n\\n\\n조선일보\\n\\n조선일보\\n\\n\\n\\n\\n\\n\\n\\n오로라 기자\\n\\n\\n\\n\\n\\n\\n오로라 기자\\n\\n\\n\\n\\n\\n\\n구독\\n\\n\\n구독중\\n\\n\\n\\n\\n\\n구독자 0\\n\\n\\n\\n\\n응원수\\n0\\n\\n\\n\\n\\n\\n\\n\\n날카롭되 친절한 글을 쓰겠습니다.\\n\\n\\n\\n\\n뮤지션들 “노래가 헐값 됐다”… AI 규제 완화에 ‘깡통 앨범’으로 반발\\n\\n\\n1000억달러 투자받곤 “中, 대만 침공 땐 재앙” 립서비스\\n\\n\\n\\n\\n\\n\\n\\n조선일보의 구독 많은 기자를 구독해보세요!\\n\\n닫기\\n\\n\\n\\n\\n\\n\\n\\n\\nCopyright ⓒ 조선일보. All rights reserved. 무단 전재 및 재배포 금지.\\n\\n \\n이 기사는 언론사에서 IT 섹션으로 분류했습니다.\\n\\n기사 섹션 분류 안내\\n기사의 섹션 정보는 해당 언론사의 분류를 따르고 있습니다. 언론사는 개별 기사를 2개 이상 섹션으로 중복 분류할 수 있습니다.\\n닫기\\n\\n\\n\\n\\n\\n\\n\\n\\n\\n\\n\\n구독\\n메인에서 바로 보는 언론사 편집 뉴스 지금 바로 구독해보세요!\\n\\n\\n구독중\\n메인에서 바로 보는 언론사 편집 뉴스 지금 바로 확인해보세요!\\n\\n\\n\\n\\n\\n\\n\\n\\n\\n\\n\\n\\n\\nAI부동산, 나에게 딱 맞는 부동산 정보\\nQR 코드를 클릭하면 크게 볼 수 있어요.\\n\\n\\n\\nQR을 촬영해보세요.\\nAI부동산, 나에게 딱 맞는 부동산 정보\\n\\n\\n\\n\\n\\n\\n\\n\\n\\n\\n닫기\\n\\n\\n\\n\\n\\n\\n\\n\\n\\n이러면 낫습니다. 오!건강 유튜브 바로 보기\\nQR 코드를 클릭하면 크게 볼 수 있어요.\\n\\n\\n\\nQR을 촬영해보세요.\\n이러면 낫습니다. 오!건강 유튜브 바로 보기\\n\\n\\n\\n\\n\\n\\n\\n\\n\\n\\n닫기\\n\\n\\n\\n\\n\\n\\n\\n\\n\\n\\n조선일보\\n\\n조선일보\\n\\n\\t\\t\\t주요뉴스해당 언론사에서 선정하며 언론사 페이지(아웃링크)로 이동해 볼 수 있습니다.\\n\\n\\n공수처 \"檢 압색으로 영장 누락·쇼핑 의혹 등 해소됐다\"\\n안보협정 믿고 핵·영토 내준 우크라…지켜준 나라 없다\\nK2 전차·천무…中企가 만든 \\'방탄 세라믹\\' 두르고 수출\\n6년 만의 평양국제마라톤…참가 못하는 \\'이 나라\\'는?\\n우크라 北포로, 與유용원과 면담서 \"韓 꼭 가고 싶다\"\\n\\n\\n\\n\\n\\n\\n\\n\\n이 기사를 추천합니다\\n\\n\\n기사 추천은 24시간 내 50회까지 참여할 수 있습니다.\\n닫기\\n\\n\\n\\n\\n\\n\\n쏠쏠정보\\n0\\n\\n\\n\\n\\n흥미진진\\n0\\n\\n\\n\\n\\n공감백배\\n0\\n\\n\\n\\n\\n분석탁월\\n0\\n\\n\\n\\n\\n후속강추\\n0\\n\\n\\n \\n\\n\\n\\n\\n\\n\\n\\n\\n\\n\\n\\n\\n\\n\\n\\n\\n\\n\\n모두에게 보여주고 싶은 기사라면?beta\\n\\n이 기사를 추천합니다 버튼을 눌러주세요.  집계 기간 동안 추천을 많이 받은 기사는 네이버 자동 기사배열 영역에 추천 요소로 활용됩니다.\\n\\n레이어 닫기\\n\\n\\n \\n\\n\\n조선일보 언론사가 직접 선정한 이슈\\n\\t\\t\\t\\n\\n\\n\\n\\n\\n\\n\\n\\n이슈\\n윤 대통령 탄핵소추\\n\\n\\n\\n종지협 “헌재 결정 나면 승복해야”\\n\\n\\n\\n\\n\\n\\n\\n이슈\\n다시 트럼프 시대\\n\\n\\n\\n트럼프 “젤렌스키, 광물협정 서명 준비됐다는 서한 보내”\\n\\n\\n\\n\\n\\n\\n\\n\\n\\n\\n이슈\\n북 러시아 파병\\n\\n\\n\\n“북한군 포로 귀순 의사 확인… 빨리 데려와야”\\n\\n\\n\\n\\n\\n\\n\\n\\n\\n\\n\\n이전\\n\\n\\n다음\\n\\n\\n\\n\\n\\n\\n조선일보 언론사홈 바로가기\\n\\n\\n \\n\\n\\n\\n\\n\\n기자 구독 후 기사보기\\n\\n\\n\\n구독 없이 계속 보기\\n\\n\\n\\n\\n'"
      ]
     },
     "execution_count": 8,
     "metadata": {},
     "output_type": "execute_result"
    }
   ],
   "source": [
    "docs[0].page_content"
   ]
  },
  {
   "cell_type": "markdown",
   "metadata": {
    "id": "lSJ_p9b_2Dgp"
   },
   "source": [
    "불러온 뉴스기사에는 불필요한 내용이 다소 존재합니다.    \n",
    "아래의 과정을 통해 간단하게 전처리합니다."
   ]
  },
  {
   "cell_type": "code",
   "execution_count": 9,
   "metadata": {
    "id": "s7iTfCk3BPie"
   },
   "outputs": [],
   "source": [
    "def preprocess(docs):\n",
    "    noise_texts = [\n",
    "        '''구독중 구독자 0 응원수 0 더보기''',\n",
    "        '''쏠쏠정보 0 흥미진진 0 공감백배 0 분석탁월 0 후속강추 0''',\n",
    "        '''댓글 본문 요약봇 본문 요약봇''',\n",
    "        '''도움말 자동 추출 기술로 요약된 내용입니다. 요약 기술의 특성상 본문의 주요 내용이 제외될 수 있어, 전체 맥락을 이해하기 위해서는 기사 본문 전체보기를 권장합니다. 닫기''',\n",
    "        '''텍스트 음성 변환 서비스 사용하기 성별 남성 여성 말하기 속도 느림 보통 빠름''',\n",
    "        '''이동 통신망을 이용하여 음성을 재생하면 별도의 데이터 통화료가 부과될 수 있습니다. 본문듣기 시작''',\n",
    "        '''닫기 글자 크기 변경하기 가1단계 작게 가2단계 보통 가3단계 크게 가4단계 아주크게 가5단계 최대크게 SNS 보내기 인쇄하기''',\n",
    "\n",
    "\n",
    "    ]\n",
    "\n",
    "    def clean_text(text):\n",
    "        # 잡음을 제거하고 여러 공백을 하나로 줄이는 함수\n",
    "        text = text.replace('\\t',' ').replace('\\n',' ')\n",
    "        for _ in range(20):\n",
    "            text = ' '.join(text.split())  # 연속된 공백을 하나로\n",
    "        for noise in noise_texts:\n",
    "            text = text.replace(noise, '')\n",
    "\n",
    "        return text\n",
    "\n",
    "    preprocessed_docs = []\n",
    "    for doc in docs:\n",
    "        try:\n",
    "            # 텍스트 자르기\n",
    "            content = doc.page_content.split('구독 해지되었습니다.')[1]\n",
    "        except:\n",
    "            # 구독 관련 정보가 없거나 텍스트 처리 문제일 경우 원본 텍스트 유지\n",
    "            content = doc.page_content\n",
    "        try:\n",
    "            content = doc.page_content.split('구독 메인에서 바로 보는 언론사 편집 뉴스 지금 바로 구독해보세요!')[0]\n",
    "        except:\n",
    "            content = doc.page_content\n",
    "\n",
    "\n",
    "        # 텍스트 정제 작업\n",
    "        content = clean_text(content)\n",
    "        doc.page_content = content\n",
    "        preprocessed_docs.append(doc)\n",
    "\n",
    "    return preprocessed_docs\n",
    "\n",
    "preprocessed_docs = preprocess(docs)\n"
   ]
  },
  {
   "cell_type": "code",
   "execution_count": 10,
   "metadata": {
    "id": "MHy4vOEs24qf"
   },
   "outputs": [
    {
     "data": {
      "text/plain": [
       "Document(metadata={'source': 'https://n.news.naver.com/mnews/article/374/0000427835?sid=101'}, page_content='SBS Biz SBS Biz 구독 SBS Biz 언론사 구독되었습니다. 메인 뉴스판에서 주요뉴스를 볼 수 있습니다. 보러가기 SBS Biz 언론사 구독 해지되었습니다. 유영상 SKT 대표 \"AI 데이터센터 토털 솔루션 시장 공략\" 입력2025.03.03. 오전 8:00 기사원문 조슬기 기자 조슬기 기자 조슬기 기자 구독  추천      에이닷 비즈 연내 출시…한국어 특화 LLM 상반기 개발 완료 유영상 SK텔레콤 대표이사(CEO)가 향후 SK그룹 멤버사와 국내외 파트너사의 최신 기술을 결집해 AI 데이터센터(AI DC) 토털 솔루션 시장 공략에 나설 것이라고 밝혔습니다.이를 위해 GPU 렌탈부터 소규모 모듈러(Modular), 고객 맞춤형 전용(Dedicated), 하이퍼스케일 급까지, 모든 유형의 AI DC 수요를 충족하는 솔루션 사업으로 \\'AI 인프라 슈퍼 하이웨이(AI Infra Super Highway)\\' 구축을 가속화한다는 전략입니다.유 CEO는 현지시간 2일, 세계 최대 이동통신 전시회인 \\'모바일 월드 콩그레스(MWC) 2025\\' 행사가 열리는 스페인 바르셀로나에서 기자간담회를 개최하고 AI DC 사업 모델 및 AI 에이전트 B2B·B2C 고도화 전략, 자강과 협력을 통한 AI 기술 경쟁력 강화에 대한 청사진이 담긴 AI 피라미드 2.0 전략을 공개했습니다.유 CEO는 \"AI DC 사업은 \\'알라카르테(a la carte; 맞춤형 상품)\\' 형태를 갖춰 모든 유형의 고객 수요를 충족할 수 있도록 고도화하고, AI 에이전트 B2B와 B2C도 고객에게 새로운 경험을 지속 제공하는 서비스 혁신과 함께 자강과 협력 기반으로 AI 테크 역량도 지속 강화해 AI 매출 성장을 이루겠다\"라고 말했습니다.AI DC 4대 사업 모델 라인업 구축 시장 공략 SKT는 우선 AI DC 사업을 ▲구독형 AI 클라우드 GPUaaS 서비스 ▲소규모 모듈러(Modular) AI DC ▲단일 고객 전용(Dedicated) AI DC ▲하이퍼스케일급 AI DC 등 총 4대 사업 모델로 세분화해 시장 공략에 나설 계획입니다. SKT는 현재 누구나 쉽고 편리하게 접근할 수 있는 AI 인프라를 조성한다는 \\'AI 인프라 슈퍼 하이웨이\\' 전략을 실행 중이며, 지난해 12월 서울시 가산 AI DC를 개소하고 구독형 AI 클라우드 서비스 \\'SKT GPUaaS(GPU-as-a-Service)\\'를 론칭하며 AI 인프라 슈퍼 하이웨이 구축에 시동을 걸었습니다.글로벌 빅테크와의 파트너십을 기반으로 국내에 100MW급 AI DC를 건설하는 프로젝트도 계획 중입니다.여기에 AI DC 구축의 모든 과정을 올인원 턴키로 제공하는 솔루션 사업과 소규모 모듈러 AI DC 사업 모델을 추진해 다양한 시장 수요를 충족시켜 나갈 것이라고 밝혔습니다.고객 전용 AI DC는 자체 보유한 공간에 자사 전용 AI DC를 구축하는 온프레미스(On-premise) 방식을 원하는 기업을 대상으로 설계부터 건설, 최적화까지 모든 과정을 고객 요구에 맞춤형 턴키로 제공하는 사업으로 보안에 엄격한 공공기관, 자체 데이터가 큰 기업에 적합하다고 설명했습니다.유 CEO는 이와 관련해 \"SK그룹은 모두 137MW 규모로 8개 데이터센터를 설계·운영 중이며, 최첨단 반도체 팹 등을 건설한 SK에코플랜트 역량, 펭귄 솔루션스의 최적화 솔루션 등 멤버사 및 국내외 파트너사들과 함께 글로벌 최고 수준의 AI DC 구축 역량을 갖췄다\"라고 강조했습니다.모듈러 AI DC는 화물 컨테이너 크기의 공간에 GPU, NPU를 비롯한 AI 인프라를 탑재한 것으로, 저용량 데이터센터를 비용 효율적으로 신속하게 확보해야 하는 스타트업, 연구기관 등에서 수요가 발생할 것으로 SK텔레콤 측은 내다봤습니다.또한 모듈러 방식은 용량에 따라 단 3개월만에 AI DC 구축이 가능하며, 70% 수준의 구축 비용, 2배 수준의 전력 효율 등의 장점이 있습니다. 유영상 CEO는 \"이동식 모듈형 데이터센터에 있어 국내 최고 수준의 기술력을 보유한 기업과 파트너십을 통해 사업 추진을 계획 중\"이라며 \"모듈러 방식이 빠른 구축이 장점인 만큼 단기간 내 수익화가 가능할 것으로 기대된다\"라고 말했습니다. 특히 \"SKT가 구축하는 AI DC는 SK하이닉스의 HBM을 필두로 그룹 멤버사들의 친환경 에너지 솔루션 등 에너지·AI 메모리·운영·보안 등의 역량과 글로벌 파트너사들의 노하우를 총망라한 최신기술의 집합체가 될 예정\"이라고 전했습니다.현재 진행되고 있는 AI DC 사업에 대해 \"지난해 말 구축한 가산 AI DC는 엔비디아 최신칩 확보 역량과 자체 개발한 국내 최고 수준의 AI 오퍼레이션 등을 바탕으로 다수의 기업들과 AI 클라우드 서비스 제공을 위한 협의를 진행 중”이며 “하이퍼스케일 급은 글로벌 빅테크 기업과 협력해 최신 기술이 적용된 AI DC 구축을 추진할 것”이라고 밝혔다.AI B2B 에이전트 \\'에이닷 비즈\\' 연내 출시 유 CEO는 또 AI 에이전트 사업의 경우 올해 출시가 예정된 AI B2B 에이전트 \\'에이닷 비즈\\' 통해 본격적으로 수익화 실현에 나선다.AI 에이전트 사업을 B2C(개인용 서비스)와 B2B(사업자용 서비스)로 나눠 추진하고 있는 SKT는 SK C&C와 원팀으로 개발 중인 AI B2B 에이전트 \\'에이닷 비즈\\'를 내부 베타 테스트를 거쳐 연내 SK그룹의 21개 멤버사로 확산해 AI B2B 시장을 본격 공략할 계획입니다.에이닷 비즈는 회의실 예약, 회의록 작성, 분석 같은 일상 업무 전반을 혁신하는 \\'에이닷 비즈\\'와 세무·법무·HR 등 전문 영역에서 특화 기능을 제공하는 \\'에이닷 비즈 프로\\' 두 가지 상품으로 구성될 예정입니다.아울러 가입자 890만 명, 월간활성이용자수(MAU) 740만 명의 AI 에이전트 \\'에이닷\\' 역시 향후 서비스 고도화를 지속해 국내 AI 에이전트 대표주자로서 입지를 더욱 공고히 할 것임을 거듭 강조했습니다.킬러 서비스로 자리잡은 AI 통화 요약 기능을 고도화해 문서, 인맥 등의 새로운 기능을 확대하며, 고객이 필요로 하는 것을 먼저 제안하고 검색, 예약과 같은 사용자 요청을 완결적으로 수행하는 AI 에이전트로 진화해 고객의 AI 경험을 혁신해 나갈 방침입니다. 또 미국 출시를 준비중인 글로벌 AI 에이전트 \\'에스터(A*, Aster)\\'도 글로벌 텔코 AI 얼라이언스를 포함한 글로벌 통신사들과 협력해 글로벌로 확장시켜 나갈 방침입니다.에이닷 엑스 상반기 개발 완료…K-AI 얼라이언스 협력 가속화SKT는 지난 2019년 코버트를 시작으로 꾸준히 AI 모델을 개발 및 고도화하며 자체 LLM으로 키워 온 \\'에이닷엑스(A.X)\\'는 사내 AI 도구, B2B 솔루션 에이닷 비즈 등으로 사용처가 확대되며 AI 확산의 구심점 역할을 톡톡히 하고 있다고 밝혔습니다. AI 통화 요약에 사용되던 챗GPT를 100% 대체하는 데 성공했고 정부 행정 서비스, 마케팅 등에서 생산성을 높이며 에이닷엑스 호출 건수는 하루 5천만 건을 넘어선 게 대표적인 사례입니다. 상반기 중 개발을 완료하는 에이닷엑스 4.0은 한국어 지식 성능에 강점이 있는 고효율 한국어 특화 LLM으로 올해 안에 대화, 멀티모달 개발 등 자체 LLM의 경쟁력을 지속적으로 높여 나갈 계획입니다.SKT가 지난해 말 신설한 SK AI R&D 센터 역시 그룹 전체의 AI 혁신을 촉진할 그룹의 AI 브레인으로서 멤버사들의 차세대 AI 기술 개발을 추진하는 한편 그룹의 주요 사업에서 AI 활용 사례를 만들어갈 방침입니다.글로벌 파트너십은 물론 K-AI 얼라이언스 멤버사들과의 협력도 올해 더욱 강화해 나가기로 했습니다.유 CEOS는 \"SKT는 2023년 앤트로픽 투자를 시작으로 퍼플렉시티, 람다, 펭귄 솔루션스 등 글로벌 주요 AI 기업 대상 선제적인 투자를 통해 사업 협력을 강화해 왔다\"며 \"SKT가 투자한 글로벌 AI 기업 4곳의 기업가치는 투자 시점 대비 3.1배 상승했으며, 앞으로도 파트너십을 강화해 글로벌 경쟁력을 강화하겠다\"라고 말했습니다.또한 SKT 주도로 설립된 K-AI 얼라이언스와의 사업·기술 공동 개발 및 협력도 가속화할 방침입니다.SKT와 국내 혁신 AI 스타트업들이 모여 설립한 K-AI 얼라이언스는 2023년 MWC에서 7개 멤버사로 시작해 현재 30개 멤버사로 확대됐으며, 전세계 13개국 31개 도시에 걸쳐 활발히 사업을 전개하며 국내 AI 생태계 혁신을 주도하고 있습니다.유 CEO는 \"SKT의 AI는 탐색과 확산의 시기를 거쳐 실질적인 성과를 확보하는 시기로 전환되고 있다\"며 \"AI 피라미드 2.0 전략을 통해 AI 사업 수익화를 본격 추진하고 한국형 AI 생태계 조성에도 기여할 것\"이라고 말했습니다. 당신의 제보가 뉴스로 만들어집니다.SBS Biz는 여러분의 제보를 기다리고 있습니다.홈페이지 = https://url.kr/9pghjn 조슬기 기자(skcho@sbs.co.kr) 기자 프로필 SBS Biz SBS Biz 조슬기 기자 조슬기 기자 구독 구독중 구독자 0 응원수 0 경제를 쉽고 재미있게 전해드리겠습니다. \\'스마트폰 혁신\\' 치고 나가는 삼성…뒤쫓는 샤오미·화웨이 대명소노 티웨이 품었다…대형항공사 도약 발판 마련 SBS Biz의 구독 많은 기자를 구독해보세요! 닫기 Copyright ⓒ SBS Biz. All rights reserved. 무단 전재 및 재배포 금지. 이 기사는 언론사에서 경제 섹션으로 분류했습니다. 기사 섹션 분류 안내 기사의 섹션 정보는 해당 언론사의 분류를 따르고 있습니다. 언론사는 개별 기사를 2개 이상 섹션으로 중복 분류할 수 있습니다. 닫기 구독 메인에서 바로 보는 언론사 편집 뉴스 지금 바로 구독해보세요! 구독중 메인에서 바로 보는 언론사 편집 뉴스 지금 바로 확인해보세요! 오늘 많이 본 기사 바로가기 SBS Biz에 제보하기 SBS Biz SBS Biz 주요뉴스해당 언론사에서 선정하며 언론사 페이지(아웃링크)로 이동해 볼 수 있습니다. 몰라서 못 타먹는 가족연금?…\\'연 30만원 준다는데\\' \\'700원대 삼겹살 담아보자\\'...삼겹살 10원 전쟁 혹시 또 영끌? 강남에 사람들 몰리네…대출급증에 정부 \\'화들짝\\' 먹는데만 버는 돈 45% 썼다…졸라맬 허리도 없다는데 \"37평인데 관리비 68만원?\"…난방비 폭탄에 비명 이 기사를 추천합니다 기사 추천은 24시간 내 50회까지 참여할 수 있습니다. 닫기  모두에게 보여주고 싶은 기사라면?beta 이 기사를 추천합니다 버튼을 눌러주세요. 집계 기간 동안 추천을 많이 받은 기사는 네이버 자동 기사배열 영역에 추천 요소로 활용됩니다. 레이어 닫기 SBS Biz 언론사홈 바로가기 기자 구독 후 기사보기 구독 없이 계속 보기')"
      ]
     },
     "execution_count": 10,
     "metadata": {},
     "output_type": "execute_result"
    }
   ],
   "source": [
    "preprocessed_docs[10]\n"
   ]
  },
  {
   "cell_type": "markdown",
   "metadata": {
    "id": "sT7hRU6wBPie"
   },
   "source": [
    "## 2. Chunking: 청크 단위로 나누기   \n",
    "\n"
   ]
  },
  {
   "cell_type": "markdown",
   "metadata": {
    "id": "xEyCdybpBPie"
   },
   "source": [
    "전처리가 완료된 docs를 chunk 단위로 분리합니다.\n",
    "`chunk_size`와 `chunk_overlap`을 이용해 청크의 구성 방식을 조절할 수 있습니다."
   ]
  },
  {
   "cell_type": "code",
   "execution_count": 11,
   "metadata": {
    "collapsed": true,
    "id": "4SopeO4tBPie"
   },
   "outputs": [
    {
     "name": "stdout",
     "output_type": "stream",
     "text": [
      "551\n"
     ]
    }
   ],
   "source": [
    "from langchain_text_splitters import RecursiveCharacterTextSplitter\n",
    "from langchain import hub\n",
    "\n",
    "text_splitter = RecursiveCharacterTextSplitter(chunk_size=2000, chunk_overlap=200)\n",
    "# 0~2000, 1800~3800, 3600~5600, ...\n",
    "chunks = text_splitter.split_documents(preprocessed_docs)\n",
    "print(len(chunks))"
   ]
  },
  {
   "cell_type": "markdown",
   "metadata": {
    "id": "Zwbv-FQ2BPif"
   },
   "source": [
    "구성된 청크를 벡터 데이터베이스에 로드합니다.   \n",
    "`Chroma.from_documents`는 documents의 임베딩을 구하고 이를 DB에 저장합니다."
   ]
  },
  {
   "cell_type": "code",
   "execution_count": 12,
   "metadata": {},
   "outputs": [
    {
     "data": {
      "text/plain": [
       "'아시아경제 아시아경제 구독 아시아경제 언론사 구독되었습니다. 메인 뉴스판에서 주요뉴스를 볼 수 있습니다. 보러가기 아시아경제 언론사 구독 해지되었습니다. 제이엘케이, 응급 뇌출혈 진단 혁신…딥러닝 특허로 글로벌 경쟁력 입증 입력2025.02.18. 오전 8:51 수정2025.02.18. 오전 8:52 기사원문 장효원 기자 장효원 기자 장효원 기자 구독  추천      의료 AI 1호 상장기업 제이엘케이(대표 김동민)는 회사의 뇌졸중 AI 솔루션에 활용되는 딥러닝 기반 뇌출혈 진단장치 및 방법에 대한 국내 기술 특허 취득에 성공했다고 18일 밝혔다.제이엘케이가 출원한 ‘딥러닝 기반 뇌출혈 진단 장치 및 방법’은 이달 초 최종 등록이 결정됐다. 제이엘케이는 기존 3차원 의료 영상의 분석 및 진단 속도가 느려 응급 환자에게 적용하기 어려웠던 문제에 주목해 이번 특허 기술을 확보한 것으로 알려졌다.해당 특허는 복수의 CT 영상을 딥러닝 모델로 분석해 뇌출혈 병변을 검출하고 3차원으로 재구축해 환자의 뇌출혈 확률을 신속하게 산출할 수 있는 것이 특징이다. MRI보다 저렴하고 보다 신속히 촬영할 수 있는 CT 영상만으로도 뇌출혈을 정확히 진단할 수 있어 응급 상황에서의 빠른 치료 계획 수립에 필요한 기술이다.뇌졸중 의심 환자의 병원 이송 시 의료진이 가장 먼저 진행하는 진단 과정이 비조영 CT 촬영을 통한 뇌출혈 여부인 점을 감안할 때, 이번 특허 기술이 응급 의료 현장에서의 진단 혁신을 이루는 중요한 역할을 할 것으로 예상된다.특히 세계 최대 의료시장으로 꼽히는 미국과 빠른 고령화 속도를 보이고 있는 일본의 경우 뇌졸중 AI 솔루션의 수요가 높을 것으로 예상되는 만큼 원천 기술의 역량이 입증된 해당 솔루션에 대한 수요도 충분할 것으로 기대된다.제이엘케이 김동민 대표는 “딥러닝 기반 뇌출혈 진단 장치 및 방법에 대한 국내 기술 특허 취득으로 제이엘케이의 의료 AI 기술 역량을 대내외적으로 인정받고 기술 방어력을 높일 수 있게 됐다”며 “미국과 일본을 포함한 글로벌 시장 확장을 통해 공급망 확대를 추진하고, 보험수가 획득과 유통사 계약을 통해 가시적인 성과를 창출하는데 집중하겠다”고 강조했다.한편 제이엘케이는 뇌졸중 풀 솔루션 ‘MEDIHUB STROKE’를 보유하고 있으며, 그중 뇌출혈 검출 솔루션 ‘JLK-ICH’와 ‘비조영CT 뇌졸중 AI솔루션’은 각각 미국 FDA, 일본 PMDA 인허가 획득에 성공했다. 장효원 기자 specialjhw@asiae.co.kr 기자 프로필 아시아경제 아시아경제 장효원 기자 장효원 기자 구독 구독중 구독자 0 응원수 0 현상의 이면을 보겠습니다. 많은 제보 부탁드립니다. 구독하시면 더 빠르게 기사를 만날 수 있습니다. 고객님 전화받고 499억 털렸어요…더 정교해진 \\'딥보이스 피싱\\'[개인·기업 노리는 딥페이크 공포③] 바이온, 이번엔 자본시장법 위반으로 피고발…세 번째 고발 아시아경제의 구독 많은 기자를 구독해보세요! 닫기 Copyright ⓒ 아시아경제. All rights reserved. 무단 전재 및 재배포 금지. 이 기사는 언론사에서 경제 섹션으로 분류했습니다. 기사 섹션 분류 안내 기사의 섹션 정보는 해당 언론사의 분류를 따르고 있습니다. 언론사는 개별 기사를 2개 이상 섹션으로 중복 분류할 수 있습니다. 닫기 구독 메인에서 바로 보는 언론사 편집 뉴스 지금 바로 구독해보세요! 구독중 메인에서 바로 보는 언론사 편집 뉴스 지금 바로 확인해보세요! 2025년 사주·운세·토정비결·궁합 확인! QR 코드를 클릭하면 크게 볼 수 있어요. QR을 촬영해보세요. 2025년 사주·운세·토정비결·궁합 확인! 닫기 내 집에서 맞는 편안한 노후, 시니어 하우스 QR 코드를 클릭하면 크게 볼 수 있어요. QR을 촬영해보세요. 내 집에서 맞는 편안한 노후, 시니어 하우스 닫기 아시아경제 아시아경제 주요뉴스해당 언론사에서 선정하며 언론사 페이지(아웃링크)로 이동해 볼 수 있습니다. \"이사한 뒤 두통 심해져\" 치매 진단받은 30대…원인은 집 안에 있었다 이명박 전 대통령 그린란드에 간 사실 다들 모르고 있네'"
      ]
     },
     "execution_count": 12,
     "metadata": {},
     "output_type": "execute_result"
    }
   ],
   "source": [
    "chunks[110].page_content"
   ]
  },
  {
   "cell_type": "code",
   "execution_count": 13,
   "metadata": {
    "id": "Fhrg3PtCBPif"
   },
   "outputs": [],
   "source": [
    "from langchain_chroma import Chroma\n",
    "from langchain_openai import OpenAIEmbeddings"
   ]
  },
  {
   "cell_type": "code",
   "execution_count": 14,
   "metadata": {
    "id": "cAAhmf2GBPif"
   },
   "outputs": [],
   "source": [
    "Chroma().delete_collection() # 메모리에 로드된 기존 데이터 삭제\n",
    "\n",
    "# 이미 존재하는 DB에서 가져오기\n",
    "# db = Chroma(\n",
    "#      embedding=OpenAIEmbeddings(model='text-embedding-3-large'),\n",
    "#      large: 3072차원, small: 1536차원\n",
    "#      persist_directory=\"./chroma_Web\"\n",
    "#      )\n",
    "# Collection 이름 없이 생성한 경우, 기본 Collection으로 저장된 경우\n",
    "\n",
    "db = Chroma.from_documents(documents=chunks,\n",
    "                           embedding=OpenAIEmbeddings(model='text-embedding-3-small'), # text-embedding-3-large\n",
    "                           # large: 3072차원, small: 1536차원\n",
    "                           persist_directory=\"./chroma_Web\", # ./는 current directory를 의미\n",
    "                           # persist_directory를 쓰지 않으면 메모리에 저장\n",
    "                           collection_metadata={'hnsw:space':'l2'}\n",
    "                           # l2 메트릭 설정(기본값)\n",
    "                           # cosine, mmr\n",
    "                           )\n",
    "# Collection 이름 없이 생성한 경우, 기본 Collection으로 저장됨"
   ]
  },
  {
   "cell_type": "markdown",
   "metadata": {
    "id": "lIuEJaToBPif"
   },
   "source": [
    "retriever는 query에 맞춰 db에서 문서를 검색합니다."
   ]
  },
  {
   "cell_type": "code",
   "execution_count": 15,
   "metadata": {
    "id": "u4AhVSXLBPif"
   },
   "outputs": [],
   "source": [
    "retriever = db.as_retriever()"
   ]
  },
  {
   "cell_type": "code",
   "execution_count": 16,
   "metadata": {
    "id": "XVmkzVMefAjt"
   },
   "outputs": [
    {
     "data": {
      "text/plain": [
       "[Document(id='03abac04-8daf-4fbe-b0d2-67ac961361b8', metadata={'source': 'https://n.news.naver.com/mnews/article/003/0013084396?sid=102'}, page_content='뉴시스 뉴시스 구독 뉴시스 언론사 구독되었습니다. 메인 뉴스판에서 주요뉴스를 볼 수 있습니다. 보러가기 뉴시스 언론사 구독 해지되었습니다. PICK 안내 언론사가 주요기사로선정한 기사입니다. 언론사별 바로가기 닫기 챗GPT에 손쉽게 개인정보 뚫린다…KAIST, LLM 악용 가능성 입증 입력2025.02.24. 오후 1:53 수정2025.02.24. 오후 2:27 기사원문 김양수 기자 김양수 기자 김양수 기자 구독  추천      신승원·이기민 교수팀, 대형언어모델의 정보수집·피싱 공격 규명최대 95.9% 정확도로 개인정보 수집, 피싱 이메일 클릭률 46.67%까지 증가저비용으로 개인정보 탈취해 공격 가능…국제학술지 게재 [대전=뉴시스] KAIST가 챗GPT 등 대형언어모델(LLM)을 활용한 개인정보 수집 및 피싱공격 실험을 수행해 LLM 에이전트가 손쉽게 개인정보 수집 및 피싱공격 등을 할 수 있다는 사실을 입증했다.(윗줄 왼쪽부터)KAIST 전기및전자공학부 나승호 박사, 김재철AI대학원 이기민 교수.(아랫줄 왼쪽부터)전기및전자공학부 김한나 박사과정, 신승원 교수, 송민규 박사과정.(사진=KAIST 제공) *재판매 및 DB 금지[대전=뉴시스] 김양수 기자 = 챗GPT로 손쉽게 개인정보를 수집하고 악용할 수 있다는 연구결과가 국내연구진에 의해 발표됐다.한국과학기술원(KAIST)은 전기및전자공학부 신승원 교수, 김재철 AI 대학원 이기민 교수 공동연구팀이 실제환경에서 챗GPT와 같은 대형 언어모델(LLM)이 사이버공격에 악용될 가능성을 실험적으로 규명했다고 24일 밝혔다.최근 인공지능 기술의 발전으로 LLM은 단순한 챗봇을 넘어 자율적인 에이전트로 발전하고 있다. 현재 OpenAI, 구글 AI 등과 같은 상용 LLM 서비스는 LLM이 사이버 공격에 사용되는 것을 막기 위한 방어기법을 자체적으로 탑재하고 있으나 연구팀의 실험 결과, 이런 방어기법이 존재함에도 악의적인 사이버공격을 손쉽게 수행할 수 있음이 확인됐다.특히 기존 공격자들이 시간과 노력이 많이 필요한 공격을 수행했던 것과는 달리 LLM 에이전트는 평균 5~20초 내에 30~60원(2~4센트) 수준의 비용으로 개인정보 탈취 등을 자동으로 수행할 수 있어 새로운 위협요소로 나타났다.연구 결과에 따르면 LLM 에이전트는 목표 대상의 개인정보를 최대 95.9%의 정확도로 수집할 수 있다. 또 저명한 교수를 사칭한 허위 게시글 생성 실험에서는 최대 93.9%의 게시글이 진짜로 인식됐다. 피해자의 이메일 주소만을 이용해 피해자에게 최적화된 정교한 피싱이메일을 생성할 수 있었고 실험 참가자들이 이런 피싱 이메일 내의 링크를 클릭할 확률이 46.67%까지 증가하는 것으로 나타났다. 이는 인공지능 기반 자동화 공격의 심각성을 시사한다고 연구팀은 설명했다.KAIST 전기및전자공학부 김한나 박사과정이 제1 저자로 참여한 이번 연구는 컴퓨터 보안분야 최고 학회 중 하나인 국제 학술대회 \\'USENIX Security Symposium 2025\\'에 게재될 예정이다. (논문명:When LLMs Go Online: The Emerging Threat of Web-Enabled LLMs)김한나 연구원은 \"LLM에게 주어지는 능력이 많아질수록 사이버공격의 위협이 기하급수적으로 커진다는 것이 확인됐다\"며 \"LLM 에이전트의 능력을 고려한 확장 가능한 보안장치가 필요하다\"고 말했다.신승원 교수도 \"이번 연구는 정보보안 및 AI정책 개선에 중요한 기초 자료로 활용될 것\"이라면서 \"연구팀은 LLM 서비스 제공업체 및 연구기관과 협력해 보안대책을 논의할 계획\"이라고 밝혔다． 김양수 기자(kys0505@newsis.com) 기자 프로필 뉴시스 뉴시스 김양수 기자 김양수 기자 구독 구독중 구독자 0 응원수 0 오크 원액 블렌딩 소주 \\'선양 오크\\', 편의점에서 만나요 금 시세에도 \\'김치 프리미엄\\'…관세청, 금 밀수 집중 단속 뉴시스의 구독 많은 기자를 구독해보세요! 닫기 Copyright ⓒ 뉴시스. All rights reserved. 무단 전재 및 재배포 금지. 이 기사는 언론사에서 사회, 생활, IT'),\n",
       " Document(id='bdf7c9f6-6361-4c4c-8450-62cbc70a9861', metadata={'source': 'https://n.news.naver.com/mnews/article/092/0002364770?sid=105'}, page_content='지디넷코리아 지디넷코리아 구독 지디넷코리아 언론사 구독되었습니다. 메인 뉴스판에서 주요뉴스를 볼 수 있습니다. 보러가기 지디넷코리아 언론사 구독 해지되었습니다. PICK 안내 언론사가 주요기사로선정한 기사입니다. 언론사별 바로가기 닫기 \"비용·업무 최적화\"…IBM, 기업 전용 LLM 그래니트 신형 출시 입력2025.02.27. 오전 10:21 기사원문 남혁우 기자 남혁우 기자 남혁우 기자 구독  추천      복잡한 문서 중심 업무 처리 능력 향상·추론 기능 효율성 강화IBM이 기업 업무환경에 최적화된 대규모언어모델(LLM) 최신 버전을 선보인다.IBM은 LLM 제품군 차세대 버전인 그래니트(Granite) 3.2를 출시했다고 27일 밝혔다.그래니트는 작고 효율적이며 실용적인 기업용 인공지능(AI)을 제공해 실질적인 비즈니스 효과를 창출하기 위한 IBM의 지속적인 노력이 담긴 솔루션이다. IBM 그래니트(이미지=IBM)그래니트 3.2 모델은 허깅 페이스에서 허용되는 아파치 2.0 라이선스에 따라 사용할 수 있다.일부 모델들은 IBM 왓슨x.ai, 올라마(Ollama), 리플리케이트(Replicate), LM 스튜디오에서 바로 사용가능하다. 레드햇 엔터프라이즈 리눅스(RHEL) AI 1.5에서도 제공돼 기업과 오픈 소스 커뮤니티에 새로운 기능을 제공할 예정이다.그래니트 3.2은 문서 해석 작업을 위한 새로운 비전언어모델(VLM)이다. 엔터프라이즈 벤치마크인 DocVQA, ChartQA, AI2D 및 OCR벤치에서 기존 대형 모델인 라마 3.2 11B 및 픽스트랄 12B와 동등하거나 그 이상의 성능을 입증했다.IBM은 풍부한 학습 데이터뿐 아니라 자체 오픈 소스 도클링(Docling) 도구를 활용해 8천500만 개의 PDF를 처리하고 2천600만 개의 합성 질문-답변 조합을 생성해 복잡한 문서 중심의 업무를 처리하는 VLM의 능력을 향상시켰다.프로그래밍 방식으로 \\'연쇄적 사고(Chain of thought)\\'기능을 활성화 또는 비활성화할 수 있는 기능을 도입했다. 이 기능을 활용해 간단한 작업은 추론 기능을 최소화해 불필요한 연산 부하를 줄일 수 있다.이 기능을 통해 8B 모델은 안전성이나 성능 저하 없이 아레나하드및 알파카이벨과 같은 인스트럭션 추종 벤치마크에서 이전 모델보다 두 자릿수 개선된 성과를 달성했다.그래니트 3.2 8B 모델의 경우 새로운 추론 확장(inference scaling) 방법으로 AIME2024 및 MATH500과 같은 수학 추론 벤치마크에서 클로드 3.5-소넷 또는 GPT-4o와 같은 대규모 모델의 성능에 필적하도록 보정 가능하다.IBM은 그래니트 3.2 인스트럭트, 비전 및 가드레일 모델과 함께 최대 2년 후의 미래까지 장기 예측할 수 있는 기능을 갖춘 차세대 시계열 모델인 타이니타임믹서(TTM) 모델을 출시한다. 이는 금융 및 경제 동향, 공급망 수요 예측, 유통 업계의 계절별 재고 계획 등 장기적인 트렌드 분석에 강력한 도구가 될 것이다.IBM AI 연구 담당 스리람 라가반 부사장은 \"다음 AI 시대는 기업이 과도한 컴퓨팅 비용 없이도 강력한 성과를 달성할 수 있는 효율성, 통합 가능성, 실용성이 화두가 될 것\"이라며 \"개방형 솔루션에 중점을 둔 IBM의 최신 그래니트 모델은 오늘날 기업들의 AI 접근성, 비용 효율성, AI 자체의 가치를 높이는데 있어 도움을 줬다고 생각한다\"고 말했다. 남혁우 기자(firstblood@zdnet.co.kr) 기자 프로필 지디넷코리아 지디넷코리아 남혁우 기자 남혁우 기자 구독 구독중 구독자 0 응원수 0 소프트웨어의 발전이 행복의 발전이길 바랍니다. MS, \\'스카이프\\' 서비스 종료…\"22년 만에 역사 속으로\" 리게티컴퓨팅, 실적 발표 앞두고 3일 연속 하락 지디넷코리아의 구독 많은 기자를 구독해보세요! 닫기 Copyright ⓒ ZDNet Korea. All rights reserved. 무단 전재 및 재배포 금지. 이 기사는 언론사에서 IT 섹션으로 분류했습니다. 기사 섹션 분류 안내 기사의 섹션 정보는 해당 언론사의 분류를 따르고 있습니다. 언론사는'),\n",
       " Document(id='34dac2bc-c092-4c66-b746-fbc1fb945544', metadata={'source': 'https://n.news.naver.com/mnews/article/243/0000073398?sid=101'}, page_content='이코노미스트 이코노미스트 구독 이코노미스트 언론사 구독되었습니다. 메인 뉴스판에서 주요뉴스를 볼 수 있습니다. 보러가기 이코노미스트 언론사 구독 해지되었습니다. 케이뱅크, 인뱅 최초 금융 특화 프라이빗 LLM 도입 입력2025.02.26. 오후 2:36 기사원문 김윤주 기자 TALK 김윤주 기자 김윤주 기자 TALK 구독  추천      책 1억권 분량의 금융 데이터로 프라이빗 LLM 학습임직원 대상 서비스 제공…대고객 AI 에이전트 도입 검토 케이뱅크 본사 전경. [사진 케이뱅크][이코노미스트 김윤주 기자] 케이뱅크가 금융 특화 프라이빗 LLM을 도입하며 ‘AI Powered Bank’로 도약에 나섰다.케이뱅크는 인터넷은행 최초로 금융 특화 프라이빗 LLM(Large Language Model)을 도입했다고 26일 밝혔다. 지난해 2월 KT·KT클라우드·업스테이지와 업무협약을 체결하고 AI 분야 협업을 강화한 성과다.프라이빗 LLM은 공개적으로 접근이 가능한 챗GPT, 딥시크 등과 달리 특정 조직이나 기업 내부에서만 사용하도록 설계된 맞춤형 인공지능 언어 모델이다. 공개형 LLM과 비교해 해당 기업이나 특정 분야에 최적화된 것이 특징이다.프라이빗 LLM은 기업이 원하는 전문 데이터를 학습시켜 보다 정교하고 신뢰성 높은 정보를 생성할 수 있으며 데이터가 외부로 전송되지 않고 내부 서버에서만 운영되기 때문에 보안성이 뛰어나다.특히 금융 산업은 복잡한 용어와 개념이 많고 보안이 중요한 분야이기 때문에 전문적인 성능과 강력한 보안성을 갖춘 프라이빗 LLM 도입이 더욱 주목받고 있다.케이뱅크는 이번 프라이빗 LLM 설계를 위해 금융 공공기관, 금융학회 등에서 발표한 책 1억권 분량의 방대한 금융 전문 데이터를 수집했다. 이후 사후 학습(Post-training) 과정을 통해 금융 데이터를 학습시켜 금융 도메인에 대한 전문성을 강화하고 범용적인 언어 처리 능력을 유지하도록 최적화했다.이를 통해 금융 관련 질문에 대한 정확성을 높이고, 신뢰도 높은 응답을 제공할 수 있도록 개선했다. 또한 공신력 있는 금융 자격시험 23종에서 추출한 데이터로 LLM을 평가해 금융 지식 수준을 측정하고 종합적인 성능도 입증했다.프라이빗 LLM은 내부 업무 프로세스 혁신과 대고객 AI 서비스 확대 등을 위해 활용될 예정이다. 임직원이 사내 규정과 정보 등을 질문하면 이에 맞는 답변을 안내하는 대화형 인공지능 서비스와 콘텐츠를 요약해 자동으로 보고서를 생성해주는 기능 등을 제공할 계획이다.대고객 측면에서도 고객의 편리하고 스마트한 금융생활을 지원하는 AI 에이전트(가상비서) 등의 도입을 검토할 예정이다.케이뱅크 관계자는 “금융 산업은 높은 보안성과 전문적인 역량을 요하는 만큼 프라이빗 LLM의 활용도가 높다”며 “앞으로도 AI 혁신을 통해 비즈니스 영역을 확장하고 업무 생산성을 강화하며 ‘AI Powered Bank’로 거듭나겠다”고 말했다. 김윤주(joos2@edaily.co.kr) 기자 프로필 이코노미스트 이코노미스트 김윤주 기자 김윤주 기자 TALK 응원의 한마디! 힘이 됩니다! 응원 닫기 구독 구독중 구독자 0 응원수 0 생활에 도움 되는 경제 뉴스를 전달하겠습니다. [김윤주의 금은동] 코너도 연재하고 있습니다. 출생아 수 ‘깜짝 반전’에도…지난해 한국인 12만명 사라져 겨울 제철 귤보다 많이 팔렸다…대형마트 매출 1위는 ‘이 과일’ 이코노미스트의 구독 많은 기자를 구독해보세요! 닫기 Copyright ⓒ 이코노미스트. All rights reserved. 무단 전재 및 재배포 금지. 이 기사는 언론사에서 경제 섹션으로 분류했습니다. 기사 섹션 분류 안내 기사의 섹션 정보는 해당 언론사의 분류를 따르고 있습니다. 언론사는 개별 기사를 2개 이상 섹션으로 중복 분류할 수 있습니다. 닫기 구독 메인에서 바로 보는 언론사 편집 뉴스 지금 바로 구독해보세요! 구독중 메인에서 바로 보는 언론사 편집 뉴스 지금 바로 확인해보세요! 네이버에서 이코노미스트를 구독해주세요 국내 정상의 온라인·오프라인 경제지 이코노미스트 이코노미스트 이코노미스트 주요뉴스해당'),\n",
       " Document(id='7daea449-e95a-43fc-8e5f-29f48597fdee', metadata={'source': 'https://n.news.naver.com/mnews/article/277/0005552100?sid=101'}, page_content='아시아경제 아시아경제 구독 아시아경제 언론사 구독되었습니다. 메인 뉴스판에서 주요뉴스를 볼 수 있습니다. 보러가기 아시아경제 언론사 구독 해지되었습니다. 케이뱅크, 인터넷은행 최초 금융 특화 프라이빗 LLM도입 입력2025.02.26. 오전 9:00 수정2025.02.26. 오전 9:01 기사원문 권재희 기자 TALK 권재희 기자 권재희 기자 TALK 구독  추천      LLM, 특정 조직이나 기업 내부에서만 사용하도록 설계된 맞춤형 인공지능 임직원 대상 대화형 인공지능 서비스 제공…대고객 AI 에이전트 도입 케이뱅크는 인터넷 은행 최초로 금융 특화 프라이빗 LLM(Large Language Model)을 도입했다고 26일 밝혔다. 지난해 2월 KT·KT클라우드·업스테이지와 업무협약을 체결하고 인공지능(AI) 분야 협업을 강화한 성과다.프라이빗 LLM은 공개적으로 접근이 가능한 챗GPT, 딥시크 등과 달리 특정 조직이나 기업 내부에서만 사용하도록 설계된 맞춤형 인공지능 언어 모델이다. 공개형 LLM과 비교해 해당 기업이나 특정 분야에 최적화된 것이 특징이다.프라이빗 LLM은 기업이 원하는 전문 데이터를 학습시켜 보다 정교하고 신뢰성 높은 정보를 생성할 수 있으며 데이터가 외부로 전송되지 않고 내부 서버에서만 운영되기 때문에 보안성이 뛰어나다.특히 금융 산업은 복잡한 용어와 개념이 많고 보안이 중요한 분야이기 때문에 전문적인 성능과 강력한 보안성을 갖춘 프라이빗 LLM 도입이 더욱 주목받고 있다.케이뱅크는 이번 프라이빗 LLM 설계를 위해 금융 공공기관, 금융학회 등에서 발표한 책 1억권 분량의 방대한 금융 전문 데이터를 수집했다. 이후 사후 학습(Post-training) 과정을 통해 금융 데이터를 학습시켜 금융 도메인에 대한 전문성을 강화하고 범용적인 언어 처리 능력을 유지하도록 최적화했다.이를 통해 금융 관련 질문에 대한 정확성을 높이고, 신뢰도 높은 응답을 제공할 수 있도록 개선했다. 또한 공신력 있는 금융 자격시험 23종에서 추출한 데이터로 LLM을 평가해 금융 지식 수준을 측정하고 종합적인 성능도 입증했다.프라이빗 LLM은 내부 업무 프로세스 혁신과 대고객 AI 서비스 확대 등을 위해 활용될 예정이다.임직원이 사내 규정과 정보 등을 질문하면 이에 맞는 답변을 안내하는 대화형 인공지능 서비스와 콘텐츠를 요약해 자동으로 보고서를 생성해주는 기능 등을 제공할 계획이다.대고객 측면에서도 고객의 편리하고 스마트한 금융생활을 지원하는 AI 에이전트(가상비서) 등의 도입을 검토할 예정이다.케이뱅크 관계자는 \"금융 산업은 높은 보안성과 전문적인 역량을 요하는 만큼 프라이빗 LLM의 활용도가 높다\"며 \"앞으로도 AI 혁신을 통해 비즈니스 영역을 확장하고 업무 생산성을 강화하며 \\'AI Powered Bank\\'로 거듭나겠다\"고 말했다. 권재희 기자 jayful@asiae.co.kr 기자 프로필 아시아경제 아시아경제 권재희 기자 권재희 기자 TALK 유익하고 소중한 제보를 기다려요! 제보 닫기 구독 구독중 구독자 0 응원수 0 \\'돈\\'의 흐름을 취재합니다. \"1000만원 준대\"…MZ가 아끼던 \\'모임통장\\' 40·50대 몰렸다 결혼 하려면 \\'2억2541만원\\'…노후엔 \\'19억원\\'은 있어야 \\'충분\\'[알돈쓸잡] 아시아경제의 구독 많은 기자를 구독해보세요! 닫기 Copyright ⓒ 아시아경제. All rights reserved. 무단 전재 및 재배포 금지. 이 기사는 언론사에서 경제 섹션으로 분류했습니다. 기사 섹션 분류 안내 기사의 섹션 정보는 해당 언론사의 분류를 따르고 있습니다. 언론사는 개별 기사를 2개 이상 섹션으로 중복 분류할 수 있습니다. 닫기 구독 메인에서 바로 보는 언론사 편집 뉴스 지금 바로 구독해보세요! 구독중 메인에서 바로 보는 언론사 편집 뉴스 지금 바로 확인해보세요! 2025년 사주·운세·토정비결·궁합 확인! QR 코드를 클릭하면 크게 볼 수 있어요. QR을 촬영해보세요. 2025년 사주·운세·토정비결·궁합 확인! 닫기 내 집에서 맞는 편안한 노후, 시니어 하우스 QR 코드를 클릭하면 크게 볼 수 있어요.')]"
      ]
     },
     "execution_count": 16,
     "metadata": {},
     "output_type": "execute_result"
    }
   ],
   "source": [
    "retriever.invoke(\"도메인 특화 LLM에 대한 소식 있어?\")"
   ]
  },
  {
   "cell_type": "markdown",
   "metadata": {
    "id": "R7i4qL0ZBPif"
   },
   "source": [
    "## 3. Prompting"
   ]
  },
  {
   "cell_type": "markdown",
   "metadata": {
    "id": "v5QpFAyVMYpV"
   },
   "source": [
    "RAG를 위한 간단한 프롬프트를 작성합니다."
   ]
  },
  {
   "cell_type": "code",
   "execution_count": 17,
   "metadata": {
    "id": "7BiDkZRlBPig"
   },
   "outputs": [],
   "source": [
    "from langchain.prompts import ChatPromptTemplate\n",
    "from langchain_openai import ChatOpenAI"
   ]
  },
  {
   "cell_type": "code",
   "execution_count": 18,
   "metadata": {
    "id": "RS06ZDSDBPig"
   },
   "outputs": [
    {
     "name": "stdout",
     "output_type": "stream",
     "text": [
      "================================\u001b[1m Human Message \u001b[0m=================================\n",
      "\n",
      "당신은 QA(Question-Answering)을 수행하는 Assistant입니다.\n",
      "다음의 Context를 이용하여 Question에 답변하세요.\n",
      "최소 3문장에서 최대 5문장으로 답변하고, 정확한 답변을 제공하세요.\n",
      "만약 모든 Context를 다 확인해도 정보가 없다면, \"정보가 부족하여 답변할 수 없습니다.\"를 출력하세요.\n",
      "---\n",
      "Context: \u001b[33;1m\u001b[1;3m{context}\u001b[0m\n",
      "---\n",
      "Question: \u001b[33;1m\u001b[1;3m{question}\u001b[0m\n"
     ]
    }
   ],
   "source": [
    "prompt = ChatPromptTemplate.from_messages([\n",
    "    (\"user\", '''당신은 QA(Question-Answering)을 수행하는 Assistant입니다.\n",
    "다음의 Context를 이용하여 Question에 답변하세요.\n",
    "최소 3문장에서 최대 5문장으로 답변하고, 정확한 답변을 제공하세요.\n",
    "만약 모든 Context를 다 확인해도 정보가 없다면, \"정보가 부족하여 답변할 수 없습니다.\"를 출력하세요.\n",
    "---\n",
    "Context: {context}\n",
    "---\n",
    "Question: {question}''')])\n",
    "prompt.pretty_print() # pretty_print() 사람이 보기 편하게 출력"
   ]
  },
  {
   "cell_type": "markdown",
   "metadata": {
    "id": "9C09vkykMwXo"
   },
   "source": [
    "## 4. Chain"
   ]
  },
  {
   "cell_type": "markdown",
   "metadata": {
    "id": "H98LGZRVBPig"
   },
   "source": [
    "RAG를 수행하기 위한 Chain을 만듭니다."
   ]
  },
  {
   "cell_type": "markdown",
   "metadata": {
    "id": "2kqWGHwuBPig"
   },
   "source": [
    "RAG Chain은 프롬프트에 context와 question을 전달해야 합니다.    \n",
    "체인의 입력은 Question만 들어가므로, Context를 동시에 prompt에 넣기 위해서는 아래의 구성이 필요합니다."
   ]
  },
  {
   "cell_type": "code",
   "execution_count": 19,
   "metadata": {
    "id": "GEr1E0zbBPig"
   },
   "outputs": [],
   "source": [
    "from langchain.schema.runnable import RunnablePassthrough\n",
    "from langchain.schema.output_parser import StrOutputParser\n",
    "\n",
    "\n",
    "llm = ChatOpenAI(model_name=\"gpt-4o-mini\", temperature=0.1)\n",
    "\n",
    "\n",
    "# retriever의 결과물은 List[Document] 이므로 이를 ---로 구분하는 함수\n",
    "# metadata의 source를 보존하여 추가\n",
    "def format_docs(docs):\n",
    "    return \"\\n\\n---\\n\\n\".join([doc.page_content+ '\\nURL: '+ doc.metadata['source'] for doc in docs])\n",
    "    # join : 구분자를 기준으로 스트링 리스트를 하나의 스트링으로 연결\n",
    "    # Ex)'와'.join(['a','b','c']) = 'a와b와c'\n",
    "\n",
    "rag_chain = (\n",
    "    {\"context\": retriever | format_docs, \"question\": RunnablePassthrough()}\n",
    "    # retriever : question을 받아서 context 검색: document 반환\n",
    "    # format_docs : document 형태를 받아서 텍스트로 변환\n",
    "    # RunnablePassthrough(): 체인의 입력을 그대로 저장\n",
    "    | prompt\n",
    "    | llm\n",
    "    | StrOutputParser()\n",
    ")"
   ]
  },
  {
   "cell_type": "code",
   "execution_count": 20,
   "metadata": {
    "id": "nV9-CYSzBPig"
   },
   "outputs": [
    {
     "data": {
      "text/plain": [
       "'도메인 특화 LLM(대형 언어 모델)은 특정 분야나 산업에 최적화된 인공지능 언어 모델을 의미합니다. 이러한 모델은 일반적인 LLM과 달리 특정 조직이나 기업의 요구에 맞춰 설계되어, 해당 분야의 전문 데이터를 학습하여 보다 정교하고 신뢰성 높은 정보를 생성할 수 있습니다. 예를 들어, 금융 산업에서는 복잡한 용어와 개념을 다루기 때문에, 금융 관련 데이터를 기반으로 학습한 도메인 특화 LLM이 더욱 효과적으로 활용될 수 있습니다. 이러한 모델은 보안성이 뛰어나고, 특정 분야의 전문성을 강화하는 데 큰 도움이 됩니다.'"
      ]
     },
     "execution_count": 20,
     "metadata": {},
     "output_type": "execute_result"
    }
   ],
   "source": [
    "rag_chain.invoke(\"도메인 특화 LLM이 뭔가요?\")"
   ]
  },
  {
   "cell_type": "code",
   "execution_count": 21,
   "metadata": {
    "id": "0j9J2CpsBPig"
   },
   "outputs": [
    {
     "data": {
      "text/plain": [
       "\"오픈AI는 최근 'GPT-4.5'라는 새로운 인공지능 모델을 공개했습니다. 이 모델은 추론 기능이 없는 마지막 일반 모델로, 특정 사용자 그룹에 제한적으로 제공되며, 월 200달러의 '챗GPT 프로' 요금제 사용자에게 우선 제공됩니다. GPT-4.5는 이전 모델들보다 더 높은 정확도와 감성지능을 갖추고 있어, 보다 자연스러운 대화가 가능하다고 평가받고 있습니다. 오픈AI는 향후 GPT-5에서 추론 모델과 일반 모델을 통합할 계획이라고 밝혔습니다.\""
      ]
     },
     "execution_count": 21,
     "metadata": {},
     "output_type": "execute_result"
    }
   ],
   "source": [
    "rag_chain.invoke(\"오픈 AI 최근 소식 있어?\")"
   ]
  },
  {
   "cell_type": "code",
   "execution_count": 22,
   "metadata": {
    "id": "fhgi0WUEzxvF"
   },
   "outputs": [
    {
     "data": {
      "text/plain": [
       "'정보가 부족하여 답변할 수 없습니다.'"
      ]
     },
     "execution_count": 22,
     "metadata": {},
     "output_type": "execute_result"
    }
   ],
   "source": [
    "rag_chain.invoke(\"한국에서 만든 초거대 언어 모델은 뭐가 있나요? 참고 링크도 올려주세요\")"
   ]
  },
  {
   "cell_type": "code",
   "execution_count": 23,
   "metadata": {
    "id": "Ii804dgWp2ax"
   },
   "outputs": [
    {
     "data": {
      "text/plain": [
       "'정보가 부족하여 답변할 수 없습니다.'"
      ]
     },
     "execution_count": 23,
     "metadata": {},
     "output_type": "execute_result"
    }
   ],
   "source": [
    "rag_chain.invoke(\"sllm이 뭐야?\")"
   ]
  },
  {
   "cell_type": "markdown",
   "metadata": {
    "id": "8br1RVEwkVC4"
   },
   "source": [
    "만약 Context가 포함된 RAG 결과를 보고 싶다면, RunnableParallel을 사용하면 됩니다."
   ]
  },
  {
   "cell_type": "markdown",
   "metadata": {
    "id": "37hTqiCOzxvF"
   },
   "source": [
    "assign()을 이용하면, 체인의 결과를 받아 새로운 체인에 전달하고, 그 결과를 가져옵니다."
   ]
  },
  {
   "cell_type": "code",
   "execution_count": 24,
   "metadata": {
    "id": "8lirfP5Q-HyX"
   },
   "outputs": [
    {
     "data": {
      "text/plain": [
       "{'context': '들었다놨다\" 한국인들 갇혔다…캄보디아서 무슨 일 홀로 묵던 투숙객 숨져…함께 갯벌 간 남편 사망, 아내 실종 기상예보 믿고 앞당겼다 텅…\"못 견디고 소멸\" 결국 접었다 \"싹 없어졌다\" 뜻밖의 흉물…10층 올리다 올스탑 \"줄도산?\" 옥중편지 대독에 \"콕 집어 저격\"…경찰출신 의원도 거친 입 이 기사를 추천합니다 기사 추천은 24시간 내 50회까지 참여할 수 있습니다. 닫기  모두에게 보여주고 싶은 기사라면?beta 이 기사를 추천합니다 버튼을 눌러주세요. 집계 기간 동안 추천을 많이 받은 기사는 네이버 자동 기사배열 영역에 추천 요소로 활용됩니다. 레이어 닫기 SBS 언론사홈 바로가기 기자 구독 후 기사보기 구독 없이 계속 보기\\nURL: https://n.news.naver.com/mnews/article/055/0001236444?sid=100\\n\\n---\\n\\nSBS의 구독 많은 기자를 구독해보세요! 닫기 Copyright ⓒ SBS. All rights reserved. 무단 전재, 재배포 및 AI학습 이용 금지 이 기사는 언론사에서 생활 섹션으로 분류했습니다. 기사 섹션 분류 안내 기사의 섹션 정보는 해당 언론사의 분류를 따르고 있습니다. 언론사는 개별 기사를 2개 이상 섹션으로 중복 분류할 수 있습니다. 닫기 구독 메인에서 바로 보는 언론사 편집 뉴스 지금 바로 구독해보세요! 구독중 메인에서 바로 보는 언론사 편집 뉴스 지금 바로 확인해보세요! 네이버에서 SBS뉴스를 구독해주세요! 가장 확실한 SBS 제보 [클릭!] SBS SBS 주요뉴스해당 언론사에서 선정하며 언론사 페이지(아웃링크)로 이동해 볼 수 있습니다. \"발톱 들었다놨다\" 한국인들 갇혔다…캄보디아서 무슨 일 홀로 묵던 투숙객 숨져…함께 갯벌 간 남편 사망, 아내 실종 기상예보 믿고 앞당겼다 텅…\"못 견디고 소멸\" 결국 접었다 \"싹 없어졌다\" 뜻밖의 흉물…10층 올리다 올스탑 \"줄도산?\" 옥중편지 대독에 \"콕 집어 저격\"…경찰출신 의원도 거친 입 이 기사를 추천합니다 기사 추천은 24시간 내 50회까지 참여할 수 있습니다. 닫기  모두에게 보여주고 싶은 기사라면?beta 이 기사를 추천합니다 버튼을 눌러주세요. 집계 기간 동안 추천을 많이 받은 기사는 네이버 자동 기사배열 영역에 추천 요소로 활용됩니다. 레이어 닫기 SBS 언론사홈 바로가기 기자 구독 후 기사보기 구독 없이 계속 보기\\nURL: https://n.news.naver.com/mnews/article/055/0001236490?sid=103\\n\\n---\\n\\nKBS KBS 구독 KBS 언론사 구독되었습니다. 메인 뉴스판에서 주요뉴스를 볼 수 있습니다. 보러가기 KBS 언론사 구독 해지되었습니다. 이재명 “모든 국민 ‘무료 생성형 AI’ 사용해야…인프라 확충과 제도 개선 집중” 입력2025.03.02. 오후 1:44 수정2025.03.02. 오후 2:02 기사원문 원동희 기자 원동희 기자 원동희 기자 구독  추천      더불어민주당 이재명 대표는 AI 전문가들과 대담을 나누며 전 국민이 무료 생성형 인공지능을 쓸 수 있을 정도로 인프라와 확충과 사회 제도 개선에 집중하겠다고 밝혔습니다. 이재명 대표는 오늘(2일) 오전에 공개된 ‘AI와 대한민국, 그리고 나’를 주제로 전문가들과 나눈 첫 대담에서 “당에 AI 강국위원회를 만들어 직접 위원장을 맡았다”며 “모든 국민들이 무료로 생성형 인공지능(AI)을 쓸 수 있는 기회를 만들고 싶다”고 밝혔습니다. 오늘 공개된 대담엔 네이버 클라우드센터장인 하정우 바른과학기술사회 실현을 위한 국민연합 공동대표와 오혜연 카이스트 AI연구원장이 참여했습니다. 이 대표 등 대담 참석자들은 민주당 의견 수렴 플랫폼인 ‘모두의질문Q’에 접수된 질문 중 AI와 관련된 질문을 소개하고 답하는 방식으로 대담을 나누었습니다. 이 대표는 대담에서 중국의 저비용·고효율 생성형 AI인 딥시크발 ‘쇼크’를 거론하며 AI 산업 발전 방안에 대한 전문가 의견을 경청하고, 조속한 H100급 GPU(그래픽처리장치) 확보와 정부 주도의 글로벌 AI 기술 협력 강화 필요성에 공감했습니다. 또한 노동과 교육제도 개선이 필요하다는 지적에 이 대표는 AI 발달로 인한 생산성 증대를 특정 개인이나 기업이 독점하지 않고 국민 모두가 함께 공유할 수 있는 세상을 만들어야 하고, AI산업 발전과정에 소외되는 계층이 없도록 충실한 사회안전망을 구축해야 한다고 답했습니다. 오늘 공개된 대담을 기획한 민주연구원 집단지성센터는 모두의질문Q에 올라온 질문을 중심으로 다양한 사회 정책 이슈를 다루는 대담을 이어갈 예정이라고 밝혔습니다.[사진 출처 : 연합뉴스 / 민주연구원 제공]■ 제보하기▷ 전화 : 02-781-1234, 4444▷ 이메일 : kbs1234@kbs.co.kr▷ 카카오톡 : \\'KBS제보\\' 검색, 채널 추가▷ 네이버, 유튜브에서 KBS뉴스를 구독해주세요! 원동희 (eastshine@kbs.co.kr) 기자 프로필 KBS KBS 원동희 기자 원동희 기자 구독 구독중 구독자 0 응원수 0 오늘은 이런 일이 있었습니다. 민주당 명태균 녹취 추가 공개…“김건희 여사, 경남도지사 선거도 개입 의혹” 민주당, 권성동 상속세 완화 비판에 “국힘은 955명 초부자들만의 대변인이냐” KBS의 구독 많은 기자를 구독해보세요! 닫기 Copyright ⓒ KBS. All rights reserved. 무단 전재, 재배포 및 이용(AI 학습 포함) 금지 이 기사는 언론사에서 정치 섹션으로 분류했습니다. 기사 섹션 분류 안내 기사의 섹션 정보는 해당 언론사의 분류를 따르고 있습니다. 언론사는 개별 기사를 2개 이상 섹션으로 중복 분류할 수 있습니다. 닫기 구독 메인에서 바로 보는 언론사 편집 뉴스 지금 바로 구독해보세요! 구독중 메인에서 바로 보는 언론사 편집 뉴스 지금 바로 확인해보세요! <모아보기> 윤석열 대통령 구속...헌정 최초 [클릭] QR 코드를 클릭하면 크게 볼 수 있어요. QR을 촬영해보세요. <모아보기> 윤석열 대통령 구속...헌정 최초 [클릭] 닫기 이 시각 가장 뜨거운 뉴스 [클릭] QR 코드를 클릭하면 크게 볼 수 있어요. QR을 촬영해보세요. 이 시각 가장 뜨거운 뉴스 [클릭] 닫기 KBS KBS 주요뉴스해당 언론사에서 선정하며 언론사 페이지(아웃링크)로 이동해 볼 수 있습니다. \"제 공직생활 36년이 3시간으로 마무리됐다\" 쏟아진 재판관 \\'질문들\\'…\\'탄핵 가늠자\\' 되나? 북한 관광 열렸다…우리도 갈 수 있을까? \"알바 2개로도 버거워, 다시 본가로\"…K-대학생 브이로그ⓛ \\'살인 예고\\' 글 올리면 최대 징역 5년…예비군 참석 불이익 \\'처벌\\' 이 기사를 추천합니다 기사\\nURL: https://n.news.naver.com/mnews/article/056/0011902997?sid=100\\n\\n---\\n\\n보는 언론사 편집 뉴스 지금 바로 확인해보세요! K팝·K트롯 팬들의 놀이터, 스타1픽 QR 코드를 클릭하면 크게 볼 수 있어요. QR을 촬영해보세요. K팝·K트롯 팬들의 놀이터, 스타1픽 닫기 세상에 이런 일이...[사건의 재구성] QR 코드를 클릭하면 크게 볼 수 있어요. QR을 촬영해보세요. 세상에 이런 일이...[사건의 재구성] 닫기 뉴스1 뉴스1 주요뉴스해당 언론사에서 선정하며 언론사 페이지(아웃링크)로 이동해 볼 수 있습니다. 욕조 속 최준희 \"골반 괴사…하반신 자르고파\" 호소 \\'사장님이랑 모텔에 갈 때\\' 영상…비난 속 옹호 왜? 4년간 故 노무현 모욕 유튜버, 돌연 사과…\"모든 영상 영구 삭제\" 왜? 한일혼혈 121만 유튜버, 벗방 BJ한테 성추행 무고 당해 흩어진 약·미라가 된 아내·벽장 속 개…진 해크먼 사망 미스터리 이 기사를 추천합니다 기사 추천은 24시간 내 50회까지 참여할 수 있습니다. 닫기  모두에게 보여주고 싶은 기사라면?beta 이 기사를 추천합니다 버튼을 눌러주세요. 집계 기간 동안 추천을 많이 받은 기사는 네이버 자동 기사배열 영역에 추천 요소로 활용됩니다. 레이어 닫기 뉴스1 언론사가 직접 선정한 이슈 이슈 尹 탄핵 정국 비명계 김동연·김부겸 \"제7공화국으로 나아가야 한다\" 이슈 명태균 특검법 검찰, \\'명태균 의혹 폭로\\' 강혜경 참고인 조사…명 씨 6~7일 소환 이슈 반도체 전쟁 엔비디아 9% 폭락, 반도체지수도 4% 급락(종합) 이슈 \\'초고령 사회\\' 정년 연장 \"65세가 노인?\" 노인연령 상향, 해외사례 봤더니…\\'분야별접근\\' 대세 이슈 에어부산 항공기 화재 김해공항 에어부산 여객기 화재 현장 조사 마무리 이전 다음 뉴스1 언론사홈 바로가기 기자 구독 후 기사보기 구독 없이 계속 보기\\nURL: https://n.news.naver.com/mnews/article/421/0008105102?sid=101',\n",
       " 'question': '엔비디아에 대한 소식은?',\n",
       " 'answer': '엔비디아는 최근 반도체 시장에서 9%의 주가 하락을 경험했으며, 이로 인해 반도체 지수도 4% 급락했습니다. 이러한 하락은 반도체 전쟁과 관련된 여러 요인에 기인한 것으로 보입니다. 엔비디아는 AI 기술과 관련하여 중요한 기업으로 여겨지지만, 시장의 변동성에 영향을 받고 있는 상황입니다.'}"
      ]
     },
     "execution_count": 24,
     "metadata": {},
     "output_type": "execute_result"
    }
   ],
   "source": [
    "from langchain_core.runnables import RunnableParallel\n",
    "# assign : 결과를 받아서 새로운 인수 추가하고 원래 결과와 함께 전달\n",
    "\n",
    "rag_chain_from_docs = (\n",
    "    prompt\n",
    "    | llm\n",
    "    | StrOutputParser()\n",
    ")\n",
    "\n",
    "rag_chain_with_source = RunnableParallel(\n",
    "    {\"context\": retriever | format_docs, \"question\": RunnablePassthrough()}\n",
    ").assign(answer=rag_chain_from_docs)\n",
    "\n",
    "rag_chain_with_source.invoke(\"엔비디아에 대한 소식은?\")\n",
    "\n",
    "# retriever가 1번 실행됨\n",
    "# retriever의 실행 결과를 rag_chain_from_docs 에 넘겨주기 때문에"
   ]
  },
  {
   "cell_type": "code",
   "execution_count": 25,
   "metadata": {
    "id": "XBiTln8b-seK"
   },
   "outputs": [
    {
     "data": {
      "text/plain": [
       "{'passed': {'num': 1}, 'extra': {'num': 1, 'mult': 3}, 'modified': 2}"
      ]
     },
     "execution_count": 25,
     "metadata": {},
     "output_type": "execute_result"
    }
   ],
   "source": [
    "# Runnable Quiz\n",
    "\n",
    "runnable = RunnableParallel(\n",
    "    passed=RunnablePassthrough(),\n",
    "    extra=RunnablePassthrough.assign(mult=lambda x: x[\"num\"] * 3),\n",
    "    modified=lambda x: x[\"num\"] + 1,\n",
    ")\n",
    "\n",
    "runnable.invoke({\"num\": 1})\n",
    "# 결과 이해해보기!"
   ]
  },
  {
   "cell_type": "markdown",
   "metadata": {
    "id": "QVOmu3_S0XCj"
   },
   "source": [
    "## Gradio로 배포하기"
   ]
  },
  {
   "cell_type": "markdown",
   "metadata": {
    "id": "-iIfbn4u0YjT"
   },
   "source": [
    "입력과 출력을 통해 RAG를 수행합니다.   \n",
    "크롤링을 수행하는 것은 시간이 오래 걸리기 때문에,     \n",
    "기본값을 5로 두고 수정 가능하게 만들어 보겠습니다."
   ]
  },
  {
   "cell_type": "code",
   "execution_count": 26,
   "metadata": {
    "id": "Q13w-dDH0WTL"
   },
   "outputs": [],
   "source": [
    "def construct_vector_db(query, num_links=5):\n",
    "    filtered_links = get_naver_news_links(query, num_links)\n",
    "    docs = get_news_documents(filtered_links)\n",
    "    preprocessed_docs = preprocess(docs)\n",
    "    chunks = text_splitter.split_documents(preprocessed_docs)\n",
    "    Chroma().delete_collection() # 메모리에 로드된 기존 데이터 삭제\n",
    "\n",
    "    db = Chroma.from_documents(documents=chunks,\n",
    "                               embedding=OpenAIEmbeddings(model='text-embedding-3-small'),\n",
    "                               collection_metadata={'hnsw:space':'l2'})\n",
    "    return db\n",
    "\n",
    "def RAG(query, question, num_links=5):\n",
    "    db = construct_vector_db(query, num_links)\n",
    "    retriever = db.as_retriever()\n",
    "    rag_chain = (\n",
    "        {\"context\": retriever | format_docs, \"question\": RunnablePassthrough()}\n",
    "        | prompt\n",
    "        | llm\n",
    "        | StrOutputParser()\n",
    "    )\n",
    "    return rag_chain.invoke(question)\n"
   ]
  },
  {
   "cell_type": "code",
   "execution_count": 33,
   "metadata": {
    "id": "RrMOONVl5hRy"
   },
   "outputs": [
    {
     "name": "stdout",
     "output_type": "stream",
     "text": [
      "Requirement already satisfied: gradio in /opt/homebrew/anaconda3/lib/python3.11/site-packages (5.6.0)\n",
      "Requirement already satisfied: aiofiles<24.0,>=22.0 in /opt/homebrew/anaconda3/lib/python3.11/site-packages (from gradio) (23.2.1)\n",
      "Requirement already satisfied: anyio<5.0,>=3.0 in /opt/homebrew/anaconda3/lib/python3.11/site-packages (from gradio) (4.6.0)\n",
      "Requirement already satisfied: fastapi<1.0,>=0.115.2 in /opt/homebrew/anaconda3/lib/python3.11/site-packages (from gradio) (0.115.5)\n",
      "Requirement already satisfied: ffmpy in /opt/homebrew/anaconda3/lib/python3.11/site-packages (from gradio) (0.4.0)\n",
      "Requirement already satisfied: gradio-client==1.4.3 in /opt/homebrew/anaconda3/lib/python3.11/site-packages (from gradio) (1.4.3)\n",
      "Requirement already satisfied: httpx>=0.24.1 in /opt/homebrew/anaconda3/lib/python3.11/site-packages (from gradio) (0.27.2)\n",
      "Requirement already satisfied: huggingface-hub>=0.25.1 in /opt/homebrew/anaconda3/lib/python3.11/site-packages (from gradio) (0.29.1)\n",
      "Requirement already satisfied: jinja2<4.0 in /opt/homebrew/anaconda3/lib/python3.11/site-packages (from gradio) (3.1.5)\n",
      "Collecting markupsafe~=2.0 (from gradio)\n",
      "  Obtaining dependency information for markupsafe~=2.0 from https://files.pythonhosted.org/packages/11/e7/291e55127bb2ae67c64d66cef01432b5933859dfb7d6949daa721b89d0b3/MarkupSafe-2.1.5-cp311-cp311-macosx_10_9_universal2.whl.metadata\n",
      "  Using cached MarkupSafe-2.1.5-cp311-cp311-macosx_10_9_universal2.whl.metadata (3.0 kB)\n",
      "Requirement already satisfied: numpy<3.0,>=1.0 in /opt/homebrew/anaconda3/lib/python3.11/site-packages (from gradio) (1.26.4)\n",
      "Requirement already satisfied: orjson~=3.0 in /opt/homebrew/anaconda3/lib/python3.11/site-packages (from gradio) (3.10.11)\n",
      "Requirement already satisfied: packaging in /opt/homebrew/anaconda3/lib/python3.11/site-packages (from gradio) (24.2)\n",
      "Requirement already satisfied: pandas<3.0,>=1.0 in /opt/homebrew/anaconda3/lib/python3.11/site-packages (from gradio) (2.2.3)\n",
      "Requirement already satisfied: pillow<12.0,>=8.0 in /opt/homebrew/anaconda3/lib/python3.11/site-packages (from gradio) (11.1.0)\n",
      "Requirement already satisfied: pydantic>=2.0 in /opt/homebrew/anaconda3/lib/python3.11/site-packages (from gradio) (2.10.6)\n",
      "Requirement already satisfied: pydub in /opt/homebrew/anaconda3/lib/python3.11/site-packages (from gradio) (0.25.1)\n",
      "Requirement already satisfied: python-multipart==0.0.12 in /opt/homebrew/anaconda3/lib/python3.11/site-packages (from gradio) (0.0.12)\n",
      "Requirement already satisfied: pyyaml<7.0,>=5.0 in /opt/homebrew/anaconda3/lib/python3.11/site-packages (from gradio) (6.0.2)\n",
      "Requirement already satisfied: ruff>=0.2.2 in /opt/homebrew/anaconda3/lib/python3.11/site-packages (from gradio) (0.6.7)\n",
      "Requirement already satisfied: safehttpx<1.0,>=0.1.1 in /opt/homebrew/anaconda3/lib/python3.11/site-packages (from gradio) (0.1.1)\n",
      "Requirement already satisfied: semantic-version~=2.0 in /opt/homebrew/anaconda3/lib/python3.11/site-packages (from gradio) (2.10.0)\n",
      "Requirement already satisfied: starlette<1.0,>=0.40.0 in /opt/homebrew/anaconda3/lib/python3.11/site-packages (from gradio) (0.41.3)\n",
      "Requirement already satisfied: tomlkit==0.12.0 in /opt/homebrew/anaconda3/lib/python3.11/site-packages (from gradio) (0.12.0)\n",
      "Requirement already satisfied: typer<1.0,>=0.12 in /opt/homebrew/anaconda3/lib/python3.11/site-packages (from gradio) (0.15.2)\n",
      "Requirement already satisfied: typing-extensions~=4.0 in /opt/homebrew/anaconda3/lib/python3.11/site-packages (from gradio) (4.12.2)\n",
      "Requirement already satisfied: uvicorn>=0.14.0 in /opt/homebrew/anaconda3/lib/python3.11/site-packages (from gradio) (0.30.6)\n",
      "Requirement already satisfied: fsspec in /opt/homebrew/anaconda3/lib/python3.11/site-packages (from gradio-client==1.4.3->gradio) (2024.3.1)\n",
      "Requirement already satisfied: websockets<13.0,>=10.0 in /opt/homebrew/anaconda3/lib/python3.11/site-packages (from gradio-client==1.4.3->gradio) (12.0)\n",
      "Requirement already satisfied: idna>=2.8 in /opt/homebrew/anaconda3/lib/python3.11/site-packages (from anyio<5.0,>=3.0->gradio) (3.10)\n",
      "Requirement already satisfied: sniffio>=1.1 in /opt/homebrew/anaconda3/lib/python3.11/site-packages (from anyio<5.0,>=3.0->gradio) (1.3.1)\n",
      "Requirement already satisfied: certifi in /opt/homebrew/anaconda3/lib/python3.11/site-packages (from httpx>=0.24.1->gradio) (2025.1.31)\n",
      "Requirement already satisfied: httpcore==1.* in /opt/homebrew/anaconda3/lib/python3.11/site-packages (from httpx>=0.24.1->gradio) (1.0.5)\n",
      "Requirement already satisfied: h11<0.15,>=0.13 in /opt/homebrew/anaconda3/lib/python3.11/site-packages (from httpcore==1.*->httpx>=0.24.1->gradio) (0.14.0)\n",
      "Requirement already satisfied: filelock in /opt/homebrew/anaconda3/lib/python3.11/site-packages (from huggingface-hub>=0.25.1->gradio) (3.16.1)\n",
      "Requirement already satisfied: requests in /opt/homebrew/anaconda3/lib/python3.11/site-packages (from huggingface-hub>=0.25.1->gradio) (2.32.3)\n",
      "Requirement already satisfied: tqdm>=4.42.1 in /opt/homebrew/anaconda3/lib/python3.11/site-packages (from huggingface-hub>=0.25.1->gradio) (4.66.5)\n",
      "Requirement already satisfied: python-dateutil>=2.8.2 in /opt/homebrew/anaconda3/lib/python3.11/site-packages (from pandas<3.0,>=1.0->gradio) (2.9.0.post0)\n",
      "Requirement already satisfied: pytz>=2020.1 in /opt/homebrew/anaconda3/lib/python3.11/site-packages (from pandas<3.0,>=1.0->gradio) (2025.1)\n",
      "Requirement already satisfied: tzdata>=2022.7 in /opt/homebrew/anaconda3/lib/python3.11/site-packages (from pandas<3.0,>=1.0->gradio) (2025.1)\n",
      "Requirement already satisfied: annotated-types>=0.6.0 in /opt/homebrew/anaconda3/lib/python3.11/site-packages (from pydantic>=2.0->gradio) (0.7.0)\n",
      "Requirement already satisfied: pydantic-core==2.27.2 in /opt/homebrew/anaconda3/lib/python3.11/site-packages (from pydantic>=2.0->gradio) (2.27.2)\n",
      "Requirement already satisfied: click>=8.0.0 in /opt/homebrew/anaconda3/lib/python3.11/site-packages (from typer<1.0,>=0.12->gradio) (8.1.8)\n",
      "Requirement already satisfied: shellingham>=1.3.0 in /opt/homebrew/anaconda3/lib/python3.11/site-packages (from typer<1.0,>=0.12->gradio) (1.5.4)\n",
      "Requirement already satisfied: rich>=10.11.0 in /opt/homebrew/anaconda3/lib/python3.11/site-packages (from typer<1.0,>=0.12->gradio) (13.9.4)\n",
      "Requirement already satisfied: six>=1.5 in /opt/homebrew/anaconda3/lib/python3.11/site-packages (from python-dateutil>=2.8.2->pandas<3.0,>=1.0->gradio) (1.17.0)\n",
      "Requirement already satisfied: markdown-it-py>=2.2.0 in /opt/homebrew/anaconda3/lib/python3.11/site-packages (from rich>=10.11.0->typer<1.0,>=0.12->gradio) (3.0.0)\n",
      "Requirement already satisfied: pygments<3.0.0,>=2.13.0 in /opt/homebrew/anaconda3/lib/python3.11/site-packages (from rich>=10.11.0->typer<1.0,>=0.12->gradio) (2.19.1)\n",
      "Requirement already satisfied: charset-normalizer<4,>=2 in /opt/homebrew/anaconda3/lib/python3.11/site-packages (from requests->huggingface-hub>=0.25.1->gradio) (3.4.1)\n",
      "Requirement already satisfied: urllib3<3,>=1.21.1 in /opt/homebrew/anaconda3/lib/python3.11/site-packages (from requests->huggingface-hub>=0.25.1->gradio) (2.3.0)\n",
      "Requirement already satisfied: mdurl~=0.1 in /opt/homebrew/anaconda3/lib/python3.11/site-packages (from markdown-it-py>=2.2.0->rich>=10.11.0->typer<1.0,>=0.12->gradio) (0.1.2)\n",
      "Using cached MarkupSafe-2.1.5-cp311-cp311-macosx_10_9_universal2.whl (18 kB)\n",
      "Installing collected packages: markupsafe\n",
      "  Attempting uninstall: markupsafe\n",
      "    Found existing installation: MarkupSafe 3.0.2\n",
      "    Uninstalling MarkupSafe-3.0.2:\n",
      "      Successfully uninstalled MarkupSafe-3.0.2\n",
      "\u001b[31mERROR: pip's dependency resolver does not currently take into account all the packages that are installed. This behaviour is the source of the following dependency conflicts.\n",
      "langflow 1.0.18 requires certifi<2025.0.0,>=2023.11.17, but you have certifi 2025.1.31 which is incompatible.\n",
      "langflow 1.0.18 requires chromadb<0.5,>=0.4, but you have chromadb 0.5.3 which is incompatible.\n",
      "langflow 1.0.18 requires crewai[tools]<0.37.0,>=0.36.0, but you have crewai 0.28.8 which is incompatible.\n",
      "langflow 1.0.18 requires huggingface-hub[inference]<0.24.0,>=0.23.2, but you have huggingface-hub 0.29.1 which is incompatible.\n",
      "langflow 1.0.18 requires langchain-chroma<0.2.0,>=0.1.1, but you have langchain-chroma 0.2.2 which is incompatible.\n",
      "langflow 1.0.18 requires langchain-groq==0.1.9, but you have langchain-groq 0.1.5 which is incompatible.\n",
      "langflow 1.0.18 requires langchain-openai==0.1.22, but you have langchain-openai 0.3.7 which is incompatible.\n",
      "langflow 1.0.18 requires pyarrow<15.0.0,>=14.0.0, but you have pyarrow 19.0.1 which is incompatible.\n",
      "flagembedding 1.3.2 requires datasets==2.19.0, but you have datasets 3.3.2 which is incompatible.\n",
      "flagembedding 1.3.2 requires transformers==4.44.2, but you have transformers 4.49.0 which is incompatible.\u001b[0m\u001b[31m\n",
      "\u001b[0mSuccessfully installed markupsafe-2.1.5\n"
     ]
    }
   ],
   "source": [
    "!pip install gradio"
   ]
  },
  {
   "cell_type": "code",
   "execution_count": 27,
   "metadata": {
    "id": "kuXuBCqI5Jhy"
   },
   "outputs": [
    {
     "name": "stdout",
     "output_type": "stream",
     "text": [
      "* Running on local URL:  http://127.0.0.1:7860\n",
      "\n",
      "To create a public link, set `share=True` in `launch()`.\n"
     ]
    },
    {
     "data": {
      "text/html": [
       "<div><iframe src=\"http://127.0.0.1:7860/\" width=\"100%\" height=\"500\" allow=\"autoplay; camera; microphone; clipboard-read; clipboard-write;\" frameborder=\"0\" allowfullscreen></iframe></div>"
      ],
      "text/plain": [
       "<IPython.core.display.HTML object>"
      ]
     },
     "metadata": {},
     "output_type": "display_data"
    },
    {
     "data": {
      "text/plain": []
     },
     "execution_count": 27,
     "metadata": {},
     "output_type": "execute_result"
    },
    {
     "name": "stdout",
     "output_type": "stream",
     "text": [
      "4\n",
      "https://n.news.naver.com/mnews/article/032/0003354348?sid=104\n",
      "https://n.news.naver.com/mnews/article/417/0001061918?sid=101\n",
      "https://n.news.naver.com/mnews/article/421/0008097859?sid=104\n",
      "https://n.news.naver.com/mnews/article/032/0003354246?sid=104\n",
      "7\n",
      "https://n.news.naver.com/mnews/article/032/0003354348?sid=104\n",
      "https://n.news.naver.com/mnews/article/417/0001061918?sid=101\n",
      "https://n.news.naver.com/mnews/article/421/0008097859?sid=104\n",
      "https://n.news.naver.com/mnews/article/032/0003354246?sid=104\n",
      "https://n.news.naver.com/mnews/article/215/0001200493?sid=004\n",
      "https://n.news.naver.com/mnews/article/009/0005453075?sid=101\n",
      "https://n.news.naver.com/mnews/article/003/0013078167?sid=101\n",
      "7\n",
      "https://n.news.naver.com/mnews/article/032/0003354348?sid=104\n",
      "https://n.news.naver.com/mnews/article/417/0001061918?sid=101\n",
      "https://n.news.naver.com/mnews/article/421/0008097859?sid=104\n",
      "https://n.news.naver.com/mnews/article/032/0003354246?sid=104\n",
      "https://n.news.naver.com/mnews/article/215/0001200493?sid=004\n",
      "https://n.news.naver.com/mnews/article/009/0005453075?sid=101\n",
      "https://n.news.naver.com/mnews/article/003/0013078167?sid=101\n"
     ]
    }
   ],
   "source": [
    "import gradio as gr\n",
    "\n",
    "def gradio_rag_interface(query, question, num_links):\n",
    "    try:\n",
    "        response = RAG(query, question, num_links)\n",
    "        return response\n",
    "    except Exception as e:\n",
    "        return f\"에러 발생: {str(e)}\"\n",
    "\n",
    "with gr.Blocks() as demo:\n",
    "    gr.Markdown(\"# 🔍 네이버 뉴스용 검색 증강 생성(RAG)\")\n",
    "    gr.Markdown(\n",
    "        \"\"\"\n",
    "        네이버 뉴스와 관련된 쿼리를 입력하면, 시스템이 관련 기사를 검색,\n",
    "        처리하고 검색된 정보를 기반으로 종합적인 답변을 생성합니다.\n",
    "        \"\"\"\n",
    "    )\n",
    "\n",
    "    with gr.Row():\n",
    "        query_input = gr.Textbox(\n",
    "            label=\"📄 쿼리 입력\",\n",
    "            placeholder=\"예: 최신 AI 기술 발전\",\n",
    "            lines=2\n",
    "        )\n",
    "        num_links_input = gr.Slider(\n",
    "            minimum=1,\n",
    "            maximum=20,\n",
    "            step=1,\n",
    "            value=5,\n",
    "            label=\"🔗 뉴스 링크 수\",\n",
    "            info=\"검색 및 처리할 뉴스 기사의 수를 선택하세요.\"\n",
    "        )\n",
    "        question_input = gr.Textbox(\n",
    "            label=\"❓ 질문 입력\",\n",
    "            placeholder=\"예: 퓨리오사 AI는 어떤 일을 했나요?\",\n",
    "            lines=2\n",
    "        )\n",
    "\n",
    "    submit_button = gr.Button(\"✅ 답변 생성\")\n",
    "\n",
    "    output_box = gr.Textbox(\n",
    "        label=\"📝 생성된 답변\",\n",
    "        placeholder=\"답변이 여기에 표시됩니다...\",\n",
    "        lines=10\n",
    "    )\n",
    "\n",
    "    # 버튼 클릭 이벤트 정의\n",
    "    submit_button.click(\n",
    "        fn=gradio_rag_interface,\n",
    "        inputs=[query_input, question_input, num_links_input],\n",
    "        outputs=output_box\n",
    "    )\n",
    "\n",
    "    gr.Markdown(\n",
    "        \"\"\"\n",
    "        ---\n",
    "        [Gradio](https://gradio.app/) 및 OpenAI의 GPT 모델을 사용하여 제작되었습니다.\n",
    "        \"\"\"\n",
    "    )\n",
    "\n",
    "\n",
    "demo.launch()"
   ]
  }
 ],
 "metadata": {
  "colab": {
   "provenance": []
  },
  "kernelspec": {
   "display_name": "LLM",
   "language": "python",
   "name": "python3"
  },
  "language_info": {
   "codemirror_mode": {
    "name": "ipython",
    "version": 3
   },
   "file_extension": ".py",
   "mimetype": "text/x-python",
   "name": "python",
   "nbconvert_exporter": "python",
   "pygments_lexer": "ipython3",
   "version": "3.10.16"
  }
 },
 "nbformat": 4,
 "nbformat_minor": 0
}
