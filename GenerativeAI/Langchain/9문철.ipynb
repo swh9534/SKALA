{
  "cells": [
    {
      "cell_type": "markdown",
      "metadata": {
        "id": "hck1mFI6gjvM"
      },
      "source": [
        "# [실습] LangChain과 멀티모달 모델을 활용한 교통사고 판결 모델 만들기"
      ]
    },
    {
      "cell_type": "code",
      "execution_count": 1,
      "metadata": {
        "id": "YXXoxsyQgjvU"
      },
      "outputs": [],
      "source": [
        "import base64\n",
        "from langchain_openai import ChatOpenAI\n",
        "from langchain_core.prompts import ChatPromptTemplate\n",
        "from langchain_core.output_parsers import StrOutputParser"
      ]
    },
    {
      "cell_type": "code",
      "execution_count": 2,
      "metadata": {
        "id": "EKrHfHLDgjvS"
      },
      "outputs": [],
      "source": [
        "import os\n",
        "from dotenv import load_dotenv\n",
        "from pathlib import Path\n",
        "\n",
        "env_path = Path(\"/Users/blueno/UNO/SKALA/SKALA/.env\")\n",
        "load_dotenv(dotenv_path=env_path, override=True)\n",
        "\n",
        "# 환경 변수 확인\n",
        "openai_api_key = os.getenv(\"OPENAI_API_KEY\")\n",
        "llm = ChatOpenAI(model=\"gpt-4o-mini\", max_tokens=1024)"
      ]
    },
    {
      "cell_type": "markdown",
      "metadata": {
        "id": "hwgXHrJpHNxq"
      },
      "source": [
        "이미지를 첨부하기 위해서는, base64 방식의 인코딩이 필요합니다."
      ]
    },
    {
      "cell_type": "code",
      "execution_count": 3,
      "metadata": {
        "id": "gLz8qg4sgjvV"
      },
      "outputs": [],
      "source": [
        "def encode_image(image_path):\n",
        "    with open(image_path, \"rb\") as image_file:\n",
        "        return base64.b64encode(image_file.read()).decode('utf-8')"
      ]
    },
    {
      "cell_type": "markdown",
      "metadata": {
        "id": "-UILR22TgjvV"
      },
      "source": [
        "## 1. 사고 상황 분석하기"
      ]
    },
    {
      "cell_type": "code",
      "execution_count": 21,
      "metadata": {
        "colab": {
          "base_uri": "https://localhost:8080/"
        },
        "id": "3RUR2rnvgjvW",
        "outputId": "f005838f-84a3-47ad-b1ed-ba62a253f625"
      },
      "outputs": [
        {
          "name": "stdout",
          "output_type": "stream",
          "text": [
            "```json\n",
            "{\n",
            "    \"accident_scale\": \"severe\",\n",
            "    \"description\": {\n",
            "        \"vehicle_positions\": [\"BMW 차량이 왼쪽에 위치\", \"택시 차량이 오른쪽에 위치하고 오른쪽 앞 부분이 파손됨\"],\n",
            "        \"likely_cause\": \"신호 위반이나 속도 초과\",\n",
            "        \"contributing_factors\": [\"교차로에서의 충돌\", \"차선 변경 불이행\"]\n",
            "    },\n",
            "    \"involved_vehicles\": 2,\n",
            "    \"inferred_scenario\": \"\"\n",
            "}\n",
            "```\n"
          ]
        }
      ],
      "source": [
        "image = encode_image(\"images/car.jpg\")\n",
        "\n",
        "accident_analysis_prompt = ChatPromptTemplate.from_messages([\n",
        "    ('system', \"\"\"You are an expert in traffic accident analysis. Given a single image of a traffic accident scene, analyze the following:\n",
        "    - Assess the scale of the accident (e.g., \"minor\", \"moderate\", \"severe\") based on the visible damage to the vehicle(s).\n",
        "    - Provide a detailed description of the accident situation, including the likely cause, the position(s) of the vehicle(s), and any contributing factors inferred from the image. Assume two vehicles are involved unless only one is clearly present.\n",
        "    - If only one vehicle is visible, infer the likely scenario involving another vehicle or object (e.g., a stationary object or road condition).\n",
        "\n",
        "    Respond in Korean, and structure your output as a JSON object with the following format:\n",
        "    {{\n",
        "        \"accident_scale\": \"<str>\" (\"minor\", \"moderate\", \"severe\"),\n",
        "        \"description\": {{\n",
        "            \"vehicle_positions\": [\"<str>\", ...],\n",
        "            \"likely_cause\": \"<str>\",\n",
        "            \"contributing_factors\": [\"<str>\", ...]\n",
        "        }},\n",
        "        \"involved_vehicles\": <int> (1 or 2),\n",
        "        \"inferred_scenario\": \"<str>\" (only if one vehicle is visible, otherwise \"\")\n",
        "    }}\n",
        "    Return the response strictly in JSON format, with no additional text outside the JSON structure.\"\"\"),\n",
        "    ('user', [\n",
        "        {\"type\": \"image_url\", \"image_url\": {\"url\": \"data:image/jpeg;base64,{image}\"}}\n",
        "    ])\n",
        "])\n",
        "\n",
        "list_chain = accident_analysis_prompt | llm | StrOutputParser()\n",
        "\n",
        "accident_result = list_chain.invoke({'image':image})\n",
        "\n",
        "print(accident_result)"
      ]
    },
    {
      "cell_type": "markdown",
      "metadata": {
        "id": "mENDwApugjvW"
      },
      "source": [
        "## 2. 예상 견적 도출"
      ]
    },
    {
      "cell_type": "code",
      "execution_count": 22,
      "metadata": {
        "id": "qKYycoDjgjvX"
      },
      "outputs": [],
      "source": [
        "accident_cost_estimation_prompt = ChatPromptTemplate.from_messages([\n",
        "    ('system', \"\"\"You are an expert in traffic accident analysis, insurance estimation, and legal consequences in South Korea. Based on the accident analysis provided below, evaluate the following for each vehicle involved:\n",
        "    - Repair Cost: Estimate the repair cost in KRW based on the extent of damage (e.g., minor: 500000-2000000, moderate: 2000000-5000000, severe: 5000000+).\n",
        "    - Insurance Premium Increase: Predict the percentage increase in insurance premiums based on fault and damage (e.g., 10-50).\n",
        "    - Fault Percentage: Assign a quantitative fault percentage (e.g., 30 for 30:70) based on the accident situation.\n",
        "    - Criminal Liability: Assess the likelihood of criminal charges under Korean law (e.g., \"low\", \"moderate\", \"high\") and specify potential penalties (e.g., fine in KRW, license suspension duration in months).\n",
        "    - Insurance Claim Process: Provide a step-by-step guide on how to file an insurance claim in South Korea, including required documents and expected processing time.\n",
        "    - Legal Actions After the Accident: Explain possible legal actions that can be taken after the accident, including civil lawsuits, mediation options, and how to challenge an insurance company's decision.\n",
        "\n",
        "    Provide two estimations labeled as \"vehicle_a\" and \"vehicle_b\" (if only one vehicle is present, estimate for that vehicle and infer the other party). Respond in Korean, and structure your output as a JSON object with the following format:\n",
        "    {{\n",
        "        \"vehicle_a\": {{\n",
        "            \"repair_cost\": <int>,\n",
        "            \"premium_increase\": <int>,\n",
        "            \"fault_percentage\": <int>,\n",
        "            \"criminal_liability\": {{\n",
        "                \"likelihood\": \"<str>\" (\"low\", \"moderate\", \"high\"),\n",
        "                \"fine\": <int>,\n",
        "                \"license_suspension_months\": <int>\n",
        "            }},\n",
        "            \"insurance_claim_process\": [\"<str>\", ...],\n",
        "            \"legal_actions\": [\"<str>\", ...]\n",
        "        }},\n",
        "        \"vehicle_b\": {{\n",
        "            \"repair_cost\": <int>,\n",
        "            \"premium_increase\": <int>,\n",
        "            \"fault_percentage\": <int>,\n",
        "            \"criminal_liability\": {{\n",
        "                \"likelihood\": \"<str>\" (\"low\", \"moderate\", \"high\"),\n",
        "                \"fine\": <int>,\n",
        "                \"license_suspension_months\": <int>\n",
        "            }},\n",
        "            \"insurance_claim_process\": [\"<str>\", ...],\n",
        "            \"legal_actions\": [\"<str>\", ...]\n",
        "        }}\n",
        "    }}\n",
        "    Return the response strictly in JSON format, with no additional text outside the JSON structure.\"\"\"),\n",
        "    ('user', \"Accident Analysis: {accident_analysis}\")\n",
        "])\n",
        "\n",
        "accident_cost_estimation_chain = accident_cost_estimation_prompt | llm | StrOutputParser()"
      ]
    },
    {
      "cell_type": "code",
      "execution_count": 23,
      "metadata": {},
      "outputs": [
        {
          "name": "stdout",
          "output_type": "stream",
          "text": [
            "```json\n",
            "{\n",
            "    \"vehicle_a\": {\n",
            "        \"repair_cost\": 8000000,\n",
            "        \"premium_increase\": 50,\n",
            "        \"fault_percentage\": 70,\n",
            "        \"criminal_liability\": {\n",
            "            \"likelihood\": \"high\",\n",
            "            \"fine\": 200000,\n",
            "            \"license_suspension_months\": 6\n",
            "        },\n",
            "        \"insurance_claim_process\": [\n",
            "            \"사고 발생 후 즉시 보험사에 연락하기\",\n",
            "            \"사고 접수 및 사고 상황 설명\",\n",
            "            \"필요한 서류 준비: 사고 사진, 경찰 보고서, 개인 신분증\",\n",
            "            \"보험 청구서 작성 및 제출\",\n",
            "            \"보험사에서 접수 후 처리 기간은 대개 1~2개월 소요\"\n",
            "        ],\n",
            "        \"legal_actions\": [\n",
            "            \"민사 소송 제기 가능\",\n",
            "            \"보상에 대한 중재 신청\",\n",
            "            \"보험사의 결정에 이의 제기\"\n",
            "        ]\n",
            "    },\n",
            "    \"vehicle_b\": {\n",
            "        \"repair_cost\": 3500000,\n",
            "        \"premium_increase\": 30,\n",
            "        \"fault_percentage\": 30,\n",
            "        \"criminal_liability\": {\n",
            "            \"likelihood\": \"moderate\",\n",
            "            \"fine\": 100000,\n",
            "            \"license_suspension_months\": 3\n",
            "        },\n",
            "        \"insurance_claim_process\": [\n",
            "            \"사고 발생 후 즉시 보험사에 연락하기\",\n",
            "            \"사고 접수 및 사고 상황 설명\",\n",
            "            \"필요한 서류 준비: 사고 사진, 경찰 보고서, 개인 신분증\",\n",
            "            \"보험 청구서 작성 및 제출\",\n",
            "            \"보험사에서 접수 후 처리 기간은 대개 1~2개월 소요\"\n",
            "        ],\n",
            "        \"legal_actions\": [\n",
            "            \"민사 소송 제기 가능\",\n",
            "            \"보상에 대한 중재 신청\",\n",
            "            \"보험사의 결정에 이의 제기\"\n",
            "        ]\n",
            "    }\n",
            "}\n",
            "```\n"
          ]
        }
      ],
      "source": [
        "# LLM과 체인 설정\n",
        "accident_analysis_chain = accident_analysis_prompt | llm | StrOutputParser()\n",
        "accident_cost_estimation_chain = accident_cost_estimation_prompt | llm | StrOutputParser()\n",
        "\n",
        "# 1. 사고 분석 실행\n",
        "analysis_result = accident_analysis_chain.invoke({\"image\": image})\n",
        "\n",
        "# 2. 견적 계산 단계\n",
        "estimation_result = accident_cost_estimation_chain.invoke({\"accident_analysis\": analysis_result})\n",
        "\n",
        "# 결과 출력\n",
        "print(estimation_result)"
      ]
    },
    {
      "cell_type": "markdown",
      "metadata": {
        "id": "_xtrI12PHg-Z"
      },
      "source": [
        "## [실습] RunnableParallel.assign으로 중간 과정 보기\n",
        "\n",
        "두 체인을 연결하여, 한 번의 실행으로 두 체인의 결과를 모두 확인할 수 있도록 만들어 보세요."
      ]
    },
    {
      "cell_type": "code",
      "execution_count": 24,
      "metadata": {
        "colab": {
          "base_uri": "https://localhost:8080/"
        },
        "id": "HNqQ6c8ogjvZ",
        "outputId": "3d73c0d1-8215-4e3f-f64a-1148592c6b0d"
      },
      "outputs": [
        {
          "name": "stdout",
          "output_type": "stream",
          "text": [
            "\n",
            "🚗 **교통사고 분석 결과** 📄\n",
            "\n",
            "```json\n",
            "{\n",
            "    \"accident_scale\": \"severe\",\n",
            "    \"description\": {\n",
            "        \"vehicle_positions\": [\"다른 차의 앞쪽에 충돌한 택시\", \"충돌하고 있는 BMW\"],\n",
            "        \"likely_cause\": \"신호 대기 중 서로의 주의 부족\",\n",
            "        \"contributing_factors\": [\"교차로\", \"운전자의 방심\", \"차량 속도\"]\n",
            "    },\n",
            "    \"involved_vehicles\": 2,\n",
            "    \"inferred_scenario\": \"\"\n",
            "}\n",
            "```\n",
            "\n",
            "💰 **사고 견적 및 법적 대응** 📄\n",
            "\n",
            "```json\n",
            "{\n",
            "    \"vehicle_a\": {\n",
            "        \"repair_cost\": 6000000,\n",
            "        \"premium_increase\": 40,\n",
            "        \"fault_percentage\": 50,\n",
            "        \"criminal_liability\": {\n",
            "            \"likelihood\": \"moderate\",\n",
            "            \"fine\": 300000,\n",
            "            \"license_suspension_months\": 3\n",
            "        },\n",
            "        \"insurance_claim_process\": [\n",
            "            \"보험사에 사고 신고\",\n",
            "            \"사고 경위서 작성\",\n",
            "            \"손해사정사와 상담\",\n",
            "            \"수리 견적서 제출\",\n",
            "            \"보험금 청구서 작성 및 제출\",\n",
            "            \"보험사로부터의 지급 결정 대기\"\n",
            "        ],\n",
            "        \"legal_actions\": [\n",
            "            \"민사소송 제기\",\n",
            "            \"합의 중재 신청\",\n",
            "            \"보험사 결정에 대한 이의 제기\"\n",
            "        ]\n",
            "    },\n",
            "    \"vehicle_b\": {\n",
            "        \"repair_cost\": 6000000,\n",
            "        \"premium_increase\": 40,\n",
            "        \"fault_percentage\": 50,\n",
            "        \"criminal_liability\": {\n",
            "            \"likelihood\": \"moderate\",\n",
            "            \"fine\": 300000,\n",
            "            \"license_suspension_months\": 3\n",
            "        },\n",
            "        \"insurance_claim_process\": [\n",
            "            \"보험사에 사고 신고\",\n",
            "            \"사고 경위서 작성\",\n",
            "            \"손해사정사와 상담\",\n",
            "            \"수리 견적서 제출\",\n",
            "            \"보험금 청구서 작성 및 제출\",\n",
            "            \"보험사로부터의 지급 결정 대기\"\n",
            "        ],\n",
            "        \"legal_actions\": [\n",
            "            \"민사소송 제기\",\n",
            "            \"합의 중재 신청\",\n",
            "            \"보험사 결정에 대한 이의 제기\"\n",
            "        ]\n",
            "    }\n",
            "}\n",
            "```\n"
          ]
        }
      ],
      "source": [
        "from langchain_core.runnables import RunnableParallel\n",
        "\n",
        "# LLM 체인 설정\n",
        "accident_analysis_chain = accident_analysis_prompt | llm | StrOutputParser()\n",
        "accident_cost_estimation_chain = accident_cost_estimation_prompt | llm | StrOutputParser()\n",
        "\n",
        "# 사고 분석 실행\n",
        "analysis_result = accident_analysis_chain.invoke({\"image\": image})\n",
        "\n",
        "# 병렬 실행을 통한 사고 비용 견적\n",
        "chain = RunnableParallel(\n",
        "    analysis_result=lambda _: analysis_result,\n",
        "    estimation_result=lambda _: accident_cost_estimation_chain.invoke({\"accident_analysis\": analysis_result})\n",
        ")\n",
        "\n",
        "result = chain.invoke({})\n",
        "\n",
        "# 결과 출력\n",
        "print(\"\\n🚗 **교통사고 분석 결과** 📄\\n\")\n",
        "print(result[\"analysis_result\"])\n",
        "print(\"\\n💰 **사고 견적 및 법적 대응** 📄\\n\")\n",
        "print(result[\"estimation_result\"])"
      ]
    },
    {
      "cell_type": "markdown",
      "metadata": {
        "id": "kIZ4ifjugjvZ"
      },
      "source": [
        "## 3. 그래프,차트 생성하기\n"
      ]
    },
    {
      "cell_type": "code",
      "execution_count": 34,
      "metadata": {},
      "outputs": [
        {
          "name": "stdout",
          "output_type": "stream",
          "text": [
            "\n",
            "🚗 **교통사고 분석 결과** 📄\n",
            "\n",
            "{\n",
            "  \"accident_scale\": \"severe\",\n",
            "  \"description\": {\n",
            "    \"vehicle_positions\": [\n",
            "      \"black BMW on the left\",\n",
            "      \"black taxi on the right with a damaged front\"\n",
            "    ],\n",
            "    \"likely_cause\": \"collision at an intersection, possibly due to a failure to yield or running a red light\",\n",
            "    \"contributing_factors\": [\n",
            "      \"poor visibility\",\n",
            "      \"traffic signal condition\",\n",
            "      \"driver distraction\"\n",
            "    ]\n",
            "  },\n",
            "  \"involved_vehicles\": 2,\n",
            "  \"inferred_scenario\": \"\"\n",
            "}\n",
            "\n",
            "💰 **사고 견적 및 법적 대응** 📄\n",
            "\n",
            "{\n",
            "  \"vehicle_a\": {\n",
            "    \"repair_cost\": 6000000,\n",
            "    \"premium_increase\": 40,\n",
            "    \"fault_percentage\": 70,\n",
            "    \"criminal_liability\": {\n",
            "      \"likelihood\": \"high\",\n",
            "      \"fine\": 500000,\n",
            "      \"license_suspension_months\": 6\n",
            "    },\n",
            "    \"insurance_claim_process\": [\n",
            "      \"사고 현장 사진 찍기\",\n",
            "      \"보험사에 사고 신고하기\",\n",
            "      \"사고 경위서 작성하기\",\n",
            "      \"사고 당시의 목격자 진술 확보하기\",\n",
            "      \"진단서 및 수리 견적서 제출하기\",\n",
            "      \"보험사에서의 사고 조사 기다리기\",\n",
            "      \"보상금 지급 받기\"\n",
            "    ],\n",
            "    \"legal_actions\": [\n",
            "      \"민사소송 제기하기\",\n",
            "      \"보험사 결정에 이의신청하기\",\n",
            "      \"조정 절차 신청하기\"\n",
            "    ]\n",
            "  },\n",
            "  \"vehicle_b\": {\n",
            "    \"repair_cost\": 3000000,\n",
            "    \"premium_increase\": 20,\n",
            "    \"fault_percentage\": 30,\n",
            "    \"criminal_liability\": {\n",
            "      \"likelihood\": \"moderate\",\n",
            "      \"fine\": 300000,\n",
            "      \"license_suspension_months\": 3\n",
            "    },\n",
            "    \"insurance_claim_process\": [\n",
            "      \"사고 현장 사진 찍기\",\n",
            "      \"보험사에 사고 신고하기\",\n",
            "      \"사고 경위서 작성하기\",\n",
            "      \"사고 당시의 목격자 진술 확보하기\",\n",
            "      \"진단서 및 수리 견적서 제출하기\",\n",
            "      \"보험사에서의 사고 조사 기다리기\",\n",
            "      \"보상금 지급 받기\"\n",
            "    ],\n",
            "    \"legal_actions\": [\n",
            "      \"민사소송 제기하기\",\n",
            "      \"보험사 결정에 이의신청하기\",\n",
            "      \"조정 절차 신청하기\"\n",
            "    ]\n",
            "  }\n",
            "}\n",
            "DEBUG - Analysis Result: {'accident_scale': 'severe', 'description': {'vehicle_positions': ['black BMW on the left', 'black taxi on the right with a damaged front'], 'likely_cause': 'collision at an intersection, possibly due to a failure to yield or running a red light', 'contributing_factors': ['poor visibility', 'traffic signal condition', 'driver distraction']}, 'involved_vehicles': 2, 'inferred_scenario': ''}\n",
            "DEBUG - Estimation Result: {'vehicle_a': {'repair_cost': 6000000, 'premium_increase': 40, 'fault_percentage': 70, 'criminal_liability': {'likelihood': 'high', 'fine': 500000, 'license_suspension_months': 6}, 'insurance_claim_process': ['사고 현장 사진 찍기', '보험사에 사고 신고하기', '사고 경위서 작성하기', '사고 당시의 목격자 진술 확보하기', '진단서 및 수리 견적서 제출하기', '보험사에서의 사고 조사 기다리기', '보상금 지급 받기'], 'legal_actions': ['민사소송 제기하기', '보험사 결정에 이의신청하기', '조정 절차 신청하기']}, 'vehicle_b': {'repair_cost': 3000000, 'premium_increase': 20, 'fault_percentage': 30, 'criminal_liability': {'likelihood': 'moderate', 'fine': 300000, 'license_suspension_months': 3}, 'insurance_claim_process': ['사고 현장 사진 찍기', '보험사에 사고 신고하기', '사고 경위서 작성하기', '사고 당시의 목격자 진술 확보하기', '진단서 및 수리 견적서 제출하기', '보험사에서의 사고 조사 기다리기', '보상금 지급 받기'], 'legal_actions': ['민사소송 제기하기', '보험사 결정에 이의신청하기', '조정 절차 신청하기']}}\n"
          ]
        },
        {
          "name": "stderr",
          "output_type": "stream",
          "text": [
            "/var/folders/fn/7bjmjvmn2d30b47j1yfz_5jm0000gn/T/ipykernel_6195/2981047550.py:39: UserWarning: FigureCanvasAgg is non-interactive, and thus cannot be shown\n",
            "  plt.show()\n",
            "/var/folders/fn/7bjmjvmn2d30b47j1yfz_5jm0000gn/T/ipykernel_6195/2981047550.py:49: UserWarning: FigureCanvasAgg is non-interactive, and thus cannot be shown\n",
            "  plt.show()\n",
            "/var/folders/fn/7bjmjvmn2d30b47j1yfz_5jm0000gn/T/ipykernel_6195/2981047550.py:70: UserWarning: FigureCanvasAgg is non-interactive, and thus cannot be shown\n",
            "  plt.show()\n"
          ]
        },
        {
          "data": {
            "image/png": "[encoded data removed]",
            "text/plain": [
              "<Figure size 800x400 with 1 Axes>"
            ]
          },
          "metadata": {},
          "output_type": "display_data"
        },
        {
          "data": {
            "image/png": "[encoded data removed]",
            "text/plain": [
              "<Figure size 1000x500 with 1 Axes>"
            ]
          },
          "metadata": {},
          "output_type": "display_data"
        },
        {
          "data": {
            "image/png": "[encoded data removed]",
            "text/plain": [
              "<Figure size 1000x500 with 2 Axes>"
            ]
          },
          "metadata": {},
          "output_type": "display_data"
        }
      ],
      "source": [
        "import json\n",
        "from langchain_core.output_parsers import JsonOutputParser\n",
        "import matplotlib.pyplot as plt\n",
        "from langchain_core.runnables import RunnableParallel\n",
        "\n",
        "# 데이터 파싱 함수\n",
        "def parse_data(analysis_result, estimation_result):\n",
        "    print(\"DEBUG - Analysis Result:\", analysis_result)\n",
        "    print(\"DEBUG - Estimation Result:\", estimation_result)\n",
        "\n",
        "    scale = analysis_result[\"accident_scale\"]\n",
        "    data = {\n",
        "        \"repair_cost\": [\n",
        "            estimation_result[\"vehicle_a\"][\"repair_cost\"],\n",
        "            estimation_result[\"vehicle_b\"][\"repair_cost\"]\n",
        "        ],\n",
        "        \"premium_increase\": [\n",
        "            estimation_result[\"vehicle_a\"][\"premium_increase\"],\n",
        "            estimation_result[\"vehicle_b\"][\"premium_increase\"]\n",
        "        ],\n",
        "        \"fault_percentage\": [\n",
        "            estimation_result[\"vehicle_a\"][\"fault_percentage\"],\n",
        "            estimation_result[\"vehicle_b\"][\"fault_percentage\"]\n",
        "        ]\n",
        "    }\n",
        "    return scale, data\n",
        "\n",
        "# 그래프 그리기 함수\n",
        "def plot_results(analysis_result, estimation_result):\n",
        "    scale, data = parse_data(analysis_result, estimation_result)\n",
        "    vehicles = [\"차량 A\", \"차량 B\"]\n",
        "\n",
        "    # 1. 사고 규모 막대 그래프\n",
        "    plt.figure(figsize=(8, 4))\n",
        "    plt.bar([\"사고 규모\"], [1], color=\"skyblue\")\n",
        "    plt.title(\"교통사고 규모\", fontsize=14)\n",
        "    plt.text(0, 0.5, scale, ha=\"center\", fontsize=12)\n",
        "    plt.ylim(0, 1.5)\n",
        "    plt.ylabel(\"임의 단위\")\n",
        "    plt.show()\n",
        "\n",
        "    # 2. 차량별 수리 비용 막대 그래프\n",
        "    plt.figure(figsize=(10, 5))\n",
        "    plt.bar(vehicles, data[\"repair_cost\"], color=[\"lightgreen\", \"salmon\"])\n",
        "    plt.title(\"차량별 수리 비용 (KRW)\", fontsize=14)\n",
        "    for i, v in enumerate(data[\"repair_cost\"]):\n",
        "        plt.text(i, v + 100000, f\"₩{v:,}\", ha=\"center\", fontsize=12)\n",
        "    plt.ylim(0, max(data[\"repair_cost\"]) * 1.5 if max(data[\"repair_cost\"]) > 0 else 1000000)\n",
        "    plt.ylabel(\"수리 비용 (₩)\")\n",
        "    plt.show()\n",
        "\n",
        "    # 3. 보험료 증가율과 과실 비율 비교\n",
        "    fig, ax1 = plt.subplots(figsize=(10, 5))\n",
        "    ax1.bar(vehicles, data[\"premium_increase\"], color=\"lightblue\", alpha=0.6, label=\"보험료 증가율 (%)\")\n",
        "    ax1.set_ylabel(\"보험료 증가율 (%)\", color=\"blue\")\n",
        "    ax1.tick_params(axis=\"y\", labelcolor=\"blue\")\n",
        "    ax1.set_ylim(0, 100)\n",
        "    for i, v in enumerate(data[\"premium_increase\"]):\n",
        "        ax1.text(i, v + 1, f\"{v}%\", ha=\"center\", fontsize=12)\n",
        "\n",
        "    ax2 = ax1.twinx()\n",
        "    ax2.plot(vehicles, data[\"fault_percentage\"], color=\"red\", marker=\"o\", label=\"과실 비율 (%)\")\n",
        "    ax2.set_ylabel(\"과실 비율 (%)\", color=\"red\")\n",
        "    ax2.tick_params(axis=\"y\", labelcolor=\"red\")\n",
        "    ax2.set_ylim(0, 100)\n",
        "    for i, v in enumerate(data[\"fault_percentage\"]):\n",
        "        ax2.text(i, v + 1, f\"{v}%\", ha=\"center\", fontsize=12)\n",
        "\n",
        "    plt.title(\"차량별 보험료 증가율과 과실 비율\", fontsize=14)\n",
        "    fig.legend(loc=\"upper center\", bbox_to_anchor=(0.5, -0.05), ncol=2)\n",
        "    plt.show()\n",
        "\n",
        "# LLM과 체인 설정\n",
        "accident_analysis_chain = accident_analysis_prompt | llm | JsonOutputParser()\n",
        "accident_cost_estimation_chain = accident_cost_estimation_prompt | llm | JsonOutputParser()\n",
        "\n",
        "# 1. 사고 분석 실행\n",
        "analysis_result = accident_analysis_chain.invoke({\"image\": image})\n",
        "\n",
        "# 2. 병렬 실행 설정\n",
        "chain = RunnableParallel(\n",
        "    analysis_result=lambda _: analysis_result,\n",
        "    estimation_result=lambda _: accident_cost_estimation_chain.invoke({\"accident_analysis\": json.dumps(analysis_result)})\n",
        ")\n",
        "\n",
        "# 3. 결과 받아오기\n",
        "result = chain.invoke({})\n",
        "\n",
        "# 4. 결과 출력\n",
        "print(\"\\n🚗 **교통사고 분석 결과** 📄\\n\")\n",
        "print(json.dumps(result[\"analysis_result\"], ensure_ascii=False, indent=2))\n",
        "print(\"\\n💰 **사고 견적 및 법적 대응** 📄\\n\")\n",
        "print(json.dumps(result[\"estimation_result\"], ensure_ascii=False, indent=2))\n",
        "\n",
        "# 5. 그래프 그리기\n",
        "plot_results(result[\"analysis_result\"], result[\"estimation_result\"])"
      ]
    },
    {
      "cell_type": "markdown",
      "metadata": {},
      "source": [
        "## [최종] Gradio로 서비스 제작"
      ]
    },
    {
      "cell_type": "code",
      "execution_count": 35,
      "metadata": {},
      "outputs": [
        {
          "name": "stdout",
          "output_type": "stream",
          "text": [
            "* Running on local URL:  http://127.0.0.1:7865\n",
            "\n",
            "To create a public link, set `share=True` in `launch()`.\n"
          ]
        },
        {
          "data": {
            "text/html": [
              "<div><iframe src=\"http://127.0.0.1:7865/\" width=\"100%\" height=\"500\" allow=\"autoplay; camera; microphone; clipboard-read; clipboard-write;\" frameborder=\"0\" allowfullscreen></iframe></div>"
            ],
            "text/plain": [
              "<IPython.core.display.HTML object>"
            ]
          },
          "metadata": {},
          "output_type": "display_data"
        },
        {
          "data": {
            "text/plain": []
          },
          "execution_count": 35,
          "metadata": {},
          "output_type": "execute_result"
        }
      ],
      "source": [
        "import gradio as gr\n",
        "from langchain_core.output_parsers import StrOutputParser\n",
        "from langchain_core.runnables import RunnableParallel\n",
        "import matplotlib.pyplot as plt\n",
        "from matplotlib import font_manager, rc\n",
        "import json\n",
        "\n",
        "# 한글 폰트 설정\n",
        "font_path = \"/System/Library/Fonts/AppleSDGothicNeo.ttc\"\n",
        "font = font_manager.FontProperties(fname=font_path).get_name()\n",
        "rc('font', family=font)\n",
        "\n",
        "# 레포트 생성 체인 추가\n",
        "report_generation_prompt = ChatPromptTemplate.from_messages([\n",
        "    ('system', \"\"\"You are an expert in generating concise traffic accident reports in Korean. Based on the accident analysis and cost estimation provided below, create a single report summarizing the findings in a clear, structured format. Include the following sections:\n",
        "    - 사고 개요: 사고 규모와 간단한 설명 (분석 결과 기반).\n",
        "    - 차량별 분석:\n",
        "      - 차량 A: 수리 비용, 보험료 증가율, 과실 비율, 형사 책임 (가능성, 벌금, 면허 정지 기간).\n",
        "      - 차량 B: 수리 비용, 보험료 증가율, 과실 비율, 형사 책임 (가능성, 벌금, 면허 정지 기간).\n",
        "    - 보험 청구 절차: 공통 절차 요약 (차량 A와 B의 절차가 동일하다고 가정).\n",
        "    - 법적 조치: 가능한 조치 요약 (차량 A와 B의 조치를 통합).\n",
        "\n",
        "    Ensure that both \"vehicle_a\" and \"vehicle_b\" from the cost estimation are fully reflected in the report. Respond in Korean, and structure your output as a plain text report with clear section headers. Do not include JSON or additional explanations beyond the report.\"\"\"),\n",
        "    ('user', \"Accident Analysis: {analysis_result}\\nCost Estimation: {estimation_result}\")\n",
        "])\n",
        "\n",
        "report_generation_chain = report_generation_prompt | llm | StrOutputParser()\n",
        "\n",
        "# 데이터 처리 및 Gradio 출력 함수\n",
        "def process_accident(image):\n",
        "    # 이미지 인코딩\n",
        "    encoded_image = encode_image(image)\n",
        "\n",
        "    # 사고 분석 실행\n",
        "    analysis_result = accident_analysis_chain.invoke({\"image\": encoded_image})\n",
        "\n",
        "    # 병렬 실행 설정\n",
        "    chain = RunnableParallel(\n",
        "        analysis_result=lambda _: analysis_result,\n",
        "        estimation_result=lambda _: accident_cost_estimation_chain.invoke({\"accident_analysis\": json.dumps(analysis_result)})\n",
        "    )\n",
        "    result = chain.invoke({})\n",
        "\n",
        "    # 레포트 생성\n",
        "    report = report_generation_chain.invoke({\n",
        "        \"analysis_result\": json.dumps(result[\"analysis_result\"]),\n",
        "        \"estimation_result\": json.dumps(result[\"estimation_result\"])\n",
        "    })\n",
        "\n",
        "    # 그래프 생성\n",
        "    scale = result[\"analysis_result\"][\"accident_scale\"]\n",
        "    data = {\n",
        "        \"repair_cost\": [\n",
        "            result[\"estimation_result\"][\"vehicle_a\"][\"repair_cost\"],\n",
        "            result[\"estimation_result\"][\"vehicle_b\"][\"repair_cost\"]\n",
        "        ],\n",
        "        \"premium_increase\": [\n",
        "            result[\"estimation_result\"][\"vehicle_a\"][\"premium_increase\"],\n",
        "            result[\"estimation_result\"][\"vehicle_b\"][\"premium_increase\"]\n",
        "        ],\n",
        "        \"fault_percentage\": [\n",
        "            result[\"estimation_result\"][\"vehicle_a\"][\"fault_percentage\"],\n",
        "            result[\"estimation_result\"][\"vehicle_b\"][\"fault_percentage\"]\n",
        "        ]\n",
        "    }\n",
        "    vehicles = [\"차량 A\", \"차량 B\"]\n",
        "\n",
        "    # 그래프 1: 사고 규모\n",
        "    plt.figure(figsize=(8, 4))\n",
        "    plt.bar([\"사고 규모\"], [1], color=\"skyblue\")\n",
        "    plt.title(\"교통사고 규모\", fontsize=14)\n",
        "    plt.text(0, 0.5, scale, ha=\"center\", fontsize=12)\n",
        "    plt.ylim(0, 1.5)\n",
        "    plt.ylabel(\"임의 단위\")\n",
        "    plt.savefig(\"accident_scale.png\")\n",
        "    plt.close()\n",
        "\n",
        "    # 그래프 2: 수리 비용\n",
        "    plt.figure(figsize=(10, 5))\n",
        "    plt.bar(vehicles, data[\"repair_cost\"], color=[\"lightgreen\", \"salmon\"])\n",
        "    plt.title(\"차량별 수리 비용 (KRW)\", fontsize=14)\n",
        "    for i, v in enumerate(data[\"repair_cost\"]):\n",
        "        plt.text(i, v + 100000, f\"₩{v:,}\", ha=\"center\", fontsize=12)\n",
        "    plt.ylim(0, max(data[\"repair_cost\"]) * 1.5 if max(data[\"repair_cost\"]) > 0 else 1000000)\n",
        "    plt.ylabel(\"수리 비용 (₩)\")\n",
        "    plt.savefig(\"repair_cost.png\")\n",
        "    plt.close()\n",
        "\n",
        "    # 그래프 3: 보험료 증가율과 과실 비율\n",
        "    fig, ax1 = plt.subplots(figsize=(10, 5))\n",
        "    ax1.bar(vehicles, data[\"premium_increase\"], color=\"lightblue\", alpha=0.6, label=\"보험료 증가율 (%)\")\n",
        "    ax1.set_ylabel(\"보험료 증가율 (%)\", color=\"blue\")\n",
        "    ax1.tick_params(axis=\"y\", labelcolor=\"blue\")\n",
        "    ax1.set_ylim(0, 100)\n",
        "    for i, v in enumerate(data[\"premium_increase\"]):\n",
        "        ax1.text(i, v + 1, f\"{v}%\", ha=\"center\", fontsize=12)\n",
        "\n",
        "    ax2 = ax1.twinx()\n",
        "    ax2.plot(vehicles, data[\"fault_percentage\"], color=\"red\", marker=\"o\", label=\"과실 비율 (%)\")\n",
        "    ax2.set_ylabel(\"과실 비율 (%)\", color=\"red\")\n",
        "    ax2.tick_params(axis=\"y\", labelcolor=\"red\")\n",
        "    ax2.set_ylim(0, 100)\n",
        "    for i, v in enumerate(data[\"fault_percentage\"]):\n",
        "        ax2.text(i, v + 1, f\"{v}%\", ha=\"center\", fontsize=12)\n",
        "\n",
        "    plt.title(\"차량별 보험료 증가율과 과실 비율\", fontsize=14)\n",
        "    fig.legend(loc=\"upper center\", bbox_to_anchor=(0.5, -0.05), ncol=2)\n",
        "    plt.savefig(\"premium_fault.png\")\n",
        "    plt.close()\n",
        "\n",
        "    return report, \"accident_scale.png\", \"repair_cost.png\", \"premium_fault.png\"\n",
        "\n",
        "# Gradio 인터페이스\n",
        "with gr.Blocks(title=\"교통사고 분석기\") as demo:\n",
        "    gr.Markdown(\"# 교통사고 분석기\")\n",
        "    gr.Markdown(\"사고 이미지를 업로드하면 최종 레포트와 그래프를 확인할 수 있습니다.\")\n",
        "    \n",
        "    with gr.Row():\n",
        "        with gr.Column():\n",
        "            image_input = gr.Image(type=\"pil\", label=\"사고 이미지 업로드\")\n",
        "            submit_btn = gr.Button(\"분석 시작\")\n",
        "        with gr.Column():\n",
        "            report_output = gr.Textbox(label=\"최종 사고 레포트\", lines=15)\n",
        "    \n",
        "    with gr.Row():\n",
        "        scale_plot = gr.Image(label=\"사고 규모\")\n",
        "        repair_plot = gr.Image(label=\"수리 비용\")\n",
        "        premium_fault_plot = gr.Image(label=\"보험료 증가율과 과실 비율\")\n",
        "\n",
        "    submit_btn.click(\n",
        "        fn=process_accident,\n",
        "        inputs=image_input,\n",
        "        outputs=[report_output, scale_plot, repair_plot, premium_fault_plot]\n",
        "    )\n",
        "\n",
        "demo.launch()"
      ]
    }
  ],
  "metadata": {
    "colab": {
      "provenance": []
    },
    "kernelspec": {
      "display_name": "LLM",
      "language": "python",
      "name": "python3"
    },
    "language_info": {
      "codemirror_mode": {
        "name": "ipython",
        "version": 3
      },
      "file_extension": ".py",
      "mimetype": "text/x-python",
      "name": "python",
      "nbconvert_exporter": "python",
      "pygments_lexer": "ipython3",
      "version": "3.10.16"
    }
  },
  "nbformat": 4,
  "nbformat_minor": 0
}
