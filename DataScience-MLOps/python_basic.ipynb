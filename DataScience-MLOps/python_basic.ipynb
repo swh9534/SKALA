{
 "cells": [
  {
   "cell_type": "markdown",
   "metadata": {},
   "source": [
    "# 1. 파이썬 기본 문법"
   ]
  },
  {
   "cell_type": "code",
   "execution_count": 1,
   "metadata": {},
   "outputs": [
    {
     "name": "stdout",
     "output_type": "stream",
     "text": [
      "50\n"
     ]
    }
   ],
   "source": [
    "a = 20\n",
    "b = 30\n",
    "c = a+b\n",
    "print(c)"
   ]
  },
  {
   "cell_type": "code",
   "execution_count": 4,
   "metadata": {},
   "outputs": [
    {
     "name": "stdout",
     "output_type": "stream",
     "text": [
      "20 Mac 30 70 홍길동 1997 20.3\n"
     ]
    }
   ],
   "source": [
    "x = 20\n",
    "Com = 'Mac' \n",
    "Age = 30 \n",
    "Score = 70\n",
    "_name = '홍길동' \n",
    "BirthYear = 1997\n",
    "data2 = 20.3\n",
    "print(x, Com, Age, Score, _name, BirthYear, data2)"
   ]
  },
  {
   "cell_type": "code",
   "execution_count": 5,
   "metadata": {},
   "outputs": [
    {
     "ename": "SyntaxError",
     "evalue": "invalid syntax (1450273551.py, line 1)",
     "output_type": "error",
     "traceback": [
      "\u001b[0;36m  Cell \u001b[0;32mIn[5], line 1\u001b[0;36m\u001b[0m\n\u001b[0;31m    eng name = \"Hong gil dong\"\u001b[0m\n\u001b[0m        ^\u001b[0m\n\u001b[0;31mSyntaxError\u001b[0m\u001b[0;31m:\u001b[0m invalid syntax\n"
     ]
    }
   ],
   "source": [
    "eng name = \"Hong gil dong\""
   ]
  },
  {
   "cell_type": "code",
   "execution_count": 6,
   "metadata": {},
   "outputs": [
    {
     "name": "stdout",
     "output_type": "stream",
     "text": [
      "30\n",
      "<class 'int'>\n"
     ]
    }
   ],
   "source": [
    "x = 30\n",
    "print(x)\n",
    "print(type(x))"
   ]
  },
  {
   "cell_type": "code",
   "execution_count": 9,
   "metadata": {},
   "outputs": [
    {
     "name": "stdout",
     "output_type": "stream",
     "text": [
      "3.3764 3.0\n",
      "<class 'float'> <class 'float'>\n"
     ]
    }
   ],
   "source": [
    "x = 3.3764\n",
    "y = 6/2\n",
    "print(x,y)\n",
    "print(type(x), type(y))"
   ]
  },
  {
   "cell_type": "code",
   "execution_count": 10,
   "metadata": {},
   "outputs": [
    {
     "name": "stdout",
     "output_type": "stream",
     "text": [
      "x I am ok. 안녕하세요 <class 'str'>\n"
     ]
    }
   ],
   "source": [
    "a = 'x'\n",
    "b = 'I am ok.'\n",
    "c = \"안녕하세요\"\n",
    "print(a,b,c,type(c))"
   ]
  },
  {
   "cell_type": "code",
   "execution_count": 11,
   "metadata": {},
   "outputs": [
    {
     "name": "stdout",
     "output_type": "stream",
     "text": [
      "30 <class 'int'>\n",
      "30 <class 'str'>\n"
     ]
    }
   ],
   "source": [
    "a = 30\n",
    "print(a, type(a))\n",
    "\n",
    "b = '30'\n",
    "print(b, type(b))"
   ]
  },
  {
   "cell_type": "code",
   "execution_count": 13,
   "metadata": {},
   "outputs": [
    {
     "name": "stdout",
     "output_type": "stream",
     "text": [
      "I\n",
      "I a\n",
      "happy!\n",
      "!\n",
      "py!\n",
      "pp\n"
     ]
    }
   ],
   "source": [
    "x = 'I am happy!'\n",
    "print(x[0])\n",
    "print(x[0:3])\n",
    "print(x[5:])\n",
    "print(x[-1])\n",
    "print(x[-3:])\n",
    "print(x[-4:-2])"
   ]
  },
  {
   "cell_type": "code",
   "execution_count": 2,
   "metadata": {},
   "outputs": [
    {
     "name": "stdout",
     "output_type": "stream",
     "text": [
      "True False\n",
      "False\n"
     ]
    }
   ],
   "source": [
    "a = True\n",
    "b = False\n",
    "print(a, b)\n",
    "print(10 > 20)"
   ]
  },
  {
   "cell_type": "code",
   "execution_count": 3,
   "metadata": {},
   "outputs": [
    {
     "name": "stdout",
     "output_type": "stream",
     "text": [
      "209.0\n"
     ]
    }
   ],
   "source": [
    "a = 10\n",
    "b = 20\n",
    "c = a + b * 10 -5 / 5\n",
    "print(c)"
   ]
  },
  {
   "cell_type": "code",
   "execution_count": 4,
   "metadata": {},
   "outputs": [
    {
     "name": "stdout",
     "output_type": "stream",
     "text": [
      "1\n",
      "2\n"
     ]
    }
   ],
   "source": [
    "x = 10 % 3\n",
    "print(x)\n",
    "y = 7 // 3\n",
    "print(y)"
   ]
  },
  {
   "cell_type": "code",
   "execution_count": 5,
   "metadata": {},
   "outputs": [
    {
     "name": "stdout",
     "output_type": "stream",
     "text": [
      "8\n",
      "10000\n"
     ]
    }
   ],
   "source": [
    "x = 2**3\n",
    "print(x)\n",
    "y = 10**4\n",
    "print(y)"
   ]
  },
  {
   "cell_type": "code",
   "execution_count": 6,
   "metadata": {},
   "outputs": [
    {
     "name": "stdout",
     "output_type": "stream",
     "text": [
      "30\n"
     ]
    }
   ],
   "source": [
    "x = 10\n",
    "x += 20\n",
    "print(x)"
   ]
  },
  {
   "cell_type": "code",
   "execution_count": 7,
   "metadata": {},
   "outputs": [
    {
     "name": "stdout",
     "output_type": "stream",
     "text": [
      "24\n"
     ]
    }
   ],
   "source": [
    "x = 3\n",
    "y = 5\n",
    "x *= x + y\n",
    "print(x)"
   ]
  },
  {
   "cell_type": "code",
   "execution_count": 8,
   "metadata": {},
   "outputs": [
    {
     "name": "stdout",
     "output_type": "stream",
     "text": [
      "안녕안녕안녕안녕안녕\n"
     ]
    }
   ],
   "source": [
    "hello = '안녕' * 5\n",
    "\n",
    "print(hello)"
   ]
  },
  {
   "cell_type": "code",
   "execution_count": 9,
   "metadata": {},
   "outputs": [
    {
     "name": "stdout",
     "output_type": "stream",
     "text": [
      "5\n"
     ]
    }
   ],
   "source": [
    "a = '안녕하세요'\n",
    "print(len(a))"
   ]
  },
  {
   "cell_type": "code",
   "execution_count": 10,
   "metadata": {},
   "outputs": [
    {
     "name": "stdout",
     "output_type": "stream",
     "text": [
      "홍길동님 안녕하세요!\n"
     ]
    }
   ],
   "source": [
    "name = '홍길동'\n",
    "greet = name + '님 안녕하세요!'\n",
    "print(greet)"
   ]
  },
  {
   "cell_type": "code",
   "execution_count": 11,
   "metadata": {},
   "outputs": [
    {
     "name": "stdout",
     "output_type": "stream",
     "text": [
      "영어 점수: 80점\n"
     ]
    }
   ],
   "source": [
    "eng = 80\n",
    "result = '영어 점수: ' + str(eng) + '점'\n",
    "print(result)"
   ]
  },
  {
   "cell_type": "code",
   "execution_count": 12,
   "metadata": {},
   "outputs": [
    {
     "name": "stdout",
     "output_type": "stream",
     "text": [
      "나는 김수영입니다.\n"
     ]
    }
   ],
   "source": [
    "name = '김수영'\n",
    "a = '나는 %s입니다.' %name\n",
    "print(a)"
   ]
  },
  {
   "cell_type": "code",
   "execution_count": 13,
   "metadata": {},
   "outputs": [
    {
     "name": "stdout",
     "output_type": "stream",
     "text": [
      "나이는 20살 입니다.\n"
     ]
    }
   ],
   "source": [
    "age = 20\n",
    "a = '나이는 %d살 입니다.' %age\n",
    "print(a)"
   ]
  },
  {
   "cell_type": "code",
   "execution_count": 14,
   "metadata": {},
   "outputs": [
    {
     "name": "stdout",
     "output_type": "stream",
     "text": [
      "2020-03-05\n"
     ]
    }
   ],
   "source": [
    "year = 2020\n",
    "month = 3\n",
    "day = 5\n",
    "a = '%d-%02d-%02d'%(year, month, day)\n",
    "print(a)"
   ]
  },
  {
   "cell_type": "code",
   "execution_count": 15,
   "metadata": {},
   "outputs": [
    {
     "name": "stdout",
     "output_type": "stream",
     "text": [
      "키는 172.50입니다.\n"
     ]
    }
   ],
   "source": [
    "height = 172.5\n",
    "a = '키는 %.2f입니다.'%height\n",
    "print(a)"
   ]
  },
  {
   "cell_type": "code",
   "execution_count": 17,
   "metadata": {},
   "outputs": [
    {
     "name": "stdout",
     "output_type": "stream",
     "text": [
      "이름: 황에린\n",
      "나이: 18세\n",
      "시력: 1.2\n"
     ]
    }
   ],
   "source": [
    "name = '황에린'\n",
    "age = 18\n",
    "eyesight = 1.2\n",
    "a = '이름: {}'.format(name)\n",
    "b = '나이: {}세'.format(age)\n",
    "c = '시력: {}'.format(eyesight)\n",
    "\n",
    "print(a)\n",
    "print(b)\n",
    "print(c)"
   ]
  },
  {
   "cell_type": "code",
   "execution_count": 18,
   "metadata": {},
   "outputs": [
    {
     "name": "stdout",
     "output_type": "stream",
     "text": [
      "Jhon 30 173.7\n"
     ]
    }
   ],
   "source": [
    "name = 'Jhon'\n",
    "age = 30\n",
    "height = 173.7\n",
    "print(name, age, height)"
   ]
  },
  {
   "cell_type": "code",
   "execution_count": 19,
   "metadata": {},
   "outputs": [
    {
     "name": "stdout",
     "output_type": "stream",
     "text": [
      "x =10,y = 20\n"
     ]
    }
   ],
   "source": [
    "x = 10\n",
    "y = 20\n",
    "print('x =' + str(x) + ',y = ' + str(y))"
   ]
  },
  {
   "cell_type": "code",
   "execution_count": 20,
   "metadata": {},
   "outputs": [
    {
     "name": "stdout",
     "output_type": "stream",
     "text": [
      "두 과목 점수: 80, 87\n",
      "합계: 167, 평균: 83.50\n"
     ]
    }
   ],
   "source": [
    "score1 = 80\n",
    "score2 = 87\n",
    "sum = score1 + score2\n",
    "avg = sum/2\n",
    "print('두 과목 점수: %d, %d'%(score1, score2))\n",
    "print('합계: %d, 평균: %.2f'%(sum, avg))"
   ]
  },
  {
   "cell_type": "code",
   "execution_count": 21,
   "metadata": {},
   "outputs": [
    {
     "name": "stdout",
     "output_type": "stream",
     "text": [
      "2020/3/5\n"
     ]
    }
   ],
   "source": [
    "year = 2020\n",
    "month = 3\n",
    "day = 5\n",
    "print(year,month,day, sep='/')"
   ]
  },
  {
   "cell_type": "code",
   "execution_count": 22,
   "metadata": {},
   "outputs": [
    {
     "name": "stdout",
     "output_type": "stream",
     "text": [
      "안녕하세요. 반갑습니다.\n",
      "안녕하세요.반갑습니다.\n"
     ]
    }
   ],
   "source": [
    "a = '안녕하세요.'\n",
    "b = '반갑습니다.'\n",
    "print(a, b)\n",
    "print(a,end='')\n",
    "print(b)"
   ]
  },
  {
   "cell_type": "code",
   "execution_count": 24,
   "metadata": {},
   "outputs": [
    {
     "name": "stdout",
     "output_type": "stream",
     "text": [
      "홍길동\n"
     ]
    }
   ],
   "source": [
    "name = input('이름은? : ')\n",
    "print(name)"
   ]
  },
  {
   "cell_type": "code",
   "execution_count": 25,
   "metadata": {},
   "outputs": [
    {
     "name": "stdout",
     "output_type": "stream",
     "text": [
      "3\n"
     ]
    }
   ],
   "source": [
    "a = input('1 : ')\n",
    "b = input('2 : ')\n",
    "\n",
    "print(int(a) + int(b))"
   ]
  },
  {
   "cell_type": "code",
   "execution_count": 27,
   "metadata": {},
   "outputs": [
    {
     "name": "stdout",
     "output_type": "stream",
     "text": [
      "2.54 cm\n"
     ]
    }
   ],
   "source": [
    "inch = float(input(\"인치 : \"))\n",
    "print(inch * 2.54, 'cm')"
   ]
  },
  {
   "cell_type": "code",
   "execution_count": 1,
   "metadata": {},
   "outputs": [
    {
     "name": "stdout",
     "output_type": "stream",
     "text": [
      "15.0\n"
     ]
    }
   ],
   "source": [
    "width = 10\n",
    "height = 3\n",
    "\n",
    "area = width * height / 2\n",
    "print(area)"
   ]
  },
  {
   "cell_type": "code",
   "execution_count": 2,
   "metadata": {},
   "outputs": [
    {
     "name": "stdout",
     "output_type": "stream",
     "text": [
      "2600\n"
     ]
    }
   ],
   "source": [
    "price = 800\n",
    "buy = 3\n",
    "pay = 5000\n",
    "change = pay - price*buy\n",
    "print(change)"
   ]
  },
  {
   "cell_type": "code",
   "execution_count": 3,
   "metadata": {},
   "outputs": [
    {
     "name": "stdout",
     "output_type": "stream",
     "text": [
      "4\n",
      "4 -4\n"
     ]
    }
   ],
   "source": [
    "x = 20\n",
    "y = 4\n",
    "x = y % x\n",
    "print(x)\n",
    "y -= x * 2\n",
    "print(x,y)"
   ]
  },
  {
   "cell_type": "code",
   "execution_count": 4,
   "metadata": {},
   "outputs": [
    {
     "name": "stdout",
     "output_type": "stream",
     "text": [
      "성: 홍\n",
      "이름: 길동\n"
     ]
    }
   ],
   "source": [
    "name = \"홍길동\"\n",
    "age = 30\n",
    "height = 171.5\n",
    "\n",
    "print('성:', name[0])\n",
    "print('이름:', name[1:])"
   ]
  },
  {
   "cell_type": "code",
   "execution_count": 5,
   "metadata": {},
   "outputs": [
    {
     "name": "stdout",
     "output_type": "stream",
     "text": [
      "2.0\n"
     ]
    }
   ],
   "source": [
    "score1 = int(input('score 1 = ?'))\n",
    "score2 = int(input('score 2 = ?'))\n",
    "score3 = int(input('score 3 = ?'))\n",
    "\n",
    "avg = (score1 + score2 + score3)/3\n",
    "print(avg)\n"
   ]
  },
  {
   "cell_type": "markdown",
   "metadata": {},
   "source": [
    "# 2. 조건문"
   ]
  },
  {
   "cell_type": "code",
   "execution_count": 10,
   "metadata": {},
   "outputs": [
    {
     "name": "stdout",
     "output_type": "stream",
     "text": [
      "26\n"
     ]
    }
   ],
   "source": [
    "current_date = list(map(int, input(\"현재 날짜를 년, 월, 일 순으로 입력하세요: \").split()))\n",
    "\n",
    "birth_date = list(map(int, input(\"출생일을 년, 월, 일 순으로 입력하세요: \").split()))\n",
    "\n",
    "age = current_date[0] - birth_date[0] + 1\n",
    "\n",
    "if birth_date[1] > current_date[1]:\n",
    "    age -= 1\n",
    "elif birth_date[1] == birth_date[1]:\n",
    "    if birth_date[2] > current_date[2]:\n",
    "        age -= 1\n",
    "\n",
    "print(age)"
   ]
  },
  {
   "cell_type": "code",
   "execution_count": null,
   "metadata": {},
   "outputs": [],
   "source": []
  },
  {
   "cell_type": "code",
   "execution_count": null,
   "metadata": {},
   "outputs": [],
   "source": []
  },
  {
   "cell_type": "code",
   "execution_count": null,
   "metadata": {},
   "outputs": [],
   "source": []
  },
  {
   "cell_type": "markdown",
   "metadata": {},
   "source": [
    "# 3. 반복문"
   ]
  },
  {
   "cell_type": "markdown",
   "metadata": {},
   "source": [
    "# 4. 리스트"
   ]
  },
  {
   "cell_type": "markdown",
   "metadata": {},
   "source": [
    "# 5. 튜플, 딕셔너리"
   ]
  },
  {
   "cell_type": "code",
   "execution_count": 3,
   "metadata": {},
   "outputs": [
    {
     "name": "stdout",
     "output_type": "stream",
     "text": [
      "('a', 'b', 'c', 'd', 'e', 'f')\n",
      "('a', 'b', 'c', 'd', 'e', 'f')\n"
     ]
    }
   ],
   "source": [
    "tu1 = ('a', 'b', 'c')\n",
    "tu2 = ('d', 'e', 'f')\n",
    "\n",
    "tu3 = tu1 + tu2\n",
    "\n",
    "print(tu3)\n",
    "\n",
    "del tu1\n",
    "\n",
    "print(tu3)"
   ]
  },
  {
   "cell_type": "code",
   "execution_count": 4,
   "metadata": {},
   "outputs": [
    {
     "name": "stdout",
     "output_type": "stream",
     "text": [
      "------------------------------\n",
      "2 x 1 = 2\n",
      "2 x 2 = 4\n",
      "2 x 3 = 6\n",
      "2 x 4 = 8\n",
      "2 x 5 = 10\n",
      "2 x 6 = 12\n",
      "2 x 7 = 14\n",
      "2 x 8 = 16\n",
      "2 x 9 = 18\n",
      "------------------------------\n",
      "3 x 1 = 3\n",
      "3 x 2 = 6\n",
      "3 x 3 = 9\n",
      "3 x 4 = 12\n",
      "3 x 5 = 15\n",
      "3 x 6 = 18\n",
      "3 x 7 = 21\n",
      "3 x 8 = 24\n",
      "3 x 9 = 27\n",
      "------------------------------\n",
      "4 x 1 = 4\n",
      "4 x 2 = 8\n",
      "4 x 3 = 12\n",
      "4 x 4 = 16\n",
      "4 x 5 = 20\n",
      "4 x 6 = 24\n",
      "4 x 7 = 28\n",
      "4 x 8 = 32\n",
      "4 x 9 = 36\n",
      "------------------------------\n",
      "5 x 1 = 5\n",
      "5 x 2 = 10\n",
      "5 x 3 = 15\n",
      "5 x 4 = 20\n",
      "5 x 5 = 25\n",
      "5 x 6 = 30\n",
      "5 x 7 = 35\n",
      "5 x 8 = 40\n",
      "5 x 9 = 45\n",
      "------------------------------\n",
      "6 x 1 = 6\n",
      "6 x 2 = 12\n",
      "6 x 3 = 18\n",
      "6 x 4 = 24\n",
      "6 x 5 = 30\n",
      "6 x 6 = 36\n",
      "6 x 7 = 42\n",
      "6 x 8 = 48\n",
      "6 x 9 = 54\n",
      "------------------------------\n",
      "7 x 1 = 7\n",
      "7 x 2 = 14\n",
      "7 x 3 = 21\n",
      "7 x 4 = 28\n",
      "7 x 5 = 35\n",
      "7 x 6 = 42\n",
      "7 x 7 = 49\n",
      "7 x 8 = 56\n",
      "7 x 9 = 63\n",
      "------------------------------\n",
      "8 x 1 = 8\n",
      "8 x 2 = 16\n",
      "8 x 3 = 24\n",
      "8 x 4 = 32\n",
      "8 x 5 = 40\n",
      "8 x 6 = 48\n",
      "8 x 7 = 56\n",
      "8 x 8 = 64\n",
      "8 x 9 = 72\n",
      "------------------------------\n",
      "9 x 1 = 9\n",
      "9 x 2 = 18\n",
      "9 x 3 = 27\n",
      "9 x 4 = 36\n",
      "9 x 5 = 45\n",
      "9 x 6 = 54\n",
      "9 x 7 = 63\n",
      "9 x 8 = 72\n",
      "9 x 9 = 81\n",
      "------------------------------\n"
     ]
    }
   ],
   "source": [
    "dans = (2,3,4,5,6,7,8,9)\n",
    "\n",
    "print('-' * 30)\n",
    "\n",
    "for dan in dans :\n",
    "    for i in range(1,10):\n",
    "        print(dan, 'x', i, '=', dan*i)\n",
    "    print('-'*30)"
   ]
  },
  {
   "cell_type": "code",
   "execution_count": 15,
   "metadata": {},
   "outputs": [
    {
     "name": "stdout",
     "output_type": "stream",
     "text": [
      "OK\n"
     ]
    }
   ],
   "source": [
    "admin_info = ('admin', '12345', 'rubato@naver.com')\n",
    "id = input('관리자 아이디를 입력하세요 : ')\n",
    "password = input('관리자 비밀번호 입력하세요 : ')\n",
    "if id == admin_info[0] and password == admin_info[1]:\n",
    "    print('OK')\n",
    "else:\n",
    "    print('False')"
   ]
  },
  {
   "cell_type": "code",
   "execution_count": 16,
   "metadata": {},
   "outputs": [
    {
     "name": "stdout",
     "output_type": "stream",
     "text": [
      "OK\n"
     ]
    }
   ],
   "source": [
    "admin_info = {'id':'admin', 'pw':'12345'}\n",
    "id = input('관리자 아이디를 입력하세요 : ')\n",
    "password = input('관리자 비밀번호 입력하세요 : ')\n",
    "if id == admin_info['id'] and password == admin_info['pw']:\n",
    "    print('OK')\n",
    "else:\n",
    "    print('False')"
   ]
  },
  {
   "cell_type": "markdown",
   "metadata": {},
   "source": [
    "# 6.함수"
   ]
  },
  {
   "cell_type": "code",
   "execution_count": 19,
   "metadata": {},
   "outputs": [
    {
     "name": "stdout",
     "output_type": "stream",
     "text": [
      "3과목의 평균 : 90.00\n",
      "4과목의 평균 : 81.75\n",
      "5과목의 평균 : 79.40\n"
     ]
    }
   ],
   "source": [
    "def average(*scores): \n",
    "    sum = 0\n",
    "    for i in range(len(scores)):\n",
    "        sum += scores[i]\n",
    "    avg = sum/len(scores)\n",
    "    print('%d과목의 평균 : %.2f' %(len(scores), avg))\n",
    "\n",
    "average(80,90,100)\n",
    "average(75,80,94,78)\n",
    "average(80,73,76,86,82)"
   ]
  },
  {
   "cell_type": "code",
   "execution_count": 1,
   "metadata": {},
   "outputs": [
    {
     "name": "stdout",
     "output_type": "stream",
     "text": [
      "10 139792353067536\n",
      "100 139792353070416\n",
      "10 139792353067536\n"
     ]
    }
   ],
   "source": [
    "def func(x):\n",
    "    x = 100\n",
    "    print(x, id(x))\n",
    "\n",
    "x = 10\n",
    "print(x,id(x))\n",
    "func(x)\n",
    "print(x,id(x))"
   ]
  },
  {
   "cell_type": "code",
   "execution_count": 4,
   "metadata": {},
   "outputs": [
    {
     "name": "stdout",
     "output_type": "stream",
     "text": [
      "100\n",
      "139792353070416\n",
      "10\n",
      "139792353067536\n",
      "100\n",
      "139792353070416\n",
      "10\n"
     ]
    }
   ],
   "source": [
    "def func():\n",
    "    x = 100\n",
    "    print(x)\n",
    "    print(id(x))\n",
    "\n",
    "func()\n",
    "\n",
    "x = 10\n",
    "print(x)\n",
    "print(id(x))\n",
    "\n",
    "func()\n",
    "\n",
    "print(x)"
   ]
  },
  {
   "cell_type": "code",
   "execution_count": 5,
   "metadata": {},
   "outputs": [
    {
     "name": "stdout",
     "output_type": "stream",
     "text": [
      "OK\n",
      "OK\n",
      "OK\n",
      "OK\n",
      "OK\n"
     ]
    }
   ],
   "source": [
    "def matchWord(word, answer):\n",
    "    if word == answer :\n",
    "        msg = 'OK'\n",
    "    else :\n",
    "        msg = 'X'\n",
    "    return msg\n",
    "\n",
    "eng_dict = {'orange': '오렌지', 'cookie':'과자','mother':'어머니'\n",
    "    ,'brother':'형제', 'python':'파이썬'}\n",
    "\n",
    "for key in eng_dict:\n",
    "    string = input(eng_dict[key] + '에 맞는 영어 단어는?')\n",
    "    result = matchWord(string, key)\n",
    "    print(result)"
   ]
  },
  {
   "cell_type": "code",
   "execution_count": 6,
   "metadata": {},
   "outputs": [
    {
     "name": "stdout",
     "output_type": "stream",
     "text": [
      "(1, 2, 3)\n"
     ]
    }
   ],
   "source": [
    "def maxThree(*nums):\n",
    "    maxnum = max(nums)\n",
    "    return maxnum\n",
    "\n",
    "numbers = tuple(map(int, input(\"세 개 이상의 숫자를 입력하세요 (공백으로 구분): \").split()))\n",
    "\n",
    "print(maxThree(*numbers))"
   ]
  },
  {
   "cell_type": "markdown",
   "metadata": {},
   "source": [
    "# 7. 모듈과 패키지"
   ]
  },
  {
   "cell_type": "code",
   "execution_count": 9,
   "metadata": {},
   "outputs": [
    {
     "name": "stdout",
     "output_type": "stream",
     "text": [
      "A님 안녕하세요.\n",
      "B님 반갑습니다.\n",
      "C님 하위.\n"
     ]
    }
   ],
   "source": [
    "import greet as gr\n",
    "\n",
    "print(gr.hello1('A'))\n",
    "print(gr.hello2('B'))\n",
    "print(gr.hello3('C'))"
   ]
  },
  {
   "cell_type": "code",
   "execution_count": 10,
   "metadata": {},
   "outputs": [
    {
     "name": "stdout",
     "output_type": "stream",
     "text": [
      "4\n",
      "4\n",
      "1\n",
      "7\n",
      "10\n"
     ]
    }
   ],
   "source": [
    "import random\n",
    "\n",
    "for i in range(5):\n",
    "    print(random.randrange(1,11,3))"
   ]
  },
  {
   "cell_type": "code",
   "execution_count": null,
   "metadata": {},
   "outputs": [],
   "source": [
    "import random\n",
    "\n",
    "again = 'y'\n",
    "count = 1\n",
    "\n",
    "while again == 'y':\n",
    "    print('-'*30)\n",
    "    print('주사위 던지기 : %d번째'%count)\n",
    "    me = random.randint(1,6)\n",
    "    com = random.randint(1,6)\n",
    "\n",
    "    print('나:', me)\n",
    "    print(':', com)"
   ]
  },
  {
   "cell_type": "markdown",
   "metadata": {},
   "source": [
    "# 8. 객체지향 프로그래밍"
   ]
  },
  {
   "cell_type": "code",
   "execution_count": 11,
   "metadata": {},
   "outputs": [
    {
     "name": "stdout",
     "output_type": "stream",
     "text": [
      "10\n",
      "314.1592653589793\n",
      "62.83184\n"
     ]
    }
   ],
   "source": [
    "import math\n",
    "\n",
    "class Circle :\n",
    "    def __init__(self, radius):\n",
    "        self.radius = radius\n",
    "\n",
    "    def getArea(self):\n",
    "        area = math.pi * self.radius * self.radius\n",
    "        return area\n",
    "\n",
    "    def getCircum(self):\n",
    "        circum = 2 * 3.141592 * self.radius\n",
    "        return circum\n",
    "\n",
    "cir = Circle(10)\n",
    "\n",
    "print( cir.radius)\n",
    "print(cir.getArea())\n",
    "print(cir.getCircum())"
   ]
  },
  {
   "cell_type": "code",
   "execution_count": 13,
   "metadata": {},
   "outputs": [
    {
     "name": "stdout",
     "output_type": "stream",
     "text": [
      "258\n",
      "86.0\n"
     ]
    }
   ],
   "source": [
    "class SumgAvg :\n",
    "    def __init__(self, name, s1, s2, s3) :\n",
    "        self.name = name\n",
    "        self.s1 = s1\n",
    "        self.s2 = s2\n",
    "        self.s3 = s3\n",
    "\n",
    "    def getSum(self) :\n",
    "        sum = self.s1 + self.s2 + self.s3\n",
    "        return sum\n",
    "\n",
    "    def getAvg(self) :\n",
    "        sum = self.getSum()\n",
    "        avg = sum / 3\n",
    "        return avg\n",
    "\n",
    "sa = SumgAvg('김성윤', 85, 90, 83)\n",
    "\n",
    "print(sa.getSum())\n",
    "print(sa.getAvg())"
   ]
  },
  {
   "cell_type": "code",
   "execution_count": 15,
   "metadata": {},
   "outputs": [
    {
     "name": "stdout",
     "output_type": "stream",
     "text": [
      "홍지수 20\n",
      "홍지수,20\n",
      "홍지수 소프트웨어공학과 2021555001\n"
     ]
    }
   ],
   "source": [
    "class Person:\n",
    "    def __init__(self, name, age):\n",
    "        self.name = name\n",
    "        self.age = age\n",
    "\n",
    "    def printInfo(self):\n",
    "        print(self.name, self.age)\n",
    "\n",
    "    def getInfo(self):\n",
    "        return self.name + ',' + str(self.age)\n",
    "\n",
    "class Student(Person):\n",
    "    def __init__(self, name, age, department, id):\n",
    "        super().__init__(name, age)\n",
    "        self.department = department\n",
    "        self.id = id\n",
    "    def printStudentInfo(self):\n",
    "        name_age = super().getInfo()\n",
    "        print(name_age)\n",
    "        print(self.name, self.department, self.id)\n",
    "\n",
    "x = Student('홍지수', 20, '소프트웨어공학과', '2021555001')\n",
    "\n",
    "x.printInfo()\n",
    "x.printStudentInfo()"
   ]
  },
  {
   "cell_type": "markdown",
   "metadata": {},
   "source": [
    "# 9. 데이터 분석 기초"
   ]
  },
  {
   "cell_type": "code",
   "execution_count": 1,
   "metadata": {},
   "outputs": [
    {
     "name": "stdout",
     "output_type": "stream",
     "text": [
      "['지점', '일시', '평균기온(°C)', '최저기온(°C)', '최고기온(°C)']\n",
      "['119', '2019-10-01', '22', '15.7', '27.4']\n",
      "['119', '2019-10-02', '21.9', '20.4', '23.8']\n",
      "['119', '2019-10-03', '22.8', '19.9', '27.8']\n",
      "['119', '2019-10-04', '21.9', '17.8', '26.9']\n",
      "['119', '2019-10-05', '18.9', '15.7', '22']\n",
      "['119', '2019-10-06', '18', '14', '22']\n",
      "['119', '2019-10-07', '14.8', '13.4', '17.9']\n",
      "['119', '2019-10-08', '15', '10.7', '20.6']\n",
      "['119', '2019-10-09', '12.8', '6.4', '19.6']\n",
      "['119', '2019-10-10', '14.9', '9.5', '20.2']\n",
      "['119', '2019-10-11', '18.8', '12.1', '24.8']\n",
      "['119', '2019-10-12', '18.3', '14.1', '23.3']\n",
      "['119', '2019-10-13', '16.9', '12.5', '22.9']\n",
      "['119', '2019-10-14', '14', '8.5', '19.4']\n",
      "['119', '2019-10-15', '13.3', '7.3', '19.6']\n",
      "['119', '2019-10-16', '13.9', '7.9', '20']\n",
      "['119', '2019-10-17', '14.6', '9.1', '20.6']\n",
      "['119', '2019-10-18', '16.7', '10', '21.9']\n",
      "['119', '2019-10-19', '16', '10.4', '22.2']\n",
      "['119', '2019-10-20', '15.1', '10.8', '21.7']\n",
      "['119', '2019-10-21', '16.1', '9.5', '23.9']\n",
      "['119', '2019-10-22', '16.6', '11.1', '23']\n",
      "['119', '2019-10-23', '17', '12.4', '20']\n",
      "['119', '2019-10-24', '18.6', '14.1', '23.3']\n",
      "['119', '2019-10-25', '16.6', '10.7', '21.7']\n",
      "['119', '2019-10-26', '9.8', '6.4', '13.9']\n",
      "['119', '2019-10-27', '10.2', '3', '16.8']\n",
      "['119', '2019-10-28', '12.4', '6.3', '17.4']\n",
      "['119', '2019-10-29', '12.6', '8.2', '18.1']\n",
      "['119', '2019-10-30', '10.3', '3.3', '17.1']\n",
      "['119', '2019-10-31', '14.1', '7.3', '20.4']\n"
     ]
    }
   ],
   "source": [
    "import csv\n",
    "\n",
    "f = open('data/month_temp.csv', 'r', encoding='utf-8')\n",
    "lines = csv.reader(f)\n",
    "for line in lines:\n",
    "    print(line)\n",
    "\n",
    "f.close()"
   ]
  },
  {
   "cell_type": "code",
   "execution_count": 9,
   "metadata": {},
   "outputs": [
    {
     "name": "stdout",
     "output_type": "stream",
     "text": [
      "지점\n",
      "일시\n",
      "평균기온(°C)\n",
      "최저기온(°C)\n",
      "최고기온(°C)\n",
      "119\n",
      "2019-10-01\n",
      "22\n",
      "15.7\n",
      "27.4\n",
      "119\n",
      "2019-10-02\n",
      "21.9\n",
      "20.4\n",
      "23.8\n",
      "119\n",
      "2019-10-03\n",
      "22.8\n",
      "19.9\n",
      "27.8\n",
      "119\n",
      "2019-10-04\n",
      "21.9\n",
      "17.8\n",
      "26.9\n",
      "119\n",
      "2019-10-05\n",
      "18.9\n",
      "15.7\n",
      "22\n",
      "119\n",
      "2019-10-06\n",
      "18\n",
      "14\n",
      "22\n",
      "119\n",
      "2019-10-07\n",
      "14.8\n",
      "13.4\n",
      "17.9\n",
      "119\n",
      "2019-10-08\n",
      "15\n",
      "10.7\n",
      "20.6\n",
      "119\n",
      "2019-10-09\n",
      "12.8\n",
      "6.4\n",
      "19.6\n",
      "119\n",
      "2019-10-10\n",
      "14.9\n",
      "9.5\n",
      "20.2\n",
      "119\n",
      "2019-10-11\n",
      "18.8\n",
      "12.1\n",
      "24.8\n",
      "119\n",
      "2019-10-12\n",
      "18.3\n",
      "14.1\n",
      "23.3\n",
      "119\n",
      "2019-10-13\n",
      "16.9\n",
      "12.5\n",
      "22.9\n",
      "119\n",
      "2019-10-14\n",
      "14\n",
      "8.5\n",
      "19.4\n",
      "119\n",
      "2019-10-15\n",
      "13.3\n",
      "7.3\n",
      "19.6\n",
      "119\n",
      "2019-10-16\n",
      "13.9\n",
      "7.9\n",
      "20\n",
      "119\n",
      "2019-10-17\n",
      "14.6\n",
      "9.1\n",
      "20.6\n",
      "119\n",
      "2019-10-18\n",
      "16.7\n",
      "10\n",
      "21.9\n",
      "119\n",
      "2019-10-19\n",
      "16\n",
      "10.4\n",
      "22.2\n",
      "119\n",
      "2019-10-20\n",
      "15.1\n",
      "10.8\n",
      "21.7\n",
      "119\n",
      "2019-10-21\n",
      "16.1\n",
      "9.5\n",
      "23.9\n",
      "119\n",
      "2019-10-22\n",
      "16.6\n",
      "11.1\n",
      "23\n",
      "119\n",
      "2019-10-23\n",
      "17\n",
      "12.4\n",
      "20\n",
      "119\n",
      "2019-10-24\n",
      "18.6\n",
      "14.1\n",
      "23.3\n",
      "119\n",
      "2019-10-25\n",
      "16.6\n",
      "10.7\n",
      "21.7\n",
      "119\n",
      "2019-10-26\n",
      "9.8\n",
      "6.4\n",
      "13.9\n",
      "119\n",
      "2019-10-27\n",
      "10.2\n",
      "3\n",
      "16.8\n",
      "119\n",
      "2019-10-28\n",
      "12.4\n",
      "6.3\n",
      "17.4\n",
      "119\n",
      "2019-10-29\n",
      "12.6\n",
      "8.2\n",
      "18.1\n",
      "119\n",
      "2019-10-30\n",
      "10.3\n",
      "3.3\n",
      "17.1\n",
      "119\n",
      "2019-10-31\n",
      "14.1\n",
      "7.3\n",
      "20.4\n"
     ]
    }
   ],
   "source": [
    "import csv\n",
    "f = open('data/month_temp.csv', 'r', encoding='utf-8')\n",
    "lines = csv.reader(f)\n",
    "for line in lines:\n",
    "    for x in range(len(line)):\n",
    "        print(line[x])\n",
    "f.close()"
   ]
  },
  {
   "cell_type": "code",
   "execution_count": 10,
   "metadata": {},
   "outputs": [
    {
     "name": "stdout",
     "output_type": "stream",
     "text": [
      "['119', '2019-10-20', '15.1', '10.8', '21.7']\n"
     ]
    }
   ],
   "source": [
    "import csv\n",
    "f = open('data/month_temp.csv', 'r', encoding='utf-8')\n",
    "lines = csv.reader(f)\n",
    "for line in lines:\n",
    "    if '2019-10-20' in line:\n",
    "        print(line)\n",
    "f.close()"
   ]
  },
  {
   "cell_type": "code",
   "execution_count": 13,
   "metadata": {},
   "outputs": [
    {
     "name": "stdout",
     "output_type": "stream",
     "text": [
      "['지점', '일시', '평균기온(°C)', '최저기온(°C)', '최고기온(°C)']\n"
     ]
    }
   ],
   "source": [
    "import csv\n",
    "f = open('data/month_temp.csv', 'r', encoding='utf-8')\n",
    "lines = csv.reader(f)\n",
    "Header = next(lines)\n",
    "print(Header)\n",
    "f.close()"
   ]
  },
  {
   "cell_type": "code",
   "execution_count": 15,
   "metadata": {},
   "outputs": [
    {
     "name": "stdout",
     "output_type": "stream",
     "text": [
      "일자 최고기온 최저기온 일교차\n",
      "2019-10-01 15.7 27.4 11.7\n",
      "2019-10-02 20.4 23.8 3.4\n",
      "2019-10-03 19.9 27.8 7.9\n",
      "2019-10-04 17.8 26.9 9.1\n",
      "2019-10-05 15.7 22.0 6.3\n",
      "2019-10-06 14.0 22.0 8.0\n",
      "2019-10-07 13.4 17.9 4.5\n",
      "2019-10-08 10.7 20.6 9.9\n",
      "2019-10-09 6.4 19.6 13.2\n",
      "2019-10-10 9.5 20.2 10.7\n",
      "2019-10-11 12.1 24.8 12.7\n",
      "2019-10-12 14.1 23.3 9.2\n",
      "2019-10-13 12.5 22.9 10.4\n",
      "2019-10-14 8.5 19.4 10.9\n",
      "2019-10-15 7.3 19.6 12.3\n",
      "2019-10-16 7.9 20.0 12.1\n",
      "2019-10-17 9.1 20.6 11.5\n",
      "2019-10-18 10.0 21.9 11.9\n",
      "2019-10-19 10.4 22.2 11.8\n",
      "2019-10-20 10.8 21.7 10.9\n",
      "2019-10-21 9.5 23.9 14.4\n",
      "2019-10-22 11.1 23.0 11.9\n",
      "2019-10-23 12.4 20.0 7.6\n",
      "2019-10-24 14.1 23.3 9.2\n",
      "2019-10-25 10.7 21.7 11.0\n",
      "2019-10-26 6.4 13.9 7.5\n",
      "2019-10-27 3.0 16.8 13.8\n",
      "2019-10-28 6.3 17.4 11.1\n",
      "2019-10-29 8.2 18.1 9.9\n",
      "2019-10-30 3.3 17.1 13.8\n",
      "2019-10-31 7.3 20.4 13.1\n"
     ]
    }
   ],
   "source": [
    "import csv\n",
    "\n",
    "f = open('data/month_temp.csv', 'r', encoding='utf-8')\n",
    "lines = csv.reader(f)\n",
    "print('%s %s %s %s'%('일자', '최고기온', '최저기온', '일교차'))\n",
    "next(lines)\n",
    "\n",
    "for line in lines:\n",
    "    diff = float(line[4])-float(line[3])\n",
    "    print('%s %.1f %.1f %.1f'%(line[1], float(line[3]), float(line[4]), diff))\n",
    "\n",
    "f.close()"
   ]
  },
  {
   "cell_type": "code",
   "execution_count": 20,
   "metadata": {},
   "outputs": [
    {
     "name": "stdout",
     "output_type": "stream",
     "text": [
      "OK\n"
     ]
    }
   ],
   "source": [
    "import csv\n",
    "\n",
    "file1 = open('data/month_temp.csv', 'r', encoding='utf-8')\n",
    "file2 = open('data/month_temp2.csv', 'w', encoding='utf-8', newline='')\n",
    "lines = csv.reader(file1)\n",
    "wr = csv.writer(file2)\n",
    "\n",
    "wr.writerow(['일자4', '최저기온3', '최고기온2', '일교차1'])\n",
    "next(lines)\n",
    "\n",
    "for line in lines:\n",
    "    diff = float(line[4]) - float(line[3])\n",
    "    diff = format(diff, '.1f')\n",
    "    wr.writerow([line[1], float(line[3]), float(line[4]), diff])\n",
    "\n",
    "print('OK')\n",
    "file1.close()\n",
    "file2.close()"
   ]
  },
  {
   "cell_type": "code",
   "execution_count": 22,
   "metadata": {},
   "outputs": [
    {
     "name": "stdout",
     "output_type": "stream",
     "text": [
      "지점/일시/평균기온(°C)/최저기온(°C)/최고기온(°C)/\n",
      "119/2019-10-01/22/15.7/27.4/\n",
      "119/2019-10-02/21.9/20.4/23.8/\n",
      "119/2019-10-03/22.8/19.9/27.8/\n",
      "119/2019-10-04/21.9/17.8/26.9/\n",
      "119/2019-10-05/18.9/15.7/22/\n",
      "119/2019-10-06/18/14/22/\n",
      "119/2019-10-07/14.8/13.4/17.9/\n",
      "119/2019-10-08/15/10.7/20.6/\n",
      "119/2019-10-09/12.8/6.4/19.6/\n",
      "119/2019-10-10/14.9/9.5/20.2/\n",
      "119/2019-10-11/18.8/12.1/24.8/\n",
      "119/2019-10-12/18.3/14.1/23.3/\n",
      "119/2019-10-13/16.9/12.5/22.9/\n",
      "119/2019-10-14/14/8.5/19.4/\n",
      "119/2019-10-15/13.3/7.3/19.6/\n",
      "119/2019-10-16/13.9/7.9/20/\n",
      "119/2019-10-17/14.6/9.1/20.6/\n",
      "119/2019-10-18/16.7/10/21.9/\n",
      "119/2019-10-19/16/10.4/22.2/\n",
      "119/2019-10-20/15.1/10.8/21.7/\n",
      "119/2019-10-21/16.1/9.5/23.9/\n",
      "119/2019-10-22/16.6/11.1/23/\n",
      "119/2019-10-23/17/12.4/20/\n",
      "119/2019-10-24/18.6/14.1/23.3/\n",
      "119/2019-10-25/16.6/10.7/21.7/\n",
      "119/2019-10-26/9.8/6.4/13.9/\n",
      "119/2019-10-27/10.2/3/16.8/\n",
      "119/2019-10-28/12.4/6.3/17.4/\n",
      "119/2019-10-29/12.6/8.2/18.1/\n",
      "119/2019-10-30/10.3/3.3/17.1/\n",
      "119/2019-10-31/14.1/7.3/20.4/\n"
     ]
    }
   ],
   "source": [
    "import csv\n",
    "\n",
    "f = open('data/month_temp.csv', 'r', encoding='utf-8')\n",
    "lines = csv.reader(f)\n",
    "\n",
    "for line in lines:\n",
    "    for x in line:\n",
    "        print('%s'%x, end='/')\n",
    "    print()\n",
    "f.close()"
   ]
  },
  {
   "cell_type": "code",
   "execution_count": 24,
   "metadata": {},
   "outputs": [
    {
     "name": "stdout",
     "output_type": "stream",
     "text": [
      "61.00000000000001\n"
     ]
    }
   ],
   "source": [
    "import csv\n",
    "f = open('data/month_temp.csv', 'r', encoding='utf-8')\n",
    "lines = csv.reader(f)\n",
    "\n",
    "next(lines)\n",
    "\n",
    "sum = 0\n",
    "for line in lines:\n",
    "    if (int(line[1][8:]) <= 10):\n",
    "        sum += float(line[2])\n",
    "\n",
    "avg = sum/3\n",
    "print(avg)\n",
    "\n",
    "f.close()"
   ]
  },
  {
   "cell_type": "code",
   "execution_count": 25,
   "metadata": {},
   "outputs": [
    {
     "name": "stdout",
     "output_type": "stream",
     "text": [
      "신대원약국/경주시/경상북도 경주시 화랑로 53 (성건동)\n"
     ]
    }
   ],
   "source": [
    "import csv\n",
    "f = open('data/pharm_2019.csv', 'r', encoding='utf-8')\n",
    "lines = csv.reader(f)\n",
    "header = next(lines)\n",
    "for line in lines:\n",
    "    if line[1] == '경주시' and line[0] == '신대원약국':\n",
    "        print(line[0], line[1], line[2], sep='/')\n",
    "f.close()"
   ]
  },
  {
   "cell_type": "code",
   "execution_count": 26,
   "metadata": {},
   "outputs": [
    {
     "name": "stdout",
     "output_type": "stream",
     "text": [
      "경기도 용인시 수지구 풍덕천로 119 118호 (풍덕천동, 로얄스포츠센터)/희망약국/20170216\n",
      "경기도 용인시 수지구 풍덕천로 119 119호 (풍덕천동, 로얄스포츠센터)/로얄약국/20170717\n",
      "경기도 용인시 수지구 풍덕천로 119 305호 (풍덕천동, 로얄스포츠센터)/이화옵티마약국/20170314\n",
      "경기도 용인시 수지구 풍덕천로 119 208호 (풍덕천동, 로얄스포츠센터)/수지윤약국/20170103\n"
     ]
    }
   ],
   "source": [
    "import csv\n",
    "f = open('data/pharm_2019.csv', 'r', encoding='utf-8')\n",
    "lines = csv.reader(f)\n",
    "header = next(lines)\n",
    "for line in lines:\n",
    "    if ('수지' in line[2]) and ('로얄스포츠' in line[2]):\n",
    "        print(line[2], line[0], line[3], sep='/')\n",
    "f.close()"
   ]
  },
  {
   "cell_type": "code",
   "execution_count": 30,
   "metadata": {},
   "outputs": [
    {
     "name": "stdout",
     "output_type": "stream",
     "text": [
      "번호,약국명,주소\n",
      "1 . 5층우리약국/경기도 용인시 수지구 풍덕천로 149 501호 (풍덕천동, 현대그린프라자)\n",
      "2 . LG(엘지)약국/경기도 용인시 수지구 성복2로 84 105호 (성복동, 엘지빌리지1차상가)\n",
      "3 . 가람약국/경기도 용인시 수지구 만현로 88 (상현동, 상현종합상가201-2호)\n",
      "4 . 광교 기분좋은 약국/경기도 용인시 수지구 광교마을로 54 에스비타운 110호 (상현동)\n",
      "5 . 광교수약국/경기도 용인시 수지구 광교중앙로 320 (상현동)\n",
      "6 . 광교약국/경기도 용인시 수지구 광교중앙로 316 102호 (상현동, 광교시티하임)\n",
      "7 . 광교윤하약국/경기도 용인시 수지구 광교중앙로 314 104호 (상현동, 세현빌딩 )\n",
      "8 . 광교팜약국/경기도 용인시 수지구 광교중앙로 304 105호 (상현동)\n",
      "9 . 광교푸른약국/경기도 용인시 수지구 광교중앙로 308 305호 (상현동)\n",
      "10 . 그린약국/경기도 용인시 수지구 성복2로76번길 26-6 (성복동,신봉V샤르망102호)\n",
      "11 . 기린약국/경기도 용인시 수지구 성복2로 108-2 (성복동,웰스톤갤러리B109~B110호)\n",
      "12 . 나무약국/경기도 용인시 수지구 수지로342번길 11 304호 (풍덕천동)\n",
      "13 . 다사랑약국/경기도 용인시 수지구 만현로 103 106호 (상현동, 한길프라자)\n",
      "14 . 다솜약국/경기도 용인시 수지구 정평로 43 102호 (풍덕천동, 우성상가)\n",
      "15 . 다온약국/경기도 용인시 수지구 광교중앙로 294 108호 (상현동)\n",
      "16 . 단비약국/경기도 용인시 수지구 문정로 15 (풍덕천동,평은프라자 1층)\n",
      "17 . 대학당약국/경기도 용인시 수지구 수지로342번길 27 106호 (풍덕천동, 동보아파트상가)\n",
      "18 . 대학약국/경기도 용인시 수지구 죽전로 152-1 103호 (죽전동, 단대프라자I )\n",
      "19 . 데이파크약국/경기도 용인시 수지구 성복2로 51 (성복동, 데이파크B동 120호)\n",
      "20 . 동성약국/경기도 용인시 수지구 용구대로 2736 1층 (죽전동, 영일죽전빌딩)\n",
      "21 . 동천약국/경기도 용인시 수지구 손곡로 83 동천타워 1동 108호 (동천동)\n",
      "22 . 라임약국/경기도 용인시 수지구 신봉2로 73 태천빌딩2 101호 (신봉동)\n",
      "23 . 로얄약국/경기도 용인시 수지구 풍덕천로 119 119호 (풍덕천동, 로얄스포츠센터)\n",
      "24 . 맑은샘약국/경기도 용인시 수지구 신봉2로 3 (신봉동,홍천말프라자 302)\n",
      "25 . 맑은생한약국/경기도 용인시 수지구 수지로342번길 16 112호 (풍덕천동)\n",
      "26 . 매일봄약국/경기도 용인시 수지구 수풍로 107 104호 (동천동)\n",
      "27 . 메디칼약국/경기도 용인시 수지구 풍덕천로 114 강동빌딩 101,102호 (풍덕천동)\n",
      "28 . 메디플러스약국/경기도 용인시 수지구 풍덕천로129번길 9 101호 (풍덕천동, 오성빌딩 )\n",
      "29 . 모범약국/경기도 용인시 수지구 수지로 203 E 마트 지하1층 (신봉동)\n",
      "30 . 미래약국/경기도 용인시 수지구 만현로 110 A-407호 (상현동, 원희캐슬프라자)\n",
      "31 . 미소약국/경기도 용인시 수지구 문정로 22 (풍덕천동)\n",
      "32 . 바른생각약국/경기도 용인시 수지구 포은대로313번길 7-14 수정빌딩 1층 (풍덕천동)\n",
      "33 . 바른약국/경기도 용인시 수지구 동천로 83 104호 (동천동, 윤창빌딩)\n",
      "34 . 밝은약국/경기도 용인시 수지구 광교중앙로 320 503호 (상현동)\n",
      "35 . 베델약국/경기도 용인시 수지구 문인로 59 107호 (풍덕천동, 삼익상가)\n",
      "36 . 보은약국/경기도 용인시 수지구 정평로 40-1 302호 (풍덕천동, 거묵상가)\n",
      "37 . 봄빛약국/경기도 용인시 수지구 풍덕천로 91 103호 (풍덕천동, 주공1단지아파트)\n",
      "38 . 비전약국/경기도 용인시 수지구 문정로 13 103호 (풍덕천동, 중수프라자)\n",
      "39 . 삼성메디칼약국/경기도 용인시 수지구 진산로 106 (풍덕천동, 훼미리빌딩1층)\n",
      "40 . 상현메디칼약국/경기도 용인시 수지구 만현로 100 203호 (상현동, 거묵프라자)\n",
      "41 . 새모범약국/경기도 용인시 수지구 포은대로 552 (죽전동, 죽전이마트 1층)\n",
      "42 . 새보건약국/경기도 용인시 수지구 풍덕천로130번길 4 1층 (풍덕천동)\n",
      "43 . 샘물약국/경기도 용인시 수지구 문정로 46 305호 (풍덕천동, 한길타운)\n",
      "44 . 서울약국/경기도 용인시 수지구 수지로 124 성복스퀘어/근린생활시설 107호 (성복동)\n",
      "45 . 서원약국/경기도 용인시 수지구 상현로 34 102호 (상현동, 성진)\n",
      "46 . 성복약국/경기도 용인시 수지구 심곡로 87 (성복동, 33-5 아이조움빌딩B205)\n",
      "47 . 성복역 우리약국/경기도 용인시 수지구 수지로112번길 11 107호 (성복동)\n",
      "48 . 성복온누리약국/경기도 용인시 수지구 성복2로 49 1층 (성복동)\n",
      "49 . 세종옵티마약국/경기도 용인시 수지구 수지로 62 (상현동)\n",
      "50 . 센트럴약국/경기도 용인시 수지구 신봉2로 2 114호 (신봉동, 센트럴쇼핑몰)\n",
      "51 . 솔약국/경기도 용인시 수지구 만현로 113 106호 (상현동, 미래프라자)\n",
      "52 . 수빈약국/경기도 용인시 수지구 대지로 58 나동 309호 (죽전동, 선진포리스트)\n",
      "53 . 수약국/경기도 용인시 수지구 만현로 82-4 헤르메스상가 404-1호 (상현동)\n",
      "54 . 수지드림약국/경기도 용인시 수지구 손곡로 95 110~111호 (동천동, 송란아트프라자)\n",
      "55 . 수지메디칼약국/경기도 용인시 수지구 동천로 36 (동천동,영재빌딩105호)\n",
      "56 . 수지민들레 한약국/경기도 용인시 수지구 풍덕천로 144 503호 (풍덕천동, 현대그린프라자)\n",
      "57 . 수지성서약국/경기도 용인시 수지구 성복2로 230 106호 (성복동)\n",
      "58 . 수지썬프라자약국/경기도 용인시 수지구 풍덕천로 127 (풍덕천동,수지프라자 101호)\n",
      "59 . 수지우리약국/경기도 용인시 수지구 성복2로 126 (성복동, 수지LG빌리지3차상가 118호)\n",
      "60 . 수지윤약국/경기도 용인시 수지구 풍덕천로 119 208호 (풍덕천동, 로얄스포츠센터)\n",
      "61 . 수지정다운약국/경기도 용인시 수지구 신봉2로 2 217호 (신봉동, 센트럴500)\n",
      "62 . 수지한림약국/경기도 용인시 수지구 문정로 32 1층 (풍덕천동)\n",
      "63 . 수지햇살약국/경기도 용인시 수지구 광교중앙로 316 (상현동, 킴앤코시티하임1 303-1)\n",
      "64 . 수지행복한약국/경기도 용인시 수지구 진산로 100 105호 (풍덕천동, 골드라인빌딩 제상가동)\n",
      "65 . 숨약국/경기도 용인시 수지구 푸른솔로 87 108호 (죽전동, 그랜드프라자)\n",
      "66 . 아이맘약국/경기도 용인시 수지구 현암로 154 2층 205호 (죽전동, 거풍프라자)\n",
      "67 . 안데르센약국/경기도 용인시 수지구 정평로 40-1 403호 (풍덕천동)\n",
      "68 . 앞서가는21세기약국/경기도 용인시 수지구 대지로 20 101호 (죽전동, 죽전빌딩)\n",
      "69 . 연두약국/경기도 용인시 수지구 신봉1로 165 (신봉동, 동광프라자 203호)\n",
      "70 . 연수우리들약국/경기도 용인시 수지구 용구대로2771번길 66 106-3호 (죽전동)\n",
      "71 . 열린온누리약국/경기도 용인시 수지구 대지로 43 107호 (죽전동, 금강프라자)\n",
      "72 . 열린우리약국/경기도 용인시 수지구 신봉2로 5 104호 (신봉동, 에덴파크2)\n",
      "73 . 염광플러스약국/경기도 용인시 수지구 동천로 137 4층 404~406호 (동천동)\n",
      "74 . 예쁜약국/경기도 용인시 수지구 신봉2로 2 센트럴500 223호 (신봉동)\n",
      "75 . 온누리수지약국/경기도 용인시 수지구 문정로 46 (풍덕천동, 한길타운 107호)\n",
      "76 . 우리들약국/경기도 용인시 수지구 현암로 121 201호 (죽전동, 에머랄드그린존 )\n",
      "77 . 우리민들레약국/경기도 용인시 수지구 현암로 132 107호 (죽전동, C.H리베로I)\n",
      "78 . 우리약국/경기도 용인시 수지구 진산로 28 성원상떼빌아파트 상가1동 101호 (상현동)\n",
      "79 . 원약국/경기도 용인시 수지구 성복2로 162 105호 (성복동, LG빌리지6차 상가동)\n",
      "80 . 원희온누리약국/경기도 용인시 수지구 만현로 110 B동 111-2호 (상현동,원희캐슬프라자)\n",
      "81 . 유타워 온누리약국/경기도 용인시 수지구 신수로 767 분당수지 U-TOWER A동 241호 (동천동)\n",
      "82 . 윤진약국/경기도 용인시 수지구 수풍로131번길 2 에덴파크 104호 (동천동)\n",
      "83 . 이화명문약국/경기도 용인시 수지구 현암로 75 101호 (죽전동, 명문약국)\n",
      "84 . 이화약국/경기도 용인시 수지구 성복1로 106 B04호 (성복동)\n",
      "85 . 이화옵티마약국/경기도 용인시 수지구 풍덕천로 119 305호 (풍덕천동, 로얄스포츠센터)\n",
      "86 . 자연약국/경기도 용인시 수지구 만현로 110 원희캐슬프라자 B-304호 (상현동)\n",
      "87 . 자이약국/경기도 용인시 수지구 신봉1로 112-1 109호 (신봉동, LG빌리지5차 단지내 상가)\n",
      "88 . 재일약국/경기도 용인시 수지구 만현로 20 101호 (상현동, 성산빌딩)\n",
      "89 . 정다운온누리약국/경기도 용인시 수지구 현암로 164 103호 (죽전동, 신주프라자)\n",
      "90 . 조이약국/경기도 용인시 수지구 정평로 40-1 거묵상가1 109호 (풍덕천동)\n",
      "91 . 좋은약국/경기도 용인시 수지구 성복2로 51 304호 (성복동,YK타운 비동)\n",
      "92 . 죽전열린약국/경기도 용인시 수지구 용구대로 2702 동춘프라자 1층 (죽전동)\n",
      "93 . 중앙약국/경기도 용인시 수지구 동천로 31 (동천동)\n",
      "94 . 즐거운약국/경기도 용인시 수지구 대지로 43 (죽전동, 금강프라자)\n",
      "95 . 천명약국/경기도 용인시 수지구 동천로 62 (동천동,센트럴상가 108호)\n",
      "96 . 청 한약국/경기도 용인시 수지구 수풍로 95 정원빌딩 1층 (동천동)\n",
      "97 . 청 한약국/경기도 용인시 수지구 수풍로 95 정원빌딩 1층 (동천동)\n",
      "98 . 청운약국/경기도 용인시 수지구 현암로 127 104호 (죽전동, 신원빌딩)\n",
      "99 . 친절한 해든약국/경기도 용인시 수지구 손곡로 100 111,112호 (동천동, 훼미리프라자)\n",
      "100 . 캐슬프라자약국/경기도 용인시 수지구 만현로 110 (상현동, 원희캐슬프라자A-303A호)\n",
      "101 . 태광약국/경기도 용인시 수지구 성복2로 51 303호 (성복동, 데이파크A동 )\n",
      "102 . 토마토약국/경기도 용인시 수지구 정든로6번길 2 그린피아 303호 (죽전동)\n",
      "103 . 푸른솔약국/경기도 용인시 수지구 광교중앙로 301 (상현동)\n",
      "104 . 푸른온누리약국/경기도 용인시 수지구 풍덕천로 122 (풍덕천동, 103호)\n",
      "105 . 풀향기약국/경기도 용인시 수지구 신봉1로 62 LG프라자 106호 (신봉동)\n",
      "106 . 플러스약국/경기도 용인시 수지구 성복2로 114 (성복동,플러스클리닉수지센타 122호)\n",
      "107 . 필리아약국/경기도 용인시 수지구  대지로 46 103호 (죽전동)\n",
      "108 . 하나약국/경기도 용인시 수지구 수지로296번길 47 107호 (풍덕천동, 수석빌딩)\n",
      "109 . 한가정약국/경기도 용인시 수지구 만현로 110 (상현동, 원희캐슬프라자,A동 106호,203-1호)\n",
      "110 . 한사랑약국/경기도 용인시 수지구 포은대로313번길 4 (풍덕천동, 수지미래빌딩 103호)\n",
      "111 . 행복약국/경기도 용인시 수지구 신봉1로 175 102호 (신봉동, 진성프라자)\n",
      "112 . 행복플러스약국/경기도 용인시 수지구 현암로 131 C.H리베로II 301호 (죽전동)\n",
      "113 . 행복한약국/경기도 용인시 수지구 용구대로 2797 103호 (죽전동, 수창빌딩)\n",
      "114 . 현진약국/경기도 용인시 수지구 만현로 92 116호 (상현동, 아이티프라자)\n",
      "115 . 호수약국/경기도 용인시 수지구 대지로 39 (죽전동, 양지프라자 104호)\n",
      "116 . 희망약국/경기도 용인시 수지구 풍덕천로 119 118호 (풍덕천동, 로얄스포츠센터)\n"
     ]
    }
   ],
   "source": [
    "import csv\n",
    "f = open('data/pharm_2019.csv', 'r', encoding='utf-8')\n",
    "\n",
    "lines = csv.reader(f)\n",
    "\n",
    "header = next(lines)\n",
    "print('번호', header[0], header[2], sep=',')\n",
    "data=[]\n",
    "\n",
    "for line in lines:\n",
    "    if line[1] == '용인수지구':\n",
    "        tmp = (line[0] +'/' + line[2])\n",
    "        data.append(tmp)\n",
    "\n",
    "data.append(tmp)\n",
    "data.sort()\n",
    "number = 1\n",
    "\n",
    "for x in data:\n",
    "    print(number, '.', x)\n",
    "    number += 1\n",
    "\n",
    "f.close()"
   ]
  },
  {
   "cell_type": "code",
   "execution_count": 31,
   "metadata": {},
   "outputs": [
    {
     "name": "stdout",
     "output_type": "stream",
     "text": [
      "지점명 일시 최저기온(°C)\n",
      "서귀포 2019-01-01 3.8\n",
      "서귀포 2019-01-02 3.6\n",
      "서귀포 2019-01-03 2.6\n",
      "서귀포 2019-01-04 6.6\n",
      "서귀포 2019-01-05 7.2\n",
      "서귀포 2019-01-06 7.2\n",
      "서귀포 2019-01-07 7.6\n",
      "서귀포 2019-01-08 4.1\n",
      "서귀포 2019-01-09 4.4\n",
      "서귀포 2019-01-10 6.7\n",
      "서귀포 2019-01-11 8.1\n",
      "서귀포 2019-01-12 7.6\n",
      "서귀포 2019-01-13 5.9\n",
      "서귀포 2019-01-14 4.7\n",
      "서귀포 2019-01-15 5\n",
      "서귀포 2019-01-16 2.9\n",
      "서귀포 2019-01-17 2\n",
      "서귀포 2019-01-18 2.9\n",
      "서귀포 2019-01-19 5.9\n",
      "서귀포 2019-01-20 3.5\n",
      "서귀포 2019-01-21 2.6\n",
      "서귀포 2019-01-22 3.5\n",
      "서귀포 2019-01-23 3.1\n",
      "서귀포 2019-01-24 4.6\n",
      "서귀포 2019-01-25 3.2\n",
      "서귀포 2019-01-26 2.2\n",
      "서귀포 2019-01-27 2.4\n",
      "서귀포 2019-01-28 5.3\n",
      "서귀포 2019-01-29 2.8\n",
      "서귀포 2019-01-30 7.3\n",
      "서귀포 2019-01-31 4.7\n"
     ]
    }
   ],
   "source": [
    "import csv\n",
    "\n",
    "f = open('data/jeju_2019.csv', 'r', encoding='utf-8')\n",
    "lines = csv.reader(f)\n",
    "\n",
    "header = next(lines)\n",
    "print(header[1], header[2], header[3])\n",
    "\n",
    "for line in lines:\n",
    "    if line[1] == '서귀포' and line[2][5:7] == '01':\n",
    "        print(line[1], line[2], line[3])\n",
    "\n",
    "f.close()"
   ]
  },
  {
   "cell_type": "code",
   "execution_count": 34,
   "metadata": {},
   "outputs": [
    {
     "name": "stdout",
     "output_type": "stream",
     "text": [
      "(1) 최대 강수 월과 강수량 : 9월, 2018.9 mm\n",
      "\n",
      "(2) 월별 강수량\n",
      "1월 : 79.5 mm\n",
      "2월 : 187.1 mm\n",
      "3월 : 299.8 mm\n",
      "4월 : 296.0 mm\n",
      "5월 : 789.4 mm\n",
      "6월 : 678.0 mm\n",
      "7월 : 1670.0 mm\n",
      "8월 : 1258.5 mm\n",
      "9월 : 2018.9 mm\n",
      "10월 : 700.3 mm\n",
      "11월 : 111.1 mm\n",
      "12월 : 320.6 mm\n"
     ]
    }
   ],
   "source": [
    "import csv\n",
    "\n",
    "with open('data/jeju_2019.csv', 'r', encoding='utf-8') as f:\n",
    "    lines = csv.reader(f)\n",
    "    next(lines)\n",
    "    sum_rain = [0] * 12\n",
    "\n",
    "    for line in lines:\n",
    "        month = int(line[2][5:7]) - 1\n",
    "        rain = float(line[5] or 0)\n",
    "        sum_rain[month] += rain\n",
    "\n",
    "    max_month_rain = max(sum_rain)\n",
    "    max_month = sum_rain.index(max_month_rain)+1\n",
    "\n",
    "    print(f'(1) 최대 강수 월과 강수량 : {max_month}월, {max_month_rain:.1f} mm\\n')\n",
    "    print('(2) 월별 강수량')\n",
    "\n",
    "    for i, rain in enumerate(sum_rain, 1):\n",
    "        print(f'{i}월 : {rain:.1f} mm')"
   ]
  },
  {
   "cell_type": "code",
   "execution_count": 48,
   "metadata": {},
   "outputs": [
    {
     "name": "stdout",
     "output_type": "stream",
     "text": [
      "(1) 연 강수 최대 지역 : 성산\n",
      "(2) 지역별 강수량\n",
      "제주: 1979.9 mm\n",
      "고산: 1560.9 mm\n",
      "성산: 2658.1 mm\n",
      "서귀포: 2210.3 mm\n"
     ]
    }
   ],
   "source": [
    "import csv\n",
    "\n",
    "rainfall_by_region = {} # {지역 : 강수량}\n",
    "\n",
    "with open('data/jeju_2019.csv', 'r', encoding='utf-8') as f:\n",
    "    lines = csv.reader(f)\n",
    "    next(lines) # 헤더 건너뛰기\n",
    "\n",
    "    for line in lines:\n",
    "        region = line[1] # 지역명\n",
    "        rain = float(line[5] or 0) # 강수량, 예외 처리\n",
    "\n",
    "        # 지역별 강수량 누적\n",
    "        if region in rainfall_by_region:\n",
    "            rainfall_by_region[region] += rain  # 기존 지역이면 강수량을 더함\n",
    "        else:\n",
    "            rainfall_by_region[region] = rain  # 새로운 지역이면 초기값 설정\n",
    "\n",
    "# 연간 강수량이 가장 많은 지역 찾기\n",
    "total_rain = max(rainfall_by_region, key=rainfall_by_region.get)\n",
    "\n",
    "# 결과 출력\n",
    "print(f\"(1) 연 강수 최대 지역 : {total_rain}\")\n",
    "print(\"(2) 지역별 강수량\")\n",
    "\n",
    "for region, rain in rainfall_by_region.items():\n",
    "    print(f\"{region}: {rain:.1f} mm\")"
   ]
  },
  {
   "cell_type": "markdown",
   "metadata": {},
   "source": [
    "# 10. 데이터 시각화 기초"
   ]
  },
  {
   "cell_type": "code",
   "execution_count": 1,
   "metadata": {},
   "outputs": [],
   "source": [
    "import matplotlib.pyplot as plt\n",
    "from matplotlib import rc\n",
    "import warnings \n",
    "warnings.filterwarnings(\"ignore\")"
   ]
  },
  {
   "cell_type": "code",
   "execution_count": 2,
   "metadata": {},
   "outputs": [
    {
     "data": {
      "image/png": "[encoded data removed]",
      "text/plain": [
       "<Figure size 640x480 with 1 Axes>"
      ]
     },
     "metadata": {},
     "output_type": "display_data"
    }
   ],
   "source": [
    "font1 = {'size':18, 'color':'green'}\n",
    "xdata = ['A', 'B', 'C']\n",
    "ydata = [90, 85, 88]\n",
    "\n",
    "plt.plot(xdata, ydata)\n",
    "plt.title('Kor exam grade')\n",
    "\n",
    "plt.xlabel('name')\n",
    "plt.ylabel('grade')\n",
    "plt.show()"
   ]
  },
  {
   "cell_type": "code",
   "execution_count": 3,
   "metadata": {},
   "outputs": [
    {
     "data": {
      "image/png": "[encoded data removed]",
      "text/plain": [
       "<Figure size 640x480 with 1 Axes>"
      ]
     },
     "metadata": {},
     "output_type": "display_data"
    }
   ],
   "source": [
    "font1 = {'size':18, 'color':'green'}\n",
    "xdata = ['A', 'B', 'C']\n",
    "ydata1 = [90, 85, 88]\n",
    "ydata2 = [75, 90, 62]\n",
    "\n",
    "plt.plot(xdata, ydata1, label='kor', color='magenta', linestyle='-', marker='s')\n",
    "plt.plot(xdata, ydata2, label='eng', color='#444444', linestyle=':', marker='d')\n",
    "plt.legend(loc='upper center')\n",
    "plt.title('exam grade')\n",
    "\n",
    "plt.xlabel('name')\n",
    "plt.ylabel('grade')\n",
    "plt.show()"
   ]
  },
  {
   "cell_type": "code",
   "execution_count": 4,
   "metadata": {},
   "outputs": [
    {
     "data": {
      "image/png": "[encoded data removed]",
      "text/plain": [
       "<Figure size 640x480 with 1 Axes>"
      ]
     },
     "metadata": {},
     "output_type": "display_data"
    }
   ],
   "source": [
    "xdata = list(range(30))\n",
    "ydata = []\n",
    "for x in xdata: \n",
    "    y = 2*x\n",
    "    ydata.append(y)\n",
    "\n",
    "plt.plot(xdata, ydata, label='y=2x')\n",
    "plt.xlim(0,35)\n",
    "plt.ylim(0,70)\n",
    "plt.xticks(list(range(0,35,2)))\n",
    "plt.yticks(list(range(0,70,5)))\n",
    "\n",
    "plt.grid(True)\n",
    "plt.show()"
   ]
  },
  {
   "cell_type": "code",
   "execution_count": 5,
   "metadata": {},
   "outputs": [
    {
     "data": {
      "image/png": "[encoded data removed]",
      "text/plain": [
       "<Figure size 640x480 with 1 Axes>"
      ]
     },
     "metadata": {},
     "output_type": "display_data"
    }
   ],
   "source": [
    "xdata = ['A', 'B', 'C']\n",
    "ydata = [90, 85, 88]\n",
    "\n",
    "plt.bar(xdata, ydata)\n",
    "plt.title('Kor exam grade')\n",
    "\n",
    "plt.xlabel('name')\n",
    "plt.ylabel('grade')\n",
    "plt.show()"
   ]
  },
  {
   "cell_type": "code",
   "execution_count": 6,
   "metadata": {},
   "outputs": [
    {
     "data": {
      "image/png": "[encoded data removed]",
      "text/plain": [
       "<Figure size 640x480 with 1 Axes>"
      ]
     },
     "metadata": {},
     "output_type": "display_data"
    }
   ],
   "source": [
    "x = ['mon', 'tue', 'wed', 'thu', 'fri', 'sat', 'sun']\n",
    "y = [6.5, 5.6, 3.1, 6.2, 5.7, 8.5, 2.9]\n",
    "\n",
    "plt.title('sleep time')\n",
    "plt.scatter(x,y)\n",
    "plt.ylabel('time')\n",
    "plt.show()"
   ]
  },
  {
   "cell_type": "code",
   "execution_count": 7,
   "metadata": {},
   "outputs": [
    {
     "data": {
      "image/png": "[encoded data removed]",
      "text/plain": [
       "<Figure size 640x480 with 1 Axes>"
      ]
     },
     "metadata": {},
     "output_type": "display_data"
    }
   ],
   "source": [
    "pets = ['a', 'b', 'c', 'd']\n",
    "portion = [18, 3.4, 3.1, 75.5]\n",
    "\n",
    "plt.pie(portion, explode=(0,0.1,0,0)\n",
    "    ,labels=pets, autopct='%1.1f%%',\n",
    "    shadow=True, startangle=90)\n",
    "\n",
    "plt.show()"
   ]
  },
  {
   "cell_type": "code",
   "execution_count": 8,
   "metadata": {},
   "outputs": [
    {
     "data": {
      "image/png": "[encoded data removed]",
      "text/plain": [
       "<Figure size 640x480 with 1 Axes>"
      ]
     },
     "metadata": {},
     "output_type": "display_data"
    }
   ],
   "source": [
    "date = list(range(1, 11))\n",
    "min_temp = [7, 3, 7, 4, 3, 7, 7, 6, 9, 6]\n",
    "max_temp = [11, 12, 15, 17, 18, 20, 18, 17, 14, 15]\n",
    "\n",
    "plt.plot(date, min_temp, label='Min Temp', color='red', linestyle='-', marker='o')\n",
    "plt.plot(date, max_temp, label='Max Temp', color='blue', linestyle='-.', marker='x')\n",
    "\n",
    "plt.legend(loc='best')\n",
    "plt.xlabel('date')\n",
    "plt.ylabel('temperature')\n",
    "plt.title('min max temp')\n",
    "\n",
    "plt.show()"
   ]
  },
  {
   "cell_type": "markdown",
   "metadata": {},
   "source": [
    "# 11. Numpy/Pandas/Seaborn"
   ]
  },
  {
   "cell_type": "code",
   "execution_count": null,
   "metadata": {},
   "outputs": [
    {
     "name": "stdout",
     "output_type": "stream",
     "text": [
      "   total_bill   tip     sex smoker  day    time  size\n",
      "0       16.99  1.01  Female     No  Sun  Dinner     2\n",
      "1       10.34  1.66    Male     No  Sun  Dinner     3\n",
      "2       21.01  3.50    Male     No  Sun  Dinner     3\n",
      "3       23.68  3.31    Male     No  Sun  Dinner     2\n",
      "4       24.59  3.61  Female     No  Sun  Dinner     4\n"
     ]
    }
   ],
   "source": [
    "import pandas as pd\n",
    "import seaborn as sns\n",
    "import matplotlib.pyplot as plt\n",
    "from sklearn.datasets import load_iris\n",
    "\n",
    "tips = sns.load_dataset('tips')\n",
    "print(tips.head())\n",
    "\n",
    "pd.set_option(\"display.max_columns\", 100)\n",
    "sns.set_style(\"whitegrid\")"
   ]
  },
  {
   "cell_type": "code",
   "execution_count": null,
   "metadata": {},
   "outputs": [
    {
     "name": "stdout",
     "output_type": "stream",
     "text": [
      "<class 'pandas.core.frame.DataFrame'>\n",
      "RangeIndex: 244 entries, 0 to 243\n",
      "Data columns (total 7 columns):\n",
      " #   Column      Non-Null Count  Dtype   \n",
      "---  ------      --------------  -----   \n",
      " 0   total_bill  244 non-null    float64 \n",
      " 1   tip         244 non-null    float64 \n",
      " 2   sex         244 non-null    category\n",
      " 3   smoker      244 non-null    category\n",
      " 4   day         244 non-null    category\n",
      " 5   time        244 non-null    category\n",
      " 6   size        244 non-null    int64   \n",
      "dtypes: category(4), float64(2), int64(1)\n",
      "memory usage: 7.4 KB\n",
      "None\n",
      "(244, 7)\n",
      "   total_bill   tip     sex smoker  day    time  size\n",
      "0       16.99  1.01  Female     No  Sun  Dinner     2\n",
      "1       10.34  1.66    Male     No  Sun  Dinner     3\n",
      "2       21.01  3.50    Male     No  Sun  Dinner     3\n",
      "3       23.68  3.31    Male     No  Sun  Dinner     2\n",
      "4       24.59  3.61  Female     No  Sun  Dinner     4\n"
     ]
    }
   ],
   "source": [
    "print(tips.info())\n",
    "print(tips.shape)\n",
    "print(tips.head())"
   ]
  },
  {
   "cell_type": "code",
   "execution_count": null,
   "metadata": {},
   "outputs": [
    {
     "data": {
      "image/png": "[encoded data removed]",
      "text/plain": [
       "<Figure size 640x480 with 1 Axes>"
      ]
     },
     "metadata": {},
     "output_type": "display_data"
    }
   ],
   "source": [
    "sns.histplot(data = tips, x = 'total_bill', bins = 10)\n",
    "plt.show()"
   ]
  },
  {
   "cell_type": "code",
   "execution_count": null,
   "metadata": {},
   "outputs": [
    {
     "data": {
      "image/png": "[encoded data removed]",
      "text/plain": [
       "<Figure size 640x480 with 1 Axes>"
      ]
     },
     "metadata": {},
     "output_type": "display_data"
    }
   ],
   "source": [
    "sns.boxplot(data=tips, x='day', y='total_bill')\n",
    "plt.show()"
   ]
  },
  {
   "cell_type": "code",
   "execution_count": null,
   "metadata": {},
   "outputs": [
    {
     "data": {
      "image/png": "[encoded data removed]",
      "text/plain": [
       "<Figure size 640x480 with 1 Axes>"
      ]
     },
     "metadata": {},
     "output_type": "display_data"
    }
   ],
   "source": [
    "sns.barplot(x='day', y='total_bill', data=tips)\n",
    "plt.show()"
   ]
  },
  {
   "cell_type": "code",
   "execution_count": null,
   "metadata": {},
   "outputs": [
    {
     "data": {
      "image/png": "[encoded data removed]",
      "text/plain": [
       "<Figure size 640x480 with 1 Axes>"
      ]
     },
     "metadata": {},
     "output_type": "display_data"
    }
   ],
   "source": [
    "sns.scatterplot(data=tips, x='total_bill',y='tip',hue='time')\n",
    "plt.show()"
   ]
  },
  {
   "cell_type": "code",
   "execution_count": null,
   "metadata": {},
   "outputs": [
    {
     "data": {
      "text/plain": [
       "total_bill    0\n",
       "tip           0\n",
       "sex           0\n",
       "smoker        0\n",
       "day           0\n",
       "time          0\n",
       "size          0\n",
       "dtype: int64"
      ]
     },
     "metadata": {},
     "output_type": "display_data"
    }
   ],
   "source": [
    "tips.isnull().sum()"
   ]
  },
  {
   "cell_type": "code",
   "execution_count": null,
   "metadata": {},
   "outputs": [
    {
     "name": "stdout",
     "output_type": "stream",
     "text": [
      "     total_bill    tip     sex smoker   day    time  size\n",
      "23        39.42   7.58    Male     No   Sat  Dinner     4\n",
      "47        32.40   6.00    Male     No   Sun  Dinner     4\n",
      "59        48.27   6.73    Male     No   Sat  Dinner     4\n",
      "141       34.30   6.70    Male     No  Thur   Lunch     6\n",
      "170       50.81  10.00    Male    Yes   Sat  Dinner     3\n",
      "183       23.17   6.50    Male    Yes   Sun  Dinner     4\n",
      "212       48.33   9.00    Male     No   Sat  Dinner     4\n",
      "214       28.17   6.50  Female    Yes   Sat  Dinner     3\n",
      "239       29.03   5.92    Male     No   Sat  Dinner     3\n"
     ]
    }
   ],
   "source": [
    "Q1 = tips['tip'].quantile(0.25)\n",
    "Q3 = tips['tip'].quantile(0.75)\n",
    "IQR = Q3 - Q1\n",
    "\n",
    "lower_bound = Q1 - 1.5*IQR\n",
    "upper_bound = Q3 + 1.5*IQR\n",
    "\n",
    "outliers = tips[(tips['tip']<lower_bound)|(tips['tip']>upper_bound)]\n",
    "print(outliers)"
   ]
  },
  {
   "cell_type": "code",
   "execution_count": null,
   "metadata": {},
   "outputs": [],
   "source": [
    "tips_cleaned = tips[(tips['tip'] >= lower_bound) & (tips['tip'] <= upper_bound)]"
   ]
  },
  {
   "cell_type": "code",
   "execution_count": null,
   "metadata": {},
   "outputs": [
    {
     "name": "stdout",
     "output_type": "stream",
     "text": [
      "Mean Squared Error: 0.6522\n",
      "회귀 계수: [ 0.07129646  0.12835361  0.09177624 -0.02808765  0.03154319 -0.0924303\n",
      "  0.11851239  0.05288537]\n",
      "절편: 1.104080163810561\n"
     ]
    }
   ],
   "source": [
    "from sklearn.model_selection import train_test_split\n",
    "from sklearn.linear_model import LinearRegression\n",
    "from sklearn.metrics import mean_squared_error\n",
    "\n",
    "# 범주형 변수를 수치형으로 변환 (원핫 인코딩)\n",
    "tips_cleaned = pd.get_dummies(tips_cleaned, columns=['sex', 'smoker', 'day', 'time'], drop_first=True)\n",
    "\n",
    "# 특성과 타겟 변수 설정\n",
    "X = tips_cleaned.drop(columns=['tip'])\n",
    "y = tips_cleaned['tip']\n",
    "\n",
    "# 훈련/테스트 데이터 분할\n",
    "X_train, X_test, y_train, y_test = train_test_split(X, y, test_size=0.2, random_state=42)\n",
    "\n",
    "# 선형 회귀 모델 학습\n",
    "model = LinearRegression()\n",
    "model.fit(X_train, y_train)\n",
    "\n",
    "# 예측 및 평가\n",
    "y_pred = model.predict(X_test)\n",
    "mse = mean_squared_error(y_test, y_pred)\n",
    "print(f'Mean Squared Error: {mse:.4f}')\n",
    "\n",
    "# 모델 계수 출력\n",
    "print(\"회귀 계수:\", model.coef_)\n",
    "print(\"절편:\", model.intercept_)"
   ]
  },
  {
   "cell_type": "code",
   "execution_count": null,
   "metadata": {},
   "outputs": [
    {
     "data": {
      "image/png": "[encoded data removed]",
      "text/plain": [
       "<Figure size 800x600 with 1 Axes>"
      ]
     },
     "metadata": {},
     "output_type": "display_data"
    }
   ],
   "source": [
    "import seaborn as sns\n",
    "import matplotlib.pyplot as plt\n",
    "\n",
    "# 선형 회귀선을 포함한 산점도 그리기\n",
    "plt.figure(figsize=(8, 6))\n",
    "sns.regplot(x=tips_cleaned['total_bill'], y=tips_cleaned['tip'], scatter_kws={'alpha': 0.5}, line_kws={'color': 'red'})\n",
    "plt.xlabel('Total Bill')\n",
    "plt.ylabel('Tip')\n",
    "plt.title('Linear Regression: Total Bill vs Tip')\n",
    "plt.show()"
   ]
  },
  {
   "cell_type": "markdown",
   "metadata": {},
   "source": [
    "# 12. Decorator"
   ]
  },
  {
   "cell_type": "code",
   "execution_count": 1,
   "metadata": {},
   "outputs": [
    {
     "name": "stdout",
     "output_type": "stream",
     "text": [
      "작업 완료!\n",
      "실행 시간: 2.0021초\n"
     ]
    }
   ],
   "source": [
    "import time\n",
    "\n",
    "def timer(func):\n",
    "    def wrapper(*args, **kwargs):\n",
    "        start = time.time()\n",
    "        result = func(*args, **kwargs)\n",
    "        end = time.time()\n",
    "        print(f\"실행 시간: {end - start:.4f}초\")\n",
    "        return result\n",
    "    return wrapper\n",
    "\n",
    "@timer\n",
    "def slow_function():\n",
    "    time.sleep(2)\n",
    "    print(\"작업 완료!\")\n",
    "\n",
    "slow_function()"
   ]
  },
  {
   "cell_type": "code",
   "execution_count": 4,
   "metadata": {},
   "outputs": [
    {
     "name": "stdout",
     "output_type": "stream",
     "text": [
      "로그인이 필요합니다.\n"
     ]
    }
   ],
   "source": [
    "def require_login(func):\n",
    "    def wrapper(user):\n",
    "        if user.get(\"is_logged_in\"):\n",
    "            return func(user)\n",
    "        else:\n",
    "            print(\"로그인이 필요합니다.\")\n",
    "    return wrapper\n",
    "\n",
    "@require_login\n",
    "def dashboard(user):\n",
    "    print(f\"{user['name']}님의 대시보드입니다.\")\n",
    "\n",
    "user1 = {\"name\": \"Alice\", \"is_logged_in\": True}\n",
    "user2 = {\"name\": \"Bob\", \"is_logged_in\": False}\n",
    "dashboard(user2) # 정상 실행"
   ]
  }
 ],
 "metadata": {
  "kernelspec": {
   "display_name": "Python 3",
   "language": "python",
   "name": "python3"
  },
  "language_info": {
   "codemirror_mode": {
    "name": "ipython",
    "version": 3
   },
   "file_extension": ".py",
   "mimetype": "text/x-python",
   "name": "python",
   "nbconvert_exporter": "python",
   "pygments_lexer": "ipython3",
   "version": "3.10.12"
  }
 },
 "nbformat": 4,
 "nbformat_minor": 2
}
